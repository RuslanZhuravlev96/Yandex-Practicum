{
 "cells": [
  {
   "cell_type": "markdown",
   "metadata": {},
   "source": [
    "# Принятие решений в бизнесе.\n",
    "\n",
    "# Целью проекта является увеличение выручки компании за счет нововведений, в связи с чем принято решение о запуске А/В теста.\n",
    "\n",
    "# Основные задачи: 1) Приоритизация гипотез; 2) Анализ A/B-теста\n",
    "\n",
    "# В ходе дальнейшей работы с данными необходимо приоритизировать гипотезы, запустить A/B-тест, проанализировать результаты и сделать необходимые выводы. Работа разбита на 3 части с подпунктами по каждому блоку."
   ]
  },
  {
   "cell_type": "markdown",
   "metadata": {},
   "source": [
    "## Изучение датафрейма"
   ]
  },
  {
   "cell_type": "code",
   "execution_count": 1,
   "metadata": {},
   "outputs": [],
   "source": [
    "import pandas as pd\n",
    "import datetime as dt\n",
    "import numpy as np\n",
    "import scipy.stats as stats\n",
    "import matplotlib.pyplot as plt\n",
    "from pandas.plotting import register_matplotlib_converters\n",
    "import warnings \n",
    "register_matplotlib_converters()\n",
    "plt.rcParams[\"figure.figsize\"] = (15,5)"
   ]
  },
  {
   "cell_type": "code",
   "execution_count": 2,
   "metadata": {},
   "outputs": [
    {
     "name": "stdout",
     "output_type": "stream",
     "text": [
      "<class 'pandas.core.frame.DataFrame'>\n",
      "RangeIndex: 9 entries, 0 to 8\n",
      "Data columns (total 5 columns):\n",
      " #   Column      Non-Null Count  Dtype \n",
      "---  ------      --------------  ----- \n",
      " 0   hypothesis  9 non-null      object\n",
      " 1   reach       9 non-null      int64 \n",
      " 2   impact      9 non-null      int64 \n",
      " 3   confidence  9 non-null      int64 \n",
      " 4   efforts     9 non-null      int64 \n",
      "dtypes: int64(4), object(1)\n",
      "memory usage: 488.0+ bytes\n"
     ]
    }
   ],
   "source": [
    "df_1 = pd.read_csv('/datasets/hypothesis.csv')\n",
    "df_1.columns = df_1.columns.str.lower()\n",
    "df_1.info()"
   ]
  },
  {
   "cell_type": "code",
   "execution_count": 3,
   "metadata": {},
   "outputs": [
    {
     "data": {
      "text/plain": [
       "0"
      ]
     },
     "execution_count": 3,
     "metadata": {},
     "output_type": "execute_result"
    }
   ],
   "source": [
    "df_1.duplicated().sum()"
   ]
  },
  {
   "cell_type": "markdown",
   "metadata": {},
   "source": [
    "Явные дубликаты в датафрейме отсутсвуют, наименования в дата фрейме \"hypothesis\" были приведены к нижнему регистру для моего удобства"
   ]
  },
  {
   "cell_type": "markdown",
   "metadata": {},
   "source": [
    "## Приоритизация гипотез"
   ]
  },
  {
   "cell_type": "markdown",
   "metadata": {},
   "source": [
    "### Применим способ приоритизация ICE и отсортируем по убавнию приоритизации"
   ]
  },
  {
   "cell_type": "code",
   "execution_count": 4,
   "metadata": {},
   "outputs": [
    {
     "data": {
      "text/html": [
       "<div>\n",
       "<style scoped>\n",
       "    .dataframe tbody tr th:only-of-type {\n",
       "        vertical-align: middle;\n",
       "    }\n",
       "\n",
       "    .dataframe tbody tr th {\n",
       "        vertical-align: top;\n",
       "    }\n",
       "\n",
       "    .dataframe thead th {\n",
       "        text-align: right;\n",
       "    }\n",
       "</style>\n",
       "<table border=\"1\" class=\"dataframe\">\n",
       "  <thead>\n",
       "    <tr style=\"text-align: right;\">\n",
       "      <th></th>\n",
       "      <th>hypothesis</th>\n",
       "      <th>reach</th>\n",
       "      <th>impact</th>\n",
       "      <th>confidence</th>\n",
       "      <th>efforts</th>\n",
       "      <th>ice</th>\n",
       "    </tr>\n",
       "  </thead>\n",
       "  <tbody>\n",
       "    <tr>\n",
       "      <th>8</th>\n",
       "      <td>Запустить акцию, дающую скидку на товар в день рождения</td>\n",
       "      <td>1</td>\n",
       "      <td>9</td>\n",
       "      <td>9</td>\n",
       "      <td>5</td>\n",
       "      <td>16.20</td>\n",
       "    </tr>\n",
       "    <tr>\n",
       "      <th>0</th>\n",
       "      <td>Добавить два новых канала привлечения трафика, что позволит привлекать на 30% больше пользователей</td>\n",
       "      <td>3</td>\n",
       "      <td>10</td>\n",
       "      <td>8</td>\n",
       "      <td>6</td>\n",
       "      <td>13.33</td>\n",
       "    </tr>\n",
       "    <tr>\n",
       "      <th>7</th>\n",
       "      <td>Добавить форму подписки на все основные страницы, чтобы собрать базу клиентов для email-рассылок</td>\n",
       "      <td>10</td>\n",
       "      <td>7</td>\n",
       "      <td>8</td>\n",
       "      <td>5</td>\n",
       "      <td>11.20</td>\n",
       "    </tr>\n",
       "    <tr>\n",
       "      <th>6</th>\n",
       "      <td>Показать на главной странице баннеры с актуальными акциями и распродажами, чтобы увеличить конверсию</td>\n",
       "      <td>5</td>\n",
       "      <td>3</td>\n",
       "      <td>8</td>\n",
       "      <td>3</td>\n",
       "      <td>8.00</td>\n",
       "    </tr>\n",
       "    <tr>\n",
       "      <th>2</th>\n",
       "      <td>Добавить блоки рекомендаций товаров на сайт интернет магазина, чтобы повысить конверсию и средний чек заказа</td>\n",
       "      <td>8</td>\n",
       "      <td>3</td>\n",
       "      <td>7</td>\n",
       "      <td>3</td>\n",
       "      <td>7.00</td>\n",
       "    </tr>\n",
       "    <tr>\n",
       "      <th>1</th>\n",
       "      <td>Запустить собственную службу доставки, что сократит срок доставки заказов</td>\n",
       "      <td>2</td>\n",
       "      <td>5</td>\n",
       "      <td>4</td>\n",
       "      <td>10</td>\n",
       "      <td>2.00</td>\n",
       "    </tr>\n",
       "    <tr>\n",
       "      <th>5</th>\n",
       "      <td>Добавить страницу отзывов клиентов о магазине, что позволит увеличить количество заказов</td>\n",
       "      <td>3</td>\n",
       "      <td>2</td>\n",
       "      <td>2</td>\n",
       "      <td>3</td>\n",
       "      <td>1.33</td>\n",
       "    </tr>\n",
       "    <tr>\n",
       "      <th>3</th>\n",
       "      <td>Изменить структура категорий, что увеличит конверсию, т.к. пользователи быстрее найдут нужный товар</td>\n",
       "      <td>8</td>\n",
       "      <td>3</td>\n",
       "      <td>3</td>\n",
       "      <td>8</td>\n",
       "      <td>1.12</td>\n",
       "    </tr>\n",
       "    <tr>\n",
       "      <th>4</th>\n",
       "      <td>Изменить цвет фона главной страницы, чтобы увеличить вовлеченность пользователей</td>\n",
       "      <td>3</td>\n",
       "      <td>1</td>\n",
       "      <td>1</td>\n",
       "      <td>1</td>\n",
       "      <td>1.00</td>\n",
       "    </tr>\n",
       "  </tbody>\n",
       "</table>\n",
       "</div>"
      ],
      "text/plain": [
       "                                                                                                     hypothesis  \\\n",
       "8                                                       Запустить акцию, дающую скидку на товар в день рождения   \n",
       "0            Добавить два новых канала привлечения трафика, что позволит привлекать на 30% больше пользователей   \n",
       "7              Добавить форму подписки на все основные страницы, чтобы собрать базу клиентов для email-рассылок   \n",
       "6          Показать на главной странице баннеры с актуальными акциями и распродажами, чтобы увеличить конверсию   \n",
       "2  Добавить блоки рекомендаций товаров на сайт интернет магазина, чтобы повысить конверсию и средний чек заказа   \n",
       "1                                     Запустить собственную службу доставки, что сократит срок доставки заказов   \n",
       "5                      Добавить страницу отзывов клиентов о магазине, что позволит увеличить количество заказов   \n",
       "3           Изменить структура категорий, что увеличит конверсию, т.к. пользователи быстрее найдут нужный товар   \n",
       "4                              Изменить цвет фона главной страницы, чтобы увеличить вовлеченность пользователей   \n",
       "\n",
       "   reach  impact  confidence  efforts    ice  \n",
       "8      1       9           9        5  16.20  \n",
       "0      3      10           8        6  13.33  \n",
       "7     10       7           8        5  11.20  \n",
       "6      5       3           8        3   8.00  \n",
       "2      8       3           7        3   7.00  \n",
       "1      2       5           4       10   2.00  \n",
       "5      3       2           2        3   1.33  \n",
       "3      8       3           3        8   1.12  \n",
       "4      3       1           1        1   1.00  "
      ]
     },
     "execution_count": 4,
     "metadata": {},
     "output_type": "execute_result"
    }
   ],
   "source": [
    "pd.options.display.max_colwidth = 150\n",
    "df_1['ice'] = df_1['impact'] * df_1['confidence']/ df_1['efforts']\n",
    "df_1['ice'] = df_1['ice'].round(2)\n",
    "df_1.sort_values(by = 'ice', ascending=False)"
   ]
  },
  {
   "cell_type": "markdown",
   "metadata": {},
   "source": [
    "### Применим способ приоритизация RICE и отсортируем по убавнию приоритизации"
   ]
  },
  {
   "cell_type": "code",
   "execution_count": 5,
   "metadata": {},
   "outputs": [
    {
     "data": {
      "text/html": [
       "<div>\n",
       "<style scoped>\n",
       "    .dataframe tbody tr th:only-of-type {\n",
       "        vertical-align: middle;\n",
       "    }\n",
       "\n",
       "    .dataframe tbody tr th {\n",
       "        vertical-align: top;\n",
       "    }\n",
       "\n",
       "    .dataframe thead th {\n",
       "        text-align: right;\n",
       "    }\n",
       "</style>\n",
       "<table border=\"1\" class=\"dataframe\">\n",
       "  <thead>\n",
       "    <tr style=\"text-align: right;\">\n",
       "      <th></th>\n",
       "      <th>hypothesis</th>\n",
       "      <th>reach</th>\n",
       "      <th>impact</th>\n",
       "      <th>confidence</th>\n",
       "      <th>efforts</th>\n",
       "      <th>ice</th>\n",
       "      <th>rice</th>\n",
       "    </tr>\n",
       "  </thead>\n",
       "  <tbody>\n",
       "    <tr>\n",
       "      <th>7</th>\n",
       "      <td>Добавить форму подписки на все основные страницы, чтобы собрать базу клиентов для email-рассылок</td>\n",
       "      <td>10</td>\n",
       "      <td>7</td>\n",
       "      <td>8</td>\n",
       "      <td>5</td>\n",
       "      <td>11.20</td>\n",
       "      <td>112.0</td>\n",
       "    </tr>\n",
       "    <tr>\n",
       "      <th>2</th>\n",
       "      <td>Добавить блоки рекомендаций товаров на сайт интернет магазина, чтобы повысить конверсию и средний чек заказа</td>\n",
       "      <td>8</td>\n",
       "      <td>3</td>\n",
       "      <td>7</td>\n",
       "      <td>3</td>\n",
       "      <td>7.00</td>\n",
       "      <td>56.0</td>\n",
       "    </tr>\n",
       "    <tr>\n",
       "      <th>0</th>\n",
       "      <td>Добавить два новых канала привлечения трафика, что позволит привлекать на 30% больше пользователей</td>\n",
       "      <td>3</td>\n",
       "      <td>10</td>\n",
       "      <td>8</td>\n",
       "      <td>6</td>\n",
       "      <td>13.33</td>\n",
       "      <td>40.0</td>\n",
       "    </tr>\n",
       "    <tr>\n",
       "      <th>6</th>\n",
       "      <td>Показать на главной странице баннеры с актуальными акциями и распродажами, чтобы увеличить конверсию</td>\n",
       "      <td>5</td>\n",
       "      <td>3</td>\n",
       "      <td>8</td>\n",
       "      <td>3</td>\n",
       "      <td>8.00</td>\n",
       "      <td>40.0</td>\n",
       "    </tr>\n",
       "    <tr>\n",
       "      <th>8</th>\n",
       "      <td>Запустить акцию, дающую скидку на товар в день рождения</td>\n",
       "      <td>1</td>\n",
       "      <td>9</td>\n",
       "      <td>9</td>\n",
       "      <td>5</td>\n",
       "      <td>16.20</td>\n",
       "      <td>16.2</td>\n",
       "    </tr>\n",
       "    <tr>\n",
       "      <th>3</th>\n",
       "      <td>Изменить структура категорий, что увеличит конверсию, т.к. пользователи быстрее найдут нужный товар</td>\n",
       "      <td>8</td>\n",
       "      <td>3</td>\n",
       "      <td>3</td>\n",
       "      <td>8</td>\n",
       "      <td>1.12</td>\n",
       "      <td>9.0</td>\n",
       "    </tr>\n",
       "    <tr>\n",
       "      <th>1</th>\n",
       "      <td>Запустить собственную службу доставки, что сократит срок доставки заказов</td>\n",
       "      <td>2</td>\n",
       "      <td>5</td>\n",
       "      <td>4</td>\n",
       "      <td>10</td>\n",
       "      <td>2.00</td>\n",
       "      <td>4.0</td>\n",
       "    </tr>\n",
       "    <tr>\n",
       "      <th>5</th>\n",
       "      <td>Добавить страницу отзывов клиентов о магазине, что позволит увеличить количество заказов</td>\n",
       "      <td>3</td>\n",
       "      <td>2</td>\n",
       "      <td>2</td>\n",
       "      <td>3</td>\n",
       "      <td>1.33</td>\n",
       "      <td>4.0</td>\n",
       "    </tr>\n",
       "    <tr>\n",
       "      <th>4</th>\n",
       "      <td>Изменить цвет фона главной страницы, чтобы увеличить вовлеченность пользователей</td>\n",
       "      <td>3</td>\n",
       "      <td>1</td>\n",
       "      <td>1</td>\n",
       "      <td>1</td>\n",
       "      <td>1.00</td>\n",
       "      <td>3.0</td>\n",
       "    </tr>\n",
       "  </tbody>\n",
       "</table>\n",
       "</div>"
      ],
      "text/plain": [
       "                                                                                                     hypothesis  \\\n",
       "7              Добавить форму подписки на все основные страницы, чтобы собрать базу клиентов для email-рассылок   \n",
       "2  Добавить блоки рекомендаций товаров на сайт интернет магазина, чтобы повысить конверсию и средний чек заказа   \n",
       "0            Добавить два новых канала привлечения трафика, что позволит привлекать на 30% больше пользователей   \n",
       "6          Показать на главной странице баннеры с актуальными акциями и распродажами, чтобы увеличить конверсию   \n",
       "8                                                       Запустить акцию, дающую скидку на товар в день рождения   \n",
       "3           Изменить структура категорий, что увеличит конверсию, т.к. пользователи быстрее найдут нужный товар   \n",
       "1                                     Запустить собственную службу доставки, что сократит срок доставки заказов   \n",
       "5                      Добавить страницу отзывов клиентов о магазине, что позволит увеличить количество заказов   \n",
       "4                              Изменить цвет фона главной страницы, чтобы увеличить вовлеченность пользователей   \n",
       "\n",
       "   reach  impact  confidence  efforts    ice   rice  \n",
       "7     10       7           8        5  11.20  112.0  \n",
       "2      8       3           7        3   7.00   56.0  \n",
       "0      3      10           8        6  13.33   40.0  \n",
       "6      5       3           8        3   8.00   40.0  \n",
       "8      1       9           9        5  16.20   16.2  \n",
       "3      8       3           3        8   1.12    9.0  \n",
       "1      2       5           4       10   2.00    4.0  \n",
       "5      3       2           2        3   1.33    4.0  \n",
       "4      3       1           1        1   1.00    3.0  "
      ]
     },
     "execution_count": 5,
     "metadata": {},
     "output_type": "execute_result"
    }
   ],
   "source": [
    "df_1['rice'] = df_1['reach'] * df_1['impact'] * df_1['confidence']/ df_1['efforts']\n",
    "df_1.sort_values(by = 'rice', ascending=False)"
   ]
  },
  {
   "cell_type": "markdown",
   "metadata": {},
   "source": [
    "### Разница между ICE и RICE"
   ]
  },
  {
   "cell_type": "markdown",
   "metadata": {},
   "source": [
    "Наиболее перспективные гепотезы по методу ICE являются гепотезы с индексом 8, 0, 7, 6. По методу RICE гепотезы с индексом 7, 2, 0, 6. Охват пользователей повлиял на лидера гепотезы.\n",
    "\n",
    "Важный фактор, который повлиял на изменения приоритизации - уровень охвата. Он измеряется количеством людей/событий за определенный период времени. Этот фактор предназначен для оценки того, на какое количество людей каждая фича повлияет в течение определенного количества времени, а также какое количество пользователей увидят такие изменения. Именно из-за параметра Reach (который используется в методе RICE) появились изменения в приоритизации. "
   ]
  },
  {
   "cell_type": "markdown",
   "metadata": {},
   "source": [
    "## Анализ A/B-теста"
   ]
  },
  {
   "cell_type": "markdown",
   "metadata": {},
   "source": [
    "### Построение графика кумулятивной выручки по группам"
   ]
  },
  {
   "cell_type": "code",
   "execution_count": 6,
   "metadata": {},
   "outputs": [],
   "source": [
    "orders = pd.read_csv('/datasets/orders.csv', sep=',')\n",
    "orders['date'] = orders['date'].map(\n",
    "    lambda x: dt.datetime.strptime(x, '%Y-%m-%d')\n",
    ")\n",
    "\n",
    "visitors = pd.read_csv('/datasets/visitors.csv', sep=',')\n",
    "visitors['date'] = visitors['date'].map(\n",
    "    lambda x: dt.datetime.strptime(x, '%Y-%m-%d')\n",
    ")\n"
   ]
  },
  {
   "cell_type": "markdown",
   "metadata": {},
   "source": [
    "Привели даты в датафреймах в подходящий формат"
   ]
  },
  {
   "cell_type": "code",
   "execution_count": 7,
   "metadata": {},
   "outputs": [
    {
     "data": {
      "text/plain": [
       "transactionId    0\n",
       "visitorId        0\n",
       "date             0\n",
       "revenue          0\n",
       "group            0\n",
       "dtype: int64"
      ]
     },
     "metadata": {},
     "output_type": "display_data"
    },
    {
     "data": {
      "text/plain": [
       "date        0\n",
       "group       0\n",
       "visitors    0\n",
       "dtype: int64"
      ]
     },
     "metadata": {},
     "output_type": "display_data"
    }
   ],
   "source": [
    "display(orders.isna().sum())\n",
    "display(visitors.isna().sum())\n"
   ]
  },
  {
   "cell_type": "markdown",
   "metadata": {},
   "source": [
    "Пропущенный значения в датафреймах отсутсвуют"
   ]
  },
  {
   "cell_type": "code",
   "execution_count": 8,
   "metadata": {},
   "outputs": [
    {
     "name": "stdout",
     "output_type": "stream",
     "text": [
      "Дата начала теста: 168   2019-08-01\n",
      "Name: date, dtype: datetime64[ns]\n",
      "Дата конца теста: 959   2019-08-31\n",
      "Name: date, dtype: datetime64[ns]\n"
     ]
    }
   ],
   "source": [
    "print('Дата начала теста:', orders['date'].sort_values().head(1))\n",
    "print('Дата конца теста:', orders['date'].sort_values().tail(1))"
   ]
  },
  {
   "cell_type": "markdown",
   "metadata": {},
   "source": [
    "Вывели даты начала и конца теста"
   ]
  },
  {
   "cell_type": "code",
   "execution_count": 9,
   "metadata": {},
   "outputs": [
    {
     "data": {
      "text/plain": [
       "group\n",
       "A    503\n",
       "B    586\n",
       "Name: visitorId, dtype: int64"
      ]
     },
     "execution_count": 9,
     "metadata": {},
     "output_type": "execute_result"
    }
   ],
   "source": [
    "orders.groupby('group').nunique('visitorId')['visitorId']"
   ]
  },
  {
   "cell_type": "markdown",
   "metadata": {},
   "source": [
    "Посмотрели количество уникальные пользователей по группам"
   ]
  },
  {
   "cell_type": "markdown",
   "metadata": {},
   "source": [
    "Было проверено количетсво пользователей в каждой группе и заодно количество групп, а также дубликаты в группах. Общее количество дубликатов = 9% - по моему мнению это слишком много для удаления, так как максимальный порог, который не повлияет на результат - 5%, с другой стороны дубликаты повлияют на результат теста (он будет не корректен). Учитывая изложенное я принял решение удалить дубликаты для более правдивого анализа А/В теста. Также обнаружено, что количество пользователей в группе В на 83 пользователя больше (на 7,6%), что кажется многовато (в идеале лучше было бы чтобы их было поровну)\n"
   ]
  },
  {
   "cell_type": "code",
   "execution_count": 10,
   "metadata": {},
   "outputs": [
    {
     "data": {
      "text/plain": [
       "group    58\n",
       "dtype: int64"
      ]
     },
     "execution_count": 10,
     "metadata": {},
     "output_type": "execute_result"
    }
   ],
   "source": [
    "orders.groupby('visitorId').agg({'group': 'nunique'}).query('group>1').count()"
   ]
  },
  {
   "cell_type": "markdown",
   "metadata": {},
   "source": [
    "Нашли количество задублированных пользователей в обеих группах"
   ]
  },
  {
   "cell_type": "code",
   "execution_count": 11,
   "metadata": {},
   "outputs": [
    {
     "data": {
      "text/html": [
       "<div>\n",
       "<style scoped>\n",
       "    .dataframe tbody tr th:only-of-type {\n",
       "        vertical-align: middle;\n",
       "    }\n",
       "\n",
       "    .dataframe tbody tr th {\n",
       "        vertical-align: top;\n",
       "    }\n",
       "\n",
       "    .dataframe thead th {\n",
       "        text-align: right;\n",
       "    }\n",
       "</style>\n",
       "<table border=\"1\" class=\"dataframe\">\n",
       "  <thead>\n",
       "    <tr style=\"text-align: right;\">\n",
       "      <th></th>\n",
       "      <th>visitorId</th>\n",
       "      <th>group</th>\n",
       "    </tr>\n",
       "  </thead>\n",
       "  <tbody>\n",
       "    <tr>\n",
       "      <th>0</th>\n",
       "      <td>8300375</td>\n",
       "      <td>2</td>\n",
       "    </tr>\n",
       "    <tr>\n",
       "      <th>1</th>\n",
       "      <td>199603092</td>\n",
       "      <td>2</td>\n",
       "    </tr>\n",
       "    <tr>\n",
       "      <th>2</th>\n",
       "      <td>232979603</td>\n",
       "      <td>2</td>\n",
       "    </tr>\n",
       "    <tr>\n",
       "      <th>3</th>\n",
       "      <td>237748145</td>\n",
       "      <td>2</td>\n",
       "    </tr>\n",
       "    <tr>\n",
       "      <th>4</th>\n",
       "      <td>276558944</td>\n",
       "      <td>2</td>\n",
       "    </tr>\n",
       "    <tr>\n",
       "      <th>5</th>\n",
       "      <td>351125977</td>\n",
       "      <td>2</td>\n",
       "    </tr>\n",
       "    <tr>\n",
       "      <th>6</th>\n",
       "      <td>393266494</td>\n",
       "      <td>2</td>\n",
       "    </tr>\n",
       "    <tr>\n",
       "      <th>7</th>\n",
       "      <td>457167155</td>\n",
       "      <td>2</td>\n",
       "    </tr>\n",
       "    <tr>\n",
       "      <th>8</th>\n",
       "      <td>471551937</td>\n",
       "      <td>2</td>\n",
       "    </tr>\n",
       "    <tr>\n",
       "      <th>9</th>\n",
       "      <td>477780734</td>\n",
       "      <td>2</td>\n",
       "    </tr>\n",
       "    <tr>\n",
       "      <th>10</th>\n",
       "      <td>818047933</td>\n",
       "      <td>2</td>\n",
       "    </tr>\n",
       "    <tr>\n",
       "      <th>11</th>\n",
       "      <td>963407295</td>\n",
       "      <td>2</td>\n",
       "    </tr>\n",
       "    <tr>\n",
       "      <th>12</th>\n",
       "      <td>1230306981</td>\n",
       "      <td>2</td>\n",
       "    </tr>\n",
       "    <tr>\n",
       "      <th>13</th>\n",
       "      <td>1294878855</td>\n",
       "      <td>2</td>\n",
       "    </tr>\n",
       "    <tr>\n",
       "      <th>14</th>\n",
       "      <td>1316129916</td>\n",
       "      <td>2</td>\n",
       "    </tr>\n",
       "    <tr>\n",
       "      <th>15</th>\n",
       "      <td>1333886533</td>\n",
       "      <td>2</td>\n",
       "    </tr>\n",
       "    <tr>\n",
       "      <th>16</th>\n",
       "      <td>1404934699</td>\n",
       "      <td>2</td>\n",
       "    </tr>\n",
       "    <tr>\n",
       "      <th>17</th>\n",
       "      <td>1602967004</td>\n",
       "      <td>2</td>\n",
       "    </tr>\n",
       "    <tr>\n",
       "      <th>18</th>\n",
       "      <td>1614305549</td>\n",
       "      <td>2</td>\n",
       "    </tr>\n",
       "    <tr>\n",
       "      <th>19</th>\n",
       "      <td>1648269707</td>\n",
       "      <td>2</td>\n",
       "    </tr>\n",
       "    <tr>\n",
       "      <th>20</th>\n",
       "      <td>1668030113</td>\n",
       "      <td>2</td>\n",
       "    </tr>\n",
       "    <tr>\n",
       "      <th>21</th>\n",
       "      <td>1738359350</td>\n",
       "      <td>2</td>\n",
       "    </tr>\n",
       "    <tr>\n",
       "      <th>22</th>\n",
       "      <td>1801183820</td>\n",
       "      <td>2</td>\n",
       "    </tr>\n",
       "    <tr>\n",
       "      <th>23</th>\n",
       "      <td>1959144690</td>\n",
       "      <td>2</td>\n",
       "    </tr>\n",
       "    <tr>\n",
       "      <th>24</th>\n",
       "      <td>2038680547</td>\n",
       "      <td>2</td>\n",
       "    </tr>\n",
       "    <tr>\n",
       "      <th>25</th>\n",
       "      <td>2044997962</td>\n",
       "      <td>2</td>\n",
       "    </tr>\n",
       "    <tr>\n",
       "      <th>26</th>\n",
       "      <td>2378935119</td>\n",
       "      <td>2</td>\n",
       "    </tr>\n",
       "    <tr>\n",
       "      <th>27</th>\n",
       "      <td>2458001652</td>\n",
       "      <td>2</td>\n",
       "    </tr>\n",
       "    <tr>\n",
       "      <th>28</th>\n",
       "      <td>2579882178</td>\n",
       "      <td>2</td>\n",
       "    </tr>\n",
       "    <tr>\n",
       "      <th>29</th>\n",
       "      <td>2587333274</td>\n",
       "      <td>2</td>\n",
       "    </tr>\n",
       "    <tr>\n",
       "      <th>30</th>\n",
       "      <td>2600415354</td>\n",
       "      <td>2</td>\n",
       "    </tr>\n",
       "    <tr>\n",
       "      <th>31</th>\n",
       "      <td>2654030115</td>\n",
       "      <td>2</td>\n",
       "    </tr>\n",
       "    <tr>\n",
       "      <th>32</th>\n",
       "      <td>2686716486</td>\n",
       "      <td>2</td>\n",
       "    </tr>\n",
       "    <tr>\n",
       "      <th>33</th>\n",
       "      <td>2712142231</td>\n",
       "      <td>2</td>\n",
       "    </tr>\n",
       "    <tr>\n",
       "      <th>34</th>\n",
       "      <td>2716752286</td>\n",
       "      <td>2</td>\n",
       "    </tr>\n",
       "    <tr>\n",
       "      <th>35</th>\n",
       "      <td>2780786433</td>\n",
       "      <td>2</td>\n",
       "    </tr>\n",
       "    <tr>\n",
       "      <th>36</th>\n",
       "      <td>2927087541</td>\n",
       "      <td>2</td>\n",
       "    </tr>\n",
       "    <tr>\n",
       "      <th>37</th>\n",
       "      <td>2949041841</td>\n",
       "      <td>2</td>\n",
       "    </tr>\n",
       "    <tr>\n",
       "      <th>38</th>\n",
       "      <td>2954449915</td>\n",
       "      <td>2</td>\n",
       "    </tr>\n",
       "    <tr>\n",
       "      <th>39</th>\n",
       "      <td>3062433592</td>\n",
       "      <td>2</td>\n",
       "    </tr>\n",
       "    <tr>\n",
       "      <th>40</th>\n",
       "      <td>3202540741</td>\n",
       "      <td>2</td>\n",
       "    </tr>\n",
       "    <tr>\n",
       "      <th>41</th>\n",
       "      <td>3234906277</td>\n",
       "      <td>2</td>\n",
       "    </tr>\n",
       "    <tr>\n",
       "      <th>42</th>\n",
       "      <td>3656415546</td>\n",
       "      <td>2</td>\n",
       "    </tr>\n",
       "    <tr>\n",
       "      <th>43</th>\n",
       "      <td>3717692402</td>\n",
       "      <td>2</td>\n",
       "    </tr>\n",
       "    <tr>\n",
       "      <th>44</th>\n",
       "      <td>3766097110</td>\n",
       "      <td>2</td>\n",
       "    </tr>\n",
       "    <tr>\n",
       "      <th>45</th>\n",
       "      <td>3803269165</td>\n",
       "      <td>2</td>\n",
       "    </tr>\n",
       "    <tr>\n",
       "      <th>46</th>\n",
       "      <td>3891541246</td>\n",
       "      <td>2</td>\n",
       "    </tr>\n",
       "    <tr>\n",
       "      <th>47</th>\n",
       "      <td>3941795274</td>\n",
       "      <td>2</td>\n",
       "    </tr>\n",
       "    <tr>\n",
       "      <th>48</th>\n",
       "      <td>3951559397</td>\n",
       "      <td>2</td>\n",
       "    </tr>\n",
       "    <tr>\n",
       "      <th>49</th>\n",
       "      <td>3957174400</td>\n",
       "      <td>2</td>\n",
       "    </tr>\n",
       "    <tr>\n",
       "      <th>50</th>\n",
       "      <td>3963646447</td>\n",
       "      <td>2</td>\n",
       "    </tr>\n",
       "    <tr>\n",
       "      <th>51</th>\n",
       "      <td>3972127743</td>\n",
       "      <td>2</td>\n",
       "    </tr>\n",
       "    <tr>\n",
       "      <th>52</th>\n",
       "      <td>3984495233</td>\n",
       "      <td>2</td>\n",
       "    </tr>\n",
       "    <tr>\n",
       "      <th>53</th>\n",
       "      <td>4069496402</td>\n",
       "      <td>2</td>\n",
       "    </tr>\n",
       "    <tr>\n",
       "      <th>54</th>\n",
       "      <td>4120364173</td>\n",
       "      <td>2</td>\n",
       "    </tr>\n",
       "    <tr>\n",
       "      <th>55</th>\n",
       "      <td>4186807279</td>\n",
       "      <td>2</td>\n",
       "    </tr>\n",
       "    <tr>\n",
       "      <th>56</th>\n",
       "      <td>4256040402</td>\n",
       "      <td>2</td>\n",
       "    </tr>\n",
       "    <tr>\n",
       "      <th>57</th>\n",
       "      <td>4266935830</td>\n",
       "      <td>2</td>\n",
       "    </tr>\n",
       "  </tbody>\n",
       "</table>\n",
       "</div>"
      ],
      "text/plain": [
       "     visitorId  group\n",
       "0      8300375      2\n",
       "1    199603092      2\n",
       "2    232979603      2\n",
       "3    237748145      2\n",
       "4    276558944      2\n",
       "5    351125977      2\n",
       "6    393266494      2\n",
       "7    457167155      2\n",
       "8    471551937      2\n",
       "9    477780734      2\n",
       "10   818047933      2\n",
       "11   963407295      2\n",
       "12  1230306981      2\n",
       "13  1294878855      2\n",
       "14  1316129916      2\n",
       "15  1333886533      2\n",
       "16  1404934699      2\n",
       "17  1602967004      2\n",
       "18  1614305549      2\n",
       "19  1648269707      2\n",
       "20  1668030113      2\n",
       "21  1738359350      2\n",
       "22  1801183820      2\n",
       "23  1959144690      2\n",
       "24  2038680547      2\n",
       "25  2044997962      2\n",
       "26  2378935119      2\n",
       "27  2458001652      2\n",
       "28  2579882178      2\n",
       "29  2587333274      2\n",
       "30  2600415354      2\n",
       "31  2654030115      2\n",
       "32  2686716486      2\n",
       "33  2712142231      2\n",
       "34  2716752286      2\n",
       "35  2780786433      2\n",
       "36  2927087541      2\n",
       "37  2949041841      2\n",
       "38  2954449915      2\n",
       "39  3062433592      2\n",
       "40  3202540741      2\n",
       "41  3234906277      2\n",
       "42  3656415546      2\n",
       "43  3717692402      2\n",
       "44  3766097110      2\n",
       "45  3803269165      2\n",
       "46  3891541246      2\n",
       "47  3941795274      2\n",
       "48  3951559397      2\n",
       "49  3957174400      2\n",
       "50  3963646447      2\n",
       "51  3972127743      2\n",
       "52  3984495233      2\n",
       "53  4069496402      2\n",
       "54  4120364173      2\n",
       "55  4186807279      2\n",
       "56  4256040402      2\n",
       "57  4266935830      2"
      ]
     },
     "execution_count": 11,
     "metadata": {},
     "output_type": "execute_result"
    }
   ],
   "source": [
    "double = orders.groupby('visitorId').agg({'group': 'nunique'}).query('group>1').reset_index()\n",
    "double"
   ]
  },
  {
   "cell_type": "code",
   "execution_count": 12,
   "metadata": {},
   "outputs": [],
   "source": [
    "orders = orders[~orders['visitorId'].isin(double['visitorId'])]"
   ]
  },
  {
   "cell_type": "markdown",
   "metadata": {},
   "source": [
    "Удалили дубликаты из датафрейма"
   ]
  },
  {
   "cell_type": "code",
   "execution_count": 13,
   "metadata": {},
   "outputs": [
    {
     "data": {
      "text/plain": [
       "group    0\n",
       "dtype: int64"
      ]
     },
     "execution_count": 13,
     "metadata": {},
     "output_type": "execute_result"
    }
   ],
   "source": [
    "orders.groupby('visitorId').agg({'group': 'nunique'}).query('group>1').count()"
   ]
  },
  {
   "cell_type": "markdown",
   "metadata": {},
   "source": [
    "Проверили, что дубликаты отсутсвуют"
   ]
  },
  {
   "cell_type": "code",
   "execution_count": 14,
   "metadata": {},
   "outputs": [],
   "source": [
    "\n",
    "\n",
    "datesGroups = orders[['date', 'group']].drop_duplicates()\n",
    "\n",
    "ordersAggregated = datesGroups.apply(\n",
    "    lambda x: orders[\n",
    "        np.logical_and(\n",
    "            orders['date'] <= x['date'], orders['group'] == x['group']\n",
    "        )\n",
    "    ].agg(\n",
    "        {\n",
    "            'date': 'max',\n",
    "            'group': 'max',\n",
    "            'transactionId': 'nunique',\n",
    "            'visitorId': 'nunique',\n",
    "            'revenue': 'sum',\n",
    "        }\n",
    "    ),\n",
    "    axis=1,\n",
    ").sort_values(by=['date', 'group'])\n",
    "\n",
    "visitorsAggregated = datesGroups.apply(\n",
    "    lambda x: visitors[\n",
    "        np.logical_and(\n",
    "            visitors['date'] <= x['date'], visitors['group'] == x['group']\n",
    "        )\n",
    "    ].agg({'date': 'max', 'group': 'max', 'visitors': 'sum'}),\n",
    "    axis=1,\n",
    ").sort_values(by=['date', 'group'])\n",
    "\n",
    "cumulativeData = ordersAggregated.merge(\n",
    "    visitorsAggregated, left_on=['date', 'group'], right_on=['date', 'group']\n",
    ")\n",
    "cumulativeData.columns = [\n",
    "    'date',\n",
    "    'group',\n",
    "    'orders',\n",
    "    'buyers',\n",
    "    'revenue',\n",
    "    'visitors',\n",
    "]"
   ]
  },
  {
   "cell_type": "code",
   "execution_count": 15,
   "metadata": {},
   "outputs": [
    {
     "data": {
      "image/png": "[encoded data removed]",
      "text/plain": [
       "<Figure size 1080x360 with 1 Axes>"
      ]
     },
     "metadata": {
      "needs_background": "light"
     },
     "output_type": "display_data"
    }
   ],
   "source": [
    "cumulativeRevenueA = cumulativeData[cumulativeData['group']=='A'][['date','revenue', 'orders']]\n",
    "\n",
    "cumulativeRevenueB = cumulativeData[cumulativeData['group']=='B'][['date','revenue', 'orders']]\n",
    "\n",
    "plt.plot(cumulativeRevenueA['date'], cumulativeRevenueA['revenue'], label='группа A')\n",
    "\n",
    "plt.plot(cumulativeRevenueB['date'], cumulativeRevenueB['revenue'], label='группа B')\n",
    "plt.title('Кумулятивная выручка по группам')\n",
    "plt.xlabel('Дата')\n",
    "plt.ylabel('Выручка')\n",
    "plt.grid()\n",
    "plt.legend();"
   ]
  },
  {
   "cell_type": "markdown",
   "metadata": {},
   "source": [
    "Группа А стабильно хуже по накопленным показателям, чем группа В. У группы В в середине теста произошел скачек, возможно в данных есть аномалии"
   ]
  },
  {
   "cell_type": "markdown",
   "metadata": {},
   "source": [
    "### Построение графика кумулятивного среднего чека по группам"
   ]
  },
  {
   "cell_type": "code",
   "execution_count": 16,
   "metadata": {},
   "outputs": [
    {
     "data": {
      "image/png": "[encoded data removed]",
      "text/plain": [
       "<Figure size 1080x360 with 1 Axes>"
      ]
     },
     "metadata": {
      "needs_background": "light"
     },
     "output_type": "display_data"
    }
   ],
   "source": [
    "plt.plot(cumulativeRevenueA['date'], cumulativeRevenueA['revenue']/cumulativeRevenueA['orders'], label='группа A')\n",
    "plt.plot(cumulativeRevenueB['date'], cumulativeRevenueB['revenue']/cumulativeRevenueB['orders'], label='группа B')\n",
    "plt.title('Кумулятивный средний чек по группам')\n",
    "plt.xlabel('Дата')\n",
    "plt.ylabel('Средний чек')\n",
    "plt.grid()\n",
    "plt.legend();"
   ]
  },
  {
   "cell_type": "markdown",
   "metadata": {},
   "source": [
    "Примерно в одинаковых числах в обеих группах провал в среднем чеке, а затем, средний чек группы В резко вырастает, в то время как группа А немного идет на временный спад, но можно заметить, что в дальнешем у группы В начинается спад после сскачка, а у группы А начинается подъем. Требуется дополнительный анализ выбросов."
   ]
  },
  {
   "cell_type": "markdown",
   "metadata": {},
   "source": [
    "### Построение графика относительного изменения кумулятивного среднего чека группы B к группе A"
   ]
  },
  {
   "cell_type": "code",
   "execution_count": 17,
   "metadata": {},
   "outputs": [
    {
     "data": {
      "image/png": "[encoded data removed]",
      "text/plain": [
       "<Figure size 1080x360 with 1 Axes>"
      ]
     },
     "metadata": {
      "needs_background": "light"
     },
     "output_type": "display_data"
    }
   ],
   "source": [
    "mergedCumulativeRevenue = cumulativeRevenueA.merge(cumulativeRevenueB, left_on='date', right_on='date', how='left', suffixes=['A', 'B'])\n",
    "\n",
    "plt.plot(mergedCumulativeRevenue['date'], (mergedCumulativeRevenue['revenueB']/mergedCumulativeRevenue['ordersB'])/(mergedCumulativeRevenue['revenueA']/mergedCumulativeRevenue['ordersA'])-1)\n",
    "plt.title('Относительные изменения кумулятивного среднего чека группы В к А')\n",
    "plt.xlabel('Дата')\n",
    "plt.ylabel('Относительное изменение среднего чека')\n",
    "plt.grid()\n",
    "plt.axhline(y=0, color='grey', linestyle='--');\n"
   ]
  },
  {
   "cell_type": "markdown",
   "metadata": {},
   "source": [
    "Результаты теста резко менялись в некоторые даты, предположительно тогда и были совершены аномальные заказы"
   ]
  },
  {
   "cell_type": "markdown",
   "metadata": {},
   "source": [
    "### Построение графика кумулятивного среднего количества заказов на посетителя по группам."
   ]
  },
  {
   "cell_type": "code",
   "execution_count": 18,
   "metadata": {},
   "outputs": [
    {
     "data": {
      "image/png": "[encoded data removed]",
      "text/plain": [
       "<Figure size 1080x360 with 1 Axes>"
      ]
     },
     "metadata": {
      "needs_background": "light"
     },
     "output_type": "display_data"
    }
   ],
   "source": [
    "cumulativeData['order_visitor'] = (\n",
    "    cumulativeData['orders'] / cumulativeData['visitors']\n",
    ")\n",
    "cumulativeDataA = cumulativeData[cumulativeData['group']=='A']\n",
    "cumulativeDataB = cumulativeData[cumulativeData['group']=='B']\n",
    "plt.plot(cumulativeDataA['date'], cumulativeDataA['orders']/cumulativeDataA['visitors'], label='A')\n",
    "plt.plot(cumulativeDataB['date'], cumulativeDataB['orders']/cumulativeDataB['visitors'], label='B')\n",
    "plt.title('Кумулятивное среднего количества заказов на посетителя по группам')\n",
    "plt.xlabel('Дата')\n",
    "plt.ylabel('Среднее кол-во заказов на посетителя')\n",
    "plt.grid()\n",
    "plt.legend()\n",
    "plt.axis([dt.datetime(2019, 7, 31), dt.datetime(2019, 9, 1), 0.023, 0.037]);"
   ]
  },
  {
   "cell_type": "markdown",
   "metadata": {},
   "source": [
    "Можно заметить, что среднее количество заказов на посетителя в первые дни колебалось, но затем показатели стали стабилизироваться. Среднее количество заказов на посетителя в группе В явно больше  "
   ]
  },
  {
   "cell_type": "markdown",
   "metadata": {},
   "source": [
    "### Построение графика относительного изменения кумулятивного среднего количества заказов на посетителя группы B к группе A"
   ]
  },
  {
   "cell_type": "code",
   "execution_count": 19,
   "metadata": {},
   "outputs": [
    {
     "data": {
      "image/png": "[encoded data removed]",
      "text/plain": [
       "<Figure size 1080x360 with 1 Axes>"
      ]
     },
     "metadata": {
      "needs_background": "light"
     },
     "output_type": "display_data"
    }
   ],
   "source": [
    "mergedCumulativeData = cumulativeDataA[['date','order_visitor']].merge(cumulativeDataB[['date','order_visitor']], left_on='date', right_on='date', how='left', suffixes=['A', 'B'])\n",
    "\n",
    "plt.plot(mergedCumulativeData['date'], mergedCumulativeData['order_visitorB']/mergedCumulativeData['order_visitorA']-1, label=\"Относительный прирост количества заказов на посетителя группы B относительно группы A\")\n",
    "plt.title('Относительное изменение кумулятивного среднего количества заказов на посетителя группы В к А')\n",
    "plt.xlabel('Дата')\n",
    "plt.ylabel('Относительное изменение среднего кол-ва заказов на посетителя')\n",
    "plt.grid()\n",
    "plt.legend()\n",
    "\n",
    "plt.axhline(y=0, color='black', linestyle='--')\n",
    "plt.axhline(y=0.2, color='grey', linestyle='--')\n",
    "plt.axis([\"2019-07-31\", '2019-09-01', -0.3, 0.3]);"
   ]
  },
  {
   "cell_type": "markdown",
   "metadata": {},
   "source": [
    "Из графика следует, что почти с самого начала теста у поситеителей группы В среднее количество заказов больше, чем у группы А от 10% до 20%"
   ]
  },
  {
   "cell_type": "markdown",
   "metadata": {},
   "source": [
    "### Построение точечного графика количества заказов по пользователям"
   ]
  },
  {
   "cell_type": "code",
   "execution_count": 20,
   "metadata": {},
   "outputs": [
    {
     "data": {
      "image/png": "[encoded data removed]",
      "text/plain": [
       "<Figure size 1080x360 with 1 Axes>"
      ]
     },
     "metadata": {
      "needs_background": "light"
     },
     "output_type": "display_data"
    }
   ],
   "source": [
    "ordersByUsers = (\n",
    "    orders.groupby('visitorId', as_index=False)\n",
    "    .agg({'transactionId': 'nunique'})\n",
    ")\n",
    "ordersByUsers.columns = ['userId', 'orders']\n",
    "\n",
    "plt.grid()\n",
    "plt.title('Количество заказов по пользователям')\n",
    "plt.xlabel('Кол-во пользователей')\n",
    "plt.ylabel('Кол-во заказов')\n",
    "\n",
    "x_values = pd.Series(range(0, len(ordersByUsers)))\n",
    "plt.scatter(x_values, ordersByUsers['orders']); "
   ]
  },
  {
   "cell_type": "markdown",
   "metadata": {},
   "source": [
    "По графику можно заметить, что сновное количество заказов - 1, чуть меньше 2 и совсем мало 3. Необходимо откинуть аномалии (от 1% до 5%)"
   ]
  },
  {
   "cell_type": "markdown",
   "metadata": {},
   "source": [
    "### Посчитаем 95-й и 99-й перцентили количества заказов на пользователя"
   ]
  },
  {
   "cell_type": "code",
   "execution_count": 21,
   "metadata": {},
   "outputs": [
    {
     "name": "stdout",
     "output_type": "stream",
     "text": [
      "90, 95 и 99 перцентили стоимости заказов: [1. 1. 2.]\n"
     ]
    }
   ],
   "source": [
    "print('90, 95 и 99 перцентили стоимости заказов:', np.percentile(ordersByUsers['orders'],[90,95,99]))"
   ]
  },
  {
   "cell_type": "markdown",
   "metadata": {},
   "source": [
    "1 закза совершали не более 5% пользователей и 2 заказ не более 1%. Примем количество заказов равное 2 как границу для фильтрации."
   ]
  },
  {
   "cell_type": "markdown",
   "metadata": {},
   "source": [
    "### Построение точечного графика стоимостей заказов"
   ]
  },
  {
   "cell_type": "code",
   "execution_count": 22,
   "metadata": {},
   "outputs": [
    {
     "data": {
      "image/png": "[encoded data removed]",
      "text/plain": [
       "<Figure size 1080x360 with 1 Axes>"
      ]
     },
     "metadata": {
      "needs_background": "light"
     },
     "output_type": "display_data"
    }
   ],
   "source": [
    "RevenueByUsers = pd.Series(range(0, len(orders['revenue'])))\n",
    "plt.grid()\n",
    "plt.title('График стоимостей заказов')\n",
    "plt.xlabel('Количество пользователей')\n",
    "plt.ylabel('Стоимость заказов')\n",
    "\n",
    "plt.scatter(RevenueByUsers, orders['revenue']);"
   ]
  },
  {
   "cell_type": "markdown",
   "metadata": {},
   "source": [
    "В среднем стоимость заказов не превышает 200 000р, есть пару выбросов ( около 200 тыс. и 1,2 млн.). Посчитаем выборочные процентили."
   ]
  },
  {
   "cell_type": "code",
   "execution_count": 23,
   "metadata": {},
   "outputs": [
    {
     "data": {
      "text/plain": [
       "425     1294500\n",
       "1196     202740\n",
       "1136      92550\n",
       "744       86620\n",
       "743       67990\n",
       "Name: revenue, dtype: int64"
      ]
     },
     "execution_count": 23,
     "metadata": {},
     "output_type": "execute_result"
    }
   ],
   "source": [
    "orders['revenue'].sort_values(ascending=False).head()"
   ]
  },
  {
   "cell_type": "markdown",
   "metadata": {},
   "source": [
    "Для построения более информативного графика посмотрим точные суммы аномальных заказов"
   ]
  },
  {
   "cell_type": "code",
   "execution_count": 24,
   "metadata": {},
   "outputs": [
    {
     "data": {
      "image/png": "[encoded data removed]",
      "text/plain": [
       "<Figure size 1080x360 with 1 Axes>"
      ]
     },
     "metadata": {
      "needs_background": "light"
     },
     "output_type": "display_data"
    }
   ],
   "source": [
    "result = orders[orders['revenue']<=202000]['revenue']\n",
    "xn_values = pd.Series(range(0,len(result)))\n",
    "\n",
    "plt.grid()\n",
    "plt.title('График стоимостей заказов без аномалий')\n",
    "plt.xlabel('Количество пользователей')\n",
    "plt.ylabel('Стоимость заказов')\n",
    "plt.scatter(xn_values, result, alpha=0.5);"
   ]
  },
  {
   "cell_type": "markdown",
   "metadata": {},
   "source": [
    "По графику видно, что основная стоимоть заказов составляет 20 000 и менее"
   ]
  },
  {
   "cell_type": "markdown",
   "metadata": {},
   "source": [
    "### Посчитаем 95-й и 99-й перцентили стоимости заказов"
   ]
  },
  {
   "cell_type": "code",
   "execution_count": 25,
   "metadata": {},
   "outputs": [
    {
     "name": "stdout",
     "output_type": "stream",
     "text": [
      "90, 95 и 99 перцентили стоимости заказов: [17990. 26785. 53904.]\n"
     ]
    }
   ],
   "source": [
    "print('90, 95 и 99 перцентили стоимости заказов:', np.percentile(orders['revenue'],[90,95,99]))"
   ]
  },
  {
   "cell_type": "markdown",
   "metadata": {},
   "source": [
    "99% заказов меньше стоимости 53 904, определим это значение как границу"
   ]
  },
  {
   "cell_type": "markdown",
   "metadata": {},
   "source": [
    "### Посчитаем статистическую значимость различий в среднем количестве заказов на посетителя между группами по «сырым» данным"
   ]
  },
  {
   "cell_type": "markdown",
   "metadata": {},
   "source": [
    "Сформулируем гипотезы. \n",
    "\n",
    "Нулевая: различий в среднем количестве заказов на посетителя между группами нет. \n",
    "\n",
    "Альтернативная: различия в среднем количестве заказов на посетителя между группами есть."
   ]
  },
  {
   "cell_type": "markdown",
   "metadata": {},
   "source": [
    "Для проверки предположения о нормальности распределения данных используем критерий Манна-Уитни, так как в данных, как мы уже заметили, есть выбросы, а иные методы существенно повлияют на результат"
   ]
  },
  {
   "cell_type": "code",
   "execution_count": 26,
   "metadata": {},
   "outputs": [
    {
     "name": "stdout",
     "output_type": "stream",
     "text": [
      "Значение P-value: 0.011\n",
      "Относительная разница между группами: 0.160\n"
     ]
    }
   ],
   "source": [
    "ordersByUsersA = (\n",
    "    orders[orders['group'] == 'A']\n",
    "    .groupby('visitorId', as_index=False)\n",
    "    .agg({'transactionId': pd.Series.nunique})\n",
    ")\n",
    "ordersByUsersA.columns = ['userId', 'orders']\n",
    "\n",
    "ordersByUsersB = (\n",
    "    orders[orders['group'] == 'B']\n",
    "    .groupby('visitorId', as_index=False)\n",
    "    .agg({'transactionId': pd.Series.nunique})\n",
    ")\n",
    "ordersByUsersB.columns = ['userId', 'orders'] \n",
    "\n",
    "sampleA = pd.concat([ordersByUsersA['orders'],pd.Series(0, index=np.arange(visitors[visitors['group'] == 'A']['visitors'].sum() - len(ordersByUsersA['orders'])), name='orders')],axis=0)\n",
    "\n",
    "sampleB = pd.concat([ordersByUsersB['orders'],pd.Series(0, index=np.arange(visitors[visitors['group'] == 'B']['visitors'].sum() - len(ordersByUsersB['orders'])), name='orders')],axis=0)\n",
    "\n",
    "ordersByUsersA = (\n",
    "    orders[orders['group'] == 'A']\n",
    "    .groupby('visitorId', as_index=False)\n",
    "    .agg({'transactionId': pd.Series.nunique})\n",
    ")\n",
    "ordersByUsersA.columns = ['userId', 'orders']\n",
    "\n",
    "ordersByUsersB = (\n",
    "    orders[orders['group'] == 'B']\n",
    "    .groupby('visitorId', as_index=False)\n",
    "    .agg({'transactionId': pd.Series.nunique})\n",
    ")\n",
    "ordersByUsersB.columns = ['userId', 'orders']\n",
    "\n",
    "sampleA = pd.concat(\n",
    "    [\n",
    "        ordersByUsersA['orders'],\n",
    "        pd.Series(\n",
    "            0,\n",
    "            index=np.arange(\n",
    "                visitors[visitors['group'] == 'A']['visitors'].sum() - len(ordersByUsersA['orders'])\n",
    "            ),\n",
    "            name='orders',\n",
    "        ),\n",
    "    ],\n",
    "    axis=0,\n",
    ")\n",
    "\n",
    "sampleB = pd.concat(\n",
    "    [\n",
    "        ordersByUsersB['orders'],\n",
    "        pd.Series(\n",
    "            0,\n",
    "            index=np.arange(\n",
    "                visitors[visitors['group'] == 'B']['visitors'].sum() - len(ordersByUsersB['orders'])\n",
    "            ),\n",
    "            name='orders',\n",
    "        ),\n",
    "    ],\n",
    "    axis=0,\n",
    ")\n",
    "\n",
    "print('Значение P-value:', \"{0:.3f}\".format(stats.mannwhitneyu(sampleA, sampleB)[1]))\n",
    "\n",
    "\n",
    "print('Относительная разница между группами:',\"{0:.3f}\".format((sampleB.mean()/sampleA.mean()-1)))\n",
    "\n",
    "\n",
    "                                 \n",
    "\n"
   ]
  },
  {
   "cell_type": "markdown",
   "metadata": {},
   "source": [
    "P-value меньше 0.05 значит нулевую гепотезу отвергаем, статистически значимые отличие есть, относительный прирост среднего группы В к группе А равен 13,3%."
   ]
  },
  {
   "cell_type": "markdown",
   "metadata": {},
   "source": [
    "### Посчитаем статистическую значимость различий в среднем чеке заказа между группами по «сырым» данным"
   ]
  },
  {
   "cell_type": "code",
   "execution_count": 27,
   "metadata": {},
   "outputs": [
    {
     "name": "stdout",
     "output_type": "stream",
     "text": [
      "Значение P-value: 0.829\n",
      "Относительная разница между группами: 0.287\n"
     ]
    }
   ],
   "source": [
    "print('Значение P-value:','{0:.3f}'.format(stats.mannwhitneyu(orders[orders['group']=='A']['revenue'], orders[orders['group']=='B']['revenue'])[1]))\n",
    "print('Относительная разница между группами:','{0:.3f}'.format(orders[orders['group']=='B']['revenue'].mean()/orders[orders['group']=='A']['revenue'].mean()-1))"
   ]
  },
  {
   "cell_type": "markdown",
   "metadata": {},
   "source": [
    "P-value больше 0.05 - статистически значимых отличий между группамми в среднем чеке нет, однако относительный прирост среднего чека группы В к А равен 28,7%."
   ]
  },
  {
   "cell_type": "markdown",
   "metadata": {},
   "source": [
    "### Посчитаем статистическую значимость различий в среднем количестве заказов на посетителя между группами по «очищенным» данным"
   ]
  },
  {
   "cell_type": "code",
   "execution_count": 28,
   "metadata": {},
   "outputs": [
    {
     "name": "stdout",
     "output_type": "stream",
     "text": [
      "Абсолютные потери(количество аномальных пользователей): 16\n",
      "Относительные потери: 0.016\n"
     ]
    }
   ],
   "source": [
    "usersWithManyOrders = pd.concat(\n",
    "    [\n",
    "        ordersByUsersA[ordersByUsersA['orders'] > np.percentile(ordersByUsers['orders'], 99)]['userId'],\n",
    "        ordersByUsersB[ordersByUsersB['orders'] > np.percentile(ordersByUsers['orders'], 99)]['userId'],\n",
    "    ],\n",
    "    axis=0,\n",
    ")\n",
    "usersWithExpensiveOrders = orders[orders['revenue'] > 53904]['visitorId']\n",
    "abnormalUsers = (\n",
    "    pd.concat([usersWithManyOrders, usersWithExpensiveOrders], axis=0)\n",
    "    .drop_duplicates()\n",
    "    .sort_values()\n",
    ")\n",
    "print('Абсолютные потери(количество аномальных пользователей):' ,len(abnormalUsers)) \n",
    "print('Относительные потери:', round(len(abnormalUsers)/orders['visitorId'].nunique(),3))"
   ]
  },
  {
   "cell_type": "code",
   "execution_count": 29,
   "metadata": {},
   "outputs": [
    {
     "name": "stdout",
     "output_type": "stream",
     "text": [
      "Значение P-value: 0.007\n",
      "Относительная разница между группами: 0.189\n"
     ]
    }
   ],
   "source": [
    "sampleAFiltered = pd.concat(\n",
    "    [\n",
    "        ordersByUsersA[\n",
    "            np.logical_not(ordersByUsersA['userId'].isin(abnormalUsers))\n",
    "        ]['orders'],\n",
    "        pd.Series(\n",
    "            0,\n",
    "            index=np.arange(\n",
    "                visitors[visitors['group'] == 'A']['visitors'].sum() - len(ordersByUsersA['orders'])\n",
    "            ),\n",
    "            name='orders',\n",
    "        ),\n",
    "    ],\n",
    "    axis=0,\n",
    ")\n",
    "\n",
    "sampleBFiltered = pd.concat(\n",
    "    [\n",
    "        ordersByUsersB[\n",
    "            np.logical_not(ordersByUsersB['userId'].isin(abnormalUsers))\n",
    "        ]['orders'],\n",
    "        pd.Series(\n",
    "            0,\n",
    "            index=np.arange(\n",
    "                visitors[visitors['group'] == 'B']['visitors'].sum() - len(ordersByUsersB['orders'])\n",
    "            ),\n",
    "            name='orders',\n",
    "        ),\n",
    "    ],\n",
    "    axis=0,\n",
    ")\n",
    "print('Значение P-value:','{0:.3f}'.format(stats.mannwhitneyu(sampleAFiltered, sampleBFiltered)[1]))\n",
    "print('Относительная разница между группами:','{0:.3f}'.format(sampleBFiltered.mean()/sampleAFiltered.mean()-1))"
   ]
  },
  {
   "cell_type": "markdown",
   "metadata": {},
   "source": [
    "После фильтрации, так же как и до нее статистическая значимость достигнута, Сегмент В лучше сегмента А."
   ]
  },
  {
   "cell_type": "markdown",
   "metadata": {},
   "source": [
    "### Посчитаем статистическую значимость различий в среднем чеке заказа между группами по «очищенным» данным"
   ]
  },
  {
   "cell_type": "code",
   "execution_count": 30,
   "metadata": {},
   "outputs": [
    {
     "name": "stdout",
     "output_type": "stream",
     "text": [
      "Значение P-value: 0.788\n",
      "Относительная разница между группами: -0.032\n"
     ]
    }
   ],
   "source": [
    "print('Значение P-value:',\n",
    "    '{0:.3f}'.format(\n",
    "        stats.mannwhitneyu(\n",
    "            orders[\n",
    "                np.logical_and(\n",
    "                    orders['group'] == 'A',\n",
    "                    np.logical_not(orders['visitorId'].isin(abnormalUsers)),\n",
    "                )\n",
    "            ]['revenue'],\n",
    "            orders[\n",
    "                np.logical_and(\n",
    "                    orders['group'] == 'B',\n",
    "                    np.logical_not(orders['visitorId'].isin(abnormalUsers)),\n",
    "                )\n",
    "            ]['revenue'],\n",
    "        )[1]\n",
    "    )\n",
    ")\n",
    "\n",
    "print('Относительная разница между группами:',\n",
    "    \"{0:.3f}\".format(\n",
    "        orders[\n",
    "            np.logical_and(\n",
    "                orders['group'] == 'B',\n",
    "                np.logical_not(orders['visitorId'].isin(abnormalUsers)),\n",
    "            )\n",
    "        ]['revenue'].mean()\n",
    "        / orders[\n",
    "            np.logical_and(\n",
    "                orders['group'] == 'A',\n",
    "                np.logical_not(orders['visitorId'].isin(abnormalUsers)),\n",
    "            )\n",
    "        ]['revenue'].mean()\n",
    "        - 1\n",
    "    )\n",
    ")"
   ]
  },
  {
   "cell_type": "markdown",
   "metadata": {},
   "source": [
    "В среднем чеке нет различий (как и с \"сырыми\" данными). А вот средний чек группы B оказался на 3,2% ниже среднего чека группы A, в то время как по \"сырым\" данным, он был больше почти в 10 раз, что показывает вляние дорогих заказов"
   ]
  },
  {
   "cell_type": "markdown",
   "metadata": {},
   "source": [
    "### Результаты теста (выводы)"
   ]
  },
  {
   "cell_type": "markdown",
   "metadata": {},
   "source": [
    "Основываясь на результатах теста можно сказать, что по среднему количеству заказов по \"сырым\" данным 13,8%, по \"очищенным\" 15,1% побеждает группа В. По среднему чеку различия отсутсвуют.\n",
    "\n",
    "Предлагаю остановить тест и зафиксировать победу группы В по среднему количеству заказов, передать данные маркетологам и продуктологам для работы над увеличением среднего чека заказов."
   ]
  }
 ],
 "metadata": {
  "ExecuteTimeLog": [
   {
    "duration": 365,
    "start_time": "2023-03-07T17:34:14.573Z"
   },
   {
    "duration": 79,
    "start_time": "2023-03-07T17:37:28.772Z"
   },
   {
    "duration": 37,
    "start_time": "2023-03-07T17:37:43.451Z"
   },
   {
    "duration": 9,
    "start_time": "2023-03-07T17:38:17.663Z"
   },
   {
    "duration": 10,
    "start_time": "2023-03-07T17:40:25.456Z"
   },
   {
    "duration": 2,
    "start_time": "2023-03-07T17:40:49.025Z"
   },
   {
    "duration": 37,
    "start_time": "2023-03-07T17:40:49.534Z"
   },
   {
    "duration": 5,
    "start_time": "2023-03-07T17:40:50.007Z"
   },
   {
    "duration": 125,
    "start_time": "2023-03-07T17:43:30.101Z"
   },
   {
    "duration": 63,
    "start_time": "2023-03-07T17:43:53.533Z"
   },
   {
    "duration": 79,
    "start_time": "2023-03-07T17:44:32.093Z"
   },
   {
    "duration": 2,
    "start_time": "2023-03-07T18:01:27.499Z"
   },
   {
    "duration": 63,
    "start_time": "2023-03-07T18:01:27.504Z"
   },
   {
    "duration": 5,
    "start_time": "2023-03-07T18:01:27.569Z"
   },
   {
    "duration": 51,
    "start_time": "2023-03-07T18:01:27.576Z"
   },
   {
    "duration": 40,
    "start_time": "2023-03-07T18:01:27.628Z"
   },
   {
    "duration": 1401,
    "start_time": "2023-03-07T18:01:27.670Z"
   },
   {
    "duration": 3,
    "start_time": "2023-03-07T18:02:36.032Z"
   },
   {
    "duration": 4,
    "start_time": "2023-03-07T18:04:09.701Z"
   },
   {
    "duration": 4,
    "start_time": "2023-03-07T18:04:25.413Z"
   },
   {
    "duration": 10,
    "start_time": "2023-03-07T18:06:08.576Z"
   },
   {
    "duration": 14,
    "start_time": "2023-03-07T18:06:16.808Z"
   },
   {
    "duration": 11,
    "start_time": "2023-03-07T18:06:44.920Z"
   },
   {
    "duration": 11,
    "start_time": "2023-03-07T18:07:32.178Z"
   },
   {
    "duration": 11,
    "start_time": "2023-03-07T18:07:45.688Z"
   },
   {
    "duration": 3,
    "start_time": "2023-03-07T18:07:51.209Z"
   },
   {
    "duration": 59,
    "start_time": "2023-03-07T18:07:51.214Z"
   },
   {
    "duration": 5,
    "start_time": "2023-03-07T18:07:51.277Z"
   },
   {
    "duration": 53,
    "start_time": "2023-03-07T18:07:51.284Z"
   },
   {
    "duration": 41,
    "start_time": "2023-03-07T18:07:51.339Z"
   },
   {
    "duration": 10,
    "start_time": "2023-03-07T18:07:51.385Z"
   },
   {
    "duration": 9,
    "start_time": "2023-03-07T18:08:47.925Z"
   },
   {
    "duration": 11,
    "start_time": "2023-03-07T18:08:54.329Z"
   },
   {
    "duration": 15,
    "start_time": "2023-03-07T18:12:46.733Z"
   },
   {
    "duration": 3,
    "start_time": "2023-03-07T18:13:52.301Z"
   },
   {
    "duration": 42,
    "start_time": "2023-03-07T18:13:52.307Z"
   },
   {
    "duration": 9,
    "start_time": "2023-03-07T18:13:52.356Z"
   },
   {
    "duration": 74,
    "start_time": "2023-03-07T18:13:52.367Z"
   },
   {
    "duration": 50,
    "start_time": "2023-03-07T18:13:52.448Z"
   },
   {
    "duration": 32,
    "start_time": "2023-03-07T18:13:52.500Z"
   },
   {
    "duration": 64,
    "start_time": "2023-03-07T18:13:52.534Z"
   },
   {
    "duration": 14,
    "start_time": "2023-03-07T18:16:47.680Z"
   },
   {
    "duration": 13,
    "start_time": "2023-03-07T18:17:06.007Z"
   },
   {
    "duration": 14,
    "start_time": "2023-03-07T18:17:11.734Z"
   },
   {
    "duration": 1621,
    "start_time": "2023-03-07T18:17:57.896Z"
   },
   {
    "duration": 10,
    "start_time": "2023-03-07T18:18:16.998Z"
   },
   {
    "duration": 16,
    "start_time": "2023-03-07T18:24:49.158Z"
   },
   {
    "duration": 34,
    "start_time": "2023-03-07T18:24:56.362Z"
   },
   {
    "duration": 2,
    "start_time": "2023-03-07T18:28:58.014Z"
   },
   {
    "duration": 77,
    "start_time": "2023-03-07T18:28:58.018Z"
   },
   {
    "duration": 4,
    "start_time": "2023-03-07T18:28:58.097Z"
   },
   {
    "duration": 82,
    "start_time": "2023-03-07T18:28:58.102Z"
   },
   {
    "duration": 22,
    "start_time": "2023-03-07T18:28:58.185Z"
   },
   {
    "duration": 9,
    "start_time": "2023-03-07T18:28:58.209Z"
   },
   {
    "duration": 28,
    "start_time": "2023-03-07T18:28:58.219Z"
   },
   {
    "duration": 898,
    "start_time": "2023-03-08T17:24:26.543Z"
   },
   {
    "duration": 137,
    "start_time": "2023-03-08T17:24:27.444Z"
   },
   {
    "duration": 0,
    "start_time": "2023-03-08T17:24:27.583Z"
   },
   {
    "duration": 0,
    "start_time": "2023-03-08T17:24:27.584Z"
   },
   {
    "duration": 0,
    "start_time": "2023-03-08T17:24:27.585Z"
   },
   {
    "duration": 0,
    "start_time": "2023-03-08T17:24:27.586Z"
   },
   {
    "duration": 0,
    "start_time": "2023-03-08T17:24:27.587Z"
   },
   {
    "duration": 30,
    "start_time": "2023-03-08T17:24:42.302Z"
   },
   {
    "duration": 3,
    "start_time": "2023-03-08T17:24:58.314Z"
   },
   {
    "duration": 35,
    "start_time": "2023-03-08T17:24:58.319Z"
   },
   {
    "duration": 5,
    "start_time": "2023-03-08T17:24:58.356Z"
   },
   {
    "duration": 91,
    "start_time": "2023-03-08T17:24:58.363Z"
   },
   {
    "duration": 60,
    "start_time": "2023-03-08T17:24:58.456Z"
   },
   {
    "duration": 13,
    "start_time": "2023-03-08T17:24:58.518Z"
   },
   {
    "duration": 10,
    "start_time": "2023-03-08T17:24:58.533Z"
   },
   {
    "duration": 4,
    "start_time": "2023-03-08T17:27:04.126Z"
   },
   {
    "duration": 33,
    "start_time": "2023-03-08T17:27:04.132Z"
   },
   {
    "duration": 5,
    "start_time": "2023-03-08T17:27:04.167Z"
   },
   {
    "duration": 16,
    "start_time": "2023-03-08T17:27:04.226Z"
   },
   {
    "duration": 17,
    "start_time": "2023-03-08T17:27:04.245Z"
   },
   {
    "duration": 382,
    "start_time": "2023-03-08T17:36:05.554Z"
   },
   {
    "duration": 3,
    "start_time": "2023-03-08T17:40:42.490Z"
   },
   {
    "duration": 448,
    "start_time": "2023-03-08T17:40:42.495Z"
   },
   {
    "duration": 5,
    "start_time": "2023-03-08T17:40:42.946Z"
   },
   {
    "duration": 10,
    "start_time": "2023-03-08T17:40:42.952Z"
   },
   {
    "duration": 16,
    "start_time": "2023-03-08T17:40:42.964Z"
   },
   {
    "duration": 325,
    "start_time": "2023-03-08T17:40:42.982Z"
   },
   {
    "duration": 53,
    "start_time": "2023-03-08T17:41:41.409Z"
   },
   {
    "duration": 556,
    "start_time": "2023-03-08T17:42:20.114Z"
   },
   {
    "duration": 155,
    "start_time": "2023-03-08T17:55:08.104Z"
   },
   {
    "duration": 279,
    "start_time": "2023-03-08T18:04:48.400Z"
   },
   {
    "duration": 302,
    "start_time": "2023-03-08T18:05:18.418Z"
   },
   {
    "duration": 10,
    "start_time": "2023-03-08T18:46:08.786Z"
   },
   {
    "duration": 3,
    "start_time": "2023-03-08T18:46:20.213Z"
   },
   {
    "duration": 33,
    "start_time": "2023-03-08T18:46:20.218Z"
   },
   {
    "duration": 5,
    "start_time": "2023-03-08T18:46:20.252Z"
   },
   {
    "duration": 12,
    "start_time": "2023-03-08T18:46:20.259Z"
   },
   {
    "duration": 11,
    "start_time": "2023-03-08T18:46:20.273Z"
   },
   {
    "duration": 466,
    "start_time": "2023-03-08T18:46:20.285Z"
   },
   {
    "duration": 164,
    "start_time": "2023-03-08T18:46:20.754Z"
   },
   {
    "duration": 295,
    "start_time": "2023-03-08T18:46:20.920Z"
   },
   {
    "duration": 7,
    "start_time": "2023-03-08T18:46:21.217Z"
   },
   {
    "duration": 129,
    "start_time": "2023-03-08T18:47:10.288Z"
   },
   {
    "duration": 55,
    "start_time": "2023-03-08T18:49:14.279Z"
   },
   {
    "duration": 48,
    "start_time": "2023-03-08T18:49:48.484Z"
   },
   {
    "duration": 47,
    "start_time": "2023-03-08T18:50:00.688Z"
   },
   {
    "duration": 49,
    "start_time": "2023-03-08T18:54:54.962Z"
   },
   {
    "duration": 168,
    "start_time": "2023-03-08T19:00:16.444Z"
   },
   {
    "duration": 192,
    "start_time": "2023-03-08T19:01:28.788Z"
   },
   {
    "duration": 4,
    "start_time": "2023-03-08T19:03:18.128Z"
   },
   {
    "duration": 147,
    "start_time": "2023-03-08T19:03:22.433Z"
   },
   {
    "duration": 161,
    "start_time": "2023-03-08T19:05:22.843Z"
   },
   {
    "duration": 203,
    "start_time": "2023-03-08T19:08:30.374Z"
   },
   {
    "duration": 277,
    "start_time": "2023-03-08T19:08:49.212Z"
   },
   {
    "duration": 177,
    "start_time": "2023-03-08T19:08:56.401Z"
   },
   {
    "duration": 189,
    "start_time": "2023-03-08T19:10:43.310Z"
   },
   {
    "duration": 170,
    "start_time": "2023-03-08T19:10:50.919Z"
   },
   {
    "duration": 225,
    "start_time": "2023-03-08T19:10:56.517Z"
   },
   {
    "duration": 178,
    "start_time": "2023-03-08T19:11:02.704Z"
   },
   {
    "duration": 257,
    "start_time": "2023-03-08T19:11:06.999Z"
   },
   {
    "duration": 800,
    "start_time": "2023-03-09T17:14:24.612Z"
   },
   {
    "duration": 84,
    "start_time": "2023-03-09T17:14:25.414Z"
   },
   {
    "duration": 6,
    "start_time": "2023-03-09T17:14:25.500Z"
   },
   {
    "duration": 54,
    "start_time": "2023-03-09T17:14:25.509Z"
   },
   {
    "duration": 36,
    "start_time": "2023-03-09T17:14:25.564Z"
   },
   {
    "duration": 631,
    "start_time": "2023-03-09T17:14:25.601Z"
   },
   {
    "duration": 181,
    "start_time": "2023-03-09T17:14:26.233Z"
   },
   {
    "duration": 329,
    "start_time": "2023-03-09T17:14:26.415Z"
   },
   {
    "duration": 235,
    "start_time": "2023-03-09T17:14:26.745Z"
   },
   {
    "duration": 100,
    "start_time": "2023-03-09T17:31:34.038Z"
   },
   {
    "duration": 185,
    "start_time": "2023-03-09T17:33:23.249Z"
   },
   {
    "duration": 338,
    "start_time": "2023-03-09T17:33:26.016Z"
   },
   {
    "duration": 135,
    "start_time": "2023-03-09T17:46:39.893Z"
   },
   {
    "duration": 123,
    "start_time": "2023-03-09T17:47:03.742Z"
   },
   {
    "duration": 128,
    "start_time": "2023-03-09T17:47:33.714Z"
   },
   {
    "duration": 121,
    "start_time": "2023-03-09T17:49:33.160Z"
   },
   {
    "duration": 117,
    "start_time": "2023-03-09T17:49:43.100Z"
   },
   {
    "duration": 11,
    "start_time": "2023-03-09T17:53:45.942Z"
   },
   {
    "duration": 113,
    "start_time": "2023-03-09T18:09:17.184Z"
   },
   {
    "duration": 134,
    "start_time": "2023-03-09T18:11:45.512Z"
   },
   {
    "duration": 14,
    "start_time": "2023-03-09T18:13:42.880Z"
   },
   {
    "duration": 6,
    "start_time": "2023-03-09T18:17:52.882Z"
   },
   {
    "duration": 5,
    "start_time": "2023-03-09T18:18:21.660Z"
   },
   {
    "duration": 5,
    "start_time": "2023-03-09T18:18:51.375Z"
   },
   {
    "duration": 4,
    "start_time": "2023-03-09T18:22:47.625Z"
   },
   {
    "duration": 149,
    "start_time": "2023-03-09T18:37:17.040Z"
   },
   {
    "duration": 483,
    "start_time": "2023-03-09T18:41:20.917Z"
   },
   {
    "duration": 530,
    "start_time": "2023-03-09T18:42:02.311Z"
   },
   {
    "duration": 34,
    "start_time": "2023-03-09T18:42:02.844Z"
   },
   {
    "duration": 6,
    "start_time": "2023-03-09T18:42:02.879Z"
   },
   {
    "duration": 13,
    "start_time": "2023-03-09T18:42:02.886Z"
   },
   {
    "duration": 28,
    "start_time": "2023-03-09T18:42:02.902Z"
   },
   {
    "duration": 558,
    "start_time": "2023-03-09T18:42:02.932Z"
   },
   {
    "duration": 217,
    "start_time": "2023-03-09T18:42:03.492Z"
   },
   {
    "duration": 332,
    "start_time": "2023-03-09T18:42:03.710Z"
   },
   {
    "duration": 317,
    "start_time": "2023-03-09T18:42:04.045Z"
   },
   {
    "duration": 293,
    "start_time": "2023-03-09T18:42:04.364Z"
   },
   {
    "duration": 211,
    "start_time": "2023-03-09T18:42:04.659Z"
   },
   {
    "duration": 5,
    "start_time": "2023-03-09T18:42:04.871Z"
   },
   {
    "duration": 153,
    "start_time": "2023-03-09T18:42:04.878Z"
   },
   {
    "duration": 5,
    "start_time": "2023-03-09T18:42:05.034Z"
   },
   {
    "duration": 555,
    "start_time": "2023-03-09T18:42:05.040Z"
   },
   {
    "duration": 546,
    "start_time": "2023-03-09T18:48:20.402Z"
   },
   {
    "duration": 11,
    "start_time": "2023-03-09T18:58:19.996Z"
   },
   {
    "duration": 9,
    "start_time": "2023-03-09T19:11:56.893Z"
   },
   {
    "duration": 1237,
    "start_time": "2023-03-09T19:20:24.450Z"
   },
   {
    "duration": 4,
    "start_time": "2023-03-09T19:21:18.541Z"
   },
   {
    "duration": 34,
    "start_time": "2023-03-09T19:21:18.548Z"
   },
   {
    "duration": 5,
    "start_time": "2023-03-09T19:21:18.583Z"
   },
   {
    "duration": 12,
    "start_time": "2023-03-09T19:21:18.589Z"
   },
   {
    "duration": 18,
    "start_time": "2023-03-09T19:21:18.604Z"
   },
   {
    "duration": 618,
    "start_time": "2023-03-09T19:21:18.623Z"
   },
   {
    "duration": 216,
    "start_time": "2023-03-09T19:21:19.244Z"
   },
   {
    "duration": 281,
    "start_time": "2023-03-09T19:21:19.462Z"
   },
   {
    "duration": 197,
    "start_time": "2023-03-09T19:21:19.745Z"
   },
   {
    "duration": 295,
    "start_time": "2023-03-09T19:21:19.943Z"
   },
   {
    "duration": 140,
    "start_time": "2023-03-09T19:21:20.240Z"
   },
   {
    "duration": 4,
    "start_time": "2023-03-09T19:21:20.381Z"
   },
   {
    "duration": 169,
    "start_time": "2023-03-09T19:21:20.387Z"
   },
   {
    "duration": 5,
    "start_time": "2023-03-09T19:21:20.559Z"
   },
   {
    "duration": 524,
    "start_time": "2023-03-09T19:21:20.566Z"
   },
   {
    "duration": 10,
    "start_time": "2023-03-09T19:21:21.092Z"
   },
   {
    "duration": 1181,
    "start_time": "2023-03-09T19:21:21.104Z"
   },
   {
    "duration": 37,
    "start_time": "2023-03-09T19:24:16.363Z"
   },
   {
    "duration": 1145,
    "start_time": "2023-03-09T19:33:48.253Z"
   },
   {
    "duration": 1201,
    "start_time": "2023-03-09T19:34:56.244Z"
   },
   {
    "duration": 20,
    "start_time": "2023-03-09T19:35:07.352Z"
   },
   {
    "duration": 49,
    "start_time": "2023-03-09T19:37:05.681Z"
   },
   {
    "duration": 53,
    "start_time": "2023-03-09T19:37:28.778Z"
   },
   {
    "duration": 54,
    "start_time": "2023-03-09T19:37:38.220Z"
   },
   {
    "duration": 15,
    "start_time": "2023-03-09T19:37:42.175Z"
   },
   {
    "duration": 35,
    "start_time": "2023-03-09T19:38:14.872Z"
   },
   {
    "duration": 15,
    "start_time": "2023-03-09T19:38:18.607Z"
   },
   {
    "duration": 49,
    "start_time": "2023-03-09T19:39:10.840Z"
   },
   {
    "duration": 14,
    "start_time": "2023-03-09T19:39:12.992Z"
   },
   {
    "duration": 6,
    "start_time": "2023-03-09T19:50:48.041Z"
   },
   {
    "duration": 36,
    "start_time": "2023-03-09T19:50:48.056Z"
   },
   {
    "duration": 6,
    "start_time": "2023-03-09T19:50:48.095Z"
   },
   {
    "duration": 16,
    "start_time": "2023-03-09T19:50:48.102Z"
   },
   {
    "duration": 30,
    "start_time": "2023-03-09T19:50:48.120Z"
   },
   {
    "duration": 585,
    "start_time": "2023-03-09T19:50:48.153Z"
   },
   {
    "duration": 199,
    "start_time": "2023-03-09T19:50:48.739Z"
   },
   {
    "duration": 341,
    "start_time": "2023-03-09T19:50:48.942Z"
   },
   {
    "duration": 249,
    "start_time": "2023-03-09T19:50:49.286Z"
   },
   {
    "duration": 411,
    "start_time": "2023-03-09T19:50:49.537Z"
   },
   {
    "duration": 137,
    "start_time": "2023-03-09T19:50:49.950Z"
   },
   {
    "duration": 4,
    "start_time": "2023-03-09T19:50:50.089Z"
   },
   {
    "duration": 160,
    "start_time": "2023-03-09T19:50:50.095Z"
   },
   {
    "duration": 4,
    "start_time": "2023-03-09T19:50:50.257Z"
   },
   {
    "duration": 561,
    "start_time": "2023-03-09T19:50:50.264Z"
   },
   {
    "duration": 14,
    "start_time": "2023-03-09T19:50:50.827Z"
   },
   {
    "duration": 36,
    "start_time": "2023-03-09T19:50:50.843Z"
   },
   {
    "duration": 15,
    "start_time": "2023-03-09T19:50:50.881Z"
   },
   {
    "duration": 4,
    "start_time": "2023-03-09T19:54:53.770Z"
   },
   {
    "duration": 50,
    "start_time": "2023-03-09T19:54:53.776Z"
   },
   {
    "duration": 7,
    "start_time": "2023-03-09T19:54:53.827Z"
   },
   {
    "duration": 14,
    "start_time": "2023-03-09T19:54:53.835Z"
   },
   {
    "duration": 13,
    "start_time": "2023-03-09T19:54:53.852Z"
   },
   {
    "duration": 501,
    "start_time": "2023-03-09T19:54:53.866Z"
   },
   {
    "duration": 174,
    "start_time": "2023-03-09T19:54:54.369Z"
   },
   {
    "duration": 261,
    "start_time": "2023-03-09T19:54:54.545Z"
   },
   {
    "duration": 215,
    "start_time": "2023-03-09T19:54:54.808Z"
   },
   {
    "duration": 298,
    "start_time": "2023-03-09T19:54:55.025Z"
   },
   {
    "duration": 120,
    "start_time": "2023-03-09T19:54:55.325Z"
   },
   {
    "duration": 5,
    "start_time": "2023-03-09T19:54:55.446Z"
   },
   {
    "duration": 138,
    "start_time": "2023-03-09T19:54:55.452Z"
   },
   {
    "duration": 4,
    "start_time": "2023-03-09T19:54:55.593Z"
   },
   {
    "duration": 483,
    "start_time": "2023-03-09T19:54:55.599Z"
   },
   {
    "duration": 10,
    "start_time": "2023-03-09T19:54:56.084Z"
   },
   {
    "duration": 51,
    "start_time": "2023-03-09T19:54:56.096Z"
   },
   {
    "duration": 13,
    "start_time": "2023-03-09T19:54:56.148Z"
   },
   {
    "duration": 1391,
    "start_time": "2023-03-10T11:03:25.206Z"
   },
   {
    "duration": 124,
    "start_time": "2023-03-10T11:03:26.608Z"
   },
   {
    "duration": 13,
    "start_time": "2023-03-10T11:03:26.734Z"
   },
   {
    "duration": 79,
    "start_time": "2023-03-10T11:03:26.748Z"
   },
   {
    "duration": 37,
    "start_time": "2023-03-10T11:03:26.830Z"
   },
   {
    "duration": 981,
    "start_time": "2023-03-10T11:03:26.872Z"
   },
   {
    "duration": 196,
    "start_time": "2023-03-10T11:03:27.859Z"
   },
   {
    "duration": 353,
    "start_time": "2023-03-10T11:03:28.057Z"
   },
   {
    "duration": 216,
    "start_time": "2023-03-10T11:03:28.412Z"
   },
   {
    "duration": 347,
    "start_time": "2023-03-10T11:03:28.630Z"
   },
   {
    "duration": 126,
    "start_time": "2023-03-10T11:03:28.978Z"
   },
   {
    "duration": 4,
    "start_time": "2023-03-10T11:03:29.106Z"
   },
   {
    "duration": 173,
    "start_time": "2023-03-10T11:03:29.112Z"
   },
   {
    "duration": 17,
    "start_time": "2023-03-10T11:03:29.287Z"
   },
   {
    "duration": 605,
    "start_time": "2023-03-10T11:03:29.305Z"
   },
   {
    "duration": 12,
    "start_time": "2023-03-10T11:03:29.912Z"
   },
   {
    "duration": 54,
    "start_time": "2023-03-10T11:03:29.925Z"
   },
   {
    "duration": 25,
    "start_time": "2023-03-10T11:03:29.984Z"
   },
   {
    "duration": 52,
    "start_time": "2023-03-10T11:25:33.495Z"
   },
   {
    "duration": 24,
    "start_time": "2023-03-10T11:25:40.236Z"
   },
   {
    "duration": 29,
    "start_time": "2023-03-10T11:26:55.606Z"
   },
   {
    "duration": 36,
    "start_time": "2023-03-10T11:27:02.532Z"
   },
   {
    "duration": 4,
    "start_time": "2023-03-10T12:17:07.116Z"
   },
   {
    "duration": 131,
    "start_time": "2023-03-10T12:17:07.123Z"
   },
   {
    "duration": 21,
    "start_time": "2023-03-10T12:17:07.260Z"
   },
   {
    "duration": 15,
    "start_time": "2023-03-10T12:17:07.283Z"
   },
   {
    "duration": 16,
    "start_time": "2023-03-10T12:17:07.301Z"
   },
   {
    "duration": 646,
    "start_time": "2023-03-10T12:17:07.319Z"
   },
   {
    "duration": 242,
    "start_time": "2023-03-10T12:17:07.966Z"
   },
   {
    "duration": 311,
    "start_time": "2023-03-10T12:17:08.210Z"
   },
   {
    "duration": 197,
    "start_time": "2023-03-10T12:17:08.523Z"
   },
   {
    "duration": 331,
    "start_time": "2023-03-10T12:17:08.721Z"
   },
   {
    "duration": 129,
    "start_time": "2023-03-10T12:17:09.054Z"
   },
   {
    "duration": 4,
    "start_time": "2023-03-10T12:17:09.184Z"
   },
   {
    "duration": 163,
    "start_time": "2023-03-10T12:17:09.190Z"
   },
   {
    "duration": 11,
    "start_time": "2023-03-10T12:17:09.360Z"
   },
   {
    "duration": 483,
    "start_time": "2023-03-10T12:17:09.373Z"
   },
   {
    "duration": 13,
    "start_time": "2023-03-10T12:17:09.864Z"
   },
   {
    "duration": 34,
    "start_time": "2023-03-10T12:17:09.879Z"
   },
   {
    "duration": 12,
    "start_time": "2023-03-10T12:17:09.915Z"
   },
   {
    "duration": 1137,
    "start_time": "2023-03-11T08:11:49.955Z"
   },
   {
    "duration": 67,
    "start_time": "2023-03-11T08:11:51.094Z"
   },
   {
    "duration": 7,
    "start_time": "2023-03-11T08:11:51.162Z"
   },
   {
    "duration": 29,
    "start_time": "2023-03-11T08:11:51.172Z"
   },
   {
    "duration": 11,
    "start_time": "2023-03-11T08:11:51.203Z"
   },
   {
    "duration": 143,
    "start_time": "2023-03-11T08:11:51.216Z"
   },
   {
    "duration": 284,
    "start_time": "2023-03-11T08:11:51.361Z"
   },
   {
    "duration": 286,
    "start_time": "2023-03-11T08:11:51.647Z"
   },
   {
    "duration": 209,
    "start_time": "2023-03-11T08:11:51.935Z"
   },
   {
    "duration": 346,
    "start_time": "2023-03-11T08:11:52.147Z"
   },
   {
    "duration": 232,
    "start_time": "2023-03-11T08:11:52.495Z"
   },
   {
    "duration": 283,
    "start_time": "2023-03-11T08:11:52.730Z"
   },
   {
    "duration": 132,
    "start_time": "2023-03-11T08:11:53.016Z"
   },
   {
    "duration": 5,
    "start_time": "2023-03-11T08:11:53.150Z"
   },
   {
    "duration": 146,
    "start_time": "2023-03-11T08:11:53.156Z"
   },
   {
    "duration": 5,
    "start_time": "2023-03-11T08:11:53.303Z"
   },
   {
    "duration": 232,
    "start_time": "2023-03-11T08:11:53.310Z"
   },
   {
    "duration": 314,
    "start_time": "2023-03-11T08:11:53.544Z"
   },
   {
    "duration": 18,
    "start_time": "2023-03-11T08:11:53.860Z"
   },
   {
    "duration": 10,
    "start_time": "2023-03-11T08:11:53.880Z"
   },
   {
    "duration": 44,
    "start_time": "2023-03-11T08:11:53.892Z"
   },
   {
    "duration": 16,
    "start_time": "2023-03-11T08:11:53.937Z"
   },
   {
    "duration": 71,
    "start_time": "2023-03-11T12:37:42.547Z"
   },
   {
    "duration": 1463,
    "start_time": "2023-03-11T12:37:58.751Z"
   },
   {
    "duration": 96,
    "start_time": "2023-03-11T12:38:00.217Z"
   },
   {
    "duration": 18,
    "start_time": "2023-03-11T12:38:00.315Z"
   },
   {
    "duration": 36,
    "start_time": "2023-03-11T12:38:00.339Z"
   },
   {
    "duration": 31,
    "start_time": "2023-03-11T12:38:00.378Z"
   },
   {
    "duration": 203,
    "start_time": "2023-03-11T12:38:00.411Z"
   },
   {
    "duration": 367,
    "start_time": "2023-03-11T12:38:00.617Z"
   },
   {
    "duration": 326,
    "start_time": "2023-03-11T12:38:00.986Z"
   },
   {
    "duration": 223,
    "start_time": "2023-03-11T12:38:01.314Z"
   },
   {
    "duration": 376,
    "start_time": "2023-03-11T12:38:01.538Z"
   },
   {
    "duration": 232,
    "start_time": "2023-03-11T12:38:01.921Z"
   },
   {
    "duration": 330,
    "start_time": "2023-03-11T12:38:02.155Z"
   },
   {
    "duration": 186,
    "start_time": "2023-03-11T12:38:02.488Z"
   },
   {
    "duration": 6,
    "start_time": "2023-03-11T12:38:02.678Z"
   },
   {
    "duration": 161,
    "start_time": "2023-03-11T12:38:02.685Z"
   },
   {
    "duration": 5,
    "start_time": "2023-03-11T12:38:02.848Z"
   },
   {
    "duration": 321,
    "start_time": "2023-03-11T12:38:02.856Z"
   },
   {
    "duration": 386,
    "start_time": "2023-03-11T12:38:03.179Z"
   },
   {
    "duration": 12,
    "start_time": "2023-03-11T12:38:03.567Z"
   },
   {
    "duration": 10,
    "start_time": "2023-03-11T12:38:03.581Z"
   },
   {
    "duration": 62,
    "start_time": "2023-03-11T12:38:03.593Z"
   },
   {
    "duration": 14,
    "start_time": "2023-03-11T12:38:03.657Z"
   },
   {
    "duration": 77,
    "start_time": "2023-03-11T12:44:22.859Z"
   },
   {
    "duration": 14,
    "start_time": "2023-03-11T12:44:35.434Z"
   },
   {
    "duration": 3,
    "start_time": "2023-03-11T12:44:57.350Z"
   },
   {
    "duration": 37,
    "start_time": "2023-03-11T12:44:57.355Z"
   },
   {
    "duration": 5,
    "start_time": "2023-03-11T12:44:57.394Z"
   },
   {
    "duration": 15,
    "start_time": "2023-03-11T12:44:57.400Z"
   },
   {
    "duration": 18,
    "start_time": "2023-03-11T12:44:57.417Z"
   },
   {
    "duration": 62,
    "start_time": "2023-03-11T12:44:57.440Z"
   },
   {
    "duration": 283,
    "start_time": "2023-03-11T12:44:57.504Z"
   },
   {
    "duration": 211,
    "start_time": "2023-03-11T12:44:57.789Z"
   },
   {
    "duration": 276,
    "start_time": "2023-03-11T12:44:58.002Z"
   },
   {
    "duration": 287,
    "start_time": "2023-03-11T12:44:58.279Z"
   },
   {
    "duration": 210,
    "start_time": "2023-03-11T12:44:58.567Z"
   },
   {
    "duration": 351,
    "start_time": "2023-03-11T12:44:58.778Z"
   },
   {
    "duration": 128,
    "start_time": "2023-03-11T12:44:59.134Z"
   },
   {
    "duration": 5,
    "start_time": "2023-03-11T12:44:59.265Z"
   },
   {
    "duration": 162,
    "start_time": "2023-03-11T12:44:59.271Z"
   },
   {
    "duration": 6,
    "start_time": "2023-03-11T12:44:59.435Z"
   },
   {
    "duration": 248,
    "start_time": "2023-03-11T12:44:59.442Z"
   },
   {
    "duration": 308,
    "start_time": "2023-03-11T12:44:59.692Z"
   },
   {
    "duration": 24,
    "start_time": "2023-03-11T12:45:00.002Z"
   },
   {
    "duration": 16,
    "start_time": "2023-03-11T12:45:00.028Z"
   },
   {
    "duration": 30,
    "start_time": "2023-03-11T12:45:00.046Z"
   },
   {
    "duration": 13,
    "start_time": "2023-03-11T12:45:00.077Z"
   },
   {
    "duration": 27,
    "start_time": "2023-03-11T12:45:44.106Z"
   },
   {
    "duration": 4,
    "start_time": "2023-03-11T12:45:51.956Z"
   },
   {
    "duration": 42,
    "start_time": "2023-03-11T12:45:51.962Z"
   },
   {
    "duration": 8,
    "start_time": "2023-03-11T12:45:52.006Z"
   },
   {
    "duration": 20,
    "start_time": "2023-03-11T12:45:52.017Z"
   },
   {
    "duration": 25,
    "start_time": "2023-03-11T12:45:52.040Z"
   },
   {
    "duration": 89,
    "start_time": "2023-03-11T12:45:52.068Z"
   },
   {
    "duration": 356,
    "start_time": "2023-03-11T12:45:52.159Z"
   },
   {
    "duration": 231,
    "start_time": "2023-03-11T12:45:52.516Z"
   },
   {
    "duration": 232,
    "start_time": "2023-03-11T12:45:52.749Z"
   },
   {
    "duration": 367,
    "start_time": "2023-03-11T12:45:52.983Z"
   },
   {
    "duration": 227,
    "start_time": "2023-03-11T12:45:53.352Z"
   },
   {
    "duration": 374,
    "start_time": "2023-03-11T12:45:53.581Z"
   },
   {
    "duration": 149,
    "start_time": "2023-03-11T12:45:53.957Z"
   },
   {
    "duration": 12,
    "start_time": "2023-03-11T12:45:54.110Z"
   },
   {
    "duration": 300,
    "start_time": "2023-03-11T12:45:54.127Z"
   },
   {
    "duration": 11,
    "start_time": "2023-03-11T12:45:54.429Z"
   },
   {
    "duration": 243,
    "start_time": "2023-03-11T12:45:54.448Z"
   },
   {
    "duration": 316,
    "start_time": "2023-03-11T12:45:54.694Z"
   },
   {
    "duration": 17,
    "start_time": "2023-03-11T12:45:55.012Z"
   },
   {
    "duration": 55,
    "start_time": "2023-03-11T12:45:55.030Z"
   },
   {
    "duration": 28,
    "start_time": "2023-03-11T12:45:55.087Z"
   },
   {
    "duration": 18,
    "start_time": "2023-03-11T12:45:55.117Z"
   },
   {
    "duration": 72,
    "start_time": "2023-03-11T13:15:31.765Z"
   },
   {
    "duration": 82,
    "start_time": "2023-03-11T13:21:02.961Z"
   },
   {
    "duration": 92,
    "start_time": "2023-03-11T13:22:02.472Z"
   },
   {
    "duration": 97,
    "start_time": "2023-03-11T13:44:24.730Z"
   },
   {
    "duration": 91,
    "start_time": "2023-03-11T13:44:42.825Z"
   },
   {
    "duration": 95,
    "start_time": "2023-03-11T13:46:01.033Z"
   },
   {
    "duration": 104,
    "start_time": "2023-03-11T13:49:57.324Z"
   },
   {
    "duration": 97,
    "start_time": "2023-03-11T13:50:04.583Z"
   },
   {
    "duration": 94,
    "start_time": "2023-03-11T13:50:52.686Z"
   },
   {
    "duration": 98,
    "start_time": "2023-03-11T13:56:28.719Z"
   },
   {
    "duration": 102,
    "start_time": "2023-03-11T13:58:16.104Z"
   },
   {
    "duration": 127,
    "start_time": "2023-03-11T14:02:20.505Z"
   },
   {
    "duration": 96,
    "start_time": "2023-03-11T14:02:37.090Z"
   },
   {
    "duration": 92,
    "start_time": "2023-03-11T14:02:54.538Z"
   },
   {
    "duration": 86,
    "start_time": "2023-03-11T14:04:14.035Z"
   },
   {
    "duration": 374,
    "start_time": "2023-03-11T14:04:28.872Z"
   },
   {
    "duration": 102,
    "start_time": "2023-03-11T14:05:38.107Z"
   },
   {
    "duration": 98,
    "start_time": "2023-03-11T14:08:08.537Z"
   },
   {
    "duration": 98,
    "start_time": "2023-03-11T14:08:33.360Z"
   },
   {
    "duration": 104,
    "start_time": "2023-03-11T14:08:58.801Z"
   },
   {
    "duration": 96,
    "start_time": "2023-03-11T14:09:45.955Z"
   },
   {
    "duration": 4,
    "start_time": "2023-03-11T14:09:56.500Z"
   },
   {
    "duration": 38,
    "start_time": "2023-03-11T14:09:56.506Z"
   },
   {
    "duration": 6,
    "start_time": "2023-03-11T14:09:56.546Z"
   },
   {
    "duration": 13,
    "start_time": "2023-03-11T14:09:56.553Z"
   },
   {
    "duration": 13,
    "start_time": "2023-03-11T14:09:56.567Z"
   },
   {
    "duration": 84,
    "start_time": "2023-03-11T14:09:56.605Z"
   },
   {
    "duration": 281,
    "start_time": "2023-03-11T14:09:56.690Z"
   },
   {
    "duration": 203,
    "start_time": "2023-03-11T14:09:56.973Z"
   },
   {
    "duration": 203,
    "start_time": "2023-03-11T14:09:57.177Z"
   },
   {
    "duration": 328,
    "start_time": "2023-03-11T14:09:57.382Z"
   },
   {
    "duration": 232,
    "start_time": "2023-03-11T14:09:57.712Z"
   },
   {
    "duration": 290,
    "start_time": "2023-03-11T14:09:57.945Z"
   },
   {
    "duration": 144,
    "start_time": "2023-03-11T14:09:58.238Z"
   },
   {
    "duration": 6,
    "start_time": "2023-03-11T14:09:58.384Z"
   },
   {
    "duration": 168,
    "start_time": "2023-03-11T14:09:58.392Z"
   },
   {
    "duration": 4,
    "start_time": "2023-03-11T14:09:58.561Z"
   },
   {
    "duration": 262,
    "start_time": "2023-03-11T14:09:58.568Z"
   },
   {
    "duration": 326,
    "start_time": "2023-03-11T14:09:58.833Z"
   },
   {
    "duration": 11,
    "start_time": "2023-03-11T14:09:59.161Z"
   },
   {
    "duration": 30,
    "start_time": "2023-03-11T14:09:59.174Z"
   },
   {
    "duration": 47,
    "start_time": "2023-03-11T14:09:59.206Z"
   },
   {
    "duration": 15,
    "start_time": "2023-03-11T14:09:59.255Z"
   },
   {
    "duration": 10,
    "start_time": "2023-03-11T14:12:47.678Z"
   },
   {
    "duration": 125,
    "start_time": "2023-03-11T14:13:20.393Z"
   },
   {
    "duration": 121,
    "start_time": "2023-03-11T14:13:35.841Z"
   },
   {
    "duration": 112,
    "start_time": "2023-03-11T14:13:53.786Z"
   },
   {
    "duration": 7,
    "start_time": "2023-03-11T14:19:23.746Z"
   },
   {
    "duration": 11,
    "start_time": "2023-03-11T14:19:35.706Z"
   },
   {
    "duration": 8,
    "start_time": "2023-03-11T14:19:41.147Z"
   },
   {
    "duration": 7,
    "start_time": "2023-03-11T14:21:49.698Z"
   },
   {
    "duration": 106,
    "start_time": "2023-03-11T14:23:04.030Z"
   },
   {
    "duration": 8,
    "start_time": "2023-03-11T14:23:27.541Z"
   },
   {
    "duration": 10,
    "start_time": "2023-03-11T14:23:42.650Z"
   },
   {
    "duration": 17,
    "start_time": "2023-03-11T14:24:33.661Z"
   },
   {
    "duration": 22,
    "start_time": "2023-03-11T14:24:50.688Z"
   },
   {
    "duration": 21,
    "start_time": "2023-03-11T14:25:17.689Z"
   },
   {
    "duration": 23,
    "start_time": "2023-03-11T14:25:44.164Z"
   },
   {
    "duration": 20,
    "start_time": "2023-03-11T14:26:21.015Z"
   },
   {
    "duration": 12,
    "start_time": "2023-03-11T14:26:44.694Z"
   },
   {
    "duration": 10,
    "start_time": "2023-03-11T14:27:07.952Z"
   },
   {
    "duration": 16,
    "start_time": "2023-03-11T14:27:50.162Z"
   },
   {
    "duration": 15,
    "start_time": "2023-03-11T14:29:58.123Z"
   },
   {
    "duration": 111,
    "start_time": "2023-03-11T14:30:01.681Z"
   },
   {
    "duration": 15,
    "start_time": "2023-03-11T14:30:03.563Z"
   },
   {
    "duration": 4,
    "start_time": "2023-03-11T14:39:56.081Z"
   },
   {
    "duration": 68,
    "start_time": "2023-03-11T14:39:56.088Z"
   },
   {
    "duration": 6,
    "start_time": "2023-03-11T14:39:56.158Z"
   },
   {
    "duration": 22,
    "start_time": "2023-03-11T14:39:56.166Z"
   },
   {
    "duration": 18,
    "start_time": "2023-03-11T14:39:56.190Z"
   },
   {
    "duration": 94,
    "start_time": "2023-03-11T14:39:56.210Z"
   },
   {
    "duration": 15,
    "start_time": "2023-03-11T14:39:56.305Z"
   },
   {
    "duration": 312,
    "start_time": "2023-03-11T14:39:56.322Z"
   },
   {
    "duration": 218,
    "start_time": "2023-03-11T14:39:56.636Z"
   },
   {
    "duration": 204,
    "start_time": "2023-03-11T14:39:56.856Z"
   },
   {
    "duration": 312,
    "start_time": "2023-03-11T14:39:57.062Z"
   },
   {
    "duration": 225,
    "start_time": "2023-03-11T14:39:57.376Z"
   },
   {
    "duration": 359,
    "start_time": "2023-03-11T14:39:57.604Z"
   },
   {
    "duration": 264,
    "start_time": "2023-03-11T14:39:57.965Z"
   },
   {
    "duration": 6,
    "start_time": "2023-03-11T14:39:58.231Z"
   },
   {
    "duration": 161,
    "start_time": "2023-03-11T14:39:58.240Z"
   },
   {
    "duration": 5,
    "start_time": "2023-03-11T14:39:58.403Z"
   },
   {
    "duration": 248,
    "start_time": "2023-03-11T14:39:58.422Z"
   },
   {
    "duration": 307,
    "start_time": "2023-03-11T14:39:58.672Z"
   },
   {
    "duration": 13,
    "start_time": "2023-03-11T14:39:58.981Z"
   },
   {
    "duration": 8,
    "start_time": "2023-03-11T14:39:58.996Z"
   },
   {
    "duration": 31,
    "start_time": "2023-03-11T14:39:59.020Z"
   },
   {
    "duration": 14,
    "start_time": "2023-03-11T14:39:59.053Z"
   },
   {
    "duration": 209,
    "start_time": "2023-03-11T14:42:57.798Z"
   },
   {
    "duration": 213,
    "start_time": "2023-03-11T14:43:58.157Z"
   },
   {
    "duration": 193,
    "start_time": "2023-03-11T14:45:01.380Z"
   },
   {
    "duration": 209,
    "start_time": "2023-03-11T14:45:31.819Z"
   },
   {
    "duration": 243,
    "start_time": "2023-03-11T14:45:42.931Z"
   },
   {
    "duration": 13,
    "start_time": "2023-03-11T14:46:29.279Z"
   },
   {
    "duration": 259,
    "start_time": "2023-03-11T14:46:42.105Z"
   },
   {
    "duration": 206,
    "start_time": "2023-03-11T14:47:39.005Z"
   },
   {
    "duration": 220,
    "start_time": "2023-03-11T14:47:46.112Z"
   },
   {
    "duration": 240,
    "start_time": "2023-03-11T14:48:06.958Z"
   },
   {
    "duration": 5,
    "start_time": "2023-03-11T14:48:17.497Z"
   },
   {
    "duration": 5,
    "start_time": "2023-03-11T14:48:20.400Z"
   },
   {
    "duration": 54,
    "start_time": "2023-03-11T14:48:20.413Z"
   },
   {
    "duration": 8,
    "start_time": "2023-03-11T14:48:20.470Z"
   },
   {
    "duration": 19,
    "start_time": "2023-03-11T14:48:20.482Z"
   },
   {
    "duration": 21,
    "start_time": "2023-03-11T14:48:20.504Z"
   },
   {
    "duration": 114,
    "start_time": "2023-03-11T14:48:20.528Z"
   },
   {
    "duration": 16,
    "start_time": "2023-03-11T14:48:20.645Z"
   },
   {
    "duration": 333,
    "start_time": "2023-03-11T14:48:20.663Z"
   },
   {
    "duration": 248,
    "start_time": "2023-03-11T14:48:20.998Z"
   },
   {
    "duration": 293,
    "start_time": "2023-03-11T14:48:21.249Z"
   },
   {
    "duration": 323,
    "start_time": "2023-03-11T14:48:21.545Z"
   },
   {
    "duration": 267,
    "start_time": "2023-03-11T14:48:21.870Z"
   },
   {
    "duration": 514,
    "start_time": "2023-03-11T14:48:22.140Z"
   },
   {
    "duration": 171,
    "start_time": "2023-03-11T14:48:22.657Z"
   },
   {
    "duration": 6,
    "start_time": "2023-03-11T14:48:22.831Z"
   },
   {
    "duration": 189,
    "start_time": "2023-03-11T14:48:22.840Z"
   },
   {
    "duration": 6,
    "start_time": "2023-03-11T14:48:23.031Z"
   },
   {
    "duration": 290,
    "start_time": "2023-03-11T14:48:23.039Z"
   },
   {
    "duration": 448,
    "start_time": "2023-03-11T14:48:23.331Z"
   },
   {
    "duration": 13,
    "start_time": "2023-03-11T14:48:23.782Z"
   },
   {
    "duration": 33,
    "start_time": "2023-03-11T14:48:23.797Z"
   },
   {
    "duration": 47,
    "start_time": "2023-03-11T14:48:23.834Z"
   },
   {
    "duration": 47,
    "start_time": "2023-03-11T14:48:23.883Z"
   },
   {
    "duration": 316,
    "start_time": "2023-03-11T14:49:53.275Z"
   },
   {
    "duration": 214,
    "start_time": "2023-03-11T14:53:26.668Z"
   },
   {
    "duration": 323,
    "start_time": "2023-03-11T14:54:44.969Z"
   },
   {
    "duration": 328,
    "start_time": "2023-03-11T14:55:21.855Z"
   },
   {
    "duration": 421,
    "start_time": "2023-03-11T14:56:09.422Z"
   },
   {
    "duration": 364,
    "start_time": "2023-03-11T14:58:02.445Z"
   },
   {
    "duration": 441,
    "start_time": "2023-03-11T14:58:11.565Z"
   },
   {
    "duration": 454,
    "start_time": "2023-03-11T14:58:36.577Z"
   },
   {
    "duration": 323,
    "start_time": "2023-03-11T14:59:35.041Z"
   },
   {
    "duration": 346,
    "start_time": "2023-03-11T15:00:30.430Z"
   },
   {
    "duration": 241,
    "start_time": "2023-03-11T15:03:05.929Z"
   },
   {
    "duration": 249,
    "start_time": "2023-03-11T15:03:16.482Z"
   },
   {
    "duration": 253,
    "start_time": "2023-03-11T15:06:24.518Z"
   },
   {
    "duration": 401,
    "start_time": "2023-03-11T15:06:46.557Z"
   },
   {
    "duration": 282,
    "start_time": "2023-03-11T15:06:56.570Z"
   },
   {
    "duration": 275,
    "start_time": "2023-03-11T15:07:11.440Z"
   },
   {
    "duration": 329,
    "start_time": "2023-03-11T15:08:08.244Z"
   },
   {
    "duration": 360,
    "start_time": "2023-03-11T15:08:13.054Z"
   },
   {
    "duration": 273,
    "start_time": "2023-03-11T15:08:17.320Z"
   },
   {
    "duration": 280,
    "start_time": "2023-03-11T15:08:23.511Z"
   },
   {
    "duration": 256,
    "start_time": "2023-03-11T15:08:29.079Z"
   },
   {
    "duration": 276,
    "start_time": "2023-03-11T15:08:36.143Z"
   },
   {
    "duration": 314,
    "start_time": "2023-03-11T15:09:04.944Z"
   },
   {
    "duration": 278,
    "start_time": "2023-03-11T15:09:12.252Z"
   },
   {
    "duration": 254,
    "start_time": "2023-03-11T15:09:55.382Z"
   },
   {
    "duration": 367,
    "start_time": "2023-03-11T15:10:00.312Z"
   },
   {
    "duration": 239,
    "start_time": "2023-03-11T15:10:38.310Z"
   },
   {
    "duration": 351,
    "start_time": "2023-03-11T15:13:21.880Z"
   },
   {
    "duration": 429,
    "start_time": "2023-03-11T15:13:32.593Z"
   },
   {
    "duration": 684,
    "start_time": "2023-03-11T15:15:49.790Z"
   },
   {
    "duration": 409,
    "start_time": "2023-03-11T15:16:31.143Z"
   },
   {
    "duration": 215,
    "start_time": "2023-03-11T15:18:26.187Z"
   },
   {
    "duration": 156,
    "start_time": "2023-03-11T15:20:59.885Z"
   },
   {
    "duration": 174,
    "start_time": "2023-03-11T15:21:07.878Z"
   },
   {
    "duration": 238,
    "start_time": "2023-03-11T15:21:15.448Z"
   },
   {
    "duration": 221,
    "start_time": "2023-03-11T15:21:22.585Z"
   },
   {
    "duration": 153,
    "start_time": "2023-03-11T15:21:33.618Z"
   },
   {
    "duration": 153,
    "start_time": "2023-03-11T15:22:11.438Z"
   },
   {
    "duration": 153,
    "start_time": "2023-03-11T15:22:16.838Z"
   },
   {
    "duration": 139,
    "start_time": "2023-03-11T15:22:24.152Z"
   },
   {
    "duration": 146,
    "start_time": "2023-03-11T15:22:30.672Z"
   },
   {
    "duration": 141,
    "start_time": "2023-03-11T15:22:46.465Z"
   },
   {
    "duration": 163,
    "start_time": "2023-03-11T15:23:33.848Z"
   },
   {
    "duration": 150,
    "start_time": "2023-03-11T15:23:44.638Z"
   },
   {
    "duration": 151,
    "start_time": "2023-03-11T15:23:56.743Z"
   },
   {
    "duration": 167,
    "start_time": "2023-03-11T15:24:35.777Z"
   },
   {
    "duration": 164,
    "start_time": "2023-03-11T15:24:52.566Z"
   },
   {
    "duration": 217,
    "start_time": "2023-03-11T15:25:04.893Z"
   },
   {
    "duration": 145,
    "start_time": "2023-03-11T15:25:16.954Z"
   },
   {
    "duration": 176,
    "start_time": "2023-03-11T15:25:38.800Z"
   },
   {
    "duration": 143,
    "start_time": "2023-03-11T15:26:05.625Z"
   },
   {
    "duration": 159,
    "start_time": "2023-03-11T15:26:50.372Z"
   },
   {
    "duration": 173,
    "start_time": "2023-03-11T15:26:57.713Z"
   },
   {
    "duration": 103,
    "start_time": "2023-03-11T15:40:45.694Z"
   },
   {
    "duration": 115,
    "start_time": "2023-03-11T15:41:09.353Z"
   },
   {
    "duration": 6,
    "start_time": "2023-03-11T15:41:40.178Z"
   },
   {
    "duration": 5,
    "start_time": "2023-03-11T18:02:09.439Z"
   },
   {
    "duration": 47,
    "start_time": "2023-03-11T18:02:09.447Z"
   },
   {
    "duration": 6,
    "start_time": "2023-03-11T18:02:09.496Z"
   },
   {
    "duration": 15,
    "start_time": "2023-03-11T18:02:09.506Z"
   },
   {
    "duration": 19,
    "start_time": "2023-03-11T18:02:09.524Z"
   },
   {
    "duration": 105,
    "start_time": "2023-03-11T18:02:09.545Z"
   },
   {
    "duration": 10,
    "start_time": "2023-03-11T18:02:09.653Z"
   },
   {
    "duration": 20,
    "start_time": "2023-03-11T18:02:09.665Z"
   },
   {
    "duration": 400,
    "start_time": "2023-03-11T18:02:09.687Z"
   },
   {
    "duration": 291,
    "start_time": "2023-03-11T18:02:10.090Z"
   },
   {
    "duration": 378,
    "start_time": "2023-03-11T18:02:10.384Z"
   },
   {
    "duration": 363,
    "start_time": "2023-03-11T18:02:10.764Z"
   },
   {
    "duration": 265,
    "start_time": "2023-03-11T18:02:11.132Z"
   },
   {
    "duration": 470,
    "start_time": "2023-03-11T18:02:11.399Z"
   },
   {
    "duration": 345,
    "start_time": "2023-03-11T18:02:11.870Z"
   },
   {
    "duration": 6,
    "start_time": "2023-03-11T18:02:12.217Z"
   },
   {
    "duration": 174,
    "start_time": "2023-03-11T18:02:12.225Z"
   },
   {
    "duration": 5,
    "start_time": "2023-03-11T18:02:12.401Z"
   },
   {
    "duration": 254,
    "start_time": "2023-03-11T18:02:12.408Z"
   },
   {
    "duration": 354,
    "start_time": "2023-03-11T18:02:12.664Z"
   },
   {
    "duration": 16,
    "start_time": "2023-03-11T18:02:13.021Z"
   },
   {
    "duration": 19,
    "start_time": "2023-03-11T18:02:13.039Z"
   },
   {
    "duration": 43,
    "start_time": "2023-03-11T18:02:13.061Z"
   },
   {
    "duration": 22,
    "start_time": "2023-03-11T18:02:13.106Z"
   },
   {
    "duration": 59,
    "start_time": "2023-03-13T17:37:04.822Z"
   },
   {
    "duration": 1417,
    "start_time": "2023-03-13T17:37:09.452Z"
   },
   {
    "duration": 92,
    "start_time": "2023-03-13T17:37:10.871Z"
   },
   {
    "duration": 8,
    "start_time": "2023-03-13T17:37:10.965Z"
   },
   {
    "duration": 51,
    "start_time": "2023-03-13T17:37:10.975Z"
   },
   {
    "duration": 15,
    "start_time": "2023-03-13T17:37:11.029Z"
   },
   {
    "duration": 188,
    "start_time": "2023-03-13T17:37:11.046Z"
   },
   {
    "duration": 9,
    "start_time": "2023-03-13T17:37:11.235Z"
   },
   {
    "duration": 15,
    "start_time": "2023-03-13T17:37:11.246Z"
   },
   {
    "duration": 326,
    "start_time": "2023-03-13T17:37:11.262Z"
   },
   {
    "duration": 342,
    "start_time": "2023-03-13T17:37:11.590Z"
   },
   {
    "duration": 246,
    "start_time": "2023-03-13T17:37:11.934Z"
   },
   {
    "duration": 393,
    "start_time": "2023-03-13T17:37:12.182Z"
   },
   {
    "duration": 258,
    "start_time": "2023-03-13T17:37:12.577Z"
   },
   {
    "duration": 420,
    "start_time": "2023-03-13T17:37:12.839Z"
   },
   {
    "duration": 193,
    "start_time": "2023-03-13T17:37:13.261Z"
   },
   {
    "duration": 5,
    "start_time": "2023-03-13T17:37:13.455Z"
   },
   {
    "duration": 170,
    "start_time": "2023-03-13T17:37:13.462Z"
   },
   {
    "duration": 5,
    "start_time": "2023-03-13T17:37:13.633Z"
   },
   {
    "duration": 229,
    "start_time": "2023-03-13T17:37:13.640Z"
   },
   {
    "duration": 302,
    "start_time": "2023-03-13T17:37:13.872Z"
   },
   {
    "duration": 18,
    "start_time": "2023-03-13T17:37:14.176Z"
   },
   {
    "duration": 21,
    "start_time": "2023-03-13T17:37:14.196Z"
   },
   {
    "duration": 35,
    "start_time": "2023-03-13T17:37:14.219Z"
   },
   {
    "duration": 16,
    "start_time": "2023-03-13T17:37:14.257Z"
   },
   {
    "duration": 254,
    "start_time": "2023-03-13T17:37:35.713Z"
   },
   {
    "duration": 310,
    "start_time": "2023-03-13T17:37:41.205Z"
   },
   {
    "duration": 241,
    "start_time": "2023-03-13T17:37:47.726Z"
   },
   {
    "duration": 224,
    "start_time": "2023-03-13T17:40:21.451Z"
   },
   {
    "duration": 303,
    "start_time": "2023-03-13T17:40:29.705Z"
   },
   {
    "duration": 355,
    "start_time": "2023-03-13T17:44:11.690Z"
   },
   {
    "duration": 236,
    "start_time": "2023-03-13T17:46:08.113Z"
   },
   {
    "duration": 276,
    "start_time": "2023-03-13T17:47:11.897Z"
   },
   {
    "duration": 367,
    "start_time": "2023-03-13T17:55:33.710Z"
   },
   {
    "duration": 159,
    "start_time": "2023-03-13T17:58:10.500Z"
   },
   {
    "duration": 170,
    "start_time": "2023-03-13T17:58:58.067Z"
   },
   {
    "duration": 4,
    "start_time": "2023-03-13T18:46:03.700Z"
   },
   {
    "duration": 37,
    "start_time": "2023-03-13T18:46:03.706Z"
   },
   {
    "duration": 5,
    "start_time": "2023-03-13T18:46:03.745Z"
   },
   {
    "duration": 12,
    "start_time": "2023-03-13T18:46:03.752Z"
   },
   {
    "duration": 14,
    "start_time": "2023-03-13T18:46:03.765Z"
   },
   {
    "duration": 95,
    "start_time": "2023-03-13T18:46:03.781Z"
   },
   {
    "duration": 6,
    "start_time": "2023-03-13T18:46:03.877Z"
   },
   {
    "duration": 20,
    "start_time": "2023-03-13T18:46:03.885Z"
   },
   {
    "duration": 314,
    "start_time": "2023-03-13T18:46:03.908Z"
   },
   {
    "duration": 275,
    "start_time": "2023-03-13T18:46:04.224Z"
   },
   {
    "duration": 319,
    "start_time": "2023-03-13T18:46:04.501Z"
   },
   {
    "duration": 334,
    "start_time": "2023-03-13T18:46:04.822Z"
   },
   {
    "duration": 245,
    "start_time": "2023-03-13T18:46:05.158Z"
   },
   {
    "duration": 368,
    "start_time": "2023-03-13T18:46:05.405Z"
   },
   {
    "duration": 188,
    "start_time": "2023-03-13T18:46:05.774Z"
   },
   {
    "duration": 4,
    "start_time": "2023-03-13T18:46:05.964Z"
   },
   {
    "duration": 164,
    "start_time": "2023-03-13T18:46:05.970Z"
   },
   {
    "duration": 4,
    "start_time": "2023-03-13T18:46:06.135Z"
   },
   {
    "duration": 232,
    "start_time": "2023-03-13T18:46:06.141Z"
   },
   {
    "duration": 323,
    "start_time": "2023-03-13T18:46:06.375Z"
   },
   {
    "duration": 13,
    "start_time": "2023-03-13T18:46:06.699Z"
   },
   {
    "duration": 7,
    "start_time": "2023-03-13T18:46:06.714Z"
   },
   {
    "duration": 28,
    "start_time": "2023-03-13T18:46:06.723Z"
   },
   {
    "duration": 50,
    "start_time": "2023-03-13T18:46:06.754Z"
   },
   {
    "duration": 1142,
    "start_time": "2023-03-14T23:50:21.064Z"
   },
   {
    "duration": 32,
    "start_time": "2023-03-14T23:50:22.208Z"
   },
   {
    "duration": 31,
    "start_time": "2023-03-14T23:50:22.241Z"
   },
   {
    "duration": 30,
    "start_time": "2023-03-14T23:50:22.274Z"
   },
   {
    "duration": 12,
    "start_time": "2023-03-14T23:50:22.306Z"
   },
   {
    "duration": 92,
    "start_time": "2023-03-14T23:50:22.320Z"
   },
   {
    "duration": 6,
    "start_time": "2023-03-14T23:50:22.413Z"
   },
   {
    "duration": 11,
    "start_time": "2023-03-14T23:50:22.421Z"
   },
   {
    "duration": 267,
    "start_time": "2023-03-14T23:50:22.434Z"
   },
   {
    "duration": 304,
    "start_time": "2023-03-14T23:50:22.704Z"
   },
   {
    "duration": 236,
    "start_time": "2023-03-14T23:50:23.009Z"
   },
   {
    "duration": 328,
    "start_time": "2023-03-14T23:50:23.247Z"
   },
   {
    "duration": 228,
    "start_time": "2023-03-14T23:50:23.577Z"
   },
   {
    "duration": 382,
    "start_time": "2023-03-14T23:50:23.807Z"
   },
   {
    "duration": 152,
    "start_time": "2023-03-14T23:50:24.191Z"
   },
   {
    "duration": 4,
    "start_time": "2023-03-14T23:50:24.344Z"
   },
   {
    "duration": 152,
    "start_time": "2023-03-14T23:50:24.350Z"
   },
   {
    "duration": 4,
    "start_time": "2023-03-14T23:50:24.504Z"
   },
   {
    "duration": 214,
    "start_time": "2023-03-14T23:50:24.509Z"
   },
   {
    "duration": 273,
    "start_time": "2023-03-14T23:50:24.725Z"
   },
   {
    "duration": 10,
    "start_time": "2023-03-14T23:50:25.001Z"
   },
   {
    "duration": 7,
    "start_time": "2023-03-14T23:50:25.013Z"
   },
   {
    "duration": 45,
    "start_time": "2023-03-14T23:50:25.022Z"
   },
   {
    "duration": 13,
    "start_time": "2023-03-14T23:50:25.069Z"
   },
   {
    "duration": 3,
    "start_time": "2023-03-15T00:08:42.513Z"
   },
   {
    "duration": 31,
    "start_time": "2023-03-15T00:08:42.758Z"
   },
   {
    "duration": 6,
    "start_time": "2023-03-15T00:08:42.926Z"
   },
   {
    "duration": 12,
    "start_time": "2023-03-15T00:08:43.268Z"
   },
   {
    "duration": 13,
    "start_time": "2023-03-15T00:08:44.774Z"
   },
   {
    "duration": 87,
    "start_time": "2023-03-15T00:08:48.367Z"
   },
   {
    "duration": 101,
    "start_time": "2023-03-15T09:40:09.820Z"
   },
   {
    "duration": 1672,
    "start_time": "2023-03-15T09:40:21.507Z"
   },
   {
    "duration": 97,
    "start_time": "2023-03-15T09:40:23.184Z"
   },
   {
    "duration": 12,
    "start_time": "2023-03-15T09:40:23.283Z"
   },
   {
    "duration": 81,
    "start_time": "2023-03-15T09:40:23.298Z"
   },
   {
    "duration": 42,
    "start_time": "2023-03-15T09:40:23.381Z"
   },
   {
    "duration": 203,
    "start_time": "2023-03-15T09:40:23.429Z"
   },
   {
    "duration": 34,
    "start_time": "2023-03-15T09:40:23.634Z"
   },
   {
    "duration": 6,
    "start_time": "2023-03-15T09:40:23.671Z"
   },
   {
    "duration": 81,
    "start_time": "2023-03-15T09:40:23.679Z"
   },
   {
    "duration": 400,
    "start_time": "2023-03-15T09:40:23.764Z"
   },
   {
    "duration": 464,
    "start_time": "2023-03-15T09:40:24.166Z"
   },
   {
    "duration": 343,
    "start_time": "2023-03-15T09:40:24.632Z"
   },
   {
    "duration": 460,
    "start_time": "2023-03-15T09:40:24.976Z"
   },
   {
    "duration": 309,
    "start_time": "2023-03-15T09:40:25.438Z"
   },
   {
    "duration": 489,
    "start_time": "2023-03-15T09:40:25.749Z"
   },
   {
    "duration": 223,
    "start_time": "2023-03-15T09:40:26.241Z"
   },
   {
    "duration": 21,
    "start_time": "2023-03-15T09:40:26.466Z"
   },
   {
    "duration": 237,
    "start_time": "2023-03-15T09:40:26.489Z"
   },
   {
    "duration": 6,
    "start_time": "2023-03-15T09:40:26.728Z"
   },
   {
    "duration": 321,
    "start_time": "2023-03-15T09:40:26.735Z"
   },
   {
    "duration": 475,
    "start_time": "2023-03-15T09:40:27.058Z"
   },
   {
    "duration": 14,
    "start_time": "2023-03-15T09:40:27.536Z"
   },
   {
    "duration": 32,
    "start_time": "2023-03-15T09:40:27.552Z"
   },
   {
    "duration": 59,
    "start_time": "2023-03-15T09:40:27.589Z"
   },
   {
    "duration": 17,
    "start_time": "2023-03-15T09:40:27.651Z"
   },
   {
    "duration": 11,
    "start_time": "2023-03-15T09:42:54.264Z"
   },
   {
    "duration": 52,
    "start_time": "2023-03-15T09:43:54.511Z"
   },
   {
    "duration": 11,
    "start_time": "2023-03-15T09:44:08.243Z"
   },
   {
    "duration": 25,
    "start_time": "2023-03-15T09:46:14.173Z"
   },
   {
    "duration": 11,
    "start_time": "2023-03-15T09:46:53.418Z"
   },
   {
    "duration": 11,
    "start_time": "2023-03-15T09:48:51.922Z"
   },
   {
    "duration": 9,
    "start_time": "2023-03-15T09:49:33.507Z"
   },
   {
    "duration": 39,
    "start_time": "2023-03-15T09:49:33.525Z"
   },
   {
    "duration": 5,
    "start_time": "2023-03-15T09:49:33.566Z"
   },
   {
    "duration": 71,
    "start_time": "2023-03-15T09:49:33.573Z"
   },
   {
    "duration": 23,
    "start_time": "2023-03-15T09:49:33.646Z"
   },
   {
    "duration": 109,
    "start_time": "2023-03-15T09:49:33.671Z"
   },
   {
    "duration": 27,
    "start_time": "2023-03-15T09:49:33.781Z"
   },
   {
    "duration": 29,
    "start_time": "2023-03-15T09:49:33.810Z"
   },
   {
    "duration": 12,
    "start_time": "2023-03-15T09:49:33.840Z"
   },
   {
    "duration": 17,
    "start_time": "2023-03-15T09:49:33.854Z"
   },
   {
    "duration": 366,
    "start_time": "2023-03-15T09:49:34.499Z"
   },
   {
    "duration": 276,
    "start_time": "2023-03-15T09:49:34.867Z"
   },
   {
    "duration": 346,
    "start_time": "2023-03-15T09:49:35.145Z"
   },
   {
    "duration": 355,
    "start_time": "2023-03-15T09:49:35.501Z"
   },
   {
    "duration": 288,
    "start_time": "2023-03-15T09:49:35.859Z"
   },
   {
    "duration": 483,
    "start_time": "2023-03-15T09:49:36.149Z"
   },
   {
    "duration": 221,
    "start_time": "2023-03-15T09:49:36.634Z"
   },
   {
    "duration": 6,
    "start_time": "2023-03-15T09:49:36.857Z"
   },
   {
    "duration": 232,
    "start_time": "2023-03-15T09:49:36.865Z"
   },
   {
    "duration": 7,
    "start_time": "2023-03-15T09:49:37.100Z"
   },
   {
    "duration": 285,
    "start_time": "2023-03-15T09:49:37.113Z"
   },
   {
    "duration": 401,
    "start_time": "2023-03-15T09:49:37.404Z"
   },
   {
    "duration": 16,
    "start_time": "2023-03-15T09:49:37.811Z"
   },
   {
    "duration": 15,
    "start_time": "2023-03-15T09:49:40.474Z"
   },
   {
    "duration": 62,
    "start_time": "2023-03-15T09:49:40.573Z"
   },
   {
    "duration": 23,
    "start_time": "2023-03-15T09:49:40.637Z"
   },
   {
    "duration": 3,
    "start_time": "2023-03-15T09:52:10.004Z"
   },
   {
    "duration": 5,
    "start_time": "2023-03-15T09:52:14.265Z"
   },
   {
    "duration": 84,
    "start_time": "2023-03-15T09:52:14.272Z"
   },
   {
    "duration": 6,
    "start_time": "2023-03-15T09:52:14.358Z"
   },
   {
    "duration": 21,
    "start_time": "2023-03-15T09:52:14.366Z"
   },
   {
    "duration": 39,
    "start_time": "2023-03-15T09:52:14.405Z"
   },
   {
    "duration": 85,
    "start_time": "2023-03-15T09:52:14.446Z"
   },
   {
    "duration": 9,
    "start_time": "2023-03-15T09:52:14.533Z"
   },
   {
    "duration": 14,
    "start_time": "2023-03-15T09:52:14.544Z"
   },
   {
    "duration": 13,
    "start_time": "2023-03-15T09:52:14.559Z"
   },
   {
    "duration": 3,
    "start_time": "2023-03-15T09:52:14.574Z"
   },
   {
    "duration": 356,
    "start_time": "2023-03-15T09:52:14.580Z"
   },
   {
    "duration": 287,
    "start_time": "2023-03-15T09:52:14.938Z"
   },
   {
    "duration": 265,
    "start_time": "2023-03-15T09:52:15.227Z"
   },
   {
    "duration": 345,
    "start_time": "2023-03-15T09:52:15.503Z"
   },
   {
    "duration": 275,
    "start_time": "2023-03-15T09:52:15.850Z"
   },
   {
    "duration": 518,
    "start_time": "2023-03-15T09:52:16.127Z"
   },
   {
    "duration": 216,
    "start_time": "2023-03-15T09:52:16.647Z"
   },
   {
    "duration": 23,
    "start_time": "2023-03-15T09:52:16.866Z"
   },
   {
    "duration": 241,
    "start_time": "2023-03-15T09:52:16.895Z"
   },
   {
    "duration": 5,
    "start_time": "2023-03-15T09:52:17.138Z"
   },
   {
    "duration": 281,
    "start_time": "2023-03-15T09:52:17.145Z"
   },
   {
    "duration": 390,
    "start_time": "2023-03-15T09:52:17.428Z"
   },
   {
    "duration": 13,
    "start_time": "2023-03-15T09:52:17.821Z"
   },
   {
    "duration": 17,
    "start_time": "2023-03-15T09:52:17.835Z"
   },
   {
    "duration": 51,
    "start_time": "2023-03-15T09:52:17.854Z"
   },
   {
    "duration": 21,
    "start_time": "2023-03-15T09:52:17.909Z"
   },
   {
    "duration": 88,
    "start_time": "2023-03-15T09:57:26.342Z"
   },
   {
    "duration": 4,
    "start_time": "2023-03-15T09:59:22.128Z"
   },
   {
    "duration": 34,
    "start_time": "2023-03-15T09:59:22.155Z"
   },
   {
    "duration": 12,
    "start_time": "2023-03-15T09:59:22.193Z"
   },
   {
    "duration": 25,
    "start_time": "2023-03-15T09:59:22.231Z"
   },
   {
    "duration": 42,
    "start_time": "2023-03-15T09:59:22.259Z"
   },
   {
    "duration": 126,
    "start_time": "2023-03-15T09:59:22.303Z"
   },
   {
    "duration": 13,
    "start_time": "2023-03-15T09:59:22.436Z"
   },
   {
    "duration": 14,
    "start_time": "2023-03-15T09:59:22.452Z"
   },
   {
    "duration": 389,
    "start_time": "2023-03-15T09:59:22.468Z"
   },
   {
    "duration": 310,
    "start_time": "2023-03-15T09:59:22.860Z"
   },
   {
    "duration": 278,
    "start_time": "2023-03-15T09:59:23.173Z"
   },
   {
    "duration": 450,
    "start_time": "2023-03-15T09:59:23.455Z"
   },
   {
    "duration": 278,
    "start_time": "2023-03-15T09:59:23.908Z"
   },
   {
    "duration": 417,
    "start_time": "2023-03-15T09:59:24.188Z"
   },
   {
    "duration": 208,
    "start_time": "2023-03-15T09:59:24.607Z"
   },
   {
    "duration": 7,
    "start_time": "2023-03-15T09:59:24.822Z"
   },
   {
    "duration": 197,
    "start_time": "2023-03-15T09:59:24.831Z"
   },
   {
    "duration": 6,
    "start_time": "2023-03-15T09:59:25.030Z"
   },
   {
    "duration": 270,
    "start_time": "2023-03-15T09:59:25.039Z"
   },
   {
    "duration": 440,
    "start_time": "2023-03-15T09:59:25.316Z"
   },
   {
    "duration": 12,
    "start_time": "2023-03-15T09:59:25.758Z"
   },
   {
    "duration": 74,
    "start_time": "2023-03-15T09:59:25.772Z"
   },
   {
    "duration": 63,
    "start_time": "2023-03-15T09:59:25.849Z"
   },
   {
    "duration": 22,
    "start_time": "2023-03-15T09:59:25.925Z"
   },
   {
    "duration": 87,
    "start_time": "2023-03-15T10:17:15.780Z"
   },
   {
    "duration": 15,
    "start_time": "2023-03-15T10:17:31.146Z"
   },
   {
    "duration": 24,
    "start_time": "2023-03-15T10:17:52.066Z"
   },
   {
    "duration": 10,
    "start_time": "2023-03-15T10:18:06.747Z"
   },
   {
    "duration": 40,
    "start_time": "2023-03-15T10:18:41.993Z"
   },
   {
    "duration": 12,
    "start_time": "2023-03-15T10:19:08.836Z"
   },
   {
    "duration": 221,
    "start_time": "2023-03-15T10:23:59.526Z"
   },
   {
    "duration": 324,
    "start_time": "2023-03-15T10:24:06.785Z"
   },
   {
    "duration": 194,
    "start_time": "2023-03-15T10:27:03.908Z"
   },
   {
    "duration": 188,
    "start_time": "2023-03-15T10:31:40.410Z"
   },
   {
    "duration": 250,
    "start_time": "2023-03-15T10:32:02.522Z"
   },
   {
    "duration": 255,
    "start_time": "2023-03-15T10:38:05.365Z"
   },
   {
    "duration": 433,
    "start_time": "2023-03-15T10:38:32.501Z"
   },
   {
    "duration": 219,
    "start_time": "2023-03-15T10:39:45.529Z"
   },
   {
    "duration": 385,
    "start_time": "2023-03-15T10:39:47.427Z"
   },
   {
    "duration": 238,
    "start_time": "2023-03-15T10:40:43.719Z"
   },
   {
    "duration": 364,
    "start_time": "2023-03-15T10:40:45.106Z"
   },
   {
    "duration": 317,
    "start_time": "2023-03-15T10:43:11.627Z"
   },
   {
    "duration": 398,
    "start_time": "2023-03-15T10:44:13.327Z"
   },
   {
    "duration": 11,
    "start_time": "2023-03-15T10:45:26.355Z"
   },
   {
    "duration": 9,
    "start_time": "2023-03-15T10:49:17.429Z"
   },
   {
    "duration": 14,
    "start_time": "2023-03-15T10:50:11.801Z"
   },
   {
    "duration": 14,
    "start_time": "2023-03-15T10:54:47.035Z"
   },
   {
    "duration": 10,
    "start_time": "2023-03-15T10:55:06.741Z"
   },
   {
    "duration": 22,
    "start_time": "2023-03-15T10:55:23.902Z"
   },
   {
    "duration": 17,
    "start_time": "2023-03-15T10:55:35.531Z"
   },
   {
    "duration": 15,
    "start_time": "2023-03-15T10:55:56.799Z"
   },
   {
    "duration": 14,
    "start_time": "2023-03-15T10:56:01.857Z"
   },
   {
    "duration": 12,
    "start_time": "2023-03-15T10:57:44.008Z"
   },
   {
    "duration": 32,
    "start_time": "2023-03-15T10:57:51.371Z"
   },
   {
    "duration": 30,
    "start_time": "2023-03-15T10:58:54.841Z"
   },
   {
    "duration": 26,
    "start_time": "2023-03-15T10:59:03.181Z"
   },
   {
    "duration": 15,
    "start_time": "2023-03-15T10:59:12.131Z"
   },
   {
    "duration": 1330,
    "start_time": "2023-03-15T16:39:07.498Z"
   },
   {
    "duration": 81,
    "start_time": "2023-03-15T16:39:08.830Z"
   },
   {
    "duration": 6,
    "start_time": "2023-03-15T16:39:08.913Z"
   },
   {
    "duration": 18,
    "start_time": "2023-03-15T16:39:08.921Z"
   },
   {
    "duration": 12,
    "start_time": "2023-03-15T16:39:08.941Z"
   },
   {
    "duration": 164,
    "start_time": "2023-03-15T16:39:08.954Z"
   },
   {
    "duration": 10,
    "start_time": "2023-03-15T16:39:09.119Z"
   },
   {
    "duration": 16,
    "start_time": "2023-03-15T16:39:09.130Z"
   },
   {
    "duration": 25,
    "start_time": "2023-03-15T16:39:09.148Z"
   },
   {
    "duration": 304,
    "start_time": "2023-03-15T16:39:09.177Z"
   },
   {
    "duration": 319,
    "start_time": "2023-03-15T16:39:09.483Z"
   },
   {
    "duration": 232,
    "start_time": "2023-03-15T16:39:09.804Z"
   },
   {
    "duration": 396,
    "start_time": "2023-03-15T16:39:10.038Z"
   },
   {
    "duration": 235,
    "start_time": "2023-03-15T16:39:10.435Z"
   },
   {
    "duration": 362,
    "start_time": "2023-03-15T16:39:10.672Z"
   },
   {
    "duration": 174,
    "start_time": "2023-03-15T16:39:11.037Z"
   },
   {
    "duration": 4,
    "start_time": "2023-03-15T16:39:11.212Z"
   },
   {
    "duration": 195,
    "start_time": "2023-03-15T16:39:11.218Z"
   },
   {
    "duration": 4,
    "start_time": "2023-03-15T16:39:11.415Z"
   },
   {
    "duration": 229,
    "start_time": "2023-03-15T16:39:11.430Z"
   },
   {
    "duration": 395,
    "start_time": "2023-03-15T16:39:11.660Z"
   },
   {
    "duration": 0,
    "start_time": "2023-03-15T16:39:12.056Z"
   },
   {
    "duration": 0,
    "start_time": "2023-03-15T16:39:12.058Z"
   },
   {
    "duration": 0,
    "start_time": "2023-03-15T16:39:12.067Z"
   },
   {
    "duration": 0,
    "start_time": "2023-03-15T16:39:12.068Z"
   },
   {
    "duration": 890,
    "start_time": "2023-03-15T16:44:59.041Z"
   },
   {
    "duration": 14,
    "start_time": "2023-03-15T16:45:13.216Z"
   },
   {
    "duration": 840,
    "start_time": "2023-03-15T16:45:14.694Z"
   },
   {
    "duration": 13,
    "start_time": "2023-03-15T16:45:25.056Z"
   },
   {
    "duration": 7,
    "start_time": "2023-03-15T16:47:28.378Z"
   },
   {
    "duration": 4,
    "start_time": "2023-03-15T16:48:46.166Z"
   },
   {
    "duration": 12,
    "start_time": "2023-03-15T16:49:15.083Z"
   },
   {
    "duration": 15,
    "start_time": "2023-03-15T16:49:19.986Z"
   },
   {
    "duration": 10,
    "start_time": "2023-03-15T16:49:20.785Z"
   },
   {
    "duration": 5,
    "start_time": "2023-03-15T16:49:21.674Z"
   },
   {
    "duration": 10,
    "start_time": "2023-03-15T16:49:22.438Z"
   },
   {
    "duration": 3,
    "start_time": "2023-03-15T16:49:27.679Z"
   },
   {
    "duration": 45,
    "start_time": "2023-03-15T16:49:27.684Z"
   },
   {
    "duration": 5,
    "start_time": "2023-03-15T16:49:27.730Z"
   },
   {
    "duration": 21,
    "start_time": "2023-03-15T16:49:27.738Z"
   },
   {
    "duration": 19,
    "start_time": "2023-03-15T16:49:27.761Z"
   },
   {
    "duration": 66,
    "start_time": "2023-03-15T16:49:27.781Z"
   },
   {
    "duration": 9,
    "start_time": "2023-03-15T16:49:27.848Z"
   },
   {
    "duration": 11,
    "start_time": "2023-03-15T16:49:27.858Z"
   },
   {
    "duration": 9,
    "start_time": "2023-03-15T16:49:27.872Z"
   },
   {
    "duration": 22,
    "start_time": "2023-03-15T16:49:27.882Z"
   },
   {
    "duration": 10,
    "start_time": "2023-03-15T16:49:27.906Z"
   },
   {
    "duration": 23,
    "start_time": "2023-03-15T16:49:27.917Z"
   },
   {
    "duration": 285,
    "start_time": "2023-03-15T16:49:27.942Z"
   },
   {
    "duration": 223,
    "start_time": "2023-03-15T16:49:28.230Z"
   },
   {
    "duration": 295,
    "start_time": "2023-03-15T16:49:28.455Z"
   },
   {
    "duration": 338,
    "start_time": "2023-03-15T16:49:28.752Z"
   },
   {
    "duration": 253,
    "start_time": "2023-03-15T16:49:29.092Z"
   },
   {
    "duration": 361,
    "start_time": "2023-03-15T16:49:29.347Z"
   },
   {
    "duration": 153,
    "start_time": "2023-03-15T16:49:29.709Z"
   },
   {
    "duration": 4,
    "start_time": "2023-03-15T16:49:29.863Z"
   },
   {
    "duration": 195,
    "start_time": "2023-03-15T16:49:29.869Z"
   },
   {
    "duration": 4,
    "start_time": "2023-03-15T16:49:30.066Z"
   },
   {
    "duration": 249,
    "start_time": "2023-03-15T16:49:30.073Z"
   },
   {
    "duration": 280,
    "start_time": "2023-03-15T16:49:30.330Z"
   },
   {
    "duration": 0,
    "start_time": "2023-03-15T16:49:30.612Z"
   },
   {
    "duration": 0,
    "start_time": "2023-03-15T16:49:30.613Z"
   },
   {
    "duration": 0,
    "start_time": "2023-03-15T16:49:30.614Z"
   },
   {
    "duration": 0,
    "start_time": "2023-03-15T16:49:30.616Z"
   },
   {
    "duration": 733,
    "start_time": "2023-03-15T16:50:11.754Z"
   },
   {
    "duration": 11,
    "start_time": "2023-03-15T16:50:49.184Z"
   },
   {
    "duration": 13,
    "start_time": "2023-03-15T16:50:49.810Z"
   },
   {
    "duration": 785,
    "start_time": "2023-03-15T16:50:51.458Z"
   },
   {
    "duration": 13,
    "start_time": "2023-03-15T16:50:58.522Z"
   },
   {
    "duration": 16,
    "start_time": "2023-03-15T16:51:41.964Z"
   },
   {
    "duration": 837,
    "start_time": "2023-03-15T16:52:21.023Z"
   },
   {
    "duration": 20,
    "start_time": "2023-03-15T16:53:17.285Z"
   },
   {
    "duration": 21,
    "start_time": "2023-03-15T16:53:26.443Z"
   },
   {
    "duration": 778,
    "start_time": "2023-03-15T16:53:32.622Z"
   },
   {
    "duration": 20,
    "start_time": "2023-03-15T16:53:46.072Z"
   },
   {
    "duration": 14,
    "start_time": "2023-03-15T16:53:54.874Z"
   },
   {
    "duration": 18,
    "start_time": "2023-03-15T16:54:00.035Z"
   },
   {
    "duration": 52,
    "start_time": "2023-03-15T16:54:05.994Z"
   },
   {
    "duration": 712,
    "start_time": "2023-03-15T16:54:15.155Z"
   },
   {
    "duration": 12,
    "start_time": "2023-03-15T16:56:43.136Z"
   },
   {
    "duration": 16,
    "start_time": "2023-03-15T17:00:13.433Z"
   },
   {
    "duration": 845,
    "start_time": "2023-03-15T17:00:36.429Z"
   },
   {
    "duration": 902,
    "start_time": "2023-03-15T17:01:06.908Z"
   },
   {
    "duration": 10,
    "start_time": "2023-03-15T17:01:20.316Z"
   },
   {
    "duration": 48,
    "start_time": "2023-03-15T17:01:31.300Z"
   },
   {
    "duration": 863,
    "start_time": "2023-03-15T17:01:37.395Z"
   },
   {
    "duration": 13,
    "start_time": "2023-03-15T17:01:43.174Z"
   },
   {
    "duration": 16,
    "start_time": "2023-03-15T17:02:36.159Z"
   },
   {
    "duration": 10,
    "start_time": "2023-03-15T17:02:45.698Z"
   },
   {
    "duration": 11,
    "start_time": "2023-03-15T17:02:57.556Z"
   },
   {
    "duration": 11,
    "start_time": "2023-03-15T17:04:33.873Z"
   },
   {
    "duration": 11,
    "start_time": "2023-03-15T17:04:46.462Z"
   },
   {
    "duration": 1374,
    "start_time": "2023-03-15T17:05:03.375Z"
   },
   {
    "duration": 4,
    "start_time": "2023-03-15T17:05:18.602Z"
   },
   {
    "duration": 12,
    "start_time": "2023-03-15T17:05:23.720Z"
   },
   {
    "duration": 13,
    "start_time": "2023-03-15T17:06:47.590Z"
   },
   {
    "duration": 10,
    "start_time": "2023-03-15T17:06:59.696Z"
   },
   {
    "duration": 11,
    "start_time": "2023-03-15T17:07:07.972Z"
   },
   {
    "duration": 8,
    "start_time": "2023-03-15T17:07:08.623Z"
   },
   {
    "duration": 5,
    "start_time": "2023-03-15T17:07:12.829Z"
   },
   {
    "duration": 12,
    "start_time": "2023-03-15T17:07:13.631Z"
   },
   {
    "duration": 5,
    "start_time": "2023-03-15T17:07:27.771Z"
   },
   {
    "duration": 11,
    "start_time": "2023-03-15T17:07:28.655Z"
   },
   {
    "duration": 9,
    "start_time": "2023-03-15T17:08:01.153Z"
   },
   {
    "duration": 14,
    "start_time": "2023-03-15T17:08:07.113Z"
   },
   {
    "duration": 16,
    "start_time": "2023-03-15T17:08:07.563Z"
   },
   {
    "duration": 5,
    "start_time": "2023-03-15T17:08:08.422Z"
   },
   {
    "duration": 9,
    "start_time": "2023-03-15T17:08:09.277Z"
   },
   {
    "duration": 3,
    "start_time": "2023-03-15T17:08:17.489Z"
   },
   {
    "duration": 46,
    "start_time": "2023-03-15T17:08:17.496Z"
   },
   {
    "duration": 6,
    "start_time": "2023-03-15T17:08:17.545Z"
   },
   {
    "duration": 17,
    "start_time": "2023-03-15T17:08:17.554Z"
   },
   {
    "duration": 15,
    "start_time": "2023-03-15T17:08:17.575Z"
   },
   {
    "duration": 67,
    "start_time": "2023-03-15T17:08:17.591Z"
   },
   {
    "duration": 8,
    "start_time": "2023-03-15T17:08:17.660Z"
   },
   {
    "duration": 13,
    "start_time": "2023-03-15T17:08:17.670Z"
   },
   {
    "duration": 20,
    "start_time": "2023-03-15T17:08:17.685Z"
   },
   {
    "duration": 14,
    "start_time": "2023-03-15T17:08:17.707Z"
   },
   {
    "duration": 4,
    "start_time": "2023-03-15T17:08:17.731Z"
   },
   {
    "duration": 15,
    "start_time": "2023-03-15T17:08:17.737Z"
   },
   {
    "duration": 326,
    "start_time": "2023-03-15T17:08:17.754Z"
   },
   {
    "duration": 254,
    "start_time": "2023-03-15T17:08:18.084Z"
   },
   {
    "duration": 280,
    "start_time": "2023-03-15T17:08:18.339Z"
   },
   {
    "duration": 409,
    "start_time": "2023-03-15T17:08:18.621Z"
   },
   {
    "duration": 303,
    "start_time": "2023-03-15T17:08:19.032Z"
   },
   {
    "duration": 536,
    "start_time": "2023-03-15T17:08:19.337Z"
   },
   {
    "duration": 207,
    "start_time": "2023-03-15T17:08:19.875Z"
   },
   {
    "duration": 5,
    "start_time": "2023-03-15T17:08:20.085Z"
   },
   {
    "duration": 210,
    "start_time": "2023-03-15T17:08:20.091Z"
   },
   {
    "duration": 8,
    "start_time": "2023-03-15T17:08:20.303Z"
   },
   {
    "duration": 260,
    "start_time": "2023-03-15T17:08:20.313Z"
   },
   {
    "duration": 323,
    "start_time": "2023-03-15T17:08:20.576Z"
   },
   {
    "duration": 0,
    "start_time": "2023-03-15T17:08:20.901Z"
   },
   {
    "duration": 0,
    "start_time": "2023-03-15T17:08:20.903Z"
   },
   {
    "duration": 0,
    "start_time": "2023-03-15T17:08:20.905Z"
   },
   {
    "duration": 0,
    "start_time": "2023-03-15T17:08:20.906Z"
   },
   {
    "duration": 4,
    "start_time": "2023-03-15T17:13:13.651Z"
   },
   {
    "duration": 42,
    "start_time": "2023-03-15T17:13:13.657Z"
   },
   {
    "duration": 5,
    "start_time": "2023-03-15T17:13:13.701Z"
   },
   {
    "duration": 15,
    "start_time": "2023-03-15T17:13:13.709Z"
   },
   {
    "duration": 18,
    "start_time": "2023-03-15T17:13:13.725Z"
   },
   {
    "duration": 66,
    "start_time": "2023-03-15T17:13:13.745Z"
   },
   {
    "duration": 8,
    "start_time": "2023-03-15T17:13:13.813Z"
   },
   {
    "duration": 9,
    "start_time": "2023-03-15T17:13:13.823Z"
   },
   {
    "duration": 9,
    "start_time": "2023-03-15T17:13:13.834Z"
   },
   {
    "duration": 18,
    "start_time": "2023-03-15T17:13:13.846Z"
   },
   {
    "duration": 5,
    "start_time": "2023-03-15T17:13:13.865Z"
   },
   {
    "duration": 14,
    "start_time": "2023-03-15T17:13:13.871Z"
   },
   {
    "duration": 312,
    "start_time": "2023-03-15T17:13:13.887Z"
   },
   {
    "duration": 225,
    "start_time": "2023-03-15T17:13:14.201Z"
   },
   {
    "duration": 232,
    "start_time": "2023-03-15T17:13:14.431Z"
   },
   {
    "duration": 303,
    "start_time": "2023-03-15T17:13:14.665Z"
   },
   {
    "duration": 246,
    "start_time": "2023-03-15T17:13:14.970Z"
   },
   {
    "duration": 385,
    "start_time": "2023-03-15T17:13:15.218Z"
   },
   {
    "duration": 182,
    "start_time": "2023-03-15T17:13:15.605Z"
   },
   {
    "duration": 5,
    "start_time": "2023-03-15T17:13:15.789Z"
   },
   {
    "duration": 215,
    "start_time": "2023-03-15T17:13:15.797Z"
   },
   {
    "duration": 5,
    "start_time": "2023-03-15T17:13:16.015Z"
   },
   {
    "duration": 286,
    "start_time": "2023-03-15T17:13:16.036Z"
   },
   {
    "duration": 263,
    "start_time": "2023-03-15T17:13:16.324Z"
   },
   {
    "duration": 0,
    "start_time": "2023-03-15T17:13:16.590Z"
   },
   {
    "duration": 0,
    "start_time": "2023-03-15T17:13:16.592Z"
   },
   {
    "duration": 0,
    "start_time": "2023-03-15T17:13:16.593Z"
   },
   {
    "duration": 0,
    "start_time": "2023-03-15T17:13:16.594Z"
   },
   {
    "duration": 271,
    "start_time": "2023-03-15T17:14:21.957Z"
   },
   {
    "duration": 237,
    "start_time": "2023-03-15T17:14:55.603Z"
   },
   {
    "duration": 235,
    "start_time": "2023-03-15T17:15:41.453Z"
   },
   {
    "duration": 4,
    "start_time": "2023-03-15T17:19:40.389Z"
   },
   {
    "duration": 52,
    "start_time": "2023-03-15T17:19:40.395Z"
   },
   {
    "duration": 12,
    "start_time": "2023-03-15T17:19:40.449Z"
   },
   {
    "duration": 41,
    "start_time": "2023-03-15T17:19:40.463Z"
   },
   {
    "duration": 40,
    "start_time": "2023-03-15T17:19:40.506Z"
   },
   {
    "duration": 66,
    "start_time": "2023-03-15T17:19:40.548Z"
   },
   {
    "duration": 10,
    "start_time": "2023-03-15T17:19:40.616Z"
   },
   {
    "duration": 18,
    "start_time": "2023-03-15T17:19:40.627Z"
   },
   {
    "duration": 19,
    "start_time": "2023-03-15T17:19:40.647Z"
   },
   {
    "duration": 15,
    "start_time": "2023-03-15T17:19:40.667Z"
   },
   {
    "duration": 12,
    "start_time": "2023-03-15T17:19:40.684Z"
   },
   {
    "duration": 15,
    "start_time": "2023-03-15T17:19:40.698Z"
   },
   {
    "duration": 278,
    "start_time": "2023-03-15T17:19:40.716Z"
   },
   {
    "duration": 240,
    "start_time": "2023-03-15T17:19:40.995Z"
   },
   {
    "duration": 221,
    "start_time": "2023-03-15T17:19:41.236Z"
   },
   {
    "duration": 300,
    "start_time": "2023-03-15T17:19:41.459Z"
   },
   {
    "duration": 246,
    "start_time": "2023-03-15T17:19:41.761Z"
   },
   {
    "duration": 398,
    "start_time": "2023-03-15T17:19:42.009Z"
   },
   {
    "duration": 176,
    "start_time": "2023-03-15T17:19:42.409Z"
   },
   {
    "duration": 4,
    "start_time": "2023-03-15T17:19:42.587Z"
   },
   {
    "duration": 180,
    "start_time": "2023-03-15T17:19:42.593Z"
   },
   {
    "duration": 5,
    "start_time": "2023-03-15T17:19:42.774Z"
   },
   {
    "duration": 330,
    "start_time": "2023-03-15T17:19:42.780Z"
   },
   {
    "duration": 264,
    "start_time": "2023-03-15T17:19:43.111Z"
   },
   {
    "duration": 0,
    "start_time": "2023-03-15T17:19:43.377Z"
   },
   {
    "duration": 0,
    "start_time": "2023-03-15T17:19:43.379Z"
   },
   {
    "duration": 0,
    "start_time": "2023-03-15T17:19:43.380Z"
   },
   {
    "duration": 0,
    "start_time": "2023-03-15T17:19:43.382Z"
   },
   {
    "duration": 253,
    "start_time": "2023-03-15T17:21:42.596Z"
   },
   {
    "duration": 361,
    "start_time": "2023-03-15T17:22:19.823Z"
   },
   {
    "duration": 405,
    "start_time": "2023-03-15T17:22:29.222Z"
   },
   {
    "duration": 48,
    "start_time": "2023-03-15T17:26:41.455Z"
   },
   {
    "duration": 50,
    "start_time": "2023-03-15T17:26:55.909Z"
   },
   {
    "duration": 4,
    "start_time": "2023-03-15T17:27:08.944Z"
   },
   {
    "duration": 6,
    "start_time": "2023-03-15T17:31:19.759Z"
   },
   {
    "duration": 223,
    "start_time": "2023-03-15T17:35:37.984Z"
   },
   {
    "duration": 187,
    "start_time": "2023-03-15T17:36:46.743Z"
   },
   {
    "duration": 200,
    "start_time": "2023-03-15T17:36:58.763Z"
   },
   {
    "duration": 5,
    "start_time": "2023-03-15T17:37:02.262Z"
   },
   {
    "duration": 50,
    "start_time": "2023-03-15T17:37:02.270Z"
   },
   {
    "duration": 5,
    "start_time": "2023-03-15T17:37:02.321Z"
   },
   {
    "duration": 26,
    "start_time": "2023-03-15T17:37:02.328Z"
   },
   {
    "duration": 19,
    "start_time": "2023-03-15T17:37:02.356Z"
   },
   {
    "duration": 78,
    "start_time": "2023-03-15T17:37:02.377Z"
   },
   {
    "duration": 9,
    "start_time": "2023-03-15T17:37:02.457Z"
   },
   {
    "duration": 11,
    "start_time": "2023-03-15T17:37:02.467Z"
   },
   {
    "duration": 13,
    "start_time": "2023-03-15T17:37:02.479Z"
   },
   {
    "duration": 21,
    "start_time": "2023-03-15T17:37:02.494Z"
   },
   {
    "duration": 15,
    "start_time": "2023-03-15T17:37:02.518Z"
   },
   {
    "duration": 26,
    "start_time": "2023-03-15T17:37:02.535Z"
   },
   {
    "duration": 272,
    "start_time": "2023-03-15T17:37:02.562Z"
   },
   {
    "duration": 220,
    "start_time": "2023-03-15T17:37:02.836Z"
   },
   {
    "duration": 234,
    "start_time": "2023-03-15T17:37:03.057Z"
   },
   {
    "duration": 365,
    "start_time": "2023-03-15T17:37:03.293Z"
   },
   {
    "duration": 240,
    "start_time": "2023-03-15T17:37:03.660Z"
   },
   {
    "duration": 454,
    "start_time": "2023-03-15T17:37:03.901Z"
   },
   {
    "duration": 176,
    "start_time": "2023-03-15T17:37:04.356Z"
   },
   {
    "duration": 5,
    "start_time": "2023-03-15T17:37:04.534Z"
   },
   {
    "duration": 181,
    "start_time": "2023-03-15T17:37:04.541Z"
   },
   {
    "duration": 11,
    "start_time": "2023-03-15T17:37:04.723Z"
   },
   {
    "duration": 173,
    "start_time": "2023-03-15T17:37:04.735Z"
   },
   {
    "duration": 5,
    "start_time": "2023-03-15T17:37:04.910Z"
   },
   {
    "duration": 217,
    "start_time": "2023-03-15T17:37:04.916Z"
   },
   {
    "duration": 276,
    "start_time": "2023-03-15T17:37:05.134Z"
   },
   {
    "duration": 0,
    "start_time": "2023-03-15T17:37:05.411Z"
   },
   {
    "duration": 0,
    "start_time": "2023-03-15T17:37:05.413Z"
   },
   {
    "duration": 1,
    "start_time": "2023-03-15T17:37:05.414Z"
   },
   {
    "duration": 0,
    "start_time": "2023-03-15T17:37:05.416Z"
   },
   {
    "duration": 284,
    "start_time": "2023-03-15T18:09:11.383Z"
   },
   {
    "duration": 9,
    "start_time": "2023-03-15T18:10:01.072Z"
   },
   {
    "duration": 297,
    "start_time": "2023-03-15T18:10:40.596Z"
   },
   {
    "duration": 274,
    "start_time": "2023-03-15T18:15:25.020Z"
   },
   {
    "duration": 1052,
    "start_time": "2023-03-15T18:16:50.016Z"
   },
   {
    "duration": 1010,
    "start_time": "2023-03-15T18:33:14.910Z"
   },
   {
    "duration": 279,
    "start_time": "2023-03-15T18:34:39.440Z"
   },
   {
    "duration": 4,
    "start_time": "2023-03-15T18:35:52.226Z"
   },
   {
    "duration": 46,
    "start_time": "2023-03-15T18:35:52.232Z"
   },
   {
    "duration": 5,
    "start_time": "2023-03-15T18:35:52.280Z"
   },
   {
    "duration": 12,
    "start_time": "2023-03-15T18:35:52.288Z"
   },
   {
    "duration": 14,
    "start_time": "2023-03-15T18:35:52.302Z"
   },
   {
    "duration": 92,
    "start_time": "2023-03-15T18:35:52.318Z"
   },
   {
    "duration": 9,
    "start_time": "2023-03-15T18:35:52.411Z"
   },
   {
    "duration": 14,
    "start_time": "2023-03-15T18:35:52.422Z"
   },
   {
    "duration": 12,
    "start_time": "2023-03-15T18:35:52.438Z"
   },
   {
    "duration": 17,
    "start_time": "2023-03-15T18:35:52.452Z"
   },
   {
    "duration": 5,
    "start_time": "2023-03-15T18:35:52.471Z"
   },
   {
    "duration": 17,
    "start_time": "2023-03-15T18:35:52.478Z"
   },
   {
    "duration": 313,
    "start_time": "2023-03-15T18:35:52.497Z"
   },
   {
    "duration": 222,
    "start_time": "2023-03-15T18:35:52.812Z"
   },
   {
    "duration": 232,
    "start_time": "2023-03-15T18:35:53.036Z"
   },
   {
    "duration": 290,
    "start_time": "2023-03-15T18:35:53.270Z"
   },
   {
    "duration": 241,
    "start_time": "2023-03-15T18:35:53.562Z"
   },
   {
    "duration": 382,
    "start_time": "2023-03-15T18:35:53.805Z"
   },
   {
    "duration": 179,
    "start_time": "2023-03-15T18:35:54.189Z"
   },
   {
    "duration": 5,
    "start_time": "2023-03-15T18:35:54.370Z"
   },
   {
    "duration": 261,
    "start_time": "2023-03-15T18:35:54.377Z"
   },
   {
    "duration": 7,
    "start_time": "2023-03-15T18:35:54.640Z"
   },
   {
    "duration": 186,
    "start_time": "2023-03-15T18:35:54.649Z"
   },
   {
    "duration": 4,
    "start_time": "2023-03-15T18:35:54.838Z"
   },
   {
    "duration": 215,
    "start_time": "2023-03-15T18:35:54.844Z"
   },
   {
    "duration": 274,
    "start_time": "2023-03-15T18:35:55.061Z"
   },
   {
    "duration": 9,
    "start_time": "2023-03-15T18:35:55.336Z"
   },
   {
    "duration": 9,
    "start_time": "2023-03-15T18:35:55.347Z"
   },
   {
    "duration": 11,
    "start_time": "2023-03-15T18:35:55.357Z"
   },
   {
    "duration": 0,
    "start_time": "2023-03-15T18:35:55.369Z"
   },
   {
    "duration": 10,
    "start_time": "2023-03-15T18:37:36.243Z"
   },
   {
    "duration": 11,
    "start_time": "2023-03-15T18:38:23.437Z"
   },
   {
    "duration": 11,
    "start_time": "2023-03-15T18:40:10.320Z"
   },
   {
    "duration": 13,
    "start_time": "2023-03-15T18:40:19.270Z"
   },
   {
    "duration": 13,
    "start_time": "2023-03-15T18:40:49.599Z"
   },
   {
    "duration": 30,
    "start_time": "2023-03-15T18:41:56.210Z"
   },
   {
    "duration": 31,
    "start_time": "2023-03-15T18:42:04.880Z"
   },
   {
    "duration": 14,
    "start_time": "2023-03-15T18:42:59.245Z"
   },
   {
    "duration": 5,
    "start_time": "2023-03-15T18:44:17.545Z"
   },
   {
    "duration": 45,
    "start_time": "2023-03-15T18:44:17.553Z"
   },
   {
    "duration": 6,
    "start_time": "2023-03-15T18:44:17.599Z"
   },
   {
    "duration": 20,
    "start_time": "2023-03-15T18:44:17.608Z"
   },
   {
    "duration": 23,
    "start_time": "2023-03-15T18:44:17.630Z"
   },
   {
    "duration": 67,
    "start_time": "2023-03-15T18:44:17.655Z"
   },
   {
    "duration": 10,
    "start_time": "2023-03-15T18:44:17.724Z"
   },
   {
    "duration": 9,
    "start_time": "2023-03-15T18:44:17.736Z"
   },
   {
    "duration": 13,
    "start_time": "2023-03-15T18:44:17.747Z"
   },
   {
    "duration": 26,
    "start_time": "2023-03-15T18:44:17.762Z"
   },
   {
    "duration": 4,
    "start_time": "2023-03-15T18:44:17.790Z"
   },
   {
    "duration": 15,
    "start_time": "2023-03-15T18:44:17.795Z"
   },
   {
    "duration": 350,
    "start_time": "2023-03-15T18:44:17.811Z"
   },
   {
    "duration": 213,
    "start_time": "2023-03-15T18:44:18.163Z"
   },
   {
    "duration": 234,
    "start_time": "2023-03-15T18:44:18.377Z"
   },
   {
    "duration": 338,
    "start_time": "2023-03-15T18:44:18.612Z"
   },
   {
    "duration": 240,
    "start_time": "2023-03-15T18:44:18.951Z"
   },
   {
    "duration": 402,
    "start_time": "2023-03-15T18:44:19.193Z"
   },
   {
    "duration": 175,
    "start_time": "2023-03-15T18:44:19.597Z"
   },
   {
    "duration": 4,
    "start_time": "2023-03-15T18:44:19.774Z"
   },
   {
    "duration": 177,
    "start_time": "2023-03-15T18:44:19.780Z"
   },
   {
    "duration": 5,
    "start_time": "2023-03-15T18:44:19.959Z"
   },
   {
    "duration": 176,
    "start_time": "2023-03-15T18:44:19.966Z"
   },
   {
    "duration": 4,
    "start_time": "2023-03-15T18:44:20.145Z"
   },
   {
    "duration": 236,
    "start_time": "2023-03-15T18:44:20.150Z"
   },
   {
    "duration": 272,
    "start_time": "2023-03-15T18:44:20.388Z"
   },
   {
    "duration": 13,
    "start_time": "2023-03-15T18:44:20.662Z"
   },
   {
    "duration": 11,
    "start_time": "2023-03-15T18:44:20.676Z"
   },
   {
    "duration": 51,
    "start_time": "2023-03-15T18:44:20.689Z"
   },
   {
    "duration": 13,
    "start_time": "2023-03-15T18:44:20.742Z"
   },
   {
    "duration": 3,
    "start_time": "2023-03-15T18:49:54.996Z"
   },
   {
    "duration": 56,
    "start_time": "2023-03-15T18:49:55.001Z"
   },
   {
    "duration": 5,
    "start_time": "2023-03-15T18:49:55.059Z"
   },
   {
    "duration": 38,
    "start_time": "2023-03-15T18:49:55.066Z"
   },
   {
    "duration": 25,
    "start_time": "2023-03-15T18:49:55.107Z"
   },
   {
    "duration": 77,
    "start_time": "2023-03-15T18:49:55.134Z"
   },
   {
    "duration": 12,
    "start_time": "2023-03-15T18:49:55.213Z"
   },
   {
    "duration": 16,
    "start_time": "2023-03-15T18:49:55.227Z"
   },
   {
    "duration": 22,
    "start_time": "2023-03-15T18:49:55.246Z"
   },
   {
    "duration": 18,
    "start_time": "2023-03-15T18:49:55.270Z"
   },
   {
    "duration": 5,
    "start_time": "2023-03-15T18:49:55.289Z"
   },
   {
    "duration": 43,
    "start_time": "2023-03-15T18:49:55.296Z"
   },
   {
    "duration": 286,
    "start_time": "2023-03-15T18:49:55.343Z"
   },
   {
    "duration": 307,
    "start_time": "2023-03-15T18:49:55.631Z"
   },
   {
    "duration": 244,
    "start_time": "2023-03-15T18:49:55.940Z"
   },
   {
    "duration": 310,
    "start_time": "2023-03-15T18:49:56.186Z"
   },
   {
    "duration": 265,
    "start_time": "2023-03-15T18:49:56.498Z"
   },
   {
    "duration": 400,
    "start_time": "2023-03-15T18:49:56.765Z"
   },
   {
    "duration": 193,
    "start_time": "2023-03-15T18:49:57.167Z"
   },
   {
    "duration": 4,
    "start_time": "2023-03-15T18:49:57.362Z"
   },
   {
    "duration": 186,
    "start_time": "2023-03-15T18:49:57.368Z"
   },
   {
    "duration": 6,
    "start_time": "2023-03-15T18:49:57.556Z"
   },
   {
    "duration": 205,
    "start_time": "2023-03-15T18:49:57.564Z"
   },
   {
    "duration": 5,
    "start_time": "2023-03-15T18:49:57.770Z"
   },
   {
    "duration": 219,
    "start_time": "2023-03-15T18:49:57.776Z"
   },
   {
    "duration": 286,
    "start_time": "2023-03-15T18:49:57.996Z"
   },
   {
    "duration": 10,
    "start_time": "2023-03-15T18:49:58.284Z"
   },
   {
    "duration": 9,
    "start_time": "2023-03-15T18:49:58.295Z"
   },
   {
    "duration": 51,
    "start_time": "2023-03-15T18:49:58.306Z"
   },
   {
    "duration": 13,
    "start_time": "2023-03-15T18:49:58.358Z"
   },
   {
    "duration": 7,
    "start_time": "2023-03-15T19:50:40.918Z"
   },
   {
    "duration": 6,
    "start_time": "2023-03-15T19:52:08.446Z"
   },
   {
    "duration": 12,
    "start_time": "2023-03-15T19:52:21.084Z"
   },
   {
    "duration": 10,
    "start_time": "2023-03-15T19:57:37.939Z"
   },
   {
    "duration": 7,
    "start_time": "2023-03-15T19:57:45.891Z"
   },
   {
    "duration": 7,
    "start_time": "2023-03-15T19:57:52.114Z"
   },
   {
    "duration": 9,
    "start_time": "2023-03-15T19:57:57.497Z"
   },
   {
    "duration": 8,
    "start_time": "2023-03-15T19:59:01.327Z"
   },
   {
    "duration": 4,
    "start_time": "2023-03-15T19:59:24.514Z"
   },
   {
    "duration": 41,
    "start_time": "2023-03-15T19:59:24.520Z"
   },
   {
    "duration": 5,
    "start_time": "2023-03-15T19:59:24.562Z"
   },
   {
    "duration": 14,
    "start_time": "2023-03-15T19:59:24.569Z"
   },
   {
    "duration": 26,
    "start_time": "2023-03-15T19:59:24.585Z"
   },
   {
    "duration": 65,
    "start_time": "2023-03-15T19:59:24.613Z"
   },
   {
    "duration": 9,
    "start_time": "2023-03-15T19:59:24.679Z"
   },
   {
    "duration": 10,
    "start_time": "2023-03-15T19:59:24.690Z"
   },
   {
    "duration": 9,
    "start_time": "2023-03-15T19:59:24.702Z"
   },
   {
    "duration": 9,
    "start_time": "2023-03-15T19:59:24.713Z"
   },
   {
    "duration": 12,
    "start_time": "2023-03-15T19:59:24.726Z"
   },
   {
    "duration": 4,
    "start_time": "2023-03-15T19:59:24.740Z"
   },
   {
    "duration": 11,
    "start_time": "2023-03-15T19:59:24.746Z"
   },
   {
    "duration": 282,
    "start_time": "2023-03-15T19:59:24.759Z"
   },
   {
    "duration": 213,
    "start_time": "2023-03-15T19:59:25.042Z"
   },
   {
    "duration": 218,
    "start_time": "2023-03-15T19:59:25.257Z"
   },
   {
    "duration": 274,
    "start_time": "2023-03-15T19:59:25.476Z"
   },
   {
    "duration": 336,
    "start_time": "2023-03-15T19:59:25.752Z"
   },
   {
    "duration": 369,
    "start_time": "2023-03-15T19:59:26.089Z"
   },
   {
    "duration": 202,
    "start_time": "2023-03-15T19:59:26.460Z"
   },
   {
    "duration": 6,
    "start_time": "2023-03-15T19:59:26.665Z"
   },
   {
    "duration": 241,
    "start_time": "2023-03-15T19:59:26.673Z"
   },
   {
    "duration": 6,
    "start_time": "2023-03-15T19:59:26.915Z"
   },
   {
    "duration": 181,
    "start_time": "2023-03-15T19:59:26.930Z"
   },
   {
    "duration": 5,
    "start_time": "2023-03-15T19:59:27.112Z"
   },
   {
    "duration": 213,
    "start_time": "2023-03-15T19:59:27.118Z"
   },
   {
    "duration": 279,
    "start_time": "2023-03-15T19:59:27.333Z"
   },
   {
    "duration": 21,
    "start_time": "2023-03-15T19:59:27.614Z"
   },
   {
    "duration": 11,
    "start_time": "2023-03-15T19:59:27.639Z"
   },
   {
    "duration": 36,
    "start_time": "2023-03-15T19:59:27.652Z"
   },
   {
    "duration": 14,
    "start_time": "2023-03-15T19:59:27.689Z"
   },
   {
    "duration": 1029,
    "start_time": "2023-03-16T16:21:27.072Z"
   },
   {
    "duration": 34,
    "start_time": "2023-03-16T16:21:28.103Z"
   },
   {
    "duration": 7,
    "start_time": "2023-03-16T16:21:28.138Z"
   },
   {
    "duration": 14,
    "start_time": "2023-03-16T16:21:28.146Z"
   },
   {
    "duration": 11,
    "start_time": "2023-03-16T16:21:28.162Z"
   },
   {
    "duration": 63,
    "start_time": "2023-03-16T16:21:28.174Z"
   },
   {
    "duration": 10,
    "start_time": "2023-03-16T16:21:28.239Z"
   },
   {
    "duration": 7,
    "start_time": "2023-03-16T16:21:28.250Z"
   },
   {
    "duration": 9,
    "start_time": "2023-03-16T16:21:28.259Z"
   },
   {
    "duration": 10,
    "start_time": "2023-03-16T16:21:28.270Z"
   },
   {
    "duration": 13,
    "start_time": "2023-03-16T16:21:28.282Z"
   },
   {
    "duration": 6,
    "start_time": "2023-03-16T16:21:28.297Z"
   },
   {
    "duration": 12,
    "start_time": "2023-03-16T16:21:28.341Z"
   },
   {
    "duration": 296,
    "start_time": "2023-03-16T16:21:28.357Z"
   },
   {
    "duration": 279,
    "start_time": "2023-03-16T16:21:28.655Z"
   },
   {
    "duration": 211,
    "start_time": "2023-03-16T16:21:28.936Z"
   },
   {
    "duration": 298,
    "start_time": "2023-03-16T16:21:29.148Z"
   },
   {
    "duration": 224,
    "start_time": "2023-03-16T16:21:29.447Z"
   },
   {
    "duration": 312,
    "start_time": "2023-03-16T16:21:29.672Z"
   },
   {
    "duration": 166,
    "start_time": "2023-03-16T16:21:29.986Z"
   },
   {
    "duration": 4,
    "start_time": "2023-03-16T16:21:30.154Z"
   },
   {
    "duration": 192,
    "start_time": "2023-03-16T16:21:30.159Z"
   },
   {
    "duration": 5,
    "start_time": "2023-03-16T16:21:30.353Z"
   },
   {
    "duration": 207,
    "start_time": "2023-03-16T16:21:30.359Z"
   },
   {
    "duration": 4,
    "start_time": "2023-03-16T16:21:30.567Z"
   },
   {
    "duration": 381,
    "start_time": "2023-03-16T16:21:30.573Z"
   },
   {
    "duration": 0,
    "start_time": "2023-03-16T16:21:30.955Z"
   },
   {
    "duration": 0,
    "start_time": "2023-03-16T16:21:30.956Z"
   },
   {
    "duration": 0,
    "start_time": "2023-03-16T16:21:30.957Z"
   },
   {
    "duration": 0,
    "start_time": "2023-03-16T16:21:30.958Z"
   },
   {
    "duration": 281,
    "start_time": "2023-03-16T16:22:28.310Z"
   },
   {
    "duration": 272,
    "start_time": "2023-03-16T16:22:33.734Z"
   },
   {
    "duration": 1134,
    "start_time": "2023-03-16T16:22:52.015Z"
   },
   {
    "duration": 36,
    "start_time": "2023-03-16T16:22:53.151Z"
   },
   {
    "duration": 6,
    "start_time": "2023-03-16T16:22:53.188Z"
   },
   {
    "duration": 14,
    "start_time": "2023-03-16T16:22:53.196Z"
   },
   {
    "duration": 12,
    "start_time": "2023-03-16T16:22:53.212Z"
   },
   {
    "duration": 62,
    "start_time": "2023-03-16T16:22:53.225Z"
   },
   {
    "duration": 9,
    "start_time": "2023-03-16T16:22:53.288Z"
   },
   {
    "duration": 7,
    "start_time": "2023-03-16T16:22:53.298Z"
   },
   {
    "duration": 11,
    "start_time": "2023-03-16T16:22:53.306Z"
   },
   {
    "duration": 10,
    "start_time": "2023-03-16T16:22:53.320Z"
   },
   {
    "duration": 13,
    "start_time": "2023-03-16T16:22:53.331Z"
   },
   {
    "duration": 4,
    "start_time": "2023-03-16T16:22:53.345Z"
   },
   {
    "duration": 12,
    "start_time": "2023-03-16T16:22:53.351Z"
   },
   {
    "duration": 274,
    "start_time": "2023-03-16T16:22:53.366Z"
   },
   {
    "duration": 291,
    "start_time": "2023-03-16T16:22:53.642Z"
   },
   {
    "duration": 244,
    "start_time": "2023-03-16T16:22:53.939Z"
   },
   {
    "duration": 322,
    "start_time": "2023-03-16T16:22:54.185Z"
   },
   {
    "duration": 236,
    "start_time": "2023-03-16T16:22:54.509Z"
   },
   {
    "duration": 357,
    "start_time": "2023-03-16T16:22:54.746Z"
   },
   {
    "duration": 181,
    "start_time": "2023-03-16T16:22:55.105Z"
   },
   {
    "duration": 4,
    "start_time": "2023-03-16T16:22:55.287Z"
   },
   {
    "duration": 176,
    "start_time": "2023-03-16T16:22:55.293Z"
   },
   {
    "duration": 5,
    "start_time": "2023-03-16T16:22:55.470Z"
   },
   {
    "duration": 172,
    "start_time": "2023-03-16T16:22:55.477Z"
   },
   {
    "duration": 4,
    "start_time": "2023-03-16T16:22:55.650Z"
   },
   {
    "duration": 284,
    "start_time": "2023-03-16T16:22:55.656Z"
   },
   {
    "duration": 10,
    "start_time": "2023-03-16T16:22:55.942Z"
   },
   {
    "duration": 9,
    "start_time": "2023-03-16T16:22:55.955Z"
   },
   {
    "duration": 29,
    "start_time": "2023-03-16T16:22:55.965Z"
   },
   {
    "duration": 44,
    "start_time": "2023-03-16T16:22:55.996Z"
   },
   {
    "duration": 1209,
    "start_time": "2023-03-16T16:57:54.167Z"
   },
   {
    "duration": 85,
    "start_time": "2023-03-16T16:57:55.378Z"
   },
   {
    "duration": 6,
    "start_time": "2023-03-16T16:57:55.464Z"
   },
   {
    "duration": 26,
    "start_time": "2023-03-16T16:57:55.472Z"
   },
   {
    "duration": 28,
    "start_time": "2023-03-16T16:57:55.500Z"
   },
   {
    "duration": 153,
    "start_time": "2023-03-16T16:57:55.530Z"
   },
   {
    "duration": 9,
    "start_time": "2023-03-16T16:57:55.685Z"
   },
   {
    "duration": 6,
    "start_time": "2023-03-16T16:57:55.696Z"
   },
   {
    "duration": 9,
    "start_time": "2023-03-16T16:57:55.703Z"
   },
   {
    "duration": 10,
    "start_time": "2023-03-16T16:57:55.713Z"
   },
   {
    "duration": 10,
    "start_time": "2023-03-16T16:57:55.725Z"
   },
   {
    "duration": 3,
    "start_time": "2023-03-16T16:57:55.736Z"
   },
   {
    "duration": 11,
    "start_time": "2023-03-16T16:57:55.741Z"
   },
   {
    "duration": 270,
    "start_time": "2023-03-16T16:57:55.755Z"
   },
   {
    "duration": 276,
    "start_time": "2023-03-16T16:57:56.027Z"
   },
   {
    "duration": 200,
    "start_time": "2023-03-16T16:57:56.304Z"
   },
   {
    "duration": 352,
    "start_time": "2023-03-16T16:57:56.506Z"
   },
   {
    "duration": 245,
    "start_time": "2023-03-16T16:57:56.859Z"
   },
   {
    "duration": 372,
    "start_time": "2023-03-16T16:57:57.106Z"
   },
   {
    "duration": 165,
    "start_time": "2023-03-16T16:57:57.480Z"
   },
   {
    "duration": 4,
    "start_time": "2023-03-16T16:57:57.646Z"
   },
   {
    "duration": 153,
    "start_time": "2023-03-16T16:57:57.651Z"
   },
   {
    "duration": 5,
    "start_time": "2023-03-16T16:57:57.806Z"
   },
   {
    "duration": 189,
    "start_time": "2023-03-16T16:57:57.813Z"
   },
   {
    "duration": 4,
    "start_time": "2023-03-16T16:57:58.004Z"
   },
   {
    "duration": 269,
    "start_time": "2023-03-16T16:57:58.009Z"
   },
   {
    "duration": 8,
    "start_time": "2023-03-16T16:57:58.280Z"
   },
   {
    "duration": 8,
    "start_time": "2023-03-16T16:57:58.290Z"
   },
   {
    "duration": 44,
    "start_time": "2023-03-16T16:57:58.299Z"
   },
   {
    "duration": 12,
    "start_time": "2023-03-16T16:57:58.344Z"
   }
  ],
  "kernelspec": {
   "display_name": "Python 3 (ipykernel)",
   "language": "python",
   "name": "python3"
  },
  "language_info": {
   "codemirror_mode": {
    "name": "ipython",
    "version": 3
   },
   "file_extension": ".py",
   "mimetype": "text/x-python",
   "name": "python",
   "nbconvert_exporter": "python",
   "pygments_lexer": "ipython3",
   "version": "3.9.5"
  },
  "toc": {
   "base_numbering": 1,
   "nav_menu": {},
   "number_sections": true,
   "sideBar": true,
   "skip_h1_title": true,
   "title_cell": "Table of Contents",
   "title_sidebar": "Contents",
   "toc_cell": false,
   "toc_position": {
    "height": "calc(100% - 180px)",
    "left": "10px",
    "top": "150px",
    "width": "309.097px"
   },
   "toc_section_display": true,
   "toc_window_display": true
  }
 },
 "nbformat": 4,
 "nbformat_minor": 2
}
