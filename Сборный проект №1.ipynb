{
 "cells": [
  {
   "cell_type": "markdown",
   "metadata": {},
   "source": [
    "\n",
    "# Краткое описание задачи    \n",
    "\n",
    "Изучим из открытых источников данные о продажах игр, оценки пользователей и экспертов, жанры и платформы. Выясним определяющие успешность игры закономерности, для планирования успешной рекламной компании.\n"
   ]
  },
  {
   "cell_type": "markdown",
   "metadata": {},
   "source": [
    "# Предобработка данных"
   ]
  },
  {
   "cell_type": "code",
   "execution_count": 321,
   "metadata": {},
   "outputs": [],
   "source": [
    "import pandas as pd\n",
    "import numpy as np\n",
    "import seaborn as sns\n",
    "import matplotlib.pyplot as plt\n",
    "df = pd.read_csv('/datasets/games.csv')"
   ]
  },
  {
   "cell_type": "code",
   "execution_count": 322,
   "metadata": {},
   "outputs": [
    {
     "data": {
      "text/html": [
       "<div>\n",
       "<style scoped>\n",
       "    .dataframe tbody tr th:only-of-type {\n",
       "        vertical-align: middle;\n",
       "    }\n",
       "\n",
       "    .dataframe tbody tr th {\n",
       "        vertical-align: top;\n",
       "    }\n",
       "\n",
       "    .dataframe thead th {\n",
       "        text-align: right;\n",
       "    }\n",
       "</style>\n",
       "<table border=\"1\" class=\"dataframe\">\n",
       "  <thead>\n",
       "    <tr style=\"text-align: right;\">\n",
       "      <th></th>\n",
       "      <th>Name</th>\n",
       "      <th>Platform</th>\n",
       "      <th>Year_of_Release</th>\n",
       "      <th>Genre</th>\n",
       "      <th>NA_sales</th>\n",
       "      <th>EU_sales</th>\n",
       "      <th>JP_sales</th>\n",
       "      <th>Other_sales</th>\n",
       "      <th>Critic_Score</th>\n",
       "      <th>User_Score</th>\n",
       "      <th>Rating</th>\n",
       "    </tr>\n",
       "  </thead>\n",
       "  <tbody>\n",
       "    <tr>\n",
       "      <th>0</th>\n",
       "      <td>Wii Sports</td>\n",
       "      <td>Wii</td>\n",
       "      <td>2006.0</td>\n",
       "      <td>Sports</td>\n",
       "      <td>41.36</td>\n",
       "      <td>28.96</td>\n",
       "      <td>3.77</td>\n",
       "      <td>8.45</td>\n",
       "      <td>76.0</td>\n",
       "      <td>8</td>\n",
       "      <td>E</td>\n",
       "    </tr>\n",
       "    <tr>\n",
       "      <th>1</th>\n",
       "      <td>Super Mario Bros.</td>\n",
       "      <td>NES</td>\n",
       "      <td>1985.0</td>\n",
       "      <td>Platform</td>\n",
       "      <td>29.08</td>\n",
       "      <td>3.58</td>\n",
       "      <td>6.81</td>\n",
       "      <td>0.77</td>\n",
       "      <td>NaN</td>\n",
       "      <td>NaN</td>\n",
       "      <td>NaN</td>\n",
       "    </tr>\n",
       "    <tr>\n",
       "      <th>2</th>\n",
       "      <td>Mario Kart Wii</td>\n",
       "      <td>Wii</td>\n",
       "      <td>2008.0</td>\n",
       "      <td>Racing</td>\n",
       "      <td>15.68</td>\n",
       "      <td>12.76</td>\n",
       "      <td>3.79</td>\n",
       "      <td>3.29</td>\n",
       "      <td>82.0</td>\n",
       "      <td>8.3</td>\n",
       "      <td>E</td>\n",
       "    </tr>\n",
       "    <tr>\n",
       "      <th>3</th>\n",
       "      <td>Wii Sports Resort</td>\n",
       "      <td>Wii</td>\n",
       "      <td>2009.0</td>\n",
       "      <td>Sports</td>\n",
       "      <td>15.61</td>\n",
       "      <td>10.93</td>\n",
       "      <td>3.28</td>\n",
       "      <td>2.95</td>\n",
       "      <td>80.0</td>\n",
       "      <td>8</td>\n",
       "      <td>E</td>\n",
       "    </tr>\n",
       "    <tr>\n",
       "      <th>4</th>\n",
       "      <td>Pokemon Red/Pokemon Blue</td>\n",
       "      <td>GB</td>\n",
       "      <td>1996.0</td>\n",
       "      <td>Role-Playing</td>\n",
       "      <td>11.27</td>\n",
       "      <td>8.89</td>\n",
       "      <td>10.22</td>\n",
       "      <td>1.00</td>\n",
       "      <td>NaN</td>\n",
       "      <td>NaN</td>\n",
       "      <td>NaN</td>\n",
       "    </tr>\n",
       "    <tr>\n",
       "      <th>5</th>\n",
       "      <td>Tetris</td>\n",
       "      <td>GB</td>\n",
       "      <td>1989.0</td>\n",
       "      <td>Puzzle</td>\n",
       "      <td>23.20</td>\n",
       "      <td>2.26</td>\n",
       "      <td>4.22</td>\n",
       "      <td>0.58</td>\n",
       "      <td>NaN</td>\n",
       "      <td>NaN</td>\n",
       "      <td>NaN</td>\n",
       "    </tr>\n",
       "    <tr>\n",
       "      <th>6</th>\n",
       "      <td>New Super Mario Bros.</td>\n",
       "      <td>DS</td>\n",
       "      <td>2006.0</td>\n",
       "      <td>Platform</td>\n",
       "      <td>11.28</td>\n",
       "      <td>9.14</td>\n",
       "      <td>6.50</td>\n",
       "      <td>2.88</td>\n",
       "      <td>89.0</td>\n",
       "      <td>8.5</td>\n",
       "      <td>E</td>\n",
       "    </tr>\n",
       "    <tr>\n",
       "      <th>7</th>\n",
       "      <td>Wii Play</td>\n",
       "      <td>Wii</td>\n",
       "      <td>2006.0</td>\n",
       "      <td>Misc</td>\n",
       "      <td>13.96</td>\n",
       "      <td>9.18</td>\n",
       "      <td>2.93</td>\n",
       "      <td>2.84</td>\n",
       "      <td>58.0</td>\n",
       "      <td>6.6</td>\n",
       "      <td>E</td>\n",
       "    </tr>\n",
       "    <tr>\n",
       "      <th>8</th>\n",
       "      <td>New Super Mario Bros. Wii</td>\n",
       "      <td>Wii</td>\n",
       "      <td>2009.0</td>\n",
       "      <td>Platform</td>\n",
       "      <td>14.44</td>\n",
       "      <td>6.94</td>\n",
       "      <td>4.70</td>\n",
       "      <td>2.24</td>\n",
       "      <td>87.0</td>\n",
       "      <td>8.4</td>\n",
       "      <td>E</td>\n",
       "    </tr>\n",
       "    <tr>\n",
       "      <th>9</th>\n",
       "      <td>Duck Hunt</td>\n",
       "      <td>NES</td>\n",
       "      <td>1984.0</td>\n",
       "      <td>Shooter</td>\n",
       "      <td>26.93</td>\n",
       "      <td>0.63</td>\n",
       "      <td>0.28</td>\n",
       "      <td>0.47</td>\n",
       "      <td>NaN</td>\n",
       "      <td>NaN</td>\n",
       "      <td>NaN</td>\n",
       "    </tr>\n",
       "  </tbody>\n",
       "</table>\n",
       "</div>"
      ],
      "text/plain": [
       "                        Name Platform  Year_of_Release         Genre  \\\n",
       "0                 Wii Sports      Wii           2006.0        Sports   \n",
       "1          Super Mario Bros.      NES           1985.0      Platform   \n",
       "2             Mario Kart Wii      Wii           2008.0        Racing   \n",
       "3          Wii Sports Resort      Wii           2009.0        Sports   \n",
       "4   Pokemon Red/Pokemon Blue       GB           1996.0  Role-Playing   \n",
       "5                     Tetris       GB           1989.0        Puzzle   \n",
       "6      New Super Mario Bros.       DS           2006.0      Platform   \n",
       "7                   Wii Play      Wii           2006.0          Misc   \n",
       "8  New Super Mario Bros. Wii      Wii           2009.0      Platform   \n",
       "9                  Duck Hunt      NES           1984.0       Shooter   \n",
       "\n",
       "   NA_sales  EU_sales  JP_sales  Other_sales  Critic_Score User_Score Rating  \n",
       "0     41.36     28.96      3.77         8.45          76.0          8      E  \n",
       "1     29.08      3.58      6.81         0.77           NaN        NaN    NaN  \n",
       "2     15.68     12.76      3.79         3.29          82.0        8.3      E  \n",
       "3     15.61     10.93      3.28         2.95          80.0          8      E  \n",
       "4     11.27      8.89     10.22         1.00           NaN        NaN    NaN  \n",
       "5     23.20      2.26      4.22         0.58           NaN        NaN    NaN  \n",
       "6     11.28      9.14      6.50         2.88          89.0        8.5      E  \n",
       "7     13.96      9.18      2.93         2.84          58.0        6.6      E  \n",
       "8     14.44      6.94      4.70         2.24          87.0        8.4      E  \n",
       "9     26.93      0.63      0.28         0.47           NaN        NaN    NaN  "
      ]
     },
     "execution_count": 322,
     "metadata": {},
     "output_type": "execute_result"
    }
   ],
   "source": [
    "df.head(10)"
   ]
  },
  {
   "cell_type": "code",
   "execution_count": 323,
   "metadata": {},
   "outputs": [
    {
     "name": "stdout",
     "output_type": "stream",
     "text": [
      "<class 'pandas.core.frame.DataFrame'>\n",
      "RangeIndex: 16715 entries, 0 to 16714\n",
      "Data columns (total 11 columns):\n",
      " #   Column           Non-Null Count  Dtype  \n",
      "---  ------           --------------  -----  \n",
      " 0   Name             16713 non-null  object \n",
      " 1   Platform         16715 non-null  object \n",
      " 2   Year_of_Release  16446 non-null  float64\n",
      " 3   Genre            16713 non-null  object \n",
      " 4   NA_sales         16715 non-null  float64\n",
      " 5   EU_sales         16715 non-null  float64\n",
      " 6   JP_sales         16715 non-null  float64\n",
      " 7   Other_sales      16715 non-null  float64\n",
      " 8   Critic_Score     8137 non-null   float64\n",
      " 9   User_Score       10014 non-null  object \n",
      " 10  Rating           9949 non-null   object \n",
      "dtypes: float64(6), object(5)\n",
      "memory usage: 1.4+ MB\n"
     ]
    }
   ],
   "source": [
    "df.info()"
   ]
  },
  {
   "cell_type": "code",
   "execution_count": 324,
   "metadata": {},
   "outputs": [],
   "source": [
    "df.columns = df.columns.str.lower()"
   ]
  },
  {
   "cell_type": "markdown",
   "metadata": {},
   "source": [
    "Приводим все наименования стобцов к нижнему регистру"
   ]
  },
  {
   "cell_type": "code",
   "execution_count": 325,
   "metadata": {},
   "outputs": [
    {
     "data": {
      "text/html": [
       "<div>\n",
       "<style scoped>\n",
       "    .dataframe tbody tr th:only-of-type {\n",
       "        vertical-align: middle;\n",
       "    }\n",
       "\n",
       "    .dataframe tbody tr th {\n",
       "        vertical-align: top;\n",
       "    }\n",
       "\n",
       "    .dataframe thead th {\n",
       "        text-align: right;\n",
       "    }\n",
       "</style>\n",
       "<table border=\"1\" class=\"dataframe\">\n",
       "  <thead>\n",
       "    <tr style=\"text-align: right;\">\n",
       "      <th></th>\n",
       "      <th>name</th>\n",
       "      <th>platform</th>\n",
       "      <th>year_of_release</th>\n",
       "      <th>genre</th>\n",
       "      <th>na_sales</th>\n",
       "      <th>eu_sales</th>\n",
       "      <th>jp_sales</th>\n",
       "      <th>other_sales</th>\n",
       "      <th>critic_score</th>\n",
       "      <th>user_score</th>\n",
       "      <th>rating</th>\n",
       "    </tr>\n",
       "  </thead>\n",
       "  <tbody>\n",
       "    <tr>\n",
       "      <th>0</th>\n",
       "      <td>Wii Sports</td>\n",
       "      <td>Wii</td>\n",
       "      <td>2006.0</td>\n",
       "      <td>Sports</td>\n",
       "      <td>41.36</td>\n",
       "      <td>28.96</td>\n",
       "      <td>3.77</td>\n",
       "      <td>8.45</td>\n",
       "      <td>76.0</td>\n",
       "      <td>8</td>\n",
       "      <td>E</td>\n",
       "    </tr>\n",
       "    <tr>\n",
       "      <th>1</th>\n",
       "      <td>Super Mario Bros.</td>\n",
       "      <td>NES</td>\n",
       "      <td>1985.0</td>\n",
       "      <td>Platform</td>\n",
       "      <td>29.08</td>\n",
       "      <td>3.58</td>\n",
       "      <td>6.81</td>\n",
       "      <td>0.77</td>\n",
       "      <td>NaN</td>\n",
       "      <td>NaN</td>\n",
       "      <td>NaN</td>\n",
       "    </tr>\n",
       "    <tr>\n",
       "      <th>2</th>\n",
       "      <td>Mario Kart Wii</td>\n",
       "      <td>Wii</td>\n",
       "      <td>2008.0</td>\n",
       "      <td>Racing</td>\n",
       "      <td>15.68</td>\n",
       "      <td>12.76</td>\n",
       "      <td>3.79</td>\n",
       "      <td>3.29</td>\n",
       "      <td>82.0</td>\n",
       "      <td>8.3</td>\n",
       "      <td>E</td>\n",
       "    </tr>\n",
       "    <tr>\n",
       "      <th>3</th>\n",
       "      <td>Wii Sports Resort</td>\n",
       "      <td>Wii</td>\n",
       "      <td>2009.0</td>\n",
       "      <td>Sports</td>\n",
       "      <td>15.61</td>\n",
       "      <td>10.93</td>\n",
       "      <td>3.28</td>\n",
       "      <td>2.95</td>\n",
       "      <td>80.0</td>\n",
       "      <td>8</td>\n",
       "      <td>E</td>\n",
       "    </tr>\n",
       "    <tr>\n",
       "      <th>4</th>\n",
       "      <td>Pokemon Red/Pokemon Blue</td>\n",
       "      <td>GB</td>\n",
       "      <td>1996.0</td>\n",
       "      <td>Role-Playing</td>\n",
       "      <td>11.27</td>\n",
       "      <td>8.89</td>\n",
       "      <td>10.22</td>\n",
       "      <td>1.00</td>\n",
       "      <td>NaN</td>\n",
       "      <td>NaN</td>\n",
       "      <td>NaN</td>\n",
       "    </tr>\n",
       "  </tbody>\n",
       "</table>\n",
       "</div>"
      ],
      "text/plain": [
       "                       name platform  year_of_release         genre  na_sales  \\\n",
       "0                Wii Sports      Wii           2006.0        Sports     41.36   \n",
       "1         Super Mario Bros.      NES           1985.0      Platform     29.08   \n",
       "2            Mario Kart Wii      Wii           2008.0        Racing     15.68   \n",
       "3         Wii Sports Resort      Wii           2009.0        Sports     15.61   \n",
       "4  Pokemon Red/Pokemon Blue       GB           1996.0  Role-Playing     11.27   \n",
       "\n",
       "   eu_sales  jp_sales  other_sales  critic_score user_score rating  \n",
       "0     28.96      3.77         8.45          76.0          8      E  \n",
       "1      3.58      6.81         0.77           NaN        NaN    NaN  \n",
       "2     12.76      3.79         3.29          82.0        8.3      E  \n",
       "3     10.93      3.28         2.95          80.0          8      E  \n",
       "4      8.89     10.22         1.00           NaN        NaN    NaN  "
      ]
     },
     "execution_count": 325,
     "metadata": {},
     "output_type": "execute_result"
    }
   ],
   "source": [
    "df.head()"
   ]
  },
  {
   "cell_type": "code",
   "execution_count": 326,
   "metadata": {},
   "outputs": [],
   "source": [
    "df['name'] = df['name'].str.lower()\n",
    "df['genre'] = df['genre'].str.lower()\n",
    "df['platform'] = df['platform'].str.lower()"
   ]
  },
  {
   "cell_type": "markdown",
   "metadata": {},
   "source": [
    "Приводим все объекты в указанных ниже колонках к нижнему регистру"
   ]
  },
  {
   "cell_type": "code",
   "execution_count": 327,
   "metadata": {},
   "outputs": [
    {
     "data": {
      "text/html": [
       "<div>\n",
       "<style scoped>\n",
       "    .dataframe tbody tr th:only-of-type {\n",
       "        vertical-align: middle;\n",
       "    }\n",
       "\n",
       "    .dataframe tbody tr th {\n",
       "        vertical-align: top;\n",
       "    }\n",
       "\n",
       "    .dataframe thead th {\n",
       "        text-align: right;\n",
       "    }\n",
       "</style>\n",
       "<table border=\"1\" class=\"dataframe\">\n",
       "  <thead>\n",
       "    <tr style=\"text-align: right;\">\n",
       "      <th></th>\n",
       "      <th>year_of_release</th>\n",
       "      <th>na_sales</th>\n",
       "      <th>eu_sales</th>\n",
       "      <th>jp_sales</th>\n",
       "      <th>other_sales</th>\n",
       "      <th>critic_score</th>\n",
       "    </tr>\n",
       "  </thead>\n",
       "  <tbody>\n",
       "    <tr>\n",
       "      <th>count</th>\n",
       "      <td>16446.000000</td>\n",
       "      <td>16715.000000</td>\n",
       "      <td>16715.000000</td>\n",
       "      <td>16715.000000</td>\n",
       "      <td>16715.000000</td>\n",
       "      <td>8137.000000</td>\n",
       "    </tr>\n",
       "    <tr>\n",
       "      <th>mean</th>\n",
       "      <td>2006.484616</td>\n",
       "      <td>0.263377</td>\n",
       "      <td>0.145060</td>\n",
       "      <td>0.077617</td>\n",
       "      <td>0.047342</td>\n",
       "      <td>68.967679</td>\n",
       "    </tr>\n",
       "    <tr>\n",
       "      <th>std</th>\n",
       "      <td>5.877050</td>\n",
       "      <td>0.813604</td>\n",
       "      <td>0.503339</td>\n",
       "      <td>0.308853</td>\n",
       "      <td>0.186731</td>\n",
       "      <td>13.938165</td>\n",
       "    </tr>\n",
       "    <tr>\n",
       "      <th>min</th>\n",
       "      <td>1980.000000</td>\n",
       "      <td>0.000000</td>\n",
       "      <td>0.000000</td>\n",
       "      <td>0.000000</td>\n",
       "      <td>0.000000</td>\n",
       "      <td>13.000000</td>\n",
       "    </tr>\n",
       "    <tr>\n",
       "      <th>25%</th>\n",
       "      <td>2003.000000</td>\n",
       "      <td>0.000000</td>\n",
       "      <td>0.000000</td>\n",
       "      <td>0.000000</td>\n",
       "      <td>0.000000</td>\n",
       "      <td>60.000000</td>\n",
       "    </tr>\n",
       "    <tr>\n",
       "      <th>50%</th>\n",
       "      <td>2007.000000</td>\n",
       "      <td>0.080000</td>\n",
       "      <td>0.020000</td>\n",
       "      <td>0.000000</td>\n",
       "      <td>0.010000</td>\n",
       "      <td>71.000000</td>\n",
       "    </tr>\n",
       "    <tr>\n",
       "      <th>75%</th>\n",
       "      <td>2010.000000</td>\n",
       "      <td>0.240000</td>\n",
       "      <td>0.110000</td>\n",
       "      <td>0.040000</td>\n",
       "      <td>0.030000</td>\n",
       "      <td>79.000000</td>\n",
       "    </tr>\n",
       "    <tr>\n",
       "      <th>max</th>\n",
       "      <td>2016.000000</td>\n",
       "      <td>41.360000</td>\n",
       "      <td>28.960000</td>\n",
       "      <td>10.220000</td>\n",
       "      <td>10.570000</td>\n",
       "      <td>98.000000</td>\n",
       "    </tr>\n",
       "  </tbody>\n",
       "</table>\n",
       "</div>"
      ],
      "text/plain": [
       "       year_of_release      na_sales      eu_sales      jp_sales  \\\n",
       "count     16446.000000  16715.000000  16715.000000  16715.000000   \n",
       "mean       2006.484616      0.263377      0.145060      0.077617   \n",
       "std           5.877050      0.813604      0.503339      0.308853   \n",
       "min        1980.000000      0.000000      0.000000      0.000000   \n",
       "25%        2003.000000      0.000000      0.000000      0.000000   \n",
       "50%        2007.000000      0.080000      0.020000      0.000000   \n",
       "75%        2010.000000      0.240000      0.110000      0.040000   \n",
       "max        2016.000000     41.360000     28.960000     10.220000   \n",
       "\n",
       "        other_sales  critic_score  \n",
       "count  16715.000000   8137.000000  \n",
       "mean       0.047342     68.967679  \n",
       "std        0.186731     13.938165  \n",
       "min        0.000000     13.000000  \n",
       "25%        0.000000     60.000000  \n",
       "50%        0.010000     71.000000  \n",
       "75%        0.030000     79.000000  \n",
       "max       10.570000     98.000000  "
      ]
     },
     "execution_count": 327,
     "metadata": {},
     "output_type": "execute_result"
    }
   ],
   "source": [
    "df.describe()"
   ]
  },
  {
   "cell_type": "code",
   "execution_count": 328,
   "metadata": {},
   "outputs": [
    {
     "data": {
      "text/plain": [
       "name                  2\n",
       "platform              0\n",
       "year_of_release     269\n",
       "genre                 2\n",
       "na_sales              0\n",
       "eu_sales              0\n",
       "jp_sales              0\n",
       "other_sales           0\n",
       "critic_score       8578\n",
       "user_score         6701\n",
       "rating             6766\n",
       "dtype: int64"
      ]
     },
     "execution_count": 328,
     "metadata": {},
     "output_type": "execute_result"
    }
   ],
   "source": [
    "df.isna().sum()"
   ]
  },
  {
   "cell_type": "code",
   "execution_count": 329,
   "metadata": {},
   "outputs": [
    {
     "data": {
      "text/html": [
       "<style  type=\"text/css\" >\n",
       "#T_1666f_row0_col0,#T_1666f_row1_col0,#T_1666f_row3_col0,#T_1666f_row4_col0,#T_1666f_row5_col0,#T_1666f_row6_col0,#T_1666f_row7_col0{\n",
       "            background-color:  #3b4cc0;\n",
       "            color:  #f1f1f1;\n",
       "        }#T_1666f_row2_col0{\n",
       "            background-color:  #4358cb;\n",
       "            color:  #f1f1f1;\n",
       "        }#T_1666f_row8_col0{\n",
       "            background-color:  #b40426;\n",
       "            color:  #f1f1f1;\n",
       "        }#T_1666f_row9_col0{\n",
       "            background-color:  #f08b6e;\n",
       "            color:  #000000;\n",
       "        }#T_1666f_row10_col0{\n",
       "            background-color:  #ef886b;\n",
       "            color:  #000000;\n",
       "        }</style><table id=\"T_1666f_\" ><thead>    <tr>        <th class=\"blank level0\" ></th>        <th class=\"col_heading level0 col0\" >0</th>    </tr></thead><tbody>\n",
       "                <tr>\n",
       "                        <th id=\"T_1666f_level0_row0\" class=\"row_heading level0 row0\" >name</th>\n",
       "                        <td id=\"T_1666f_row0_col0\" class=\"data row0 col0\" >0.000000</td>\n",
       "            </tr>\n",
       "            <tr>\n",
       "                        <th id=\"T_1666f_level0_row1\" class=\"row_heading level0 row1\" >platform</th>\n",
       "                        <td id=\"T_1666f_row1_col0\" class=\"data row1 col0\" >0.000000</td>\n",
       "            </tr>\n",
       "            <tr>\n",
       "                        <th id=\"T_1666f_level0_row2\" class=\"row_heading level0 row2\" >year_of_release</th>\n",
       "                        <td id=\"T_1666f_row2_col0\" class=\"data row2 col0\" >1.600000</td>\n",
       "            </tr>\n",
       "            <tr>\n",
       "                        <th id=\"T_1666f_level0_row3\" class=\"row_heading level0 row3\" >genre</th>\n",
       "                        <td id=\"T_1666f_row3_col0\" class=\"data row3 col0\" >0.000000</td>\n",
       "            </tr>\n",
       "            <tr>\n",
       "                        <th id=\"T_1666f_level0_row4\" class=\"row_heading level0 row4\" >na_sales</th>\n",
       "                        <td id=\"T_1666f_row4_col0\" class=\"data row4 col0\" >0.000000</td>\n",
       "            </tr>\n",
       "            <tr>\n",
       "                        <th id=\"T_1666f_level0_row5\" class=\"row_heading level0 row5\" >eu_sales</th>\n",
       "                        <td id=\"T_1666f_row5_col0\" class=\"data row5 col0\" >0.000000</td>\n",
       "            </tr>\n",
       "            <tr>\n",
       "                        <th id=\"T_1666f_level0_row6\" class=\"row_heading level0 row6\" >jp_sales</th>\n",
       "                        <td id=\"T_1666f_row6_col0\" class=\"data row6 col0\" >0.000000</td>\n",
       "            </tr>\n",
       "            <tr>\n",
       "                        <th id=\"T_1666f_level0_row7\" class=\"row_heading level0 row7\" >other_sales</th>\n",
       "                        <td id=\"T_1666f_row7_col0\" class=\"data row7 col0\" >0.000000</td>\n",
       "            </tr>\n",
       "            <tr>\n",
       "                        <th id=\"T_1666f_level0_row8\" class=\"row_heading level0 row8\" >critic_score</th>\n",
       "                        <td id=\"T_1666f_row8_col0\" class=\"data row8 col0\" >51.300000</td>\n",
       "            </tr>\n",
       "            <tr>\n",
       "                        <th id=\"T_1666f_level0_row9\" class=\"row_heading level0 row9\" >user_score</th>\n",
       "                        <td id=\"T_1666f_row9_col0\" class=\"data row9 col0\" >40.100000</td>\n",
       "            </tr>\n",
       "            <tr>\n",
       "                        <th id=\"T_1666f_level0_row10\" class=\"row_heading level0 row10\" >rating</th>\n",
       "                        <td id=\"T_1666f_row10_col0\" class=\"data row10 col0\" >40.500000</td>\n",
       "            </tr>\n",
       "    </tbody></table>"
      ],
      "text/plain": [
       "<pandas.io.formats.style.Styler at 0x7f790d025dc0>"
      ]
     },
     "execution_count": 329,
     "metadata": {},
     "output_type": "execute_result"
    }
   ],
   "source": [
    "pd.DataFrame(round(df.isna().mean()*100,1)).style.background_gradient('coolwarm')"
   ]
  },
  {
   "cell_type": "markdown",
   "metadata": {},
   "source": [
    "Смотрим пропущенные значения, в наименование отсутсвует 2 значения, скорее всего поэтому отсутсвует значения и в жанре. Удалим пустые значения в 'name' так как они занимают меньше 1% процентов от общего количества значений и заоодно проверим исчезнут ли пропуски в 'genre'"
   ]
  },
  {
   "cell_type": "code",
   "execution_count": 330,
   "metadata": {},
   "outputs": [],
   "source": [
    "df = df.dropna(subset=['name'])"
   ]
  },
  {
   "cell_type": "code",
   "execution_count": 331,
   "metadata": {},
   "outputs": [
    {
     "data": {
      "text/plain": [
       "name                  0\n",
       "platform              0\n",
       "year_of_release     269\n",
       "genre                 0\n",
       "na_sales              0\n",
       "eu_sales              0\n",
       "jp_sales              0\n",
       "other_sales           0\n",
       "critic_score       8576\n",
       "user_score         6699\n",
       "rating             6764\n",
       "dtype: int64"
      ]
     },
     "execution_count": 331,
     "metadata": {},
     "output_type": "execute_result"
    }
   ],
   "source": [
    "df.isna().sum()"
   ]
  },
  {
   "cell_type": "code",
   "execution_count": 332,
   "metadata": {},
   "outputs": [],
   "source": [
    "df = df.dropna(subset=['year_of_release'])"
   ]
  },
  {
   "cell_type": "markdown",
   "metadata": {},
   "source": [
    "В столбце 'year_of_release' также отсутсвуют значениях, так как их количество меньше 2% на общий анализ данных их удаление не повлияет "
   ]
  },
  {
   "cell_type": "code",
   "execution_count": 333,
   "metadata": {},
   "outputs": [
    {
     "data": {
      "text/plain": [
       "name                  0\n",
       "platform              0\n",
       "year_of_release       0\n",
       "genre                 0\n",
       "na_sales              0\n",
       "eu_sales              0\n",
       "jp_sales              0\n",
       "other_sales           0\n",
       "critic_score       8461\n",
       "user_score         6605\n",
       "rating             6676\n",
       "dtype: int64"
      ]
     },
     "execution_count": 333,
     "metadata": {},
     "output_type": "execute_result"
    }
   ],
   "source": [
    "df.isna().sum()"
   ]
  },
  {
   "cell_type": "code",
   "execution_count": 334,
   "metadata": {},
   "outputs": [
    {
     "data": {
      "text/plain": [
       "array([2006., 1985., 2008., 2009., 1996., 1989., 1984., 2005., 1999.,\n",
       "       2007., 2010., 2013., 2004., 1990., 1988., 2002., 2001., 2011.,\n",
       "       1998., 2015., 2012., 2014., 1992., 1997., 1993., 1994., 1982.,\n",
       "       2016., 2003., 1986., 2000., 1995., 1991., 1981., 1987., 1980.,\n",
       "       1983.])"
      ]
     },
     "execution_count": 334,
     "metadata": {},
     "output_type": "execute_result"
    }
   ],
   "source": [
    "df['year_of_release'].unique()"
   ]
  },
  {
   "cell_type": "code",
   "execution_count": 335,
   "metadata": {},
   "outputs": [],
   "source": [
    "df['year_of_release'] = round(df['year_of_release'])"
   ]
  },
  {
   "cell_type": "code",
   "execution_count": 336,
   "metadata": {},
   "outputs": [],
   "source": [
    "df['year_of_release'] = pd.to_datetime(df['year_of_release'], format='%Y')"
   ]
  },
  {
   "cell_type": "code",
   "execution_count": 337,
   "metadata": {},
   "outputs": [],
   "source": [
    "df['year_of_release'] = pd.DatetimeIndex(df['year_of_release']).year"
   ]
  },
  {
   "cell_type": "markdown",
   "metadata": {},
   "source": [
    "Приводим значения в 'year_of_release' к подобающему виду"
   ]
  },
  {
   "cell_type": "code",
   "execution_count": 338,
   "metadata": {},
   "outputs": [
    {
     "data": {
      "text/html": [
       "<div>\n",
       "<style scoped>\n",
       "    .dataframe tbody tr th:only-of-type {\n",
       "        vertical-align: middle;\n",
       "    }\n",
       "\n",
       "    .dataframe tbody tr th {\n",
       "        vertical-align: top;\n",
       "    }\n",
       "\n",
       "    .dataframe thead th {\n",
       "        text-align: right;\n",
       "    }\n",
       "</style>\n",
       "<table border=\"1\" class=\"dataframe\">\n",
       "  <thead>\n",
       "    <tr style=\"text-align: right;\">\n",
       "      <th></th>\n",
       "      <th>name</th>\n",
       "      <th>platform</th>\n",
       "      <th>year_of_release</th>\n",
       "      <th>genre</th>\n",
       "      <th>na_sales</th>\n",
       "      <th>eu_sales</th>\n",
       "      <th>jp_sales</th>\n",
       "      <th>other_sales</th>\n",
       "      <th>critic_score</th>\n",
       "      <th>user_score</th>\n",
       "      <th>rating</th>\n",
       "    </tr>\n",
       "  </thead>\n",
       "  <tbody>\n",
       "    <tr>\n",
       "      <th>0</th>\n",
       "      <td>wii sports</td>\n",
       "      <td>wii</td>\n",
       "      <td>2006</td>\n",
       "      <td>sports</td>\n",
       "      <td>41.36</td>\n",
       "      <td>28.96</td>\n",
       "      <td>3.77</td>\n",
       "      <td>8.45</td>\n",
       "      <td>76.0</td>\n",
       "      <td>8</td>\n",
       "      <td>E</td>\n",
       "    </tr>\n",
       "    <tr>\n",
       "      <th>1</th>\n",
       "      <td>super mario bros.</td>\n",
       "      <td>nes</td>\n",
       "      <td>1985</td>\n",
       "      <td>platform</td>\n",
       "      <td>29.08</td>\n",
       "      <td>3.58</td>\n",
       "      <td>6.81</td>\n",
       "      <td>0.77</td>\n",
       "      <td>NaN</td>\n",
       "      <td>NaN</td>\n",
       "      <td>NaN</td>\n",
       "    </tr>\n",
       "    <tr>\n",
       "      <th>2</th>\n",
       "      <td>mario kart wii</td>\n",
       "      <td>wii</td>\n",
       "      <td>2008</td>\n",
       "      <td>racing</td>\n",
       "      <td>15.68</td>\n",
       "      <td>12.76</td>\n",
       "      <td>3.79</td>\n",
       "      <td>3.29</td>\n",
       "      <td>82.0</td>\n",
       "      <td>8.3</td>\n",
       "      <td>E</td>\n",
       "    </tr>\n",
       "    <tr>\n",
       "      <th>3</th>\n",
       "      <td>wii sports resort</td>\n",
       "      <td>wii</td>\n",
       "      <td>2009</td>\n",
       "      <td>sports</td>\n",
       "      <td>15.61</td>\n",
       "      <td>10.93</td>\n",
       "      <td>3.28</td>\n",
       "      <td>2.95</td>\n",
       "      <td>80.0</td>\n",
       "      <td>8</td>\n",
       "      <td>E</td>\n",
       "    </tr>\n",
       "    <tr>\n",
       "      <th>4</th>\n",
       "      <td>pokemon red/pokemon blue</td>\n",
       "      <td>gb</td>\n",
       "      <td>1996</td>\n",
       "      <td>role-playing</td>\n",
       "      <td>11.27</td>\n",
       "      <td>8.89</td>\n",
       "      <td>10.22</td>\n",
       "      <td>1.00</td>\n",
       "      <td>NaN</td>\n",
       "      <td>NaN</td>\n",
       "      <td>NaN</td>\n",
       "    </tr>\n",
       "  </tbody>\n",
       "</table>\n",
       "</div>"
      ],
      "text/plain": [
       "                       name platform  year_of_release         genre  na_sales  \\\n",
       "0                wii sports      wii             2006        sports     41.36   \n",
       "1         super mario bros.      nes             1985      platform     29.08   \n",
       "2            mario kart wii      wii             2008        racing     15.68   \n",
       "3         wii sports resort      wii             2009        sports     15.61   \n",
       "4  pokemon red/pokemon blue       gb             1996  role-playing     11.27   \n",
       "\n",
       "   eu_sales  jp_sales  other_sales  critic_score user_score rating  \n",
       "0     28.96      3.77         8.45          76.0          8      E  \n",
       "1      3.58      6.81         0.77           NaN        NaN    NaN  \n",
       "2     12.76      3.79         3.29          82.0        8.3      E  \n",
       "3     10.93      3.28         2.95          80.0          8      E  \n",
       "4      8.89     10.22         1.00           NaN        NaN    NaN  "
      ]
     },
     "execution_count": 338,
     "metadata": {},
     "output_type": "execute_result"
    }
   ],
   "source": [
    "df.head()"
   ]
  },
  {
   "cell_type": "code",
   "execution_count": 339,
   "metadata": {},
   "outputs": [
    {
     "data": {
      "text/plain": [
       "tbd    2376\n",
       "7.8     322\n",
       "8       285\n",
       "8.2     276\n",
       "8.3     252\n",
       "       ... \n",
       "1         2\n",
       "0.7       2\n",
       "0.6       2\n",
       "0         1\n",
       "9.7       1\n",
       "Name: user_score, Length: 96, dtype: int64"
      ]
     },
     "execution_count": 339,
     "metadata": {},
     "output_type": "execute_result"
    }
   ],
   "source": [
    "df['user_score'].value_counts()"
   ]
  },
  {
   "cell_type": "code",
   "execution_count": 340,
   "metadata": {},
   "outputs": [
    {
     "data": {
      "text/plain": [
       "array(['8', nan, '8.3', '8.5', '6.6', '8.4', '8.6', '7.7', '6.3', '7.4',\n",
       "       '8.2', '9', '7.9', '8.1', '8.7', '7.1', '3.4', '5.3', '4.8', '3.2',\n",
       "       '8.9', '6.4', '7.8', '7.5', '2.6', '7.2', '9.2', '7', '7.3', '4.3',\n",
       "       '7.6', '5.7', '5', '9.1', '6.5', 'tbd', '8.8', '6.9', '9.4', '6.8',\n",
       "       '6.1', '6.7', '5.4', '4', '4.9', '4.5', '9.3', '6.2', '4.2', '6',\n",
       "       '3.7', '4.1', '5.8', '5.6', '5.5', '4.4', '4.6', '5.9', '3.9',\n",
       "       '3.1', '2.9', '5.2', '3.3', '4.7', '5.1', '3.5', '2.5', '1.9', '3',\n",
       "       '2.7', '2.2', '2', '9.5', '2.1', '3.6', '2.8', '1.8', '3.8', '0',\n",
       "       '1.6', '9.6', '2.4', '1.7', '1.1', '0.3', '1.5', '0.7', '1.2',\n",
       "       '2.3', '0.5', '1.3', '0.2', '0.6', '1.4', '0.9', '1', '9.7'],\n",
       "      dtype=object)"
      ]
     },
     "execution_count": 340,
     "metadata": {},
     "output_type": "execute_result"
    }
   ],
   "source": [
    "df['user_score'].unique()"
   ]
  },
  {
   "cell_type": "code",
   "execution_count": 341,
   "metadata": {},
   "outputs": [],
   "source": [
    "df.loc[df['user_score'] == 'tbd', 'user_score'] = np.nan"
   ]
  },
  {
   "cell_type": "code",
   "execution_count": 342,
   "metadata": {},
   "outputs": [],
   "source": [
    "df['user_score'] = df['user_score'].astype('float')"
   ]
  },
  {
   "cell_type": "code",
   "execution_count": 343,
   "metadata": {},
   "outputs": [
    {
     "name": "stdout",
     "output_type": "stream",
     "text": [
      "<class 'pandas.core.frame.DataFrame'>\n",
      "Int64Index: 16444 entries, 0 to 16714\n",
      "Data columns (total 11 columns):\n",
      " #   Column           Non-Null Count  Dtype  \n",
      "---  ------           --------------  -----  \n",
      " 0   name             16444 non-null  object \n",
      " 1   platform         16444 non-null  object \n",
      " 2   year_of_release  16444 non-null  int64  \n",
      " 3   genre            16444 non-null  object \n",
      " 4   na_sales         16444 non-null  float64\n",
      " 5   eu_sales         16444 non-null  float64\n",
      " 6   jp_sales         16444 non-null  float64\n",
      " 7   other_sales      16444 non-null  float64\n",
      " 8   critic_score     7983 non-null   float64\n",
      " 9   user_score       7463 non-null   float64\n",
      " 10  rating           9768 non-null   object \n",
      "dtypes: float64(6), int64(1), object(4)\n",
      "memory usage: 1.5+ MB\n"
     ]
    }
   ],
   "source": [
    "df.info()"
   ]
  },
  {
   "cell_type": "markdown",
   "metadata": {},
   "source": [
    "Заменим значение tbd на nan - так как аббревиатура используется, если какая-то информация еще не определена или решение по вопросу не принято и переведем user_score к типу float"
   ]
  },
  {
   "cell_type": "code",
   "execution_count": 344,
   "metadata": {},
   "outputs": [
    {
     "data": {
      "text/plain": [
       "array(['E', nan, 'M', 'T', 'E10+', 'K-A', 'AO', 'EC', 'RP'], dtype=object)"
      ]
     },
     "execution_count": 344,
     "metadata": {},
     "output_type": "execute_result"
    }
   ],
   "source": [
    "df['rating'].unique()"
   ]
  },
  {
   "cell_type": "code",
   "execution_count": 345,
   "metadata": {},
   "outputs": [
    {
     "data": {
      "text/plain": [
       "6676"
      ]
     },
     "execution_count": 345,
     "metadata": {},
     "output_type": "execute_result"
    }
   ],
   "source": [
    "df['rating'].isna().sum()"
   ]
  },
  {
   "cell_type": "markdown",
   "metadata": {},
   "source": [
    "Так как пустых значений в 'rating' слишком много, принимаем решения не удалять их, но и заменять их на медиану или среднее будет неправильно. Тоже самое можно применить и к 'critic_score', 'user_score'.\n",
    "Также изучив информацию ассоциации ESRB было обраружено, что рейтинг 'K-A' использовался до 1997, а после был преобразован в рейтинг 'Е', в связи с чем заменим значения ниже."
   ]
  },
  {
   "cell_type": "code",
   "execution_count": 346,
   "metadata": {},
   "outputs": [],
   "source": [
    "df['rating'] = df['rating'].replace('K-A', 'E')"
   ]
  },
  {
   "cell_type": "code",
   "execution_count": 347,
   "metadata": {},
   "outputs": [],
   "source": [
    "df['rating'] = df['rating'].fillna('unknown')"
   ]
  },
  {
   "cell_type": "code",
   "execution_count": 348,
   "metadata": {},
   "outputs": [
    {
     "data": {
      "text/plain": [
       "array(['E', 'unknown', 'M', 'T', 'E10+', 'AO', 'EC', 'RP'], dtype=object)"
      ]
     },
     "execution_count": 348,
     "metadata": {},
     "output_type": "execute_result"
    }
   ],
   "source": [
    "df['rating'].unique()"
   ]
  },
  {
   "cell_type": "markdown",
   "metadata": {},
   "source": [
    "Заменим значения nan на unknown, так как рейтинг ESRB распространяется только на Америку и Канаду, и в дальнейшем может быть не корректный анализ.\n"
   ]
  },
  {
   "cell_type": "code",
   "execution_count": 349,
   "metadata": {},
   "outputs": [
    {
     "data": {
      "text/html": [
       "<div>\n",
       "<style scoped>\n",
       "    .dataframe tbody tr th:only-of-type {\n",
       "        vertical-align: middle;\n",
       "    }\n",
       "\n",
       "    .dataframe tbody tr th {\n",
       "        vertical-align: top;\n",
       "    }\n",
       "\n",
       "    .dataframe thead th {\n",
       "        text-align: right;\n",
       "    }\n",
       "</style>\n",
       "<table border=\"1\" class=\"dataframe\">\n",
       "  <thead>\n",
       "    <tr style=\"text-align: right;\">\n",
       "      <th></th>\n",
       "      <th>name</th>\n",
       "      <th>platform</th>\n",
       "      <th>year_of_release</th>\n",
       "      <th>genre</th>\n",
       "      <th>na_sales</th>\n",
       "      <th>eu_sales</th>\n",
       "      <th>jp_sales</th>\n",
       "      <th>other_sales</th>\n",
       "      <th>critic_score</th>\n",
       "      <th>user_score</th>\n",
       "      <th>rating</th>\n",
       "    </tr>\n",
       "  </thead>\n",
       "  <tbody>\n",
       "    <tr>\n",
       "      <th>0</th>\n",
       "      <td>wii sports</td>\n",
       "      <td>wii</td>\n",
       "      <td>2006</td>\n",
       "      <td>sports</td>\n",
       "      <td>41.36</td>\n",
       "      <td>28.96</td>\n",
       "      <td>3.77</td>\n",
       "      <td>8.45</td>\n",
       "      <td>76.0</td>\n",
       "      <td>8.0</td>\n",
       "      <td>E</td>\n",
       "    </tr>\n",
       "    <tr>\n",
       "      <th>1</th>\n",
       "      <td>super mario bros.</td>\n",
       "      <td>nes</td>\n",
       "      <td>1985</td>\n",
       "      <td>platform</td>\n",
       "      <td>29.08</td>\n",
       "      <td>3.58</td>\n",
       "      <td>6.81</td>\n",
       "      <td>0.77</td>\n",
       "      <td>NaN</td>\n",
       "      <td>NaN</td>\n",
       "      <td>unknown</td>\n",
       "    </tr>\n",
       "    <tr>\n",
       "      <th>2</th>\n",
       "      <td>mario kart wii</td>\n",
       "      <td>wii</td>\n",
       "      <td>2008</td>\n",
       "      <td>racing</td>\n",
       "      <td>15.68</td>\n",
       "      <td>12.76</td>\n",
       "      <td>3.79</td>\n",
       "      <td>3.29</td>\n",
       "      <td>82.0</td>\n",
       "      <td>8.3</td>\n",
       "      <td>E</td>\n",
       "    </tr>\n",
       "    <tr>\n",
       "      <th>3</th>\n",
       "      <td>wii sports resort</td>\n",
       "      <td>wii</td>\n",
       "      <td>2009</td>\n",
       "      <td>sports</td>\n",
       "      <td>15.61</td>\n",
       "      <td>10.93</td>\n",
       "      <td>3.28</td>\n",
       "      <td>2.95</td>\n",
       "      <td>80.0</td>\n",
       "      <td>8.0</td>\n",
       "      <td>E</td>\n",
       "    </tr>\n",
       "    <tr>\n",
       "      <th>4</th>\n",
       "      <td>pokemon red/pokemon blue</td>\n",
       "      <td>gb</td>\n",
       "      <td>1996</td>\n",
       "      <td>role-playing</td>\n",
       "      <td>11.27</td>\n",
       "      <td>8.89</td>\n",
       "      <td>10.22</td>\n",
       "      <td>1.00</td>\n",
       "      <td>NaN</td>\n",
       "      <td>NaN</td>\n",
       "      <td>unknown</td>\n",
       "    </tr>\n",
       "  </tbody>\n",
       "</table>\n",
       "</div>"
      ],
      "text/plain": [
       "                       name platform  year_of_release         genre  na_sales  \\\n",
       "0                wii sports      wii             2006        sports     41.36   \n",
       "1         super mario bros.      nes             1985      platform     29.08   \n",
       "2            mario kart wii      wii             2008        racing     15.68   \n",
       "3         wii sports resort      wii             2009        sports     15.61   \n",
       "4  pokemon red/pokemon blue       gb             1996  role-playing     11.27   \n",
       "\n",
       "   eu_sales  jp_sales  other_sales  critic_score  user_score   rating  \n",
       "0     28.96      3.77         8.45          76.0         8.0        E  \n",
       "1      3.58      6.81         0.77           NaN         NaN  unknown  \n",
       "2     12.76      3.79         3.29          82.0         8.3        E  \n",
       "3     10.93      3.28         2.95          80.0         8.0        E  \n",
       "4      8.89     10.22         1.00           NaN         NaN  unknown  "
      ]
     },
     "execution_count": 349,
     "metadata": {},
     "output_type": "execute_result"
    }
   ],
   "source": [
    "df.head()"
   ]
  },
  {
   "cell_type": "code",
   "execution_count": 350,
   "metadata": {},
   "outputs": [],
   "source": [
    "df['total_sales'] = df['na_sales']+df['eu_sales']+df['jp_sales']+df['other_sales']"
   ]
  },
  {
   "cell_type": "code",
   "execution_count": 351,
   "metadata": {},
   "outputs": [
    {
     "data": {
      "text/html": [
       "<div>\n",
       "<style scoped>\n",
       "    .dataframe tbody tr th:only-of-type {\n",
       "        vertical-align: middle;\n",
       "    }\n",
       "\n",
       "    .dataframe tbody tr th {\n",
       "        vertical-align: top;\n",
       "    }\n",
       "\n",
       "    .dataframe thead th {\n",
       "        text-align: right;\n",
       "    }\n",
       "</style>\n",
       "<table border=\"1\" class=\"dataframe\">\n",
       "  <thead>\n",
       "    <tr style=\"text-align: right;\">\n",
       "      <th></th>\n",
       "      <th>name</th>\n",
       "      <th>platform</th>\n",
       "      <th>year_of_release</th>\n",
       "      <th>genre</th>\n",
       "      <th>na_sales</th>\n",
       "      <th>eu_sales</th>\n",
       "      <th>jp_sales</th>\n",
       "      <th>other_sales</th>\n",
       "      <th>critic_score</th>\n",
       "      <th>user_score</th>\n",
       "      <th>rating</th>\n",
       "      <th>total_sales</th>\n",
       "    </tr>\n",
       "  </thead>\n",
       "  <tbody>\n",
       "    <tr>\n",
       "      <th>0</th>\n",
       "      <td>wii sports</td>\n",
       "      <td>wii</td>\n",
       "      <td>2006</td>\n",
       "      <td>sports</td>\n",
       "      <td>41.36</td>\n",
       "      <td>28.96</td>\n",
       "      <td>3.77</td>\n",
       "      <td>8.45</td>\n",
       "      <td>76.0</td>\n",
       "      <td>8.0</td>\n",
       "      <td>E</td>\n",
       "      <td>82.54</td>\n",
       "    </tr>\n",
       "    <tr>\n",
       "      <th>1</th>\n",
       "      <td>super mario bros.</td>\n",
       "      <td>nes</td>\n",
       "      <td>1985</td>\n",
       "      <td>platform</td>\n",
       "      <td>29.08</td>\n",
       "      <td>3.58</td>\n",
       "      <td>6.81</td>\n",
       "      <td>0.77</td>\n",
       "      <td>NaN</td>\n",
       "      <td>NaN</td>\n",
       "      <td>unknown</td>\n",
       "      <td>40.24</td>\n",
       "    </tr>\n",
       "    <tr>\n",
       "      <th>2</th>\n",
       "      <td>mario kart wii</td>\n",
       "      <td>wii</td>\n",
       "      <td>2008</td>\n",
       "      <td>racing</td>\n",
       "      <td>15.68</td>\n",
       "      <td>12.76</td>\n",
       "      <td>3.79</td>\n",
       "      <td>3.29</td>\n",
       "      <td>82.0</td>\n",
       "      <td>8.3</td>\n",
       "      <td>E</td>\n",
       "      <td>35.52</td>\n",
       "    </tr>\n",
       "    <tr>\n",
       "      <th>3</th>\n",
       "      <td>wii sports resort</td>\n",
       "      <td>wii</td>\n",
       "      <td>2009</td>\n",
       "      <td>sports</td>\n",
       "      <td>15.61</td>\n",
       "      <td>10.93</td>\n",
       "      <td>3.28</td>\n",
       "      <td>2.95</td>\n",
       "      <td>80.0</td>\n",
       "      <td>8.0</td>\n",
       "      <td>E</td>\n",
       "      <td>32.77</td>\n",
       "    </tr>\n",
       "    <tr>\n",
       "      <th>4</th>\n",
       "      <td>pokemon red/pokemon blue</td>\n",
       "      <td>gb</td>\n",
       "      <td>1996</td>\n",
       "      <td>role-playing</td>\n",
       "      <td>11.27</td>\n",
       "      <td>8.89</td>\n",
       "      <td>10.22</td>\n",
       "      <td>1.00</td>\n",
       "      <td>NaN</td>\n",
       "      <td>NaN</td>\n",
       "      <td>unknown</td>\n",
       "      <td>31.38</td>\n",
       "    </tr>\n",
       "  </tbody>\n",
       "</table>\n",
       "</div>"
      ],
      "text/plain": [
       "                       name platform  year_of_release         genre  na_sales  \\\n",
       "0                wii sports      wii             2006        sports     41.36   \n",
       "1         super mario bros.      nes             1985      platform     29.08   \n",
       "2            mario kart wii      wii             2008        racing     15.68   \n",
       "3         wii sports resort      wii             2009        sports     15.61   \n",
       "4  pokemon red/pokemon blue       gb             1996  role-playing     11.27   \n",
       "\n",
       "   eu_sales  jp_sales  other_sales  critic_score  user_score   rating  \\\n",
       "0     28.96      3.77         8.45          76.0         8.0        E   \n",
       "1      3.58      6.81         0.77           NaN         NaN  unknown   \n",
       "2     12.76      3.79         3.29          82.0         8.3        E   \n",
       "3     10.93      3.28         2.95          80.0         8.0        E   \n",
       "4      8.89     10.22         1.00           NaN         NaN  unknown   \n",
       "\n",
       "   total_sales  \n",
       "0        82.54  \n",
       "1        40.24  \n",
       "2        35.52  \n",
       "3        32.77  \n",
       "4        31.38  "
      ]
     },
     "execution_count": 351,
     "metadata": {},
     "output_type": "execute_result"
    }
   ],
   "source": [
    "df.head()"
   ]
  },
  {
   "cell_type": "code",
   "execution_count": 352,
   "metadata": {},
   "outputs": [
    {
     "data": {
      "text/plain": [
       "0"
      ]
     },
     "execution_count": 352,
     "metadata": {},
     "output_type": "execute_result"
    }
   ],
   "source": [
    "df.duplicated().sum()"
   ]
  },
  {
   "cell_type": "markdown",
   "metadata": {},
   "source": [
    "Проверим также наличие дубликатов"
   ]
  },
  {
   "cell_type": "markdown",
   "metadata": {},
   "source": [
    "# Анализ данных"
   ]
  },
  {
   "cell_type": "code",
   "execution_count": 353,
   "metadata": {},
   "outputs": [
    {
     "data": {
      "text/plain": [
       "<AxesSubplot:xlabel='year_of_release'>"
      ]
     },
     "execution_count": 353,
     "metadata": {},
     "output_type": "execute_result"
    },
    {
     "data": {
      "image/png": "[encoded data removed]",
      "text/plain": [
       "<Figure size 720x360 with 1 Axes>"
      ]
     },
     "metadata": {
      "needs_background": "light"
     },
     "output_type": "display_data"
    }
   ],
   "source": [
    "df.pivot_table(index='year_of_release', values='name', aggfunc='count').plot(grid=True, figsize=(10,5))"
   ]
  },
  {
   "cell_type": "code",
   "execution_count": 354,
   "metadata": {},
   "outputs": [
    {
     "data": {
      "text/plain": [
       "<AxesSubplot:>"
      ]
     },
     "execution_count": 354,
     "metadata": {},
     "output_type": "execute_result"
    },
    {
     "data": {
      "image/png": "[encoded data removed]",
      "text/plain": [
       "<Figure size 1080x216 with 1 Axes>"
      ]
     },
     "metadata": {
      "needs_background": "light"
     },
     "output_type": "display_data"
    }
   ],
   "source": [
    "df['year_of_release'].hist(bins=100, figsize=(15,3))"
   ]
  },
  {
   "cell_type": "code",
   "execution_count": 355,
   "metadata": {},
   "outputs": [
    {
     "data": {
      "text/plain": [
       "name    16444\n",
       "dtype: int64"
      ]
     },
     "execution_count": 355,
     "metadata": {},
     "output_type": "execute_result"
    }
   ],
   "source": [
    "df.pivot_table(index='year_of_release', values='name', aggfunc='count').sum()"
   ]
  },
  {
   "cell_type": "code",
   "execution_count": 356,
   "metadata": {},
   "outputs": [
    {
     "data": {
      "text/plain": [
       "name               486\n",
       "platform           486\n",
       "year_of_release    486\n",
       "genre              486\n",
       "na_sales           486\n",
       "eu_sales           486\n",
       "jp_sales           486\n",
       "other_sales        486\n",
       "critic_score         4\n",
       "user_score           4\n",
       "rating             486\n",
       "total_sales        486\n",
       "dtype: int64"
      ]
     },
     "execution_count": 356,
     "metadata": {},
     "output_type": "execute_result"
    }
   ],
   "source": [
    "df.query('year_of_release<1995').count()"
   ]
  },
  {
   "cell_type": "markdown",
   "metadata": {},
   "source": [
    "Проанализировав данные о количестве проданных игр в период с 1980 по 2016 год можно заметить, что их количество с 1980-1995 намного меньше, чем в остальные годы. Сделаем срез и посчитаем долю в период с 1980-1995 к общему количеству в датафрейме, получаем около 3%, считаю что данные 3% можно исключить из дальнейшего анализа"
   ]
  },
  {
   "cell_type": "code",
   "execution_count": 357,
   "metadata": {},
   "outputs": [],
   "source": [
    "df = df.query('year_of_release>=1995')"
   ]
  },
  {
   "cell_type": "code",
   "execution_count": 358,
   "metadata": {},
   "outputs": [
    {
     "data": {
      "text/plain": [
       "<AxesSubplot:xlabel='platform'>"
      ]
     },
     "execution_count": 358,
     "metadata": {},
     "output_type": "execute_result"
    },
    {
     "data": {
      "image/png": "[encoded data removed]",
      "text/plain": [
       "<Figure size 720x720 with 1 Axes>"
      ]
     },
     "metadata": {
      "needs_background": "light"
     },
     "output_type": "display_data"
    }
   ],
   "source": [
    "df.pivot_table(index='platform', values='total_sales', aggfunc='sum').sort_values(by='total_sales', ascending=False)\\\n",
    ".plot(kind='bar', grid=True, figsize=(10,10))"
   ]
  },
  {
   "cell_type": "markdown",
   "metadata": {},
   "source": [
    "График показывает лидеров по продажам - ps2, X360, ps3, wii, ds, ps. Построим распределение по годам для лидеров по продажам"
   ]
  },
  {
   "cell_type": "code",
   "execution_count": 359,
   "metadata": {},
   "outputs": [
    {
     "data": {
      "text/plain": [
       "<AxesSubplot:xlabel='year_of_release'>"
      ]
     },
     "execution_count": 359,
     "metadata": {},
     "output_type": "execute_result"
    },
    {
     "data": {
      "image/png": "[encoded data removed]",
      "text/plain": [
       "<Figure size 432x288 with 1 Axes>"
      ]
     },
     "metadata": {
      "needs_background": "light"
     },
     "output_type": "display_data"
    }
   ],
   "source": [
    "df.query('platform == \"ps2\"').pivot_table(index='year_of_release', values='total_sales', aggfunc='sum').plot(kind='bar')"
   ]
  },
  {
   "cell_type": "markdown",
   "metadata": {},
   "source": [
    "Максимальные продажи ps2 зафиксированы  в 2002 и 2004"
   ]
  },
  {
   "cell_type": "code",
   "execution_count": 360,
   "metadata": {},
   "outputs": [
    {
     "data": {
      "text/plain": [
       "<AxesSubplot:xlabel='year_of_release'>"
      ]
     },
     "execution_count": 360,
     "metadata": {},
     "output_type": "execute_result"
    },
    {
     "data": {
      "image/png": "[encoded data removed]",
      "text/plain": [
       "<Figure size 432x288 with 1 Axes>"
      ]
     },
     "metadata": {
      "needs_background": "light"
     },
     "output_type": "display_data"
    }
   ],
   "source": [
    "df.query('platform == \"x360\"').pivot_table(index='year_of_release', values='total_sales', aggfunc='sum').plot(kind='bar')\n"
   ]
  },
  {
   "cell_type": "markdown",
   "metadata": {},
   "source": [
    "Максимальные продажи x360 зафиксированы  в 2010 и 2011"
   ]
  },
  {
   "cell_type": "code",
   "execution_count": 361,
   "metadata": {},
   "outputs": [
    {
     "data": {
      "text/plain": [
       "<AxesSubplot:xlabel='year_of_release'>"
      ]
     },
     "execution_count": 361,
     "metadata": {},
     "output_type": "execute_result"
    },
    {
     "data": {
      "image/png": "[encoded data removed]",
      "text/plain": [
       "<Figure size 432x288 with 1 Axes>"
      ]
     },
     "metadata": {
      "needs_background": "light"
     },
     "output_type": "display_data"
    }
   ],
   "source": [
    "df.query('platform == \"ps3\"').pivot_table(index='year_of_release', values='total_sales', aggfunc='sum').plot(kind='bar')\n"
   ]
  },
  {
   "cell_type": "markdown",
   "metadata": {},
   "source": [
    "Максимальные продажи ps3 зафиксированы в 2010 и 2011"
   ]
  },
  {
   "cell_type": "code",
   "execution_count": 362,
   "metadata": {},
   "outputs": [
    {
     "data": {
      "text/plain": [
       "<AxesSubplot:xlabel='year_of_release'>"
      ]
     },
     "execution_count": 362,
     "metadata": {},
     "output_type": "execute_result"
    },
    {
     "data": {
      "image/png": "[encoded data removed]",
      "text/plain": [
       "<Figure size 432x288 with 1 Axes>"
      ]
     },
     "metadata": {
      "needs_background": "light"
     },
     "output_type": "display_data"
    }
   ],
   "source": [
    "df.query('platform == \"wii\"').pivot_table(index='year_of_release', values='total_sales', aggfunc='sum').plot(kind='bar')\n"
   ]
  },
  {
   "cell_type": "markdown",
   "metadata": {},
   "source": [
    "Максимальные продажи wii зафиксированы  в 2009 и 2008"
   ]
  },
  {
   "cell_type": "code",
   "execution_count": 363,
   "metadata": {},
   "outputs": [
    {
     "data": {
      "text/plain": [
       "<AxesSubplot:xlabel='year_of_release'>"
      ]
     },
     "execution_count": 363,
     "metadata": {},
     "output_type": "execute_result"
    },
    {
     "data": {
      "image/png": "[encoded data removed]",
      "text/plain": [
       "<Figure size 432x288 with 1 Axes>"
      ]
     },
     "metadata": {
      "needs_background": "light"
     },
     "output_type": "display_data"
    }
   ],
   "source": [
    "df.query('platform == \"ds\"').pivot_table(index='year_of_release', values='total_sales', aggfunc='sum').plot(kind='bar')\n"
   ]
  },
  {
   "cell_type": "markdown",
   "metadata": {},
   "source": [
    "Максимальные продажи ds зафиксированы в 2007 и 2008"
   ]
  },
  {
   "cell_type": "code",
   "execution_count": 364,
   "metadata": {},
   "outputs": [
    {
     "data": {
      "text/plain": [
       "<AxesSubplot:xlabel='year_of_release'>"
      ]
     },
     "execution_count": 364,
     "metadata": {},
     "output_type": "execute_result"
    },
    {
     "data": {
      "image/png": "[encoded data removed]",
      "text/plain": [
       "<Figure size 432x288 with 1 Axes>"
      ]
     },
     "metadata": {
      "needs_background": "light"
     },
     "output_type": "display_data"
    }
   ],
   "source": [
    "df.query('platform == \"ps\"').pivot_table(index='year_of_release', values='total_sales', aggfunc='sum').plot(kind='bar')\n"
   ]
  },
  {
   "cell_type": "markdown",
   "metadata": {},
   "source": [
    "Максимальные продажи ps зафиксированы  в 1998 и 1999"
   ]
  },
  {
   "cell_type": "markdown",
   "metadata": {},
   "source": [
    "Изучив все графики по лидерам продаж, можно заметить, что графики в целом похожи у всех идет примерно равномерный взлет по продажам, а затем равномерный спад (не считая платформу wii, у этой платформы был резкий скачек в положительную сторону, но затем через некоторое время последовал резкий скачек вниз). Также можно заметить, что средний срок жизни платформы около 10 лет."
   ]
  },
  {
   "cell_type": "markdown",
   "metadata": {},
   "source": [
    "Учитывая вышеизложенное, для дальнейшего анализа возьмем актуальный период 3 года."
   ]
  },
  {
   "cell_type": "code",
   "execution_count": 365,
   "metadata": {},
   "outputs": [],
   "source": [
    "actual_period = df.query('year_of_release >= 2014')"
   ]
  },
  {
   "cell_type": "code",
   "execution_count": 366,
   "metadata": {},
   "outputs": [
    {
     "data": {
      "text/plain": [
       "<AxesSubplot:xlabel='year_of_release'>"
      ]
     },
     "execution_count": 366,
     "metadata": {},
     "output_type": "execute_result"
    },
    {
     "data": {
      "image/png": "[encoded data removed]",
      "text/plain": [
       "<Figure size 720x720 with 1 Axes>"
      ]
     },
     "metadata": {
      "needs_background": "light"
     },
     "output_type": "display_data"
    }
   ],
   "source": [
    "actual_period.pivot_table(index='year_of_release', columns='platform', values='total_sales', aggfunc='sum')\\\n",
    ".plot(figsize=(10,10))\n"
   ]
  },
  {
   "cell_type": "code",
   "execution_count": 367,
   "metadata": {},
   "outputs": [
    {
     "data": {
      "text/html": [
       "<div>\n",
       "<style scoped>\n",
       "    .dataframe tbody tr th:only-of-type {\n",
       "        vertical-align: middle;\n",
       "    }\n",
       "\n",
       "    .dataframe tbody tr th {\n",
       "        vertical-align: top;\n",
       "    }\n",
       "\n",
       "    .dataframe thead th {\n",
       "        text-align: right;\n",
       "    }\n",
       "</style>\n",
       "<table border=\"1\" class=\"dataframe\">\n",
       "  <thead>\n",
       "    <tr style=\"text-align: right;\">\n",
       "      <th>year_of_release</th>\n",
       "      <th>2014</th>\n",
       "      <th>2015</th>\n",
       "      <th>2016</th>\n",
       "    </tr>\n",
       "    <tr>\n",
       "      <th>platform</th>\n",
       "      <th></th>\n",
       "      <th></th>\n",
       "      <th></th>\n",
       "    </tr>\n",
       "  </thead>\n",
       "  <tbody>\n",
       "    <tr>\n",
       "      <th>3ds</th>\n",
       "      <td>43.76</td>\n",
       "      <td>27.78</td>\n",
       "      <td>15.14</td>\n",
       "    </tr>\n",
       "    <tr>\n",
       "      <th>pc</th>\n",
       "      <td>13.28</td>\n",
       "      <td>8.52</td>\n",
       "      <td>5.25</td>\n",
       "    </tr>\n",
       "    <tr>\n",
       "      <th>ps3</th>\n",
       "      <td>47.76</td>\n",
       "      <td>16.82</td>\n",
       "      <td>3.60</td>\n",
       "    </tr>\n",
       "    <tr>\n",
       "      <th>ps4</th>\n",
       "      <td>100.00</td>\n",
       "      <td>118.90</td>\n",
       "      <td>69.25</td>\n",
       "    </tr>\n",
       "    <tr>\n",
       "      <th>psp</th>\n",
       "      <td>0.24</td>\n",
       "      <td>0.12</td>\n",
       "      <td>NaN</td>\n",
       "    </tr>\n",
       "    <tr>\n",
       "      <th>psv</th>\n",
       "      <td>11.90</td>\n",
       "      <td>6.25</td>\n",
       "      <td>4.25</td>\n",
       "    </tr>\n",
       "    <tr>\n",
       "      <th>wii</th>\n",
       "      <td>3.75</td>\n",
       "      <td>1.14</td>\n",
       "      <td>0.18</td>\n",
       "    </tr>\n",
       "    <tr>\n",
       "      <th>wiiu</th>\n",
       "      <td>22.03</td>\n",
       "      <td>16.35</td>\n",
       "      <td>4.60</td>\n",
       "    </tr>\n",
       "    <tr>\n",
       "      <th>x360</th>\n",
       "      <td>34.74</td>\n",
       "      <td>11.96</td>\n",
       "      <td>1.52</td>\n",
       "    </tr>\n",
       "    <tr>\n",
       "      <th>xone</th>\n",
       "      <td>54.07</td>\n",
       "      <td>60.14</td>\n",
       "      <td>26.15</td>\n",
       "    </tr>\n",
       "  </tbody>\n",
       "</table>\n",
       "</div>"
      ],
      "text/plain": [
       "year_of_release    2014    2015   2016\n",
       "platform                              \n",
       "3ds               43.76   27.78  15.14\n",
       "pc                13.28    8.52   5.25\n",
       "ps3               47.76   16.82   3.60\n",
       "ps4              100.00  118.90  69.25\n",
       "psp                0.24    0.12    NaN\n",
       "psv               11.90    6.25   4.25\n",
       "wii                3.75    1.14   0.18\n",
       "wiiu              22.03   16.35   4.60\n",
       "x360              34.74   11.96   1.52\n",
       "xone              54.07   60.14  26.15"
      ]
     },
     "execution_count": 367,
     "metadata": {},
     "output_type": "execute_result"
    }
   ],
   "source": [
    "actual_period.pivot_table(index='platform', columns='year_of_release', values='total_sales', aggfunc='sum')"
   ]
  },
  {
   "cell_type": "markdown",
   "metadata": {},
   "source": [
    "Cудя по графику можно выбрать 3 потенциальных лидеров по продажам 3ds, ps4, xone, так как у остальных значения слишком приближены к 0 в 2016 году, однако можно заметить что продажи у них стремятся вниз."
   ]
  },
  {
   "cell_type": "code",
   "execution_count": 368,
   "metadata": {},
   "outputs": [
    {
     "data": {
      "image/png": "[encoded data removed]",
      "text/plain": [
       "<Figure size 1080x720 with 1 Axes>"
      ]
     },
     "metadata": {
      "needs_background": "light"
     },
     "output_type": "display_data"
    }
   ],
   "source": [
    "plt.figure(figsize=(15,10))\n",
    "sns.boxplot(data=actual_period.query(\"platform in ['3ds', 'ps4', 'xone']\"), x='platform', y='total_sales').\\\n",
    "    set(title='Продажи по платформам', xlabel='Платформы', ylabel='Продажи игр, млн.копий', ylim=(0,2))\n",
    "plt.show()"
   ]
  },
  {
   "cell_type": "markdown",
   "metadata": {},
   "source": [
    "Согласно данным графика из всех 3 платформ самая высокая по продажам согласно медиане - xone, далее ps4 и далее 3ds."
   ]
  },
  {
   "cell_type": "code",
   "execution_count": 369,
   "metadata": {},
   "outputs": [],
   "source": [
    "xone = actual_period.query('platform == \"xone\"')"
   ]
  },
  {
   "cell_type": "code",
   "execution_count": 370,
   "metadata": {},
   "outputs": [
    {
     "data": {
      "text/plain": [
       "<AxesSubplot:xlabel='critic_score', ylabel='total_sales'>"
      ]
     },
     "execution_count": 370,
     "metadata": {},
     "output_type": "execute_result"
    },
    {
     "data": {
      "image/png": "[encoded data removed]",
      "text/plain": [
       "<Figure size 432x288 with 1 Axes>"
      ]
     },
     "metadata": {
      "needs_background": "light"
     },
     "output_type": "display_data"
    }
   ],
   "source": [
    "xone.plot(x='critic_score', y='total_sales', kind='scatter')"
   ]
  },
  {
   "cell_type": "code",
   "execution_count": 371,
   "metadata": {},
   "outputs": [
    {
     "data": {
      "text/plain": [
       "0.42867694370333226"
      ]
     },
     "execution_count": 371,
     "metadata": {},
     "output_type": "execute_result"
    }
   ],
   "source": [
    "xone['total_sales'].corr(actual_period['critic_score'])"
   ]
  },
  {
   "cell_type": "code",
   "execution_count": 372,
   "metadata": {},
   "outputs": [
    {
     "data": {
      "text/plain": [
       "<AxesSubplot:xlabel='user_score', ylabel='total_sales'>"
      ]
     },
     "execution_count": 372,
     "metadata": {},
     "output_type": "execute_result"
    },
    {
     "data": {
      "image/png": "[encoded data removed]",
      "text/plain": [
       "<Figure size 432x288 with 1 Axes>"
      ]
     },
     "metadata": {
      "needs_background": "light"
     },
     "output_type": "display_data"
    }
   ],
   "source": [
    "xone.plot(x='user_score', y='total_sales', kind='scatter')"
   ]
  },
  {
   "cell_type": "code",
   "execution_count": 373,
   "metadata": {},
   "outputs": [
    {
     "data": {
      "text/plain": [
       "-0.0703839280647581"
      ]
     },
     "execution_count": 373,
     "metadata": {},
     "output_type": "execute_result"
    }
   ],
   "source": [
    "xone['total_sales'].corr(actual_period['user_score'])"
   ]
  },
  {
   "cell_type": "markdown",
   "metadata": {},
   "source": [
    "Построив диаграммы рассеяния и посчитав коэффициент корреляции можно заметить, что взаимосвязь между оценками пользователей и продажами практически нет, а взаимосвязь между оценками критиков и продажами намного больше (в 7 раз), хотя и не сильная, но связь прослеживается"
   ]
  },
  {
   "cell_type": "code",
   "execution_count": 374,
   "metadata": {},
   "outputs": [],
   "source": [
    "three_ds = actual_period.query('platform == \"3ds\"')\n",
    "ps4 = actual_period.query('platform == \"ps4\"')"
   ]
  },
  {
   "cell_type": "code",
   "execution_count": 375,
   "metadata": {},
   "outputs": [
    {
     "data": {
      "text/plain": [
       "0.31411749286905105"
      ]
     },
     "execution_count": 375,
     "metadata": {},
     "output_type": "execute_result"
    }
   ],
   "source": [
    "three_ds['total_sales'].corr(actual_period['critic_score'])"
   ]
  },
  {
   "cell_type": "code",
   "execution_count": 376,
   "metadata": {},
   "outputs": [
    {
     "data": {
      "text/plain": [
       "0.2151932718527028"
      ]
     },
     "execution_count": 376,
     "metadata": {},
     "output_type": "execute_result"
    }
   ],
   "source": [
    "three_ds['total_sales'].corr(actual_period['user_score'])"
   ]
  },
  {
   "cell_type": "code",
   "execution_count": 377,
   "metadata": {},
   "outputs": [
    {
     "data": {
      "text/plain": [
       "0.40266141068104083"
      ]
     },
     "execution_count": 377,
     "metadata": {},
     "output_type": "execute_result"
    }
   ],
   "source": [
    "ps4['total_sales'].corr(actual_period['critic_score'])"
   ]
  },
  {
   "cell_type": "code",
   "execution_count": 378,
   "metadata": {},
   "outputs": [
    {
     "data": {
      "text/plain": [
       "-0.040131589472697356"
      ]
     },
     "execution_count": 378,
     "metadata": {},
     "output_type": "execute_result"
    }
   ],
   "source": [
    "ps4['total_sales'].corr(actual_period['user_score'])"
   ]
  },
  {
   "cell_type": "markdown",
   "metadata": {},
   "source": [
    "Похожую ситуацию можно заметить и у платформы ps4, однако у платформы 3ds зависимоть от оценок пользователей явно больше "
   ]
  },
  {
   "cell_type": "markdown",
   "metadata": {},
   "source": [
    "Посмотрим с чем связана такая зависимость у 3ds"
   ]
  },
  {
   "cell_type": "code",
   "execution_count": 379,
   "metadata": {},
   "outputs": [
    {
     "name": "stdout",
     "output_type": "stream",
     "text": [
      "<class 'pandas.core.frame.DataFrame'>\n",
      "Int64Index: 212 entries, 47 to 16677\n",
      "Data columns (total 12 columns):\n",
      " #   Column           Non-Null Count  Dtype  \n",
      "---  ------           --------------  -----  \n",
      " 0   name             212 non-null    object \n",
      " 1   platform         212 non-null    object \n",
      " 2   year_of_release  212 non-null    int64  \n",
      " 3   genre            212 non-null    object \n",
      " 4   na_sales         212 non-null    float64\n",
      " 5   eu_sales         212 non-null    float64\n",
      " 6   jp_sales         212 non-null    float64\n",
      " 7   other_sales      212 non-null    float64\n",
      " 8   critic_score     51 non-null     float64\n",
      " 9   user_score       55 non-null     float64\n",
      " 10  rating           212 non-null    object \n",
      " 11  total_sales      212 non-null    float64\n",
      "dtypes: float64(7), int64(1), object(4)\n",
      "memory usage: 29.6+ KB\n"
     ]
    }
   ],
   "source": [
    "three_ds.info()"
   ]
  },
  {
   "cell_type": "code",
   "execution_count": 380,
   "metadata": {},
   "outputs": [
    {
     "data": {
      "text/plain": [
       "0.333984375"
      ]
     },
     "execution_count": 380,
     "metadata": {},
     "output_type": "execute_result"
    }
   ],
   "source": [
    "171/512"
   ]
  },
  {
   "cell_type": "code",
   "execution_count": 381,
   "metadata": {},
   "outputs": [
    {
     "name": "stdout",
     "output_type": "stream",
     "text": [
      "<class 'pandas.core.frame.DataFrame'>\n",
      "Int64Index: 228 entries, 99 to 16672\n",
      "Data columns (total 12 columns):\n",
      " #   Column           Non-Null Count  Dtype  \n",
      "---  ------           --------------  -----  \n",
      " 0   name             228 non-null    object \n",
      " 1   platform         228 non-null    object \n",
      " 2   year_of_release  228 non-null    int64  \n",
      " 3   genre            228 non-null    object \n",
      " 4   na_sales         228 non-null    float64\n",
      " 5   eu_sales         228 non-null    float64\n",
      " 6   jp_sales         228 non-null    float64\n",
      " 7   other_sales      228 non-null    float64\n",
      " 8   critic_score     155 non-null    float64\n",
      " 9   user_score       165 non-null    float64\n",
      " 10  rating           228 non-null    object \n",
      " 11  total_sales      228 non-null    float64\n",
      "dtypes: float64(7), int64(1), object(4)\n",
      "memory usage: 31.3+ KB\n"
     ]
    }
   ],
   "source": [
    "xone.info()"
   ]
  },
  {
   "cell_type": "code",
   "execution_count": 382,
   "metadata": {},
   "outputs": [
    {
     "data": {
      "text/plain": [
       "0.7368421052631579"
      ]
     },
     "execution_count": 382,
     "metadata": {},
     "output_type": "execute_result"
    }
   ],
   "source": [
    "182/247"
   ]
  },
  {
   "cell_type": "code",
   "execution_count": 383,
   "metadata": {},
   "outputs": [
    {
     "name": "stdout",
     "output_type": "stream",
     "text": [
      "<class 'pandas.core.frame.DataFrame'>\n",
      "Int64Index: 376 entries, 31 to 16585\n",
      "Data columns (total 12 columns):\n",
      " #   Column           Non-Null Count  Dtype  \n",
      "---  ------           --------------  -----  \n",
      " 0   name             376 non-null    object \n",
      " 1   platform         376 non-null    object \n",
      " 2   year_of_release  376 non-null    int64  \n",
      " 3   genre            376 non-null    object \n",
      " 4   na_sales         376 non-null    float64\n",
      " 5   eu_sales         376 non-null    float64\n",
      " 6   jp_sales         376 non-null    float64\n",
      " 7   other_sales      376 non-null    float64\n",
      " 8   critic_score     237 non-null    float64\n",
      " 9   user_score       242 non-null    float64\n",
      " 10  rating           376 non-null    object \n",
      " 11  total_sales      376 non-null    float64\n",
      "dtypes: float64(7), int64(1), object(4)\n",
      "memory usage: 46.3+ KB\n"
     ]
    }
   ],
   "source": [
    "ps4.info()"
   ]
  },
  {
   "cell_type": "code",
   "execution_count": 384,
   "metadata": {},
   "outputs": [
    {
     "data": {
      "text/plain": [
       "0.6556122448979592"
      ]
     },
     "execution_count": 384,
     "metadata": {},
     "output_type": "execute_result"
    }
   ],
   "source": [
    "257/392"
   ]
  },
  {
   "cell_type": "markdown",
   "metadata": {},
   "source": [
    "После подсчета доли отзывов пользователей к количеству игр можно заметить, что только у 3ds она составляет менее 50%, так как в данных много пропусков, в связи с чем считаю, что нельзя принимать корреляцию 3ds, которую делали ранее за истину"
   ]
  },
  {
   "cell_type": "code",
   "execution_count": 385,
   "metadata": {},
   "outputs": [
    {
     "data": {
      "text/html": [
       "<div>\n",
       "<style scoped>\n",
       "    .dataframe tbody tr th:only-of-type {\n",
       "        vertical-align: middle;\n",
       "    }\n",
       "\n",
       "    .dataframe tbody tr th {\n",
       "        vertical-align: top;\n",
       "    }\n",
       "\n",
       "    .dataframe thead th {\n",
       "        text-align: right;\n",
       "    }\n",
       "</style>\n",
       "<table border=\"1\" class=\"dataframe\">\n",
       "  <thead>\n",
       "    <tr style=\"text-align: right;\">\n",
       "      <th></th>\n",
       "      <th>total_sales</th>\n",
       "    </tr>\n",
       "    <tr>\n",
       "      <th>genre</th>\n",
       "      <th></th>\n",
       "    </tr>\n",
       "  </thead>\n",
       "  <tbody>\n",
       "    <tr>\n",
       "      <th>action</th>\n",
       "      <td>199.36</td>\n",
       "    </tr>\n",
       "    <tr>\n",
       "      <th>shooter</th>\n",
       "      <td>170.94</td>\n",
       "    </tr>\n",
       "    <tr>\n",
       "      <th>sports</th>\n",
       "      <td>109.48</td>\n",
       "    </tr>\n",
       "    <tr>\n",
       "      <th>role-playing</th>\n",
       "      <td>101.44</td>\n",
       "    </tr>\n",
       "    <tr>\n",
       "      <th>misc</th>\n",
       "      <td>37.55</td>\n",
       "    </tr>\n",
       "    <tr>\n",
       "      <th>fighting</th>\n",
       "      <td>28.22</td>\n",
       "    </tr>\n",
       "    <tr>\n",
       "      <th>racing</th>\n",
       "      <td>27.52</td>\n",
       "    </tr>\n",
       "    <tr>\n",
       "      <th>platform</th>\n",
       "      <td>18.09</td>\n",
       "    </tr>\n",
       "    <tr>\n",
       "      <th>adventure</th>\n",
       "      <td>17.55</td>\n",
       "    </tr>\n",
       "    <tr>\n",
       "      <th>simulation</th>\n",
       "      <td>13.13</td>\n",
       "    </tr>\n",
       "    <tr>\n",
       "      <th>strategy</th>\n",
       "      <td>3.96</td>\n",
       "    </tr>\n",
       "    <tr>\n",
       "      <th>puzzle</th>\n",
       "      <td>2.21</td>\n",
       "    </tr>\n",
       "  </tbody>\n",
       "</table>\n",
       "</div>"
      ],
      "text/plain": [
       "              total_sales\n",
       "genre                    \n",
       "action             199.36\n",
       "shooter            170.94\n",
       "sports             109.48\n",
       "role-playing       101.44\n",
       "misc                37.55\n",
       "fighting            28.22\n",
       "racing              27.52\n",
       "platform            18.09\n",
       "adventure           17.55\n",
       "simulation          13.13\n",
       "strategy             3.96\n",
       "puzzle               2.21"
      ]
     },
     "execution_count": 385,
     "metadata": {},
     "output_type": "execute_result"
    }
   ],
   "source": [
    "actual_period.pivot_table(index='genre', values = 'total_sales', aggfunc='sum').sort_values(by ='total_sales',ascending=False)\n"
   ]
  },
  {
   "cell_type": "code",
   "execution_count": 386,
   "metadata": {},
   "outputs": [
    {
     "data": {
      "image/png": "[encoded data removed]",
      "text/plain": [
       "<Figure size 864x864 with 1 Axes>"
      ]
     },
     "metadata": {},
     "output_type": "display_data"
    }
   ],
   "source": [
    "actual_period.pivot_table(index='genre', values = 'total_sales', aggfunc='sum')\\\n",
    ".sort_values(by ='total_sales',ascending=False)\\\n",
    ".plot(kind='pie', y= 'total_sales', figsize=(12,12), autopct='%1.0f%%');\n"
   ]
  },
  {
   "cell_type": "markdown",
   "metadata": {},
   "source": [
    "Изучив информацию по продажам игр относительно жанров можно заметить, что самый популярным является жанр action, самые низкие продажи показывает жанр strategy (более чем в 15 раз ниже) "
   ]
  },
  {
   "cell_type": "code",
   "execution_count": 387,
   "metadata": {},
   "outputs": [
    {
     "data": {
      "image/png": "[encoded data removed]",
      "text/plain": [
       "<Figure size 864x864 with 1 Axes>"
      ]
     },
     "metadata": {},
     "output_type": "display_data"
    }
   ],
   "source": [
    "actual_period.pivot_table(index='genre', values = 'total_sales', aggfunc='median')\\\n",
    ".sort_values(by ='total_sales',ascending=False)\\\n",
    ".plot(kind='pie', y= 'total_sales', figsize=(12,12), autopct='%1.0f%%');"
   ]
  },
  {
   "cell_type": "markdown",
   "metadata": {},
   "source": [
    "Изучив диаграмму по медианным значениям общих продаж, можно заметить, что более стабильные продажи приносит жанр shooter, а самые низкие продажи у жанра advanture."
   ]
  },
  {
   "cell_type": "markdown",
   "metadata": {},
   "source": [
    "# Шаг 4 портрет пользователя каждого региона"
   ]
  },
  {
   "cell_type": "markdown",
   "metadata": {},
   "source": [
    "Проанилизируем продажи в разных регионах по платформам и выведем топ 5"
   ]
  },
  {
   "cell_type": "code",
   "execution_count": 388,
   "metadata": {},
   "outputs": [
    {
     "data": {
      "text/plain": [
       "<AxesSubplot:xlabel='platform'>"
      ]
     },
     "execution_count": 388,
     "metadata": {},
     "output_type": "execute_result"
    },
    {
     "data": {
      "image/png": "[encoded data removed]",
      "text/plain": [
       "<Figure size 1080x720 with 1 Axes>"
      ]
     },
     "metadata": {
      "needs_background": "light"
     },
     "output_type": "display_data"
    }
   ],
   "source": [
    "actual_period.pivot_table(index='platform', values='na_sales', aggfunc='sum').sort_values(by='na_sales', ascending=False)\\\n",
    ".plot(kind='bar', figsize=(15,10))"
   ]
  },
  {
   "cell_type": "code",
   "execution_count": 389,
   "metadata": {},
   "outputs": [
    {
     "data": {
      "text/plain": [
       "<AxesSubplot:xlabel='platform'>"
      ]
     },
     "execution_count": 389,
     "metadata": {},
     "output_type": "execute_result"
    },
    {
     "data": {
      "image/png": "[encoded data removed]",
      "text/plain": [
       "<Figure size 1080x720 with 1 Axes>"
      ]
     },
     "metadata": {
      "needs_background": "light"
     },
     "output_type": "display_data"
    }
   ],
   "source": [
    "actual_period.pivot_table(index='platform', values='eu_sales', aggfunc='sum').sort_values(by='eu_sales', ascending=False)\\\n",
    ".plot(kind='bar', figsize=(15,10))"
   ]
  },
  {
   "cell_type": "code",
   "execution_count": 390,
   "metadata": {},
   "outputs": [
    {
     "data": {
      "text/plain": [
       "<AxesSubplot:xlabel='platform'>"
      ]
     },
     "execution_count": 390,
     "metadata": {},
     "output_type": "execute_result"
    },
    {
     "data": {
      "image/png": "[encoded data removed]",
      "text/plain": [
       "<Figure size 1080x720 with 1 Axes>"
      ]
     },
     "metadata": {
      "needs_background": "light"
     },
     "output_type": "display_data"
    }
   ],
   "source": [
    "actual_period.pivot_table(index='platform', values='jp_sales', aggfunc='sum').sort_values(by='jp_sales', ascending=False)\\\n",
    ".plot(kind='bar', figsize=(15,10))"
   ]
  },
  {
   "cell_type": "markdown",
   "metadata": {},
   "source": [
    "Рассмотрим различия 5 полпулярных платформ в долях продаж"
   ]
  },
  {
   "cell_type": "code",
   "execution_count": 391,
   "metadata": {},
   "outputs": [],
   "source": [
    "percent_na = actual_period.pivot_table(index='platform', values='na_sales', aggfunc='sum')\\\n",
    ".sort_values(by='na_sales', ascending=False)\n",
    "\n"
   ]
  },
  {
   "cell_type": "code",
   "execution_count": 392,
   "metadata": {},
   "outputs": [],
   "source": [
    "percent_na['na_%'] = round(percent_na['na_sales']*100/(percent_na['na_sales'].sum()))\n"
   ]
  },
  {
   "cell_type": "code",
   "execution_count": 393,
   "metadata": {},
   "outputs": [
    {
     "data": {
      "text/html": [
       "<div>\n",
       "<style scoped>\n",
       "    .dataframe tbody tr th:only-of-type {\n",
       "        vertical-align: middle;\n",
       "    }\n",
       "\n",
       "    .dataframe tbody tr th {\n",
       "        vertical-align: top;\n",
       "    }\n",
       "\n",
       "    .dataframe thead th {\n",
       "        text-align: right;\n",
       "    }\n",
       "</style>\n",
       "<table border=\"1\" class=\"dataframe\">\n",
       "  <thead>\n",
       "    <tr style=\"text-align: right;\">\n",
       "      <th></th>\n",
       "      <th>na_sales</th>\n",
       "      <th>na_%</th>\n",
       "    </tr>\n",
       "    <tr>\n",
       "      <th>platform</th>\n",
       "      <th></th>\n",
       "      <th></th>\n",
       "    </tr>\n",
       "  </thead>\n",
       "  <tbody>\n",
       "    <tr>\n",
       "      <th>ps4</th>\n",
       "      <td>98.61</td>\n",
       "      <td>35.0</td>\n",
       "    </tr>\n",
       "    <tr>\n",
       "      <th>xone</th>\n",
       "      <td>81.27</td>\n",
       "      <td>29.0</td>\n",
       "    </tr>\n",
       "    <tr>\n",
       "      <th>x360</th>\n",
       "      <td>28.30</td>\n",
       "      <td>10.0</td>\n",
       "    </tr>\n",
       "    <tr>\n",
       "      <th>3ds</th>\n",
       "      <td>22.64</td>\n",
       "      <td>8.0</td>\n",
       "    </tr>\n",
       "    <tr>\n",
       "      <th>ps3</th>\n",
       "      <td>22.05</td>\n",
       "      <td>8.0</td>\n",
       "    </tr>\n",
       "  </tbody>\n",
       "</table>\n",
       "</div>"
      ],
      "text/plain": [
       "          na_sales  na_%\n",
       "platform                \n",
       "ps4          98.61  35.0\n",
       "xone         81.27  29.0\n",
       "x360         28.30  10.0\n",
       "3ds          22.64   8.0\n",
       "ps3          22.05   8.0"
      ]
     },
     "execution_count": 393,
     "metadata": {},
     "output_type": "execute_result"
    }
   ],
   "source": [
    "percent_na.head()"
   ]
  },
  {
   "cell_type": "code",
   "execution_count": 394,
   "metadata": {},
   "outputs": [],
   "source": [
    "percent_eu = actual_period.pivot_table(index='platform', values='eu_sales', aggfunc='sum')\\\n",
    ".sort_values(by='eu_sales', ascending=False)"
   ]
  },
  {
   "cell_type": "code",
   "execution_count": 395,
   "metadata": {},
   "outputs": [],
   "source": [
    "percent_eu['eu_%'] = round(percent_eu['eu_sales']*100/(percent_eu['eu_sales'].sum()))"
   ]
  },
  {
   "cell_type": "code",
   "execution_count": 396,
   "metadata": {},
   "outputs": [
    {
     "data": {
      "text/html": [
       "<div>\n",
       "<style scoped>\n",
       "    .dataframe tbody tr th:only-of-type {\n",
       "        vertical-align: middle;\n",
       "    }\n",
       "\n",
       "    .dataframe tbody tr th {\n",
       "        vertical-align: top;\n",
       "    }\n",
       "\n",
       "    .dataframe thead th {\n",
       "        text-align: right;\n",
       "    }\n",
       "</style>\n",
       "<table border=\"1\" class=\"dataframe\">\n",
       "  <thead>\n",
       "    <tr style=\"text-align: right;\">\n",
       "      <th></th>\n",
       "      <th>eu_sales</th>\n",
       "      <th>eu_%</th>\n",
       "    </tr>\n",
       "    <tr>\n",
       "      <th>platform</th>\n",
       "      <th></th>\n",
       "      <th></th>\n",
       "    </tr>\n",
       "  </thead>\n",
       "  <tbody>\n",
       "    <tr>\n",
       "      <th>ps4</th>\n",
       "      <td>130.04</td>\n",
       "      <td>48.0</td>\n",
       "    </tr>\n",
       "    <tr>\n",
       "      <th>xone</th>\n",
       "      <td>46.25</td>\n",
       "      <td>17.0</td>\n",
       "    </tr>\n",
       "    <tr>\n",
       "      <th>ps3</th>\n",
       "      <td>25.54</td>\n",
       "      <td>9.0</td>\n",
       "    </tr>\n",
       "    <tr>\n",
       "      <th>pc</th>\n",
       "      <td>17.97</td>\n",
       "      <td>7.0</td>\n",
       "    </tr>\n",
       "    <tr>\n",
       "      <th>3ds</th>\n",
       "      <td>16.12</td>\n",
       "      <td>6.0</td>\n",
       "    </tr>\n",
       "  </tbody>\n",
       "</table>\n",
       "</div>"
      ],
      "text/plain": [
       "          eu_sales  eu_%\n",
       "platform                \n",
       "ps4         130.04  48.0\n",
       "xone         46.25  17.0\n",
       "ps3          25.54   9.0\n",
       "pc           17.97   7.0\n",
       "3ds          16.12   6.0"
      ]
     },
     "execution_count": 396,
     "metadata": {},
     "output_type": "execute_result"
    }
   ],
   "source": [
    "percent_eu.head()"
   ]
  },
  {
   "cell_type": "code",
   "execution_count": 397,
   "metadata": {},
   "outputs": [],
   "source": [
    "percent_jp = actual_period.pivot_table(index='platform', values='jp_sales', aggfunc='sum')\\\n",
    ".sort_values(by='jp_sales', ascending=False)"
   ]
  },
  {
   "cell_type": "code",
   "execution_count": 398,
   "metadata": {},
   "outputs": [],
   "source": [
    "percent_jp['jp_%'] = round(percent_jp['jp_sales']*100/(percent_jp['jp_sales'].sum()))"
   ]
  },
  {
   "cell_type": "code",
   "execution_count": 399,
   "metadata": {},
   "outputs": [
    {
     "data": {
      "text/html": [
       "<div>\n",
       "<style scoped>\n",
       "    .dataframe tbody tr th:only-of-type {\n",
       "        vertical-align: middle;\n",
       "    }\n",
       "\n",
       "    .dataframe tbody tr th {\n",
       "        vertical-align: top;\n",
       "    }\n",
       "\n",
       "    .dataframe thead th {\n",
       "        text-align: right;\n",
       "    }\n",
       "</style>\n",
       "<table border=\"1\" class=\"dataframe\">\n",
       "  <thead>\n",
       "    <tr style=\"text-align: right;\">\n",
       "      <th></th>\n",
       "      <th>jp_sales</th>\n",
       "      <th>jp_%</th>\n",
       "    </tr>\n",
       "    <tr>\n",
       "      <th>platform</th>\n",
       "      <th></th>\n",
       "      <th></th>\n",
       "    </tr>\n",
       "  </thead>\n",
       "  <tbody>\n",
       "    <tr>\n",
       "      <th>3ds</th>\n",
       "      <td>44.24</td>\n",
       "      <td>48.0</td>\n",
       "    </tr>\n",
       "    <tr>\n",
       "      <th>ps4</th>\n",
       "      <td>15.02</td>\n",
       "      <td>16.0</td>\n",
       "    </tr>\n",
       "    <tr>\n",
       "      <th>psv</th>\n",
       "      <td>14.54</td>\n",
       "      <td>16.0</td>\n",
       "    </tr>\n",
       "    <tr>\n",
       "      <th>ps3</th>\n",
       "      <td>11.22</td>\n",
       "      <td>12.0</td>\n",
       "    </tr>\n",
       "    <tr>\n",
       "      <th>wiiu</th>\n",
       "      <td>7.31</td>\n",
       "      <td>8.0</td>\n",
       "    </tr>\n",
       "  </tbody>\n",
       "</table>\n",
       "</div>"
      ],
      "text/plain": [
       "          jp_sales  jp_%\n",
       "platform                \n",
       "3ds          44.24  48.0\n",
       "ps4          15.02  16.0\n",
       "psv          14.54  16.0\n",
       "ps3          11.22  12.0\n",
       "wiiu          7.31   8.0"
      ]
     },
     "execution_count": 399,
     "metadata": {},
     "output_type": "execute_result"
    }
   ],
   "source": [
    "percent_jp.head()"
   ]
  },
  {
   "cell_type": "markdown",
   "metadata": {},
   "source": [
    "Визуализируем полученные результаты"
   ]
  },
  {
   "cell_type": "code",
   "execution_count": 400,
   "metadata": {},
   "outputs": [
    {
     "data": {
      "text/plain": [
       "<AxesSubplot:ylabel='jp_%'>"
      ]
     },
     "execution_count": 400,
     "metadata": {},
     "output_type": "execute_result"
    },
    {
     "data": {
      "image/png": "[encoded data removed]",
      "text/plain": [
       "<Figure size 504x504 with 1 Axes>"
      ]
     },
     "metadata": {},
     "output_type": "display_data"
    },
    {
     "data": {
      "image/png": "[encoded data removed]",
      "text/plain": [
       "<Figure size 504x504 with 1 Axes>"
      ]
     },
     "metadata": {},
     "output_type": "display_data"
    },
    {
     "data": {
      "image/png": "[encoded data removed]",
      "text/plain": [
       "<Figure size 504x504 with 1 Axes>"
      ]
     },
     "metadata": {},
     "output_type": "display_data"
    }
   ],
   "source": [
    "percent_na.head().plot(kind='pie', y='na_%', figsize=(7,7), autopct='%1.0f%%')\n",
    "percent_eu.head().plot(kind='pie', y='eu_%', figsize=(7,7), autopct='%1.0f%%')\n",
    "percent_jp.head().plot(kind='pie', y='jp_%', figsize=(7,7), autopct='%1.0f%%')"
   ]
  },
  {
   "cell_type": "markdown",
   "metadata": {},
   "source": [
    "По выбранному периоду можно заметить, что в Америке и Европе самой популярной платформой является ps4, а в Японии 3ds."
   ]
  },
  {
   "cell_type": "markdown",
   "metadata": {},
   "source": [
    "Изучим топ 5 самых популярных жанров в регионах"
   ]
  },
  {
   "cell_type": "code",
   "execution_count": 401,
   "metadata": {},
   "outputs": [
    {
     "data": {
      "text/html": [
       "<div>\n",
       "<style scoped>\n",
       "    .dataframe tbody tr th:only-of-type {\n",
       "        vertical-align: middle;\n",
       "    }\n",
       "\n",
       "    .dataframe tbody tr th {\n",
       "        vertical-align: top;\n",
       "    }\n",
       "\n",
       "    .dataframe thead th {\n",
       "        text-align: right;\n",
       "    }\n",
       "</style>\n",
       "<table border=\"1\" class=\"dataframe\">\n",
       "  <thead>\n",
       "    <tr style=\"text-align: right;\">\n",
       "      <th></th>\n",
       "      <th>na_sales</th>\n",
       "    </tr>\n",
       "    <tr>\n",
       "      <th>genre</th>\n",
       "      <th></th>\n",
       "    </tr>\n",
       "  </thead>\n",
       "  <tbody>\n",
       "    <tr>\n",
       "      <th>shooter</th>\n",
       "      <td>79.02</td>\n",
       "    </tr>\n",
       "    <tr>\n",
       "      <th>action</th>\n",
       "      <td>72.53</td>\n",
       "    </tr>\n",
       "    <tr>\n",
       "      <th>sports</th>\n",
       "      <td>46.13</td>\n",
       "    </tr>\n",
       "    <tr>\n",
       "      <th>role-playing</th>\n",
       "      <td>33.47</td>\n",
       "    </tr>\n",
       "    <tr>\n",
       "      <th>misc</th>\n",
       "      <td>15.05</td>\n",
       "    </tr>\n",
       "  </tbody>\n",
       "</table>\n",
       "</div>"
      ],
      "text/plain": [
       "              na_sales\n",
       "genre                 \n",
       "shooter          79.02\n",
       "action           72.53\n",
       "sports           46.13\n",
       "role-playing     33.47\n",
       "misc             15.05"
      ]
     },
     "execution_count": 401,
     "metadata": {},
     "output_type": "execute_result"
    }
   ],
   "source": [
    "actual_period.pivot_table(index='genre', values='na_sales', aggfunc='sum').sort_values(by='na_sales', ascending=False).head()"
   ]
  },
  {
   "cell_type": "code",
   "execution_count": 402,
   "metadata": {},
   "outputs": [
    {
     "data": {
      "text/html": [
       "<div>\n",
       "<style scoped>\n",
       "    .dataframe tbody tr th:only-of-type {\n",
       "        vertical-align: middle;\n",
       "    }\n",
       "\n",
       "    .dataframe tbody tr th {\n",
       "        vertical-align: top;\n",
       "    }\n",
       "\n",
       "    .dataframe thead th {\n",
       "        text-align: right;\n",
       "    }\n",
       "</style>\n",
       "<table border=\"1\" class=\"dataframe\">\n",
       "  <thead>\n",
       "    <tr style=\"text-align: right;\">\n",
       "      <th></th>\n",
       "      <th>eu_sales</th>\n",
       "    </tr>\n",
       "    <tr>\n",
       "      <th>genre</th>\n",
       "      <th></th>\n",
       "    </tr>\n",
       "  </thead>\n",
       "  <tbody>\n",
       "    <tr>\n",
       "      <th>action</th>\n",
       "      <td>74.68</td>\n",
       "    </tr>\n",
       "    <tr>\n",
       "      <th>shooter</th>\n",
       "      <td>65.52</td>\n",
       "    </tr>\n",
       "    <tr>\n",
       "      <th>sports</th>\n",
       "      <td>45.73</td>\n",
       "    </tr>\n",
       "    <tr>\n",
       "      <th>role-playing</th>\n",
       "      <td>28.17</td>\n",
       "    </tr>\n",
       "    <tr>\n",
       "      <th>racing</th>\n",
       "      <td>14.13</td>\n",
       "    </tr>\n",
       "  </tbody>\n",
       "</table>\n",
       "</div>"
      ],
      "text/plain": [
       "              eu_sales\n",
       "genre                 \n",
       "action           74.68\n",
       "shooter          65.52\n",
       "sports           45.73\n",
       "role-playing     28.17\n",
       "racing           14.13"
      ]
     },
     "execution_count": 402,
     "metadata": {},
     "output_type": "execute_result"
    }
   ],
   "source": [
    "actual_period.pivot_table(index='genre', values='eu_sales', aggfunc='sum').sort_values(by='eu_sales', ascending=False).head()"
   ]
  },
  {
   "cell_type": "code",
   "execution_count": 403,
   "metadata": {},
   "outputs": [
    {
     "data": {
      "text/html": [
       "<div>\n",
       "<style scoped>\n",
       "    .dataframe tbody tr th:only-of-type {\n",
       "        vertical-align: middle;\n",
       "    }\n",
       "\n",
       "    .dataframe tbody tr th {\n",
       "        vertical-align: top;\n",
       "    }\n",
       "\n",
       "    .dataframe thead th {\n",
       "        text-align: right;\n",
       "    }\n",
       "</style>\n",
       "<table border=\"1\" class=\"dataframe\">\n",
       "  <thead>\n",
       "    <tr style=\"text-align: right;\">\n",
       "      <th></th>\n",
       "      <th>jp_sales</th>\n",
       "    </tr>\n",
       "    <tr>\n",
       "      <th>genre</th>\n",
       "      <th></th>\n",
       "    </tr>\n",
       "  </thead>\n",
       "  <tbody>\n",
       "    <tr>\n",
       "      <th>role-playing</th>\n",
       "      <td>31.16</td>\n",
       "    </tr>\n",
       "    <tr>\n",
       "      <th>action</th>\n",
       "      <td>29.58</td>\n",
       "    </tr>\n",
       "    <tr>\n",
       "      <th>fighting</th>\n",
       "      <td>6.37</td>\n",
       "    </tr>\n",
       "    <tr>\n",
       "      <th>misc</th>\n",
       "      <td>5.61</td>\n",
       "    </tr>\n",
       "    <tr>\n",
       "      <th>shooter</th>\n",
       "      <td>4.87</td>\n",
       "    </tr>\n",
       "  </tbody>\n",
       "</table>\n",
       "</div>"
      ],
      "text/plain": [
       "              jp_sales\n",
       "genre                 \n",
       "role-playing     31.16\n",
       "action           29.58\n",
       "fighting          6.37\n",
       "misc              5.61\n",
       "shooter           4.87"
      ]
     },
     "execution_count": 403,
     "metadata": {},
     "output_type": "execute_result"
    }
   ],
   "source": [
    "actual_period.pivot_table(index='genre', values='jp_sales', aggfunc='sum').sort_values(by='jp_sales', ascending=False).head()"
   ]
  },
  {
   "cell_type": "markdown",
   "metadata": {},
   "source": [
    "Изучив данные можно заметить, что в Америке и Европе предпочтения по жанрам сходятся - action и shooter (в основном это командные игры, в которые можно играть компанией, как дома, так и в различных заведениях), однако в Японии преобладает жанр role-playing (в своей основной массе это одиночные игры) предположительно это связано с жизнеными устоями и культурой жителей Японии, еще в 1990 годы появился термин \"хикикомори\"(нахождение в уединении) и насчитывал около 1 млн. людей, как в подростковом возрасте, так и в возрасте 30-40 лет."
   ]
  },
  {
   "cell_type": "markdown",
   "metadata": {},
   "source": [
    "Посмотрим, как влияет рейтинг на продажи в разных регионах"
   ]
  },
  {
   "cell_type": "code",
   "execution_count": 404,
   "metadata": {},
   "outputs": [
    {
     "data": {
      "text/html": [
       "<div>\n",
       "<style scoped>\n",
       "    .dataframe tbody tr th:only-of-type {\n",
       "        vertical-align: middle;\n",
       "    }\n",
       "\n",
       "    .dataframe tbody tr th {\n",
       "        vertical-align: top;\n",
       "    }\n",
       "\n",
       "    .dataframe thead th {\n",
       "        text-align: right;\n",
       "    }\n",
       "</style>\n",
       "<table border=\"1\" class=\"dataframe\">\n",
       "  <thead>\n",
       "    <tr style=\"text-align: right;\">\n",
       "      <th></th>\n",
       "      <th>eu_sales</th>\n",
       "      <th>jp_sales</th>\n",
       "      <th>na_sales</th>\n",
       "    </tr>\n",
       "    <tr>\n",
       "      <th>rating</th>\n",
       "      <th></th>\n",
       "      <th></th>\n",
       "      <th></th>\n",
       "    </tr>\n",
       "  </thead>\n",
       "  <tbody>\n",
       "    <tr>\n",
       "      <th>E</th>\n",
       "      <td>58.06</td>\n",
       "      <td>8.94</td>\n",
       "      <td>50.74</td>\n",
       "    </tr>\n",
       "    <tr>\n",
       "      <th>E10+</th>\n",
       "      <td>26.16</td>\n",
       "      <td>4.46</td>\n",
       "      <td>33.23</td>\n",
       "    </tr>\n",
       "    <tr>\n",
       "      <th>M</th>\n",
       "      <td>93.44</td>\n",
       "      <td>8.01</td>\n",
       "      <td>96.42</td>\n",
       "    </tr>\n",
       "    <tr>\n",
       "      <th>T</th>\n",
       "      <td>34.07</td>\n",
       "      <td>14.78</td>\n",
       "      <td>38.95</td>\n",
       "    </tr>\n",
       "    <tr>\n",
       "      <th>unknown</th>\n",
       "      <td>58.95</td>\n",
       "      <td>56.90</td>\n",
       "      <td>64.72</td>\n",
       "    </tr>\n",
       "  </tbody>\n",
       "</table>\n",
       "</div>"
      ],
      "text/plain": [
       "         eu_sales  jp_sales  na_sales\n",
       "rating                               \n",
       "E           58.06      8.94     50.74\n",
       "E10+        26.16      4.46     33.23\n",
       "M           93.44      8.01     96.42\n",
       "T           34.07     14.78     38.95\n",
       "unknown     58.95     56.90     64.72"
      ]
     },
     "execution_count": 404,
     "metadata": {},
     "output_type": "execute_result"
    }
   ],
   "source": [
    "actual_period.pivot_table(index='rating', values=['na_sales', 'eu_sales', 'jp_sales'], aggfunc='sum')"
   ]
  },
  {
   "cell_type": "markdown",
   "metadata": {},
   "source": [
    "Изучив данные можно заметить, что рейтинг (например Е) сильно влияет на продажи в разных регионах.\n",
    "Также можно заметить, что почти во всех рейтингах по продажам лидирует Америка (и это не удивительно, если посмотрим в открытых источниках финансовые итоги игровой индустрии различных годов, то можно заметить, лидирующую строчку делят между собой Америка и Китай)"
   ]
  },
  {
   "cell_type": "markdown",
   "metadata": {},
   "source": [
    "# Проверка гипотез"
   ]
  },
  {
   "cell_type": "markdown",
   "metadata": {},
   "source": [
    "Проверим гипотезу - средние пользовательские рейтинги платформ xone и pc одинаковые"
   ]
  },
  {
   "cell_type": "markdown",
   "metadata": {},
   "source": [
    "H0: Средние пользовательские рейтинги платформ xone и pc одинаковые\n",
    "\n",
    "H1: Средние пользовательские рейтинги платформ xone и pc разные"
   ]
  },
  {
   "cell_type": "code",
   "execution_count": 405,
   "metadata": {},
   "outputs": [],
   "source": [
    "xone = actual_period.query('platform == \"xone\" and user_score > 0')"
   ]
  },
  {
   "cell_type": "code",
   "execution_count": 406,
   "metadata": {},
   "outputs": [],
   "source": [
    "xone = xone['user_score']"
   ]
  },
  {
   "cell_type": "code",
   "execution_count": 407,
   "metadata": {},
   "outputs": [],
   "source": [
    "pc = actual_period.query('platform == \"pc\" and user_score > 0')"
   ]
  },
  {
   "cell_type": "code",
   "execution_count": 408,
   "metadata": {},
   "outputs": [],
   "source": [
    "pc = pc['user_score']"
   ]
  },
  {
   "cell_type": "code",
   "execution_count": 409,
   "metadata": {},
   "outputs": [
    {
     "name": "stdout",
     "output_type": "stream",
     "text": [
      "p-значение:  0.11601398086668832\n",
      "Не получилось отвергнуть нулевую гипотезу\n"
     ]
    }
   ],
   "source": [
    "from scipy import stats as st\n",
    "alpha = 0.05 \n",
    "results = st.ttest_ind(xone, pc, equal_var = False)\n",
    "print('p-значение: ', results.pvalue)\n",
    "\n",
    "if (results.pvalue < alpha):\n",
    "    print(\"Отвергаем нулевую гипотезу\")\n",
    "else:\n",
    "    print(\"Не получилось отвергнуть нулевую гипотезу\")"
   ]
  },
  {
   "cell_type": "markdown",
   "metadata": {},
   "source": [
    "Проверим гипотезу - средние пользовательские рейтинги жанров action и sports разные"
   ]
  },
  {
   "cell_type": "markdown",
   "metadata": {},
   "source": [
    "H0: Средние пользовательские рейтинги платформ action и sports одинаковые\n",
    "\n",
    "H1: Средние пользовательские рейтинги платформ action и sports разные"
   ]
  },
  {
   "cell_type": "code",
   "execution_count": 410,
   "metadata": {},
   "outputs": [],
   "source": [
    "action = actual_period.query('genre == \"action\" and user_score > 0')"
   ]
  },
  {
   "cell_type": "code",
   "execution_count": 411,
   "metadata": {},
   "outputs": [],
   "source": [
    "action = action['user_score']"
   ]
  },
  {
   "cell_type": "code",
   "execution_count": 412,
   "metadata": {},
   "outputs": [],
   "source": [
    "sports = actual_period.query('genre == \"sports\" and user_score > 0')"
   ]
  },
  {
   "cell_type": "code",
   "execution_count": 413,
   "metadata": {},
   "outputs": [],
   "source": [
    "sports = sports['user_score']"
   ]
  },
  {
   "cell_type": "code",
   "execution_count": 414,
   "metadata": {},
   "outputs": [
    {
     "name": "stdout",
     "output_type": "stream",
     "text": [
      "p-значение:  1.1825550382644557e-14\n",
      "Отвергаем нулевую гипотезу\n"
     ]
    }
   ],
   "source": [
    "from scipy import stats as st\n",
    "alpha = 0.05 \n",
    "results = st.ttest_ind(action, sports, equal_var = False)\n",
    "print('p-значение: ', results.pvalue)\n",
    "\n",
    "if (results.pvalue < alpha):\n",
    "    print(\"Отвергаем нулевую гипотезу\")\n",
    "else:\n",
    "    print(\"Не получилось отвергнуть нулевую гипотезу\")"
   ]
  },
  {
   "cell_type": "markdown",
   "metadata": {},
   "source": [
    "# Общий вывод"
   ]
  },
  {
   "cell_type": "markdown",
   "metadata": {},
   "source": [
    "В ходе анализа данных была проведена предобработка данных: удалены или заменены нулевые значения (количество таких объектов в датафрейме не превышала 3%), наименования стобцов и объектов датафрейма приведены к общему формату, были обнаружены и исправлены значения устаревших рейтингов, проведена проверка датафрейма на дубликаты.\n",
    "Проведен анализ данных датафрейма после его преобразования: в 2008-2009 годах количество платформ было максимальным, рекордсмены по продажам за период 2014-2016 являются - ps4, xone, 3ds обнаружено что средний срок жизни платформы около 10 лет. Была обнаружена взаимосвязь между оценками критиков и продажами. Самые продаваемые игры с жанрами sports, shooter, platform. Было обнаружено, что в разных региона различные предпочтения по платформам: так в Америке и Европе - это ps4, xone; в Японии - это 3ds, ps4. Также обнаружено, что в разных региона разные предпочтения по жанрам, так в Америке и Европе они схожи (action и shooter), но в Японии они отличаются в силу культурных различий (role-playing и action). На продажи игр сильно влияет рейтинг, причем в разных регионах по разному (обозначим лидеров по продажам в зависимости от рейтинга и региона): Е - Америка, Е10+ - Америка, М - Америка, Т - Америка, unknown - Америка (основными покупателями игр и консолей является Америка), а самые большие продажи вне зависимости от региона занимают игры с рейтингом - М, unknown, E. "
   ]
  },
  {
   "cell_type": "markdown",
   "metadata": {},
   "source": [
    "Учитывая изложенное рекомендуемый план рекламного бюджета:\n",
    "    \n",
    "1) платформы ps4 и xone (в случае выбора одной платформа - ps4)\n",
    "    \n",
    "2) жанр shooter и action (в случае выбора одного жанра - shooter)\n",
    "\n",
    "3) рейтинг ESRB М и без учета рейтинга ESRB (в случае выбора одного рейтинга - M)\n",
    "    \n",
    "4) регион размещения рекламы Америка и Европа (в случае выбора одного региона Америка)\n",
    "    \n",
    "5) также стоит обращать внимание на отзывы критиков \n"
   ]
  }
 ],
 "metadata": {
  "ExecuteTimeLog": [
   {
    "duration": 906,
    "start_time": "2022-12-26T17:49:01.704Z"
   },
   {
    "duration": 31,
    "start_time": "2022-12-26T17:49:14.043Z"
   },
   {
    "duration": 14,
    "start_time": "2022-12-26T17:50:56.483Z"
   },
   {
    "duration": 3,
    "start_time": "2022-12-26T17:55:36.833Z"
   },
   {
    "duration": 13,
    "start_time": "2022-12-26T17:55:50.164Z"
   },
   {
    "duration": 63,
    "start_time": "2022-12-26T17:58:12.705Z"
   },
   {
    "duration": 10,
    "start_time": "2022-12-26T18:00:23.637Z"
   },
   {
    "duration": 18,
    "start_time": "2022-12-26T18:00:34.077Z"
   },
   {
    "duration": 14,
    "start_time": "2022-12-26T18:01:17.393Z"
   },
   {
    "duration": 15,
    "start_time": "2022-12-26T18:01:18.569Z"
   },
   {
    "duration": 18,
    "start_time": "2022-12-26T18:01:57.910Z"
   },
   {
    "duration": 16,
    "start_time": "2022-12-26T18:01:59.523Z"
   },
   {
    "duration": 7,
    "start_time": "2022-12-26T18:02:27.293Z"
   },
   {
    "duration": 12,
    "start_time": "2022-12-26T18:02:45.534Z"
   },
   {
    "duration": 9,
    "start_time": "2022-12-26T18:03:24.689Z"
   },
   {
    "duration": 10,
    "start_time": "2022-12-26T18:03:47.076Z"
   },
   {
    "duration": 8,
    "start_time": "2022-12-26T18:04:11.364Z"
   },
   {
    "duration": 8,
    "start_time": "2022-12-26T18:05:18.350Z"
   },
   {
    "duration": 7,
    "start_time": "2022-12-26T18:07:08.473Z"
   },
   {
    "duration": 28,
    "start_time": "2022-12-26T18:08:16.396Z"
   },
   {
    "duration": 10,
    "start_time": "2022-12-26T18:09:22.123Z"
   },
   {
    "duration": 7,
    "start_time": "2022-12-26T18:10:47.822Z"
   },
   {
    "duration": 19,
    "start_time": "2022-12-26T18:11:47.960Z"
   },
   {
    "duration": 8,
    "start_time": "2022-12-26T18:13:36.406Z"
   },
   {
    "duration": 8,
    "start_time": "2022-12-26T18:13:44.476Z"
   },
   {
    "duration": 8,
    "start_time": "2022-12-26T18:25:20.469Z"
   },
   {
    "duration": 9,
    "start_time": "2022-12-26T18:25:28.030Z"
   },
   {
    "duration": 7,
    "start_time": "2022-12-26T18:29:13.786Z"
   },
   {
    "duration": 7,
    "start_time": "2022-12-26T18:29:20.819Z"
   },
   {
    "duration": 6,
    "start_time": "2022-12-26T18:29:30.563Z"
   },
   {
    "duration": 14,
    "start_time": "2022-12-26T18:30:13.247Z"
   },
   {
    "duration": 3,
    "start_time": "2022-12-26T18:32:14.762Z"
   },
   {
    "duration": 590,
    "start_time": "2022-12-26T18:32:17.167Z"
   },
   {
    "duration": 14,
    "start_time": "2022-12-26T18:32:17.961Z"
   },
   {
    "duration": 13,
    "start_time": "2022-12-26T18:32:48.716Z"
   },
   {
    "duration": 5,
    "start_time": "2022-12-26T18:33:47.000Z"
   },
   {
    "duration": 53,
    "start_time": "2022-12-26T18:33:53.197Z"
   },
   {
    "duration": 17,
    "start_time": "2022-12-26T18:33:53.252Z"
   },
   {
    "duration": 18,
    "start_time": "2022-12-26T18:33:53.271Z"
   },
   {
    "duration": 7,
    "start_time": "2022-12-26T18:33:53.291Z"
   },
   {
    "duration": 28,
    "start_time": "2022-12-26T18:33:53.301Z"
   },
   {
    "duration": 20,
    "start_time": "2022-12-26T18:33:53.330Z"
   },
   {
    "duration": 28,
    "start_time": "2022-12-26T18:33:53.351Z"
   },
   {
    "duration": 7,
    "start_time": "2022-12-26T18:33:53.381Z"
   },
   {
    "duration": 32,
    "start_time": "2022-12-26T18:33:53.390Z"
   },
   {
    "duration": 8,
    "start_time": "2022-12-26T18:33:53.424Z"
   },
   {
    "duration": 9,
    "start_time": "2022-12-26T18:33:53.434Z"
   },
   {
    "duration": 10,
    "start_time": "2022-12-26T18:33:53.444Z"
   },
   {
    "duration": 5,
    "start_time": "2022-12-26T18:33:53.456Z"
   },
   {
    "duration": 16,
    "start_time": "2022-12-26T18:33:53.463Z"
   },
   {
    "duration": 8,
    "start_time": "2022-12-26T18:33:53.480Z"
   },
   {
    "duration": 42,
    "start_time": "2022-12-26T18:33:53.490Z"
   },
   {
    "duration": 849,
    "start_time": "2022-12-26T18:35:03.601Z"
   },
   {
    "duration": 592,
    "start_time": "2022-12-26T18:35:22.557Z"
   },
   {
    "duration": 599,
    "start_time": "2022-12-26T18:36:31.677Z"
   },
   {
    "duration": 5,
    "start_time": "2022-12-26T18:36:35.559Z"
   },
   {
    "duration": 546,
    "start_time": "2022-12-26T18:36:49.949Z"
   },
   {
    "duration": 50,
    "start_time": "2022-12-26T18:36:54.933Z"
   },
   {
    "duration": 16,
    "start_time": "2022-12-26T18:36:54.986Z"
   },
   {
    "duration": 45,
    "start_time": "2022-12-26T18:36:55.004Z"
   },
   {
    "duration": 22,
    "start_time": "2022-12-26T18:36:55.051Z"
   },
   {
    "duration": 36,
    "start_time": "2022-12-26T18:36:55.075Z"
   },
   {
    "duration": 45,
    "start_time": "2022-12-26T18:36:55.113Z"
   },
   {
    "duration": 36,
    "start_time": "2022-12-26T18:36:55.160Z"
   },
   {
    "duration": 10,
    "start_time": "2022-12-26T18:36:55.198Z"
   },
   {
    "duration": 16,
    "start_time": "2022-12-26T18:36:55.210Z"
   },
   {
    "duration": 28,
    "start_time": "2022-12-26T18:36:55.228Z"
   },
   {
    "duration": 30,
    "start_time": "2022-12-26T18:36:55.258Z"
   },
   {
    "duration": 12,
    "start_time": "2022-12-26T18:36:55.290Z"
   },
   {
    "duration": 26,
    "start_time": "2022-12-26T18:36:55.304Z"
   },
   {
    "duration": 20,
    "start_time": "2022-12-26T18:36:55.333Z"
   },
   {
    "duration": 31,
    "start_time": "2022-12-26T18:36:55.355Z"
   },
   {
    "duration": 42,
    "start_time": "2022-12-26T18:36:55.388Z"
   },
   {
    "duration": 55,
    "start_time": "2022-12-26T18:37:50.239Z"
   },
   {
    "duration": 13,
    "start_time": "2022-12-26T18:38:18.271Z"
   },
   {
    "duration": 57,
    "start_time": "2022-12-26T18:38:44.156Z"
   },
   {
    "duration": 22,
    "start_time": "2022-12-26T18:38:44.215Z"
   },
   {
    "duration": 34,
    "start_time": "2022-12-26T18:38:44.239Z"
   },
   {
    "duration": 8,
    "start_time": "2022-12-26T18:38:44.274Z"
   },
   {
    "duration": 27,
    "start_time": "2022-12-26T18:38:44.285Z"
   },
   {
    "duration": 25,
    "start_time": "2022-12-26T18:38:44.315Z"
   },
   {
    "duration": 27,
    "start_time": "2022-12-26T18:38:44.342Z"
   },
   {
    "duration": 8,
    "start_time": "2022-12-26T18:38:44.371Z"
   },
   {
    "duration": 9,
    "start_time": "2022-12-26T18:38:44.381Z"
   },
   {
    "duration": 32,
    "start_time": "2022-12-26T18:38:44.391Z"
   },
   {
    "duration": 7,
    "start_time": "2022-12-26T18:38:44.425Z"
   },
   {
    "duration": 10,
    "start_time": "2022-12-26T18:38:44.433Z"
   },
   {
    "duration": 4,
    "start_time": "2022-12-26T18:38:44.445Z"
   },
   {
    "duration": 5,
    "start_time": "2022-12-26T18:38:44.451Z"
   },
   {
    "duration": 22,
    "start_time": "2022-12-26T18:38:44.457Z"
   },
   {
    "duration": 5,
    "start_time": "2022-12-26T18:38:44.480Z"
   },
   {
    "duration": 44,
    "start_time": "2022-12-26T18:38:44.486Z"
   },
   {
    "duration": 4,
    "start_time": "2022-12-26T18:39:30.017Z"
   },
   {
    "duration": 13,
    "start_time": "2022-12-26T18:39:32.632Z"
   },
   {
    "duration": 5,
    "start_time": "2022-12-26T18:39:45.796Z"
   },
   {
    "duration": 14,
    "start_time": "2022-12-26T18:39:46.552Z"
   },
   {
    "duration": 50,
    "start_time": "2022-12-26T18:39:51.969Z"
   },
   {
    "duration": 15,
    "start_time": "2022-12-26T18:39:52.021Z"
   },
   {
    "duration": 28,
    "start_time": "2022-12-26T18:39:52.037Z"
   },
   {
    "duration": 13,
    "start_time": "2022-12-26T18:39:52.067Z"
   },
   {
    "duration": 19,
    "start_time": "2022-12-26T18:39:52.082Z"
   },
   {
    "duration": 24,
    "start_time": "2022-12-26T18:39:52.103Z"
   },
   {
    "duration": 34,
    "start_time": "2022-12-26T18:39:52.129Z"
   },
   {
    "duration": 7,
    "start_time": "2022-12-26T18:39:52.165Z"
   },
   {
    "duration": 16,
    "start_time": "2022-12-26T18:39:52.174Z"
   },
   {
    "duration": 14,
    "start_time": "2022-12-26T18:39:52.192Z"
   },
   {
    "duration": 25,
    "start_time": "2022-12-26T18:39:52.207Z"
   },
   {
    "duration": 25,
    "start_time": "2022-12-26T18:39:52.233Z"
   },
   {
    "duration": 10,
    "start_time": "2022-12-26T18:39:52.260Z"
   },
   {
    "duration": 11,
    "start_time": "2022-12-26T18:39:52.274Z"
   },
   {
    "duration": 7,
    "start_time": "2022-12-26T18:39:52.286Z"
   },
   {
    "duration": 7,
    "start_time": "2022-12-26T18:39:52.294Z"
   },
   {
    "duration": 18,
    "start_time": "2022-12-26T18:39:52.302Z"
   },
   {
    "duration": 5,
    "start_time": "2022-12-26T18:40:54.498Z"
   },
   {
    "duration": 13,
    "start_time": "2022-12-26T18:40:55.237Z"
   },
   {
    "duration": 49,
    "start_time": "2022-12-26T18:41:11.135Z"
   },
   {
    "duration": 16,
    "start_time": "2022-12-26T18:41:11.186Z"
   },
   {
    "duration": 36,
    "start_time": "2022-12-26T18:41:11.203Z"
   },
   {
    "duration": 14,
    "start_time": "2022-12-26T18:41:11.241Z"
   },
   {
    "duration": 40,
    "start_time": "2022-12-26T18:41:11.257Z"
   },
   {
    "duration": 38,
    "start_time": "2022-12-26T18:41:11.298Z"
   },
   {
    "duration": 33,
    "start_time": "2022-12-26T18:41:11.338Z"
   },
   {
    "duration": 15,
    "start_time": "2022-12-26T18:41:11.372Z"
   },
   {
    "duration": 40,
    "start_time": "2022-12-26T18:41:11.389Z"
   },
   {
    "duration": 32,
    "start_time": "2022-12-26T18:41:11.431Z"
   },
   {
    "duration": 37,
    "start_time": "2022-12-26T18:41:11.464Z"
   },
   {
    "duration": 15,
    "start_time": "2022-12-26T18:41:11.502Z"
   },
   {
    "duration": 25,
    "start_time": "2022-12-26T18:41:11.518Z"
   },
   {
    "duration": 20,
    "start_time": "2022-12-26T18:41:11.545Z"
   },
   {
    "duration": 29,
    "start_time": "2022-12-26T18:41:11.566Z"
   },
   {
    "duration": 42,
    "start_time": "2022-12-26T18:41:11.596Z"
   },
   {
    "duration": 21,
    "start_time": "2022-12-26T18:41:11.640Z"
   },
   {
    "duration": 13,
    "start_time": "2022-12-26T18:42:41.546Z"
   },
   {
    "duration": 49,
    "start_time": "2022-12-26T18:42:50.006Z"
   },
   {
    "duration": 15,
    "start_time": "2022-12-26T18:42:50.057Z"
   },
   {
    "duration": 20,
    "start_time": "2022-12-26T18:42:50.074Z"
   },
   {
    "duration": 3,
    "start_time": "2022-12-26T18:42:50.095Z"
   },
   {
    "duration": 27,
    "start_time": "2022-12-26T18:42:50.100Z"
   },
   {
    "duration": 17,
    "start_time": "2022-12-26T18:42:50.128Z"
   },
   {
    "duration": 26,
    "start_time": "2022-12-26T18:42:50.146Z"
   },
   {
    "duration": 7,
    "start_time": "2022-12-26T18:42:50.174Z"
   },
   {
    "duration": 10,
    "start_time": "2022-12-26T18:42:50.183Z"
   },
   {
    "duration": 45,
    "start_time": "2022-12-26T18:42:50.194Z"
   },
   {
    "duration": 8,
    "start_time": "2022-12-26T18:42:50.241Z"
   },
   {
    "duration": 9,
    "start_time": "2022-12-26T18:42:50.250Z"
   },
   {
    "duration": 8,
    "start_time": "2022-12-26T18:42:50.261Z"
   },
   {
    "duration": 13,
    "start_time": "2022-12-26T18:42:50.272Z"
   },
   {
    "duration": 7,
    "start_time": "2022-12-26T18:42:50.287Z"
   },
   {
    "duration": 8,
    "start_time": "2022-12-26T18:42:50.295Z"
   },
   {
    "duration": 19,
    "start_time": "2022-12-26T18:42:50.304Z"
   },
   {
    "duration": 49,
    "start_time": "2022-12-26T18:43:43.065Z"
   },
   {
    "duration": 15,
    "start_time": "2022-12-26T18:43:43.116Z"
   },
   {
    "duration": 19,
    "start_time": "2022-12-26T18:43:43.133Z"
   },
   {
    "duration": 4,
    "start_time": "2022-12-26T18:43:43.153Z"
   },
   {
    "duration": 24,
    "start_time": "2022-12-26T18:43:43.159Z"
   },
   {
    "duration": 20,
    "start_time": "2022-12-26T18:43:43.185Z"
   },
   {
    "duration": 38,
    "start_time": "2022-12-26T18:43:43.207Z"
   },
   {
    "duration": 8,
    "start_time": "2022-12-26T18:43:43.247Z"
   },
   {
    "duration": 9,
    "start_time": "2022-12-26T18:43:43.256Z"
   },
   {
    "duration": 12,
    "start_time": "2022-12-26T18:43:43.266Z"
   },
   {
    "duration": 10,
    "start_time": "2022-12-26T18:43:43.280Z"
   },
   {
    "duration": 32,
    "start_time": "2022-12-26T18:43:43.292Z"
   },
   {
    "duration": 7,
    "start_time": "2022-12-26T18:43:43.325Z"
   },
   {
    "duration": 17,
    "start_time": "2022-12-26T18:43:43.335Z"
   },
   {
    "duration": 11,
    "start_time": "2022-12-26T18:43:43.353Z"
   },
   {
    "duration": 10,
    "start_time": "2022-12-26T18:43:43.366Z"
   },
   {
    "duration": 20,
    "start_time": "2022-12-26T18:43:43.377Z"
   },
   {
    "duration": 5,
    "start_time": "2022-12-26T18:44:22.907Z"
   },
   {
    "duration": 4,
    "start_time": "2022-12-26T18:44:23.784Z"
   },
   {
    "duration": 13,
    "start_time": "2022-12-26T18:44:25.395Z"
   },
   {
    "duration": 13,
    "start_time": "2022-12-26T18:44:56.566Z"
   },
   {
    "duration": 14,
    "start_time": "2022-12-26T18:45:08.874Z"
   },
   {
    "duration": 14,
    "start_time": "2022-12-26T18:46:11.831Z"
   },
   {
    "duration": 5,
    "start_time": "2022-12-26T18:47:32.204Z"
   },
   {
    "duration": 5,
    "start_time": "2022-12-26T18:47:59.316Z"
   },
   {
    "duration": 11,
    "start_time": "2022-12-26T18:50:44.115Z"
   },
   {
    "duration": 9,
    "start_time": "2022-12-26T18:51:00.555Z"
   },
   {
    "duration": 5,
    "start_time": "2022-12-26T18:52:53.936Z"
   },
   {
    "duration": 8,
    "start_time": "2022-12-26T19:00:23.833Z"
   },
   {
    "duration": 8,
    "start_time": "2022-12-26T19:00:57.088Z"
   },
   {
    "duration": 8,
    "start_time": "2022-12-26T19:01:16.465Z"
   },
   {
    "duration": 5,
    "start_time": "2022-12-26T19:01:22.863Z"
   },
   {
    "duration": 7,
    "start_time": "2022-12-26T19:04:33.796Z"
   },
   {
    "duration": 53,
    "start_time": "2022-12-26T19:05:19.179Z"
   },
   {
    "duration": 18,
    "start_time": "2022-12-26T19:05:19.235Z"
   },
   {
    "duration": 16,
    "start_time": "2022-12-26T19:05:19.256Z"
   },
   {
    "duration": 3,
    "start_time": "2022-12-26T19:05:19.274Z"
   },
   {
    "duration": 44,
    "start_time": "2022-12-26T19:05:19.280Z"
   },
   {
    "duration": 18,
    "start_time": "2022-12-26T19:05:19.326Z"
   },
   {
    "duration": 29,
    "start_time": "2022-12-26T19:05:19.346Z"
   },
   {
    "duration": 8,
    "start_time": "2022-12-26T19:05:19.377Z"
   },
   {
    "duration": 7,
    "start_time": "2022-12-26T19:05:19.387Z"
   },
   {
    "duration": 12,
    "start_time": "2022-12-26T19:05:19.421Z"
   },
   {
    "duration": 9,
    "start_time": "2022-12-26T19:05:19.434Z"
   },
   {
    "duration": 9,
    "start_time": "2022-12-26T19:05:19.444Z"
   },
   {
    "duration": 10,
    "start_time": "2022-12-26T19:05:19.454Z"
   },
   {
    "duration": 4,
    "start_time": "2022-12-26T19:05:19.466Z"
   },
   {
    "duration": 12,
    "start_time": "2022-12-26T19:05:19.472Z"
   },
   {
    "duration": 10,
    "start_time": "2022-12-26T19:05:19.485Z"
   },
   {
    "duration": 42,
    "start_time": "2022-12-26T19:05:19.496Z"
   },
   {
    "duration": 14,
    "start_time": "2022-12-26T19:05:19.539Z"
   },
   {
    "duration": 9,
    "start_time": "2022-12-26T19:05:19.555Z"
   },
   {
    "duration": 9,
    "start_time": "2022-12-26T19:05:19.566Z"
   },
   {
    "duration": 9,
    "start_time": "2022-12-26T19:05:19.576Z"
   },
   {
    "duration": 7,
    "start_time": "2022-12-26T19:07:16.197Z"
   },
   {
    "duration": 5,
    "start_time": "2022-12-26T19:07:23.453Z"
   },
   {
    "duration": 68,
    "start_time": "2022-12-26T19:07:24.396Z"
   },
   {
    "duration": 5,
    "start_time": "2022-12-26T19:08:00.480Z"
   },
   {
    "duration": 13,
    "start_time": "2022-12-26T19:08:15.317Z"
   },
   {
    "duration": 5,
    "start_time": "2022-12-26T19:15:16.493Z"
   },
   {
    "duration": 5,
    "start_time": "2022-12-26T19:15:21.124Z"
   },
   {
    "duration": 5,
    "start_time": "2022-12-26T19:16:04.488Z"
   },
   {
    "duration": 4,
    "start_time": "2022-12-26T19:30:08.905Z"
   },
   {
    "duration": 5,
    "start_time": "2022-12-26T19:30:14.429Z"
   },
   {
    "duration": 19,
    "start_time": "2022-12-26T19:30:56.381Z"
   },
   {
    "duration": 4,
    "start_time": "2022-12-26T19:34:28.004Z"
   },
   {
    "duration": 13,
    "start_time": "2022-12-26T19:34:44.518Z"
   },
   {
    "duration": 4,
    "start_time": "2022-12-26T19:36:57.971Z"
   },
   {
    "duration": 15,
    "start_time": "2022-12-26T19:36:58.638Z"
   },
   {
    "duration": 8,
    "start_time": "2022-12-26T19:38:35.046Z"
   },
   {
    "duration": 15,
    "start_time": "2022-12-26T19:38:42.217Z"
   },
   {
    "duration": 517,
    "start_time": "2022-12-27T16:29:43.944Z"
   },
   {
    "duration": 24,
    "start_time": "2022-12-27T16:29:44.463Z"
   },
   {
    "duration": 15,
    "start_time": "2022-12-27T16:29:44.488Z"
   },
   {
    "duration": 4,
    "start_time": "2022-12-27T16:29:44.505Z"
   },
   {
    "duration": 16,
    "start_time": "2022-12-27T16:29:44.511Z"
   },
   {
    "duration": 19,
    "start_time": "2022-12-27T16:29:44.529Z"
   },
   {
    "duration": 56,
    "start_time": "2022-12-27T16:29:44.549Z"
   },
   {
    "duration": 8,
    "start_time": "2022-12-27T16:29:44.607Z"
   },
   {
    "duration": 10,
    "start_time": "2022-12-27T16:29:44.617Z"
   },
   {
    "duration": 13,
    "start_time": "2022-12-27T16:29:44.630Z"
   },
   {
    "duration": 9,
    "start_time": "2022-12-27T16:29:44.644Z"
   },
   {
    "duration": 9,
    "start_time": "2022-12-27T16:29:44.678Z"
   },
   {
    "duration": 8,
    "start_time": "2022-12-27T16:29:44.688Z"
   },
   {
    "duration": 8,
    "start_time": "2022-12-27T16:29:44.698Z"
   },
   {
    "duration": 8,
    "start_time": "2022-12-27T16:29:44.707Z"
   },
   {
    "duration": 10,
    "start_time": "2022-12-27T16:29:44.717Z"
   },
   {
    "duration": 18,
    "start_time": "2022-12-27T16:29:44.728Z"
   },
   {
    "duration": 9,
    "start_time": "2022-12-27T16:29:44.748Z"
   },
   {
    "duration": 5,
    "start_time": "2022-12-27T16:29:44.778Z"
   },
   {
    "duration": 8,
    "start_time": "2022-12-27T16:29:44.785Z"
   },
   {
    "duration": 8,
    "start_time": "2022-12-27T16:29:44.795Z"
   },
   {
    "duration": 21,
    "start_time": "2022-12-27T16:29:44.805Z"
   },
   {
    "duration": 5,
    "start_time": "2022-12-27T16:29:44.828Z"
   },
   {
    "duration": 7,
    "start_time": "2022-12-27T16:29:44.835Z"
   },
   {
    "duration": 34,
    "start_time": "2022-12-27T16:29:44.844Z"
   },
   {
    "duration": 14,
    "start_time": "2022-12-27T16:29:44.880Z"
   },
   {
    "duration": 19,
    "start_time": "2022-12-27T16:29:44.896Z"
   },
   {
    "duration": 13,
    "start_time": "2022-12-27T16:29:44.919Z"
   },
   {
    "duration": 16,
    "start_time": "2022-12-27T16:29:44.933Z"
   },
   {
    "duration": 22,
    "start_time": "2022-12-27T16:29:44.952Z"
   },
   {
    "duration": 15,
    "start_time": "2022-12-27T16:32:36.493Z"
   },
   {
    "duration": 78,
    "start_time": "2022-12-27T16:33:56.128Z"
   },
   {
    "duration": 21,
    "start_time": "2022-12-27T16:34:28.149Z"
   },
   {
    "duration": 14,
    "start_time": "2022-12-27T16:34:37.073Z"
   },
   {
    "duration": 15,
    "start_time": "2022-12-27T16:34:56.473Z"
   },
   {
    "duration": 571,
    "start_time": "2022-12-27T16:36:25.196Z"
   },
   {
    "duration": 151,
    "start_time": "2022-12-27T16:36:50.388Z"
   },
   {
    "duration": 152,
    "start_time": "2022-12-27T16:39:29.488Z"
   },
   {
    "duration": 160,
    "start_time": "2022-12-27T16:39:59.127Z"
   },
   {
    "duration": 214,
    "start_time": "2022-12-27T16:40:14.427Z"
   },
   {
    "duration": 167,
    "start_time": "2022-12-27T16:41:30.650Z"
   },
   {
    "duration": 146,
    "start_time": "2022-12-27T16:41:56.190Z"
   },
   {
    "duration": 183,
    "start_time": "2022-12-27T16:42:16.104Z"
   },
   {
    "duration": 819,
    "start_time": "2022-12-27T16:43:21.555Z"
   },
   {
    "duration": 177,
    "start_time": "2022-12-27T16:43:46.882Z"
   },
   {
    "duration": 200,
    "start_time": "2022-12-27T16:44:04.421Z"
   },
   {
    "duration": 325,
    "start_time": "2022-12-27T16:44:27.072Z"
   },
   {
    "duration": 210,
    "start_time": "2022-12-27T16:44:54.998Z"
   },
   {
    "duration": 173,
    "start_time": "2022-12-27T16:45:34.534Z"
   },
   {
    "duration": 185,
    "start_time": "2022-12-27T16:50:56.618Z"
   },
   {
    "duration": 231,
    "start_time": "2022-12-27T16:51:28.607Z"
   },
   {
    "duration": 195,
    "start_time": "2022-12-27T16:51:43.236Z"
   },
   {
    "duration": 169,
    "start_time": "2022-12-27T16:51:54.718Z"
   },
   {
    "duration": 217,
    "start_time": "2022-12-27T16:52:05.474Z"
   },
   {
    "duration": 49,
    "start_time": "2022-12-27T16:54:04.879Z"
   },
   {
    "duration": 375,
    "start_time": "2022-12-27T16:54:17.198Z"
   },
   {
    "duration": 334,
    "start_time": "2022-12-27T16:54:35.104Z"
   },
   {
    "duration": 638,
    "start_time": "2022-12-27T16:54:46.704Z"
   },
   {
    "duration": 282,
    "start_time": "2022-12-27T16:54:59.387Z"
   },
   {
    "duration": 209,
    "start_time": "2022-12-27T16:56:45.106Z"
   },
   {
    "duration": 51,
    "start_time": "2022-12-27T16:56:53.593Z"
   },
   {
    "duration": 208,
    "start_time": "2022-12-27T16:57:00.246Z"
   },
   {
    "duration": 16,
    "start_time": "2022-12-27T16:57:27.759Z"
   },
   {
    "duration": 41,
    "start_time": "2022-12-27T16:57:50.451Z"
   },
   {
    "duration": 15,
    "start_time": "2022-12-27T16:58:06.332Z"
   },
   {
    "duration": 24,
    "start_time": "2022-12-27T16:59:54.718Z"
   },
   {
    "duration": 13,
    "start_time": "2022-12-27T17:00:06.426Z"
   },
   {
    "duration": 40,
    "start_time": "2022-12-27T17:02:56.706Z"
   },
   {
    "duration": 40,
    "start_time": "2022-12-27T17:03:08.615Z"
   },
   {
    "duration": 11,
    "start_time": "2022-12-27T17:03:25.589Z"
   },
   {
    "duration": 26,
    "start_time": "2022-12-27T17:03:40.761Z"
   },
   {
    "duration": 15,
    "start_time": "2022-12-27T17:05:37.418Z"
   },
   {
    "duration": 8,
    "start_time": "2022-12-27T17:14:36.597Z"
   },
   {
    "duration": 273,
    "start_time": "2022-12-27T17:15:20.724Z"
   },
   {
    "duration": 266,
    "start_time": "2022-12-27T17:17:11.797Z"
   },
   {
    "duration": 535,
    "start_time": "2022-12-27T17:17:30.704Z"
   },
   {
    "duration": 25,
    "start_time": "2022-12-27T17:22:12.872Z"
   },
   {
    "duration": 153,
    "start_time": "2022-12-27T17:22:34.519Z"
   },
   {
    "duration": 197,
    "start_time": "2022-12-27T17:24:10.422Z"
   },
   {
    "duration": 274,
    "start_time": "2022-12-27T17:26:53.469Z"
   },
   {
    "duration": 139,
    "start_time": "2022-12-27T17:27:41.570Z"
   },
   {
    "duration": 131,
    "start_time": "2022-12-27T17:27:48.905Z"
   },
   {
    "duration": 341,
    "start_time": "2022-12-27T17:28:23.397Z"
   },
   {
    "duration": 351,
    "start_time": "2022-12-27T17:29:31.359Z"
   },
   {
    "duration": 16,
    "start_time": "2022-12-27T17:31:54.429Z"
   },
   {
    "duration": 14,
    "start_time": "2022-12-27T17:34:29.424Z"
   },
   {
    "duration": 23,
    "start_time": "2022-12-27T17:35:01.739Z"
   },
   {
    "duration": 21,
    "start_time": "2022-12-27T17:36:10.995Z"
   },
   {
    "duration": 9,
    "start_time": "2022-12-27T17:37:41.149Z"
   },
   {
    "duration": 21,
    "start_time": "2022-12-27T17:37:47.609Z"
   },
   {
    "duration": 28,
    "start_time": "2022-12-27T17:37:58.471Z"
   },
   {
    "duration": 25,
    "start_time": "2022-12-27T17:41:24.510Z"
   },
   {
    "duration": 35,
    "start_time": "2022-12-27T17:43:49.452Z"
   },
   {
    "duration": 16,
    "start_time": "2022-12-27T17:47:32.926Z"
   },
   {
    "duration": 15,
    "start_time": "2022-12-27T17:50:41.638Z"
   },
   {
    "duration": 15,
    "start_time": "2022-12-27T17:50:54.837Z"
   },
   {
    "duration": 57,
    "start_time": "2022-12-27T18:00:17.175Z"
   },
   {
    "duration": 16,
    "start_time": "2022-12-27T18:00:17.234Z"
   },
   {
    "duration": 22,
    "start_time": "2022-12-27T18:00:17.252Z"
   },
   {
    "duration": 33,
    "start_time": "2022-12-27T18:00:17.275Z"
   },
   {
    "duration": 23,
    "start_time": "2022-12-27T18:00:17.311Z"
   },
   {
    "duration": 28,
    "start_time": "2022-12-27T18:00:17.336Z"
   },
   {
    "duration": 42,
    "start_time": "2022-12-27T18:00:17.366Z"
   },
   {
    "duration": 10,
    "start_time": "2022-12-27T18:00:17.410Z"
   },
   {
    "duration": 7,
    "start_time": "2022-12-27T18:00:17.422Z"
   },
   {
    "duration": 9,
    "start_time": "2022-12-27T18:00:17.431Z"
   },
   {
    "duration": 10,
    "start_time": "2022-12-27T18:00:17.442Z"
   },
   {
    "duration": 33,
    "start_time": "2022-12-27T18:00:17.453Z"
   },
   {
    "duration": 10,
    "start_time": "2022-12-27T18:00:17.488Z"
   },
   {
    "duration": 12,
    "start_time": "2022-12-27T18:00:17.501Z"
   },
   {
    "duration": 14,
    "start_time": "2022-12-27T18:00:17.514Z"
   },
   {
    "duration": 22,
    "start_time": "2022-12-27T18:00:17.529Z"
   },
   {
    "duration": 19,
    "start_time": "2022-12-27T18:00:17.553Z"
   },
   {
    "duration": 47,
    "start_time": "2022-12-27T18:00:17.574Z"
   },
   {
    "duration": 15,
    "start_time": "2022-12-27T18:00:17.623Z"
   },
   {
    "duration": 16,
    "start_time": "2022-12-27T18:00:17.640Z"
   },
   {
    "duration": 9,
    "start_time": "2022-12-27T18:00:17.657Z"
   },
   {
    "duration": 50,
    "start_time": "2022-12-27T18:00:17.667Z"
   },
   {
    "duration": 19,
    "start_time": "2022-12-27T18:00:17.719Z"
   },
   {
    "duration": 23,
    "start_time": "2022-12-27T18:00:17.740Z"
   },
   {
    "duration": 29,
    "start_time": "2022-12-27T18:00:17.765Z"
   },
   {
    "duration": 17,
    "start_time": "2022-12-27T18:00:17.795Z"
   },
   {
    "duration": 21,
    "start_time": "2022-12-27T18:00:17.813Z"
   },
   {
    "duration": 11,
    "start_time": "2022-12-27T18:00:17.836Z"
   },
   {
    "duration": 17,
    "start_time": "2022-12-27T18:00:17.848Z"
   },
   {
    "duration": 38,
    "start_time": "2022-12-27T18:00:17.867Z"
   },
   {
    "duration": 32,
    "start_time": "2022-12-27T18:00:17.907Z"
   },
   {
    "duration": 206,
    "start_time": "2022-12-27T18:00:17.941Z"
   },
   {
    "duration": 373,
    "start_time": "2022-12-27T18:00:18.149Z"
   },
   {
    "duration": 15,
    "start_time": "2022-12-27T18:00:18.524Z"
   },
   {
    "duration": 26,
    "start_time": "2022-12-27T18:00:18.542Z"
   },
   {
    "duration": 7,
    "start_time": "2022-12-27T18:00:18.582Z"
   },
   {
    "duration": 396,
    "start_time": "2022-12-27T18:00:18.590Z"
   },
   {
    "duration": 504,
    "start_time": "2022-12-27T18:00:18.992Z"
   },
   {
    "duration": 16,
    "start_time": "2022-12-27T18:00:19.504Z"
   },
   {
    "duration": 4,
    "start_time": "2022-12-27T18:00:19.522Z"
   },
   {
    "duration": 6,
    "start_time": "2022-12-27T18:06:27.469Z"
   },
   {
    "duration": 50,
    "start_time": "2022-12-27T18:06:33.607Z"
   },
   {
    "duration": 17,
    "start_time": "2022-12-27T18:06:33.659Z"
   },
   {
    "duration": 46,
    "start_time": "2022-12-27T18:06:33.690Z"
   },
   {
    "duration": 14,
    "start_time": "2022-12-27T18:06:33.738Z"
   },
   {
    "duration": 36,
    "start_time": "2022-12-27T18:06:33.754Z"
   },
   {
    "duration": 61,
    "start_time": "2022-12-27T18:06:33.792Z"
   },
   {
    "duration": 53,
    "start_time": "2022-12-27T18:06:33.855Z"
   },
   {
    "duration": 12,
    "start_time": "2022-12-27T18:06:33.910Z"
   },
   {
    "duration": 16,
    "start_time": "2022-12-27T18:06:33.924Z"
   },
   {
    "duration": 22,
    "start_time": "2022-12-27T18:06:33.942Z"
   },
   {
    "duration": 46,
    "start_time": "2022-12-27T18:06:33.966Z"
   },
   {
    "duration": 18,
    "start_time": "2022-12-27T18:06:34.014Z"
   },
   {
    "duration": 18,
    "start_time": "2022-12-27T18:06:34.034Z"
   },
   {
    "duration": 27,
    "start_time": "2022-12-27T18:06:34.056Z"
   },
   {
    "duration": 36,
    "start_time": "2022-12-27T18:06:34.094Z"
   },
   {
    "duration": 26,
    "start_time": "2022-12-27T18:06:34.132Z"
   },
   {
    "duration": 31,
    "start_time": "2022-12-27T18:06:34.160Z"
   },
   {
    "duration": 46,
    "start_time": "2022-12-27T18:06:34.192Z"
   },
   {
    "duration": 23,
    "start_time": "2022-12-27T18:06:34.240Z"
   },
   {
    "duration": 47,
    "start_time": "2022-12-27T18:06:34.265Z"
   },
   {
    "duration": 11,
    "start_time": "2022-12-27T18:06:34.314Z"
   },
   {
    "duration": 37,
    "start_time": "2022-12-27T18:06:34.327Z"
   },
   {
    "duration": 8,
    "start_time": "2022-12-27T18:06:34.366Z"
   },
   {
    "duration": 53,
    "start_time": "2022-12-27T18:06:34.376Z"
   },
   {
    "duration": 32,
    "start_time": "2022-12-27T18:06:34.431Z"
   },
   {
    "duration": 19,
    "start_time": "2022-12-27T18:06:34.465Z"
   },
   {
    "duration": 56,
    "start_time": "2022-12-27T18:06:34.485Z"
   },
   {
    "duration": 16,
    "start_time": "2022-12-27T18:06:34.543Z"
   },
   {
    "duration": 63,
    "start_time": "2022-12-27T18:06:34.561Z"
   },
   {
    "duration": 44,
    "start_time": "2022-12-27T18:06:34.625Z"
   },
   {
    "duration": 192,
    "start_time": "2022-12-27T18:06:34.671Z"
   },
   {
    "duration": 296,
    "start_time": "2022-12-27T18:06:34.865Z"
   },
   {
    "duration": 32,
    "start_time": "2022-12-27T18:06:35.163Z"
   },
   {
    "duration": 18,
    "start_time": "2022-12-27T18:06:35.202Z"
   },
   {
    "duration": 24,
    "start_time": "2022-12-27T18:06:35.221Z"
   },
   {
    "duration": 394,
    "start_time": "2022-12-27T18:06:35.247Z"
   },
   {
    "duration": 372,
    "start_time": "2022-12-27T18:06:35.644Z"
   },
   {
    "duration": 5,
    "start_time": "2022-12-27T18:06:36.018Z"
   },
   {
    "duration": 9,
    "start_time": "2022-12-27T18:06:36.025Z"
   },
   {
    "duration": 23,
    "start_time": "2022-12-27T18:07:48.721Z"
   },
   {
    "duration": 22,
    "start_time": "2022-12-27T18:08:04.411Z"
   },
   {
    "duration": 162,
    "start_time": "2022-12-27T18:08:55.954Z"
   },
   {
    "duration": 3267,
    "start_time": "2022-12-27T18:09:23.337Z"
   },
   {
    "duration": 25,
    "start_time": "2022-12-27T18:16:36.411Z"
   },
   {
    "duration": 367,
    "start_time": "2022-12-27T18:20:00.543Z"
   },
   {
    "duration": 189,
    "start_time": "2022-12-27T18:22:28.461Z"
   },
   {
    "duration": 203,
    "start_time": "2022-12-27T18:22:48.507Z"
   },
   {
    "duration": 15,
    "start_time": "2022-12-27T18:27:27.303Z"
   },
   {
    "duration": 18,
    "start_time": "2022-12-27T18:33:35.837Z"
   },
   {
    "duration": 20,
    "start_time": "2022-12-27T18:34:19.116Z"
   },
   {
    "duration": 18,
    "start_time": "2022-12-27T18:34:25.816Z"
   },
   {
    "duration": 16,
    "start_time": "2022-12-27T18:34:45.627Z"
   },
   {
    "duration": 4836,
    "start_time": "2022-12-27T18:41:51.663Z"
   },
   {
    "duration": 34,
    "start_time": "2022-12-27T18:51:32.241Z"
   },
   {
    "duration": 16,
    "start_time": "2022-12-27T18:51:32.335Z"
   },
   {
    "duration": 27,
    "start_time": "2022-12-27T18:51:32.404Z"
   },
   {
    "duration": 44,
    "start_time": "2022-12-27T18:51:32.473Z"
   },
   {
    "duration": 15,
    "start_time": "2022-12-27T18:51:32.624Z"
   },
   {
    "duration": 30,
    "start_time": "2022-12-27T18:51:32.707Z"
   },
   {
    "duration": 42,
    "start_time": "2022-12-27T18:51:32.761Z"
   },
   {
    "duration": 9,
    "start_time": "2022-12-27T18:51:32.832Z"
   },
   {
    "duration": 15,
    "start_time": "2022-12-27T18:51:32.887Z"
   },
   {
    "duration": 15,
    "start_time": "2022-12-27T18:51:32.938Z"
   },
   {
    "duration": 38,
    "start_time": "2022-12-27T18:51:32.988Z"
   },
   {
    "duration": 12,
    "start_time": "2022-12-27T18:51:33.043Z"
   },
   {
    "duration": 0,
    "start_time": "2022-12-27T18:51:33.645Z"
   },
   {
    "duration": 0,
    "start_time": "2022-12-27T18:51:33.648Z"
   },
   {
    "duration": 0,
    "start_time": "2022-12-27T18:51:33.652Z"
   },
   {
    "duration": 0,
    "start_time": "2022-12-27T18:51:33.654Z"
   },
   {
    "duration": 0,
    "start_time": "2022-12-27T18:51:33.658Z"
   },
   {
    "duration": 0,
    "start_time": "2022-12-27T18:51:33.661Z"
   },
   {
    "duration": 0,
    "start_time": "2022-12-27T18:51:33.664Z"
   },
   {
    "duration": 0,
    "start_time": "2022-12-27T18:51:33.666Z"
   },
   {
    "duration": 0,
    "start_time": "2022-12-27T18:51:33.669Z"
   },
   {
    "duration": 0,
    "start_time": "2022-12-27T18:51:33.672Z"
   },
   {
    "duration": 0,
    "start_time": "2022-12-27T18:51:33.676Z"
   },
   {
    "duration": 0,
    "start_time": "2022-12-27T18:51:33.681Z"
   },
   {
    "duration": 0,
    "start_time": "2022-12-27T18:51:33.683Z"
   },
   {
    "duration": 0,
    "start_time": "2022-12-27T18:51:33.685Z"
   },
   {
    "duration": 0,
    "start_time": "2022-12-27T18:51:33.697Z"
   },
   {
    "duration": 0,
    "start_time": "2022-12-27T18:51:33.704Z"
   },
   {
    "duration": 0,
    "start_time": "2022-12-27T18:51:33.712Z"
   },
   {
    "duration": 0,
    "start_time": "2022-12-27T18:51:33.719Z"
   },
   {
    "duration": 0,
    "start_time": "2022-12-27T18:51:33.723Z"
   },
   {
    "duration": 0,
    "start_time": "2022-12-27T18:51:33.727Z"
   },
   {
    "duration": 0,
    "start_time": "2022-12-27T18:51:33.730Z"
   },
   {
    "duration": 0,
    "start_time": "2022-12-27T18:51:33.734Z"
   },
   {
    "duration": 0,
    "start_time": "2022-12-27T18:51:33.738Z"
   },
   {
    "duration": 0,
    "start_time": "2022-12-27T18:51:33.778Z"
   },
   {
    "duration": 1,
    "start_time": "2022-12-27T18:51:33.781Z"
   },
   {
    "duration": 0,
    "start_time": "2022-12-27T18:51:33.785Z"
   },
   {
    "duration": 0,
    "start_time": "2022-12-27T18:51:33.788Z"
   },
   {
    "duration": 0,
    "start_time": "2022-12-27T18:51:33.791Z"
   },
   {
    "duration": 0,
    "start_time": "2022-12-27T18:51:33.792Z"
   },
   {
    "duration": 0,
    "start_time": "2022-12-27T18:51:33.795Z"
   },
   {
    "duration": 52,
    "start_time": "2022-12-27T18:51:47.007Z"
   },
   {
    "duration": 24,
    "start_time": "2022-12-27T18:51:47.061Z"
   },
   {
    "duration": 48,
    "start_time": "2022-12-27T18:51:47.086Z"
   },
   {
    "duration": 4,
    "start_time": "2022-12-27T18:51:47.136Z"
   },
   {
    "duration": 17,
    "start_time": "2022-12-27T18:51:47.142Z"
   },
   {
    "duration": 41,
    "start_time": "2022-12-27T18:51:47.161Z"
   },
   {
    "duration": 39,
    "start_time": "2022-12-27T18:51:47.207Z"
   },
   {
    "duration": 10,
    "start_time": "2022-12-27T18:51:47.249Z"
   },
   {
    "duration": 10,
    "start_time": "2022-12-27T18:51:47.261Z"
   },
   {
    "duration": 47,
    "start_time": "2022-12-27T18:51:47.272Z"
   },
   {
    "duration": 15,
    "start_time": "2022-12-27T18:51:47.321Z"
   },
   {
    "duration": 13,
    "start_time": "2022-12-27T18:51:47.338Z"
   },
   {
    "duration": 5,
    "start_time": "2022-12-27T18:51:47.353Z"
   },
   {
    "duration": 4,
    "start_time": "2022-12-27T18:51:47.361Z"
   },
   {
    "duration": 7,
    "start_time": "2022-12-27T18:51:47.366Z"
   },
   {
    "duration": 8,
    "start_time": "2022-12-27T18:51:47.374Z"
   },
   {
    "duration": 49,
    "start_time": "2022-12-27T18:51:47.383Z"
   },
   {
    "duration": 9,
    "start_time": "2022-12-27T18:51:47.434Z"
   },
   {
    "duration": 6,
    "start_time": "2022-12-27T18:51:47.445Z"
   },
   {
    "duration": 6,
    "start_time": "2022-12-27T18:51:47.453Z"
   },
   {
    "duration": 6,
    "start_time": "2022-12-27T18:51:47.461Z"
   },
   {
    "duration": 18,
    "start_time": "2022-12-27T18:51:47.469Z"
   },
   {
    "duration": 36,
    "start_time": "2022-12-27T18:51:47.488Z"
   },
   {
    "duration": 5,
    "start_time": "2022-12-27T18:51:47.526Z"
   },
   {
    "duration": 5,
    "start_time": "2022-12-27T18:51:47.533Z"
   },
   {
    "duration": 6,
    "start_time": "2022-12-27T18:51:47.540Z"
   },
   {
    "duration": 16,
    "start_time": "2022-12-27T18:51:47.548Z"
   },
   {
    "duration": 5,
    "start_time": "2022-12-27T18:51:47.566Z"
   },
   {
    "duration": 30,
    "start_time": "2022-12-27T18:51:47.573Z"
   },
   {
    "duration": 38,
    "start_time": "2022-12-27T18:51:47.605Z"
   },
   {
    "duration": 199,
    "start_time": "2022-12-27T18:51:47.645Z"
   },
   {
    "duration": 318,
    "start_time": "2022-12-27T18:51:47.846Z"
   },
   {
    "duration": 43,
    "start_time": "2022-12-27T18:51:48.166Z"
   },
   {
    "duration": 18,
    "start_time": "2022-12-27T18:51:48.214Z"
   },
   {
    "duration": 7,
    "start_time": "2022-12-27T18:51:48.234Z"
   },
   {
    "duration": 483,
    "start_time": "2022-12-27T18:51:48.243Z"
   },
   {
    "duration": 5,
    "start_time": "2022-12-27T18:51:48.731Z"
   },
   {
    "duration": 23,
    "start_time": "2022-12-27T18:51:48.738Z"
   },
   {
    "duration": 197,
    "start_time": "2022-12-27T18:51:48.763Z"
   },
   {
    "duration": 33,
    "start_time": "2022-12-27T18:51:48.962Z"
   },
   {
    "duration": 209,
    "start_time": "2022-12-27T18:51:49.007Z"
   },
   {
    "duration": 209,
    "start_time": "2022-12-27T18:51:49.224Z"
   },
   {
    "duration": 8,
    "start_time": "2022-12-27T18:54:30.456Z"
   },
   {
    "duration": 27,
    "start_time": "2022-12-27T18:54:42.171Z"
   },
   {
    "duration": 72,
    "start_time": "2022-12-27T18:55:28.085Z"
   },
   {
    "duration": 341,
    "start_time": "2022-12-27T18:55:39.702Z"
   },
   {
    "duration": 354,
    "start_time": "2022-12-27T18:56:04.615Z"
   },
   {
    "duration": 51,
    "start_time": "2022-12-27T19:01:58.912Z"
   },
   {
    "duration": 24,
    "start_time": "2022-12-27T19:01:58.965Z"
   },
   {
    "duration": 45,
    "start_time": "2022-12-27T19:01:59.000Z"
   },
   {
    "duration": 19,
    "start_time": "2022-12-27T19:01:59.047Z"
   },
   {
    "duration": 71,
    "start_time": "2022-12-27T19:01:59.068Z"
   },
   {
    "duration": 35,
    "start_time": "2022-12-27T19:01:59.141Z"
   },
   {
    "duration": 67,
    "start_time": "2022-12-27T19:01:59.180Z"
   },
   {
    "duration": 10,
    "start_time": "2022-12-27T19:01:59.248Z"
   },
   {
    "duration": 56,
    "start_time": "2022-12-27T19:01:59.260Z"
   },
   {
    "duration": 18,
    "start_time": "2022-12-27T19:01:59.318Z"
   },
   {
    "duration": 25,
    "start_time": "2022-12-27T19:01:59.338Z"
   },
   {
    "duration": 35,
    "start_time": "2022-12-27T19:01:59.365Z"
   },
   {
    "duration": 30,
    "start_time": "2022-12-27T19:01:59.402Z"
   },
   {
    "duration": 20,
    "start_time": "2022-12-27T19:01:59.435Z"
   },
   {
    "duration": 26,
    "start_time": "2022-12-27T19:01:59.457Z"
   },
   {
    "duration": 43,
    "start_time": "2022-12-27T19:01:59.485Z"
   },
   {
    "duration": 23,
    "start_time": "2022-12-27T19:01:59.530Z"
   },
   {
    "duration": 82,
    "start_time": "2022-12-27T19:01:59.554Z"
   },
   {
    "duration": 62,
    "start_time": "2022-12-27T19:01:59.637Z"
   },
   {
    "duration": 31,
    "start_time": "2022-12-27T19:01:59.704Z"
   },
   {
    "duration": 20,
    "start_time": "2022-12-27T19:01:59.736Z"
   },
   {
    "duration": 39,
    "start_time": "2022-12-27T19:01:59.758Z"
   },
   {
    "duration": 50,
    "start_time": "2022-12-27T19:01:59.799Z"
   },
   {
    "duration": 19,
    "start_time": "2022-12-27T19:01:59.851Z"
   },
   {
    "duration": 48,
    "start_time": "2022-12-27T19:01:59.872Z"
   },
   {
    "duration": 14,
    "start_time": "2022-12-27T19:01:59.923Z"
   },
   {
    "duration": 29,
    "start_time": "2022-12-27T19:01:59.939Z"
   },
   {
    "duration": 56,
    "start_time": "2022-12-27T19:01:59.970Z"
   },
   {
    "duration": 42,
    "start_time": "2022-12-27T19:02:00.029Z"
   },
   {
    "duration": 60,
    "start_time": "2022-12-27T19:02:00.074Z"
   },
   {
    "duration": 202,
    "start_time": "2022-12-27T19:02:00.135Z"
   },
   {
    "duration": 313,
    "start_time": "2022-12-27T19:02:00.338Z"
   },
   {
    "duration": 14,
    "start_time": "2022-12-27T19:02:00.653Z"
   },
   {
    "duration": 26,
    "start_time": "2022-12-27T19:02:00.689Z"
   },
   {
    "duration": 44,
    "start_time": "2022-12-27T19:02:00.716Z"
   },
   {
    "duration": 440,
    "start_time": "2022-12-27T19:02:00.762Z"
   },
   {
    "duration": 191,
    "start_time": "2022-12-27T19:02:01.212Z"
   },
   {
    "duration": 19,
    "start_time": "2022-12-27T19:02:01.410Z"
   },
   {
    "duration": 204,
    "start_time": "2022-12-27T19:02:01.431Z"
   },
   {
    "duration": 238,
    "start_time": "2022-12-27T19:02:01.637Z"
   },
   {
    "duration": 225,
    "start_time": "2022-12-27T19:03:06.321Z"
   },
   {
    "duration": 243,
    "start_time": "2022-12-27T19:04:33.457Z"
   },
   {
    "duration": 208,
    "start_time": "2022-12-27T19:04:52.168Z"
   },
   {
    "duration": 221,
    "start_time": "2022-12-27T19:04:59.708Z"
   },
   {
    "duration": 206,
    "start_time": "2022-12-27T19:05:10.465Z"
   },
   {
    "duration": 228,
    "start_time": "2022-12-27T19:05:25.137Z"
   },
   {
    "duration": 241,
    "start_time": "2022-12-27T19:06:23.930Z"
   },
   {
    "duration": 79,
    "start_time": "2022-12-27T19:06:45.228Z"
   },
   {
    "duration": 223,
    "start_time": "2022-12-27T19:09:49.552Z"
   },
   {
    "duration": 253,
    "start_time": "2022-12-27T19:09:58.550Z"
   },
   {
    "duration": 108,
    "start_time": "2022-12-27T19:12:05.764Z"
   },
   {
    "duration": 28,
    "start_time": "2022-12-27T19:12:05.874Z"
   },
   {
    "duration": 56,
    "start_time": "2022-12-27T19:12:05.904Z"
   },
   {
    "duration": 3,
    "start_time": "2022-12-27T19:12:05.962Z"
   },
   {
    "duration": 29,
    "start_time": "2022-12-27T19:12:05.967Z"
   },
   {
    "duration": 47,
    "start_time": "2022-12-27T19:12:06.000Z"
   },
   {
    "duration": 49,
    "start_time": "2022-12-27T19:12:06.049Z"
   },
   {
    "duration": 19,
    "start_time": "2022-12-27T19:12:06.103Z"
   },
   {
    "duration": 15,
    "start_time": "2022-12-27T19:12:06.125Z"
   },
   {
    "duration": 16,
    "start_time": "2022-12-27T19:12:06.142Z"
   },
   {
    "duration": 9,
    "start_time": "2022-12-27T19:12:06.159Z"
   },
   {
    "duration": 24,
    "start_time": "2022-12-27T19:12:06.170Z"
   },
   {
    "duration": 29,
    "start_time": "2022-12-27T19:12:06.202Z"
   },
   {
    "duration": 14,
    "start_time": "2022-12-27T19:12:06.235Z"
   },
   {
    "duration": 13,
    "start_time": "2022-12-27T19:12:06.251Z"
   },
   {
    "duration": 53,
    "start_time": "2022-12-27T19:12:06.265Z"
   },
   {
    "duration": 22,
    "start_time": "2022-12-27T19:12:06.320Z"
   },
   {
    "duration": 20,
    "start_time": "2022-12-27T19:12:06.343Z"
   },
   {
    "duration": 6,
    "start_time": "2022-12-27T19:12:06.365Z"
   },
   {
    "duration": 50,
    "start_time": "2022-12-27T19:12:06.373Z"
   },
   {
    "duration": 20,
    "start_time": "2022-12-27T19:12:06.425Z"
   },
   {
    "duration": 45,
    "start_time": "2022-12-27T19:12:06.446Z"
   },
   {
    "duration": 36,
    "start_time": "2022-12-27T19:12:06.496Z"
   },
   {
    "duration": 9,
    "start_time": "2022-12-27T19:12:06.534Z"
   },
   {
    "duration": 7,
    "start_time": "2022-12-27T19:12:06.544Z"
   },
   {
    "duration": 8,
    "start_time": "2022-12-27T19:12:06.552Z"
   },
   {
    "duration": 16,
    "start_time": "2022-12-27T19:12:06.561Z"
   },
   {
    "duration": 43,
    "start_time": "2022-12-27T19:12:06.587Z"
   },
   {
    "duration": 19,
    "start_time": "2022-12-27T19:12:06.632Z"
   },
   {
    "duration": 20,
    "start_time": "2022-12-27T19:12:06.653Z"
   },
   {
    "duration": 192,
    "start_time": "2022-12-27T19:12:06.674Z"
   },
   {
    "duration": 348,
    "start_time": "2022-12-27T19:12:06.868Z"
   },
   {
    "duration": 13,
    "start_time": "2022-12-27T19:12:07.220Z"
   },
   {
    "duration": 12,
    "start_time": "2022-12-27T19:12:07.234Z"
   },
   {
    "duration": 8,
    "start_time": "2022-12-27T19:12:07.248Z"
   },
   {
    "duration": 367,
    "start_time": "2022-12-27T19:12:07.258Z"
   },
   {
    "duration": 237,
    "start_time": "2022-12-27T19:12:07.627Z"
   },
   {
    "duration": 253,
    "start_time": "2022-12-27T19:12:07.866Z"
   },
   {
    "duration": 250,
    "start_time": "2022-12-27T19:12:08.120Z"
   },
   {
    "duration": 259,
    "start_time": "2022-12-27T19:12:08.372Z"
   },
   {
    "duration": 231,
    "start_time": "2022-12-27T19:12:08.636Z"
   },
   {
    "duration": 227,
    "start_time": "2022-12-27T19:12:08.869Z"
   },
   {
    "duration": 8,
    "start_time": "2022-12-27T19:41:39.222Z"
   },
   {
    "duration": 11,
    "start_time": "2022-12-27T19:46:30.123Z"
   },
   {
    "duration": 24,
    "start_time": "2022-12-27T19:51:54.113Z"
   },
   {
    "duration": 5,
    "start_time": "2022-12-27T19:52:14.523Z"
   },
   {
    "duration": 21,
    "start_time": "2022-12-27T20:02:56.040Z"
   },
   {
    "duration": 19,
    "start_time": "2022-12-27T20:05:16.142Z"
   },
   {
    "duration": 5,
    "start_time": "2022-12-27T20:05:30.809Z"
   },
   {
    "duration": 16,
    "start_time": "2022-12-27T20:06:18.811Z"
   },
   {
    "duration": 5,
    "start_time": "2022-12-27T20:07:26.002Z"
   },
   {
    "duration": 9,
    "start_time": "2022-12-27T20:07:46.996Z"
   },
   {
    "duration": 8,
    "start_time": "2022-12-27T20:15:09.105Z"
   },
   {
    "duration": 338,
    "start_time": "2022-12-27T20:15:19.514Z"
   },
   {
    "duration": 410,
    "start_time": "2022-12-27T20:16:01.546Z"
   },
   {
    "duration": 356,
    "start_time": "2022-12-27T20:16:28.947Z"
   },
   {
    "duration": 365,
    "start_time": "2022-12-27T20:16:40.238Z"
   },
   {
    "duration": 357,
    "start_time": "2022-12-27T20:17:35.808Z"
   },
   {
    "duration": 160,
    "start_time": "2022-12-27T20:22:06.090Z"
   },
   {
    "duration": 174,
    "start_time": "2022-12-27T20:24:07.716Z"
   },
   {
    "duration": 150,
    "start_time": "2022-12-27T20:24:21.106Z"
   },
   {
    "duration": 183,
    "start_time": "2022-12-27T20:25:19.727Z"
   },
   {
    "duration": 291,
    "start_time": "2022-12-27T20:31:49.315Z"
   },
   {
    "duration": 66,
    "start_time": "2022-12-27T20:34:46.979Z"
   },
   {
    "duration": 0,
    "start_time": "2022-12-27T20:34:47.047Z"
   },
   {
    "duration": 0,
    "start_time": "2022-12-27T20:34:47.049Z"
   },
   {
    "duration": 0,
    "start_time": "2022-12-27T20:34:47.049Z"
   },
   {
    "duration": 0,
    "start_time": "2022-12-27T20:34:47.051Z"
   },
   {
    "duration": 0,
    "start_time": "2022-12-27T20:34:47.052Z"
   },
   {
    "duration": 0,
    "start_time": "2022-12-27T20:34:47.053Z"
   },
   {
    "duration": 0,
    "start_time": "2022-12-27T20:34:47.054Z"
   },
   {
    "duration": 0,
    "start_time": "2022-12-27T20:34:47.055Z"
   },
   {
    "duration": 0,
    "start_time": "2022-12-27T20:34:47.056Z"
   },
   {
    "duration": 0,
    "start_time": "2022-12-27T20:34:47.057Z"
   },
   {
    "duration": 0,
    "start_time": "2022-12-27T20:34:47.058Z"
   },
   {
    "duration": 0,
    "start_time": "2022-12-27T20:34:47.059Z"
   },
   {
    "duration": 0,
    "start_time": "2022-12-27T20:34:47.060Z"
   },
   {
    "duration": 0,
    "start_time": "2022-12-27T20:34:47.061Z"
   },
   {
    "duration": 0,
    "start_time": "2022-12-27T20:34:47.062Z"
   },
   {
    "duration": 0,
    "start_time": "2022-12-27T20:34:47.063Z"
   },
   {
    "duration": 0,
    "start_time": "2022-12-27T20:34:47.064Z"
   },
   {
    "duration": 0,
    "start_time": "2022-12-27T20:34:47.066Z"
   },
   {
    "duration": 0,
    "start_time": "2022-12-27T20:34:47.067Z"
   },
   {
    "duration": 0,
    "start_time": "2022-12-27T20:34:47.068Z"
   },
   {
    "duration": 0,
    "start_time": "2022-12-27T20:34:47.069Z"
   },
   {
    "duration": 0,
    "start_time": "2022-12-27T20:34:47.070Z"
   },
   {
    "duration": 0,
    "start_time": "2022-12-27T20:34:47.071Z"
   },
   {
    "duration": 0,
    "start_time": "2022-12-27T20:34:47.072Z"
   },
   {
    "duration": 0,
    "start_time": "2022-12-27T20:34:47.073Z"
   },
   {
    "duration": 0,
    "start_time": "2022-12-27T20:34:47.074Z"
   },
   {
    "duration": 0,
    "start_time": "2022-12-27T20:34:47.077Z"
   },
   {
    "duration": 0,
    "start_time": "2022-12-27T20:34:47.078Z"
   },
   {
    "duration": 0,
    "start_time": "2022-12-27T20:34:47.079Z"
   },
   {
    "duration": 0,
    "start_time": "2022-12-27T20:34:47.080Z"
   },
   {
    "duration": 0,
    "start_time": "2022-12-27T20:34:47.081Z"
   },
   {
    "duration": 0,
    "start_time": "2022-12-27T20:34:47.082Z"
   },
   {
    "duration": 0,
    "start_time": "2022-12-27T20:34:47.083Z"
   },
   {
    "duration": 0,
    "start_time": "2022-12-27T20:34:47.084Z"
   },
   {
    "duration": 0,
    "start_time": "2022-12-27T20:34:47.085Z"
   },
   {
    "duration": 0,
    "start_time": "2022-12-27T20:34:47.086Z"
   },
   {
    "duration": 0,
    "start_time": "2022-12-27T20:34:47.087Z"
   },
   {
    "duration": 0,
    "start_time": "2022-12-27T20:34:47.090Z"
   },
   {
    "duration": 0,
    "start_time": "2022-12-27T20:34:47.092Z"
   },
   {
    "duration": 0,
    "start_time": "2022-12-27T20:34:47.093Z"
   },
   {
    "duration": 0,
    "start_time": "2022-12-27T20:34:47.093Z"
   },
   {
    "duration": 8,
    "start_time": "2022-12-27T20:34:47.096Z"
   },
   {
    "duration": 464,
    "start_time": "2022-12-27T20:34:47.106Z"
   },
   {
    "duration": 283,
    "start_time": "2022-12-27T20:34:47.579Z"
   },
   {
    "duration": 26,
    "start_time": "2022-12-27T20:37:44.332Z"
   },
   {
    "duration": 10,
    "start_time": "2022-12-27T20:41:35.865Z"
   },
   {
    "duration": 525,
    "start_time": "2022-12-27T20:41:56.409Z"
   },
   {
    "duration": 51,
    "start_time": "2022-12-27T20:41:59.717Z"
   },
   {
    "duration": 37,
    "start_time": "2022-12-27T20:41:59.771Z"
   },
   {
    "duration": 22,
    "start_time": "2022-12-27T20:41:59.809Z"
   },
   {
    "duration": 27,
    "start_time": "2022-12-27T20:41:59.833Z"
   },
   {
    "duration": 62,
    "start_time": "2022-12-27T20:41:59.863Z"
   },
   {
    "duration": 31,
    "start_time": "2022-12-27T20:41:59.927Z"
   },
   {
    "duration": 49,
    "start_time": "2022-12-27T20:41:59.960Z"
   },
   {
    "duration": 24,
    "start_time": "2022-12-27T20:42:00.011Z"
   },
   {
    "duration": 36,
    "start_time": "2022-12-27T20:42:00.036Z"
   },
   {
    "duration": 39,
    "start_time": "2022-12-27T20:42:00.074Z"
   },
   {
    "duration": 19,
    "start_time": "2022-12-27T20:42:00.115Z"
   },
   {
    "duration": 27,
    "start_time": "2022-12-27T20:42:00.136Z"
   },
   {
    "duration": 38,
    "start_time": "2022-12-27T20:42:00.165Z"
   },
   {
    "duration": 32,
    "start_time": "2022-12-27T20:42:00.206Z"
   },
   {
    "duration": 19,
    "start_time": "2022-12-27T20:42:00.241Z"
   },
   {
    "duration": 31,
    "start_time": "2022-12-27T20:42:00.262Z"
   },
   {
    "duration": 35,
    "start_time": "2022-12-27T20:42:00.298Z"
   },
   {
    "duration": 27,
    "start_time": "2022-12-27T20:42:00.335Z"
   },
   {
    "duration": 47,
    "start_time": "2022-12-27T20:42:00.364Z"
   },
   {
    "duration": 25,
    "start_time": "2022-12-27T20:42:00.413Z"
   },
   {
    "duration": 16,
    "start_time": "2022-12-27T20:42:00.439Z"
   },
   {
    "duration": 40,
    "start_time": "2022-12-27T20:42:00.456Z"
   },
   {
    "duration": 19,
    "start_time": "2022-12-27T20:42:00.497Z"
   },
   {
    "duration": 23,
    "start_time": "2022-12-27T20:42:00.518Z"
   },
   {
    "duration": 17,
    "start_time": "2022-12-27T20:42:00.543Z"
   },
   {
    "duration": 34,
    "start_time": "2022-12-27T20:42:00.562Z"
   },
   {
    "duration": 32,
    "start_time": "2022-12-27T20:42:00.598Z"
   },
   {
    "duration": 18,
    "start_time": "2022-12-27T20:42:00.632Z"
   },
   {
    "duration": 41,
    "start_time": "2022-12-27T20:42:00.652Z"
   },
   {
    "duration": 45,
    "start_time": "2022-12-27T20:42:00.696Z"
   },
   {
    "duration": 195,
    "start_time": "2022-12-27T20:42:00.743Z"
   },
   {
    "duration": 320,
    "start_time": "2022-12-27T20:42:00.940Z"
   },
   {
    "duration": 33,
    "start_time": "2022-12-27T20:42:01.261Z"
   },
   {
    "duration": 12,
    "start_time": "2022-12-27T20:42:01.300Z"
   },
   {
    "duration": 26,
    "start_time": "2022-12-27T20:42:01.313Z"
   },
   {
    "duration": 324,
    "start_time": "2022-12-27T20:42:01.341Z"
   },
   {
    "duration": 239,
    "start_time": "2022-12-27T20:42:01.667Z"
   },
   {
    "duration": 207,
    "start_time": "2022-12-27T20:42:01.908Z"
   },
   {
    "duration": 195,
    "start_time": "2022-12-27T20:42:02.117Z"
   },
   {
    "duration": 202,
    "start_time": "2022-12-27T20:42:02.314Z"
   },
   {
    "duration": 193,
    "start_time": "2022-12-27T20:42:02.520Z"
   },
   {
    "duration": 203,
    "start_time": "2022-12-27T20:42:02.715Z"
   },
   {
    "duration": 8,
    "start_time": "2022-12-27T20:42:02.920Z"
   },
   {
    "duration": 384,
    "start_time": "2022-12-27T20:42:02.931Z"
   },
   {
    "duration": 227,
    "start_time": "2022-12-27T20:42:03.318Z"
   },
   {
    "duration": 67,
    "start_time": "2022-12-27T20:42:03.547Z"
   },
   {
    "duration": 1406,
    "start_time": "2022-12-28T16:21:41.339Z"
   },
   {
    "duration": 22,
    "start_time": "2022-12-28T16:21:42.746Z"
   },
   {
    "duration": 33,
    "start_time": "2022-12-28T16:21:42.769Z"
   },
   {
    "duration": 3,
    "start_time": "2022-12-28T16:21:42.804Z"
   },
   {
    "duration": 20,
    "start_time": "2022-12-28T16:21:42.808Z"
   },
   {
    "duration": 21,
    "start_time": "2022-12-28T16:21:42.830Z"
   },
   {
    "duration": 41,
    "start_time": "2022-12-28T16:21:42.853Z"
   },
   {
    "duration": 11,
    "start_time": "2022-12-28T16:21:42.896Z"
   },
   {
    "duration": 34,
    "start_time": "2022-12-28T16:21:42.909Z"
   },
   {
    "duration": 27,
    "start_time": "2022-12-28T16:21:42.946Z"
   },
   {
    "duration": 29,
    "start_time": "2022-12-28T16:21:42.975Z"
   },
   {
    "duration": 22,
    "start_time": "2022-12-28T16:21:43.006Z"
   },
   {
    "duration": 18,
    "start_time": "2022-12-28T16:21:43.030Z"
   },
   {
    "duration": 6,
    "start_time": "2022-12-28T16:21:43.050Z"
   },
   {
    "duration": 41,
    "start_time": "2022-12-28T16:21:43.058Z"
   },
   {
    "duration": 73,
    "start_time": "2022-12-28T16:21:43.101Z"
   },
   {
    "duration": 36,
    "start_time": "2022-12-28T16:21:43.175Z"
   },
   {
    "duration": 42,
    "start_time": "2022-12-28T16:21:43.213Z"
   },
   {
    "duration": 16,
    "start_time": "2022-12-28T16:21:43.257Z"
   },
   {
    "duration": 45,
    "start_time": "2022-12-28T16:21:43.275Z"
   },
   {
    "duration": 26,
    "start_time": "2022-12-28T16:21:43.322Z"
   },
   {
    "duration": 30,
    "start_time": "2022-12-28T16:21:43.350Z"
   },
   {
    "duration": 12,
    "start_time": "2022-12-28T16:21:43.382Z"
   },
   {
    "duration": 24,
    "start_time": "2022-12-28T16:21:43.396Z"
   },
   {
    "duration": 18,
    "start_time": "2022-12-28T16:21:43.422Z"
   },
   {
    "duration": 18,
    "start_time": "2022-12-28T16:21:43.442Z"
   },
   {
    "duration": 29,
    "start_time": "2022-12-28T16:21:43.462Z"
   },
   {
    "duration": 13,
    "start_time": "2022-12-28T16:21:43.494Z"
   },
   {
    "duration": 42,
    "start_time": "2022-12-28T16:21:43.509Z"
   },
   {
    "duration": 33,
    "start_time": "2022-12-28T16:21:43.553Z"
   },
   {
    "duration": 229,
    "start_time": "2022-12-28T16:21:43.590Z"
   },
   {
    "duration": 309,
    "start_time": "2022-12-28T16:21:43.821Z"
   },
   {
    "duration": 13,
    "start_time": "2022-12-28T16:21:44.132Z"
   },
   {
    "duration": 9,
    "start_time": "2022-12-28T16:21:44.146Z"
   },
   {
    "duration": 35,
    "start_time": "2022-12-28T16:21:44.157Z"
   },
   {
    "duration": 293,
    "start_time": "2022-12-28T16:21:44.194Z"
   },
   {
    "duration": 202,
    "start_time": "2022-12-28T16:21:44.489Z"
   },
   {
    "duration": 198,
    "start_time": "2022-12-28T16:21:44.693Z"
   },
   {
    "duration": 198,
    "start_time": "2022-12-28T16:21:44.896Z"
   },
   {
    "duration": 221,
    "start_time": "2022-12-28T16:21:45.096Z"
   },
   {
    "duration": 278,
    "start_time": "2022-12-28T16:21:45.319Z"
   },
   {
    "duration": 185,
    "start_time": "2022-12-28T16:21:45.600Z"
   },
   {
    "duration": 9,
    "start_time": "2022-12-28T16:21:45.791Z"
   },
   {
    "duration": 431,
    "start_time": "2022-12-28T16:21:45.802Z"
   },
   {
    "duration": 215,
    "start_time": "2022-12-28T16:21:46.235Z"
   },
   {
    "duration": 175,
    "start_time": "2022-12-28T16:26:30.193Z"
   },
   {
    "duration": 200,
    "start_time": "2022-12-28T16:27:05.096Z"
   },
   {
    "duration": 15,
    "start_time": "2022-12-28T16:57:25.443Z"
   },
   {
    "duration": 131,
    "start_time": "2022-12-28T16:58:17.468Z"
   },
   {
    "duration": 14,
    "start_time": "2022-12-28T16:58:27.732Z"
   },
   {
    "duration": 156,
    "start_time": "2022-12-28T16:58:38.762Z"
   },
   {
    "duration": 15,
    "start_time": "2022-12-28T17:02:24.601Z"
   },
   {
    "duration": 7,
    "start_time": "2022-12-28T17:03:32.183Z"
   },
   {
    "duration": 6,
    "start_time": "2022-12-28T17:03:32.663Z"
   },
   {
    "duration": 6,
    "start_time": "2022-12-28T17:03:58.489Z"
   },
   {
    "duration": 153,
    "start_time": "2022-12-28T17:03:59.559Z"
   },
   {
    "duration": 149,
    "start_time": "2022-12-28T17:04:22.760Z"
   },
   {
    "duration": 136,
    "start_time": "2022-12-28T17:05:07.549Z"
   },
   {
    "duration": 6,
    "start_time": "2022-12-28T17:05:24.950Z"
   },
   {
    "duration": 4,
    "start_time": "2022-12-28T17:21:24.819Z"
   },
   {
    "duration": 8,
    "start_time": "2022-12-28T17:22:14.114Z"
   },
   {
    "duration": 6,
    "start_time": "2022-12-28T17:23:03.361Z"
   },
   {
    "duration": 9,
    "start_time": "2022-12-28T17:23:16.397Z"
   },
   {
    "duration": 9,
    "start_time": "2022-12-28T17:23:18.360Z"
   },
   {
    "duration": 8,
    "start_time": "2022-12-28T17:23:27.060Z"
   },
   {
    "duration": 8,
    "start_time": "2022-12-28T17:23:31.440Z"
   },
   {
    "duration": 6,
    "start_time": "2022-12-28T17:23:44.519Z"
   },
   {
    "duration": 5,
    "start_time": "2022-12-28T17:23:45.290Z"
   },
   {
    "duration": 6,
    "start_time": "2022-12-28T17:24:31.250Z"
   },
   {
    "duration": 5,
    "start_time": "2022-12-28T17:24:31.969Z"
   },
   {
    "duration": 13,
    "start_time": "2022-12-28T17:34:12.189Z"
   },
   {
    "duration": 11,
    "start_time": "2022-12-28T17:34:27.990Z"
   },
   {
    "duration": 12,
    "start_time": "2022-12-28T17:34:35.803Z"
   },
   {
    "duration": 5,
    "start_time": "2022-12-28T17:38:19.986Z"
   },
   {
    "duration": 6,
    "start_time": "2022-12-28T17:38:38.289Z"
   },
   {
    "duration": 6,
    "start_time": "2022-12-28T17:38:52.261Z"
   },
   {
    "duration": 22,
    "start_time": "2022-12-28T18:00:00.195Z"
   },
   {
    "duration": 16,
    "start_time": "2022-12-28T18:00:35.429Z"
   },
   {
    "duration": 5,
    "start_time": "2022-12-28T18:01:48.650Z"
   },
   {
    "duration": 3,
    "start_time": "2022-12-28T18:04:59.862Z"
   },
   {
    "duration": 4,
    "start_time": "2022-12-28T18:05:16.388Z"
   },
   {
    "duration": 4,
    "start_time": "2022-12-28T18:05:39.735Z"
   },
   {
    "duration": 11,
    "start_time": "2022-12-28T18:12:45.093Z"
   },
   {
    "duration": 15,
    "start_time": "2022-12-28T18:12:58.616Z"
   },
   {
    "duration": 18,
    "start_time": "2022-12-28T18:13:34.677Z"
   },
   {
    "duration": 16,
    "start_time": "2022-12-28T18:13:44.007Z"
   },
   {
    "duration": 16,
    "start_time": "2022-12-28T18:14:14.595Z"
   },
   {
    "duration": 241,
    "start_time": "2022-12-28T18:22:06.381Z"
   },
   {
    "duration": 18,
    "start_time": "2022-12-28T18:22:22.809Z"
   },
   {
    "duration": 15,
    "start_time": "2022-12-28T18:23:30.973Z"
   },
   {
    "duration": 16,
    "start_time": "2022-12-28T18:23:44.059Z"
   },
   {
    "duration": 28,
    "start_time": "2022-12-28T18:24:57.575Z"
   },
   {
    "duration": 335,
    "start_time": "2022-12-28T18:26:26.660Z"
   },
   {
    "duration": 436,
    "start_time": "2022-12-28T18:26:53.378Z"
   },
   {
    "duration": 377,
    "start_time": "2022-12-28T18:27:14.040Z"
   },
   {
    "duration": 368,
    "start_time": "2022-12-28T18:27:52.618Z"
   },
   {
    "duration": 357,
    "start_time": "2022-12-28T18:28:24.545Z"
   },
   {
    "duration": 409,
    "start_time": "2022-12-28T18:29:02.244Z"
   },
   {
    "duration": 17,
    "start_time": "2022-12-28T18:36:26.549Z"
   },
   {
    "duration": 16,
    "start_time": "2022-12-28T18:40:51.685Z"
   },
   {
    "duration": 344,
    "start_time": "2022-12-28T18:45:28.069Z"
   },
   {
    "duration": 18,
    "start_time": "2022-12-28T18:46:03.079Z"
   },
   {
    "duration": 16,
    "start_time": "2022-12-28T18:46:14.082Z"
   },
   {
    "duration": 283,
    "start_time": "2022-12-28T18:46:31.866Z"
   },
   {
    "duration": 17,
    "start_time": "2022-12-28T18:49:46.784Z"
   },
   {
    "duration": 289,
    "start_time": "2022-12-28T18:51:26.753Z"
   },
   {
    "duration": 17,
    "start_time": "2022-12-28T18:51:58.513Z"
   },
   {
    "duration": 15,
    "start_time": "2022-12-28T18:53:14.558Z"
   },
   {
    "duration": 15,
    "start_time": "2022-12-28T18:53:19.806Z"
   },
   {
    "duration": 54,
    "start_time": "2022-12-28T18:53:25.878Z"
   },
   {
    "duration": 17,
    "start_time": "2022-12-28T18:53:25.934Z"
   },
   {
    "duration": 34,
    "start_time": "2022-12-28T18:53:25.953Z"
   },
   {
    "duration": 22,
    "start_time": "2022-12-28T18:53:25.989Z"
   },
   {
    "duration": 28,
    "start_time": "2022-12-28T18:53:26.014Z"
   },
   {
    "duration": 29,
    "start_time": "2022-12-28T18:53:26.044Z"
   },
   {
    "duration": 46,
    "start_time": "2022-12-28T18:53:26.075Z"
   },
   {
    "duration": 10,
    "start_time": "2022-12-28T18:53:26.123Z"
   },
   {
    "duration": 32,
    "start_time": "2022-12-28T18:53:26.134Z"
   },
   {
    "duration": 18,
    "start_time": "2022-12-28T18:53:26.168Z"
   },
   {
    "duration": 26,
    "start_time": "2022-12-28T18:53:26.188Z"
   },
   {
    "duration": 17,
    "start_time": "2022-12-28T18:53:26.216Z"
   },
   {
    "duration": 17,
    "start_time": "2022-12-28T18:53:26.235Z"
   },
   {
    "duration": 3,
    "start_time": "2022-12-28T18:53:26.255Z"
   },
   {
    "duration": 7,
    "start_time": "2022-12-28T18:53:26.259Z"
   },
   {
    "duration": 8,
    "start_time": "2022-12-28T18:53:26.268Z"
   },
   {
    "duration": 17,
    "start_time": "2022-12-28T18:53:26.277Z"
   },
   {
    "duration": 9,
    "start_time": "2022-12-28T18:53:26.296Z"
   },
   {
    "duration": 6,
    "start_time": "2022-12-28T18:53:26.306Z"
   },
   {
    "duration": 6,
    "start_time": "2022-12-28T18:53:26.314Z"
   },
   {
    "duration": 14,
    "start_time": "2022-12-28T18:53:26.322Z"
   },
   {
    "duration": 16,
    "start_time": "2022-12-28T18:53:26.338Z"
   },
   {
    "duration": 23,
    "start_time": "2022-12-28T18:53:26.356Z"
   },
   {
    "duration": 5,
    "start_time": "2022-12-28T18:53:26.380Z"
   },
   {
    "duration": 8,
    "start_time": "2022-12-28T18:53:26.387Z"
   },
   {
    "duration": 19,
    "start_time": "2022-12-28T18:53:26.396Z"
   },
   {
    "duration": 17,
    "start_time": "2022-12-28T18:53:26.417Z"
   },
   {
    "duration": 7,
    "start_time": "2022-12-28T18:53:26.436Z"
   },
   {
    "duration": 20,
    "start_time": "2022-12-28T18:53:26.444Z"
   },
   {
    "duration": 16,
    "start_time": "2022-12-28T18:53:26.478Z"
   },
   {
    "duration": 187,
    "start_time": "2022-12-28T18:53:26.496Z"
   },
   {
    "duration": 269,
    "start_time": "2022-12-28T18:53:26.684Z"
   },
   {
    "duration": 11,
    "start_time": "2022-12-28T18:53:26.955Z"
   },
   {
    "duration": 9,
    "start_time": "2022-12-28T18:53:26.977Z"
   },
   {
    "duration": 6,
    "start_time": "2022-12-28T18:53:26.988Z"
   },
   {
    "duration": 416,
    "start_time": "2022-12-28T18:53:26.996Z"
   },
   {
    "duration": 205,
    "start_time": "2022-12-28T18:53:27.414Z"
   },
   {
    "duration": 180,
    "start_time": "2022-12-28T18:53:27.621Z"
   },
   {
    "duration": 190,
    "start_time": "2022-12-28T18:53:27.803Z"
   },
   {
    "duration": 189,
    "start_time": "2022-12-28T18:53:27.994Z"
   },
   {
    "duration": 247,
    "start_time": "2022-12-28T18:53:28.187Z"
   },
   {
    "duration": 214,
    "start_time": "2022-12-28T18:53:28.437Z"
   },
   {
    "duration": 8,
    "start_time": "2022-12-28T18:53:28.652Z"
   },
   {
    "duration": 361,
    "start_time": "2022-12-28T18:53:28.677Z"
   },
   {
    "duration": 213,
    "start_time": "2022-12-28T18:53:29.041Z"
   },
   {
    "duration": 7,
    "start_time": "2022-12-28T18:53:29.255Z"
   },
   {
    "duration": 151,
    "start_time": "2022-12-28T18:53:29.277Z"
   },
   {
    "duration": 6,
    "start_time": "2022-12-28T18:53:29.430Z"
   },
   {
    "duration": 166,
    "start_time": "2022-12-28T18:53:29.438Z"
   },
   {
    "duration": 6,
    "start_time": "2022-12-28T18:53:29.607Z"
   },
   {
    "duration": 14,
    "start_time": "2022-12-28T18:53:29.614Z"
   },
   {
    "duration": 12,
    "start_time": "2022-12-28T18:53:29.630Z"
   },
   {
    "duration": 8,
    "start_time": "2022-12-28T18:53:29.644Z"
   },
   {
    "duration": 8,
    "start_time": "2022-12-28T18:53:29.677Z"
   },
   {
    "duration": 16,
    "start_time": "2022-12-28T18:53:29.687Z"
   },
   {
    "duration": 22,
    "start_time": "2022-12-28T18:53:29.705Z"
   },
   {
    "duration": 8,
    "start_time": "2022-12-28T18:53:29.730Z"
   },
   {
    "duration": 16,
    "start_time": "2022-12-28T18:53:29.740Z"
   },
   {
    "duration": 22,
    "start_time": "2022-12-28T18:53:29.758Z"
   },
   {
    "duration": 23,
    "start_time": "2022-12-28T18:53:29.782Z"
   },
   {
    "duration": 13,
    "start_time": "2022-12-28T18:53:29.807Z"
   },
   {
    "duration": 25,
    "start_time": "2022-12-28T18:53:29.822Z"
   },
   {
    "duration": 402,
    "start_time": "2022-12-28T18:53:29.849Z"
   },
   {
    "duration": 31,
    "start_time": "2022-12-28T18:53:30.254Z"
   },
   {
    "duration": 326,
    "start_time": "2022-12-28T18:53:30.289Z"
   },
   {
    "duration": 17,
    "start_time": "2022-12-28T18:53:30.617Z"
   },
   {
    "duration": 769,
    "start_time": "2022-12-28T18:53:30.636Z"
   },
   {
    "duration": 17,
    "start_time": "2022-12-28T18:53:31.407Z"
   },
   {
    "duration": 465,
    "start_time": "2022-12-28T18:53:31.427Z"
   },
   {
    "duration": 16,
    "start_time": "2022-12-28T19:19:31.309Z"
   },
   {
    "duration": 12,
    "start_time": "2022-12-28T19:24:20.201Z"
   },
   {
    "duration": 21,
    "start_time": "2022-12-28T19:24:26.997Z"
   },
   {
    "duration": 18,
    "start_time": "2022-12-28T19:24:47.984Z"
   },
   {
    "duration": 5,
    "start_time": "2022-12-28T19:26:00.260Z"
   },
   {
    "duration": 18,
    "start_time": "2022-12-28T19:26:17.661Z"
   },
   {
    "duration": 5,
    "start_time": "2022-12-28T19:26:31.501Z"
   },
   {
    "duration": 19,
    "start_time": "2022-12-28T19:27:31.880Z"
   },
   {
    "duration": 19,
    "start_time": "2022-12-28T19:27:40.442Z"
   },
   {
    "duration": 18,
    "start_time": "2022-12-28T19:27:52.520Z"
   },
   {
    "duration": 19,
    "start_time": "2022-12-28T19:28:00.781Z"
   },
   {
    "duration": 19,
    "start_time": "2022-12-28T19:28:43.182Z"
   },
   {
    "duration": 17,
    "start_time": "2022-12-28T19:29:01.023Z"
   },
   {
    "duration": 17,
    "start_time": "2022-12-28T19:29:10.377Z"
   },
   {
    "duration": 57,
    "start_time": "2022-12-28T19:29:16.108Z"
   },
   {
    "duration": 16,
    "start_time": "2022-12-28T19:29:16.168Z"
   },
   {
    "duration": 16,
    "start_time": "2022-12-28T19:29:16.186Z"
   },
   {
    "duration": 4,
    "start_time": "2022-12-28T19:29:16.205Z"
   },
   {
    "duration": 29,
    "start_time": "2022-12-28T19:29:16.211Z"
   },
   {
    "duration": 45,
    "start_time": "2022-12-28T19:29:16.242Z"
   },
   {
    "duration": 40,
    "start_time": "2022-12-28T19:29:16.290Z"
   },
   {
    "duration": 9,
    "start_time": "2022-12-28T19:29:16.332Z"
   },
   {
    "duration": 8,
    "start_time": "2022-12-28T19:29:16.343Z"
   },
   {
    "duration": 11,
    "start_time": "2022-12-28T19:29:16.377Z"
   },
   {
    "duration": 9,
    "start_time": "2022-12-28T19:29:16.390Z"
   },
   {
    "duration": 10,
    "start_time": "2022-12-28T19:29:16.401Z"
   },
   {
    "duration": 6,
    "start_time": "2022-12-28T19:29:16.413Z"
   },
   {
    "duration": 6,
    "start_time": "2022-12-28T19:29:16.421Z"
   },
   {
    "duration": 8,
    "start_time": "2022-12-28T19:29:16.428Z"
   },
   {
    "duration": 8,
    "start_time": "2022-12-28T19:29:16.437Z"
   },
   {
    "duration": 19,
    "start_time": "2022-12-28T19:29:16.479Z"
   },
   {
    "duration": 17,
    "start_time": "2022-12-28T19:29:16.500Z"
   },
   {
    "duration": 11,
    "start_time": "2022-12-28T19:29:16.518Z"
   },
   {
    "duration": 19,
    "start_time": "2022-12-28T19:29:16.530Z"
   },
   {
    "duration": 8,
    "start_time": "2022-12-28T19:29:16.551Z"
   },
   {
    "duration": 24,
    "start_time": "2022-12-28T19:29:16.561Z"
   },
   {
    "duration": 6,
    "start_time": "2022-12-28T19:29:16.586Z"
   },
   {
    "duration": 8,
    "start_time": "2022-12-28T19:29:16.594Z"
   },
   {
    "duration": 6,
    "start_time": "2022-12-28T19:29:16.604Z"
   },
   {
    "duration": 7,
    "start_time": "2022-12-28T19:29:16.612Z"
   },
   {
    "duration": 19,
    "start_time": "2022-12-28T19:29:16.620Z"
   },
   {
    "duration": 15,
    "start_time": "2022-12-28T19:29:16.643Z"
   },
   {
    "duration": 29,
    "start_time": "2022-12-28T19:29:16.660Z"
   },
   {
    "duration": 17,
    "start_time": "2022-12-28T19:29:16.690Z"
   },
   {
    "duration": 191,
    "start_time": "2022-12-28T19:29:16.709Z"
   },
   {
    "duration": 301,
    "start_time": "2022-12-28T19:29:16.902Z"
   },
   {
    "duration": 19,
    "start_time": "2022-12-28T19:29:17.204Z"
   },
   {
    "duration": 10,
    "start_time": "2022-12-28T19:29:17.225Z"
   },
   {
    "duration": 9,
    "start_time": "2022-12-28T19:29:17.237Z"
   },
   {
    "duration": 388,
    "start_time": "2022-12-28T19:29:17.247Z"
   },
   {
    "duration": 225,
    "start_time": "2022-12-28T19:29:17.637Z"
   },
   {
    "duration": 208,
    "start_time": "2022-12-28T19:29:17.864Z"
   },
   {
    "duration": 269,
    "start_time": "2022-12-28T19:29:18.077Z"
   },
   {
    "duration": 277,
    "start_time": "2022-12-28T19:29:18.347Z"
   },
   {
    "duration": 193,
    "start_time": "2022-12-28T19:29:18.626Z"
   },
   {
    "duration": 215,
    "start_time": "2022-12-28T19:29:18.821Z"
   },
   {
    "duration": 8,
    "start_time": "2022-12-28T19:29:19.038Z"
   },
   {
    "duration": 392,
    "start_time": "2022-12-28T19:29:19.048Z"
   },
   {
    "duration": 208,
    "start_time": "2022-12-28T19:29:19.441Z"
   },
   {
    "duration": 6,
    "start_time": "2022-12-28T19:29:19.651Z"
   },
   {
    "duration": 159,
    "start_time": "2022-12-28T19:29:19.658Z"
   },
   {
    "duration": 5,
    "start_time": "2022-12-28T19:29:19.819Z"
   },
   {
    "duration": 171,
    "start_time": "2022-12-28T19:29:19.826Z"
   },
   {
    "duration": 6,
    "start_time": "2022-12-28T19:29:19.999Z"
   },
   {
    "duration": 18,
    "start_time": "2022-12-28T19:29:20.006Z"
   },
   {
    "duration": 5,
    "start_time": "2022-12-28T19:29:20.026Z"
   },
   {
    "duration": 4,
    "start_time": "2022-12-28T19:29:20.033Z"
   },
   {
    "duration": 6,
    "start_time": "2022-12-28T19:29:20.039Z"
   },
   {
    "duration": 7,
    "start_time": "2022-12-28T19:29:20.046Z"
   },
   {
    "duration": 39,
    "start_time": "2022-12-28T19:29:20.054Z"
   },
   {
    "duration": 14,
    "start_time": "2022-12-28T19:29:20.095Z"
   },
   {
    "duration": 18,
    "start_time": "2022-12-28T19:29:20.111Z"
   },
   {
    "duration": 11,
    "start_time": "2022-12-28T19:29:20.130Z"
   },
   {
    "duration": 14,
    "start_time": "2022-12-28T19:29:20.142Z"
   },
   {
    "duration": 7,
    "start_time": "2022-12-28T19:29:20.157Z"
   },
   {
    "duration": 30,
    "start_time": "2022-12-28T19:29:20.165Z"
   },
   {
    "duration": 403,
    "start_time": "2022-12-28T19:29:20.196Z"
   },
   {
    "duration": 15,
    "start_time": "2022-12-28T19:29:20.601Z"
   },
   {
    "duration": 533,
    "start_time": "2022-12-28T19:29:20.618Z"
   },
   {
    "duration": 14,
    "start_time": "2022-12-28T19:29:21.153Z"
   },
   {
    "duration": 314,
    "start_time": "2022-12-28T19:29:21.183Z"
   },
   {
    "duration": 16,
    "start_time": "2022-12-28T19:29:21.499Z"
   },
   {
    "duration": 320,
    "start_time": "2022-12-28T19:29:21.517Z"
   },
   {
    "duration": 17,
    "start_time": "2022-12-28T19:29:21.839Z"
   },
   {
    "duration": 35,
    "start_time": "2022-12-28T19:29:21.858Z"
   },
   {
    "duration": 17,
    "start_time": "2022-12-28T19:29:50.941Z"
   },
   {
    "duration": 15,
    "start_time": "2022-12-28T19:29:56.875Z"
   },
   {
    "duration": 19,
    "start_time": "2022-12-28T19:29:57.740Z"
   },
   {
    "duration": 18,
    "start_time": "2022-12-28T19:30:12.377Z"
   },
   {
    "duration": 18,
    "start_time": "2022-12-28T19:30:21.088Z"
   },
   {
    "duration": 52,
    "start_time": "2022-12-28T19:30:29.038Z"
   },
   {
    "duration": 17,
    "start_time": "2022-12-28T19:30:29.092Z"
   },
   {
    "duration": 32,
    "start_time": "2022-12-28T19:30:29.111Z"
   },
   {
    "duration": 14,
    "start_time": "2022-12-28T19:30:29.145Z"
   },
   {
    "duration": 28,
    "start_time": "2022-12-28T19:30:29.161Z"
   },
   {
    "duration": 34,
    "start_time": "2022-12-28T19:30:29.191Z"
   },
   {
    "duration": 43,
    "start_time": "2022-12-28T19:30:29.227Z"
   },
   {
    "duration": 9,
    "start_time": "2022-12-28T19:30:29.272Z"
   },
   {
    "duration": 22,
    "start_time": "2022-12-28T19:30:29.282Z"
   },
   {
    "duration": 37,
    "start_time": "2022-12-28T19:30:29.306Z"
   },
   {
    "duration": 21,
    "start_time": "2022-12-28T19:30:29.344Z"
   },
   {
    "duration": 16,
    "start_time": "2022-12-28T19:30:29.366Z"
   },
   {
    "duration": 11,
    "start_time": "2022-12-28T19:30:29.383Z"
   },
   {
    "duration": 16,
    "start_time": "2022-12-28T19:30:29.397Z"
   },
   {
    "duration": 28,
    "start_time": "2022-12-28T19:30:29.414Z"
   },
   {
    "duration": 13,
    "start_time": "2022-12-28T19:30:29.444Z"
   },
   {
    "duration": 48,
    "start_time": "2022-12-28T19:30:29.459Z"
   },
   {
    "duration": 40,
    "start_time": "2022-12-28T19:30:29.509Z"
   },
   {
    "duration": 16,
    "start_time": "2022-12-28T19:30:29.550Z"
   },
   {
    "duration": 19,
    "start_time": "2022-12-28T19:30:29.568Z"
   },
   {
    "duration": 21,
    "start_time": "2022-12-28T19:30:29.588Z"
   },
   {
    "duration": 37,
    "start_time": "2022-12-28T19:30:29.610Z"
   },
   {
    "duration": 13,
    "start_time": "2022-12-28T19:30:29.649Z"
   },
   {
    "duration": 10,
    "start_time": "2022-12-28T19:30:29.665Z"
   },
   {
    "duration": 27,
    "start_time": "2022-12-28T19:30:29.677Z"
   },
   {
    "duration": 19,
    "start_time": "2022-12-28T19:30:29.706Z"
   },
   {
    "duration": 30,
    "start_time": "2022-12-28T19:30:29.727Z"
   },
   {
    "duration": 23,
    "start_time": "2022-12-28T19:30:29.759Z"
   },
   {
    "duration": 30,
    "start_time": "2022-12-28T19:30:29.783Z"
   },
   {
    "duration": 28,
    "start_time": "2022-12-28T19:30:29.815Z"
   },
   {
    "duration": 201,
    "start_time": "2022-12-28T19:30:29.844Z"
   },
   {
    "duration": 290,
    "start_time": "2022-12-28T19:30:30.047Z"
   },
   {
    "duration": 15,
    "start_time": "2022-12-28T19:30:30.339Z"
   },
   {
    "duration": 46,
    "start_time": "2022-12-28T19:30:30.356Z"
   },
   {
    "duration": 37,
    "start_time": "2022-12-28T19:30:30.404Z"
   },
   {
    "duration": 356,
    "start_time": "2022-12-28T19:30:30.443Z"
   },
   {
    "duration": 222,
    "start_time": "2022-12-28T19:30:30.801Z"
   },
   {
    "duration": 206,
    "start_time": "2022-12-28T19:30:31.025Z"
   },
   {
    "duration": 201,
    "start_time": "2022-12-28T19:30:31.232Z"
   },
   {
    "duration": 193,
    "start_time": "2022-12-28T19:30:31.435Z"
   },
   {
    "duration": 178,
    "start_time": "2022-12-28T19:30:31.633Z"
   },
   {
    "duration": 177,
    "start_time": "2022-12-28T19:30:31.813Z"
   },
   {
    "duration": 7,
    "start_time": "2022-12-28T19:30:31.992Z"
   },
   {
    "duration": 348,
    "start_time": "2022-12-28T19:30:32.001Z"
   },
   {
    "duration": 210,
    "start_time": "2022-12-28T19:30:32.351Z"
   },
   {
    "duration": 7,
    "start_time": "2022-12-28T19:30:32.563Z"
   },
   {
    "duration": 152,
    "start_time": "2022-12-28T19:30:32.577Z"
   },
   {
    "duration": 5,
    "start_time": "2022-12-28T19:30:32.731Z"
   },
   {
    "duration": 155,
    "start_time": "2022-12-28T19:30:32.738Z"
   },
   {
    "duration": 5,
    "start_time": "2022-12-28T19:30:32.895Z"
   },
   {
    "duration": 12,
    "start_time": "2022-12-28T19:30:32.902Z"
   },
   {
    "duration": 12,
    "start_time": "2022-12-28T19:30:32.915Z"
   },
   {
    "duration": 6,
    "start_time": "2022-12-28T19:30:32.928Z"
   },
   {
    "duration": 6,
    "start_time": "2022-12-28T19:30:32.936Z"
   },
   {
    "duration": 6,
    "start_time": "2022-12-28T19:30:32.944Z"
   },
   {
    "duration": 34,
    "start_time": "2022-12-28T19:30:32.951Z"
   },
   {
    "duration": 11,
    "start_time": "2022-12-28T19:30:32.987Z"
   },
   {
    "duration": 12,
    "start_time": "2022-12-28T19:30:33.000Z"
   },
   {
    "duration": 7,
    "start_time": "2022-12-28T19:30:33.014Z"
   },
   {
    "duration": 14,
    "start_time": "2022-12-28T19:30:33.023Z"
   },
   {
    "duration": 12,
    "start_time": "2022-12-28T19:30:33.039Z"
   },
   {
    "duration": 36,
    "start_time": "2022-12-28T19:30:33.053Z"
   },
   {
    "duration": 373,
    "start_time": "2022-12-28T19:30:33.090Z"
   },
   {
    "duration": 23,
    "start_time": "2022-12-28T19:30:33.464Z"
   },
   {
    "duration": 319,
    "start_time": "2022-12-28T19:30:33.488Z"
   },
   {
    "duration": 16,
    "start_time": "2022-12-28T19:30:33.809Z"
   },
   {
    "duration": 519,
    "start_time": "2022-12-28T19:30:33.827Z"
   },
   {
    "duration": 16,
    "start_time": "2022-12-28T19:30:34.348Z"
   },
   {
    "duration": 316,
    "start_time": "2022-12-28T19:30:34.366Z"
   },
   {
    "duration": 15,
    "start_time": "2022-12-28T19:30:34.683Z"
   },
   {
    "duration": 16,
    "start_time": "2022-12-28T19:30:34.700Z"
   },
   {
    "duration": 11,
    "start_time": "2022-12-28T19:30:43.442Z"
   },
   {
    "duration": 11,
    "start_time": "2022-12-28T19:30:54.256Z"
   },
   {
    "duration": 4,
    "start_time": "2022-12-28T19:31:05.187Z"
   },
   {
    "duration": 11,
    "start_time": "2022-12-28T19:31:11.575Z"
   },
   {
    "duration": 8,
    "start_time": "2022-12-28T19:31:45.689Z"
   },
   {
    "duration": 11,
    "start_time": "2022-12-28T19:32:16.217Z"
   },
   {
    "duration": 4,
    "start_time": "2022-12-28T19:32:58.936Z"
   },
   {
    "duration": 12,
    "start_time": "2022-12-28T19:33:09.635Z"
   },
   {
    "duration": 12,
    "start_time": "2022-12-28T19:34:46.856Z"
   },
   {
    "duration": 7,
    "start_time": "2022-12-28T19:35:26.804Z"
   },
   {
    "duration": 9,
    "start_time": "2022-12-28T19:35:35.782Z"
   },
   {
    "duration": 3,
    "start_time": "2022-12-28T19:37:22.290Z"
   },
   {
    "duration": 13,
    "start_time": "2022-12-28T19:40:50.031Z"
   },
   {
    "duration": 8,
    "start_time": "2022-12-28T19:41:13.482Z"
   },
   {
    "duration": 9,
    "start_time": "2022-12-28T19:41:21.756Z"
   },
   {
    "duration": 172,
    "start_time": "2022-12-28T19:42:17.846Z"
   },
   {
    "duration": 157,
    "start_time": "2022-12-28T19:42:53.991Z"
   },
   {
    "duration": 202,
    "start_time": "2022-12-28T19:43:07.575Z"
   },
   {
    "duration": 174,
    "start_time": "2022-12-28T19:43:19.810Z"
   },
   {
    "duration": 340,
    "start_time": "2022-12-28T19:43:40.384Z"
   },
   {
    "duration": 495,
    "start_time": "2022-12-28T19:44:17.153Z"
   },
   {
    "duration": 51,
    "start_time": "2022-12-28T19:44:56.683Z"
   },
   {
    "duration": 17,
    "start_time": "2022-12-28T19:44:56.736Z"
   },
   {
    "duration": 17,
    "start_time": "2022-12-28T19:44:56.754Z"
   },
   {
    "duration": 5,
    "start_time": "2022-12-28T19:44:56.772Z"
   },
   {
    "duration": 16,
    "start_time": "2022-12-28T19:44:56.779Z"
   },
   {
    "duration": 19,
    "start_time": "2022-12-28T19:44:56.797Z"
   },
   {
    "duration": 28,
    "start_time": "2022-12-28T19:44:56.818Z"
   },
   {
    "duration": 37,
    "start_time": "2022-12-28T19:44:56.848Z"
   },
   {
    "duration": 19,
    "start_time": "2022-12-28T19:44:56.887Z"
   },
   {
    "duration": 12,
    "start_time": "2022-12-28T19:44:56.908Z"
   },
   {
    "duration": 19,
    "start_time": "2022-12-28T19:44:56.922Z"
   },
   {
    "duration": 22,
    "start_time": "2022-12-28T19:44:56.943Z"
   },
   {
    "duration": 20,
    "start_time": "2022-12-28T19:44:56.966Z"
   },
   {
    "duration": 10,
    "start_time": "2022-12-28T19:44:56.989Z"
   },
   {
    "duration": 16,
    "start_time": "2022-12-28T19:44:57.000Z"
   },
   {
    "duration": 21,
    "start_time": "2022-12-28T19:44:57.017Z"
   },
   {
    "duration": 27,
    "start_time": "2022-12-28T19:44:57.039Z"
   },
   {
    "duration": 21,
    "start_time": "2022-12-28T19:44:57.068Z"
   },
   {
    "duration": 23,
    "start_time": "2022-12-28T19:44:57.090Z"
   },
   {
    "duration": 26,
    "start_time": "2022-12-28T19:44:57.115Z"
   },
   {
    "duration": 25,
    "start_time": "2022-12-28T19:44:57.143Z"
   },
   {
    "duration": 40,
    "start_time": "2022-12-28T19:44:57.170Z"
   },
   {
    "duration": 19,
    "start_time": "2022-12-28T19:44:57.212Z"
   },
   {
    "duration": 21,
    "start_time": "2022-12-28T19:44:57.232Z"
   },
   {
    "duration": 14,
    "start_time": "2022-12-28T19:44:57.254Z"
   },
   {
    "duration": 13,
    "start_time": "2022-12-28T19:44:57.269Z"
   },
   {
    "duration": 36,
    "start_time": "2022-12-28T19:44:57.284Z"
   },
   {
    "duration": 17,
    "start_time": "2022-12-28T19:44:57.322Z"
   },
   {
    "duration": 53,
    "start_time": "2022-12-28T19:44:57.340Z"
   },
   {
    "duration": 33,
    "start_time": "2022-12-28T19:44:57.395Z"
   },
   {
    "duration": 166,
    "start_time": "2022-12-28T19:44:57.429Z"
   },
   {
    "duration": 267,
    "start_time": "2022-12-28T19:44:57.596Z"
   },
   {
    "duration": 18,
    "start_time": "2022-12-28T19:44:57.865Z"
   },
   {
    "duration": 14,
    "start_time": "2022-12-28T19:44:57.885Z"
   },
   {
    "duration": 9,
    "start_time": "2022-12-28T19:44:57.901Z"
   },
   {
    "duration": 309,
    "start_time": "2022-12-28T19:44:57.912Z"
   },
   {
    "duration": 237,
    "start_time": "2022-12-28T19:44:58.223Z"
   },
   {
    "duration": 188,
    "start_time": "2022-12-28T19:44:58.462Z"
   },
   {
    "duration": 190,
    "start_time": "2022-12-28T19:44:58.652Z"
   },
   {
    "duration": 191,
    "start_time": "2022-12-28T19:44:58.844Z"
   },
   {
    "duration": 180,
    "start_time": "2022-12-28T19:44:59.041Z"
   },
   {
    "duration": 182,
    "start_time": "2022-12-28T19:44:59.224Z"
   },
   {
    "duration": 9,
    "start_time": "2022-12-28T19:44:59.408Z"
   },
   {
    "duration": 346,
    "start_time": "2022-12-28T19:44:59.419Z"
   },
   {
    "duration": 198,
    "start_time": "2022-12-28T19:44:59.767Z"
   },
   {
    "duration": 12,
    "start_time": "2022-12-28T19:44:59.966Z"
   },
   {
    "duration": 151,
    "start_time": "2022-12-28T19:44:59.979Z"
   },
   {
    "duration": 5,
    "start_time": "2022-12-28T19:45:00.132Z"
   },
   {
    "duration": 148,
    "start_time": "2022-12-28T19:45:00.139Z"
   },
   {
    "duration": 5,
    "start_time": "2022-12-28T19:45:00.289Z"
   },
   {
    "duration": 33,
    "start_time": "2022-12-28T19:45:00.295Z"
   },
   {
    "duration": 32,
    "start_time": "2022-12-28T19:45:00.329Z"
   },
   {
    "duration": 16,
    "start_time": "2022-12-28T19:45:00.362Z"
   },
   {
    "duration": 34,
    "start_time": "2022-12-28T19:45:00.380Z"
   },
   {
    "duration": 23,
    "start_time": "2022-12-28T19:45:00.416Z"
   },
   {
    "duration": 50,
    "start_time": "2022-12-28T19:45:00.441Z"
   },
   {
    "duration": 48,
    "start_time": "2022-12-28T19:45:00.493Z"
   },
   {
    "duration": 26,
    "start_time": "2022-12-28T19:45:00.542Z"
   },
   {
    "duration": 45,
    "start_time": "2022-12-28T19:45:00.570Z"
   },
   {
    "duration": 34,
    "start_time": "2022-12-28T19:45:00.617Z"
   },
   {
    "duration": 15,
    "start_time": "2022-12-28T19:45:00.653Z"
   },
   {
    "duration": 45,
    "start_time": "2022-12-28T19:45:00.670Z"
   },
   {
    "duration": 378,
    "start_time": "2022-12-28T19:45:00.717Z"
   },
   {
    "duration": 301,
    "start_time": "2022-12-28T19:45:01.097Z"
   },
   {
    "duration": 555,
    "start_time": "2022-12-28T19:45:01.399Z"
   },
   {
    "duration": 297,
    "start_time": "2022-12-28T19:45:01.956Z"
   },
   {
    "duration": 22,
    "start_time": "2022-12-28T19:45:02.255Z"
   },
   {
    "duration": 4,
    "start_time": "2022-12-28T19:45:02.279Z"
   },
   {
    "duration": 43,
    "start_time": "2022-12-28T19:45:02.285Z"
   },
   {
    "duration": 39,
    "start_time": "2022-12-28T19:45:02.329Z"
   },
   {
    "duration": 15,
    "start_time": "2022-12-28T19:45:02.369Z"
   },
   {
    "duration": 35,
    "start_time": "2022-12-28T19:45:02.386Z"
   },
   {
    "duration": 32,
    "start_time": "2022-12-28T19:45:02.423Z"
   },
   {
    "duration": 17,
    "start_time": "2022-12-28T19:45:02.457Z"
   },
   {
    "duration": 38,
    "start_time": "2022-12-28T19:45:02.475Z"
   },
   {
    "duration": 508,
    "start_time": "2022-12-28T19:45:02.515Z"
   },
   {
    "duration": 1507,
    "start_time": "2023-01-04T16:40:41.972Z"
   },
   {
    "duration": 18,
    "start_time": "2023-01-04T16:40:43.481Z"
   },
   {
    "duration": 19,
    "start_time": "2023-01-04T16:40:43.501Z"
   },
   {
    "duration": 3,
    "start_time": "2023-01-04T16:40:43.522Z"
   },
   {
    "duration": 17,
    "start_time": "2023-01-04T16:40:43.527Z"
   },
   {
    "duration": 33,
    "start_time": "2023-01-04T16:40:43.546Z"
   },
   {
    "duration": 28,
    "start_time": "2023-01-04T16:40:43.580Z"
   },
   {
    "duration": 7,
    "start_time": "2023-01-04T16:40:43.610Z"
   },
   {
    "duration": 14,
    "start_time": "2023-01-04T16:40:43.619Z"
   },
   {
    "duration": 8,
    "start_time": "2023-01-04T16:40:43.635Z"
   },
   {
    "duration": 6,
    "start_time": "2023-01-04T16:40:43.645Z"
   },
   {
    "duration": 29,
    "start_time": "2023-01-04T16:40:43.653Z"
   },
   {
    "duration": 7,
    "start_time": "2023-01-04T16:40:43.683Z"
   },
   {
    "duration": 6,
    "start_time": "2023-01-04T16:40:43.692Z"
   },
   {
    "duration": 9,
    "start_time": "2023-01-04T16:40:43.700Z"
   },
   {
    "duration": 8,
    "start_time": "2023-01-04T16:40:43.710Z"
   },
   {
    "duration": 15,
    "start_time": "2023-01-04T16:40:43.719Z"
   },
   {
    "duration": 14,
    "start_time": "2023-01-04T16:40:43.735Z"
   },
   {
    "duration": 8,
    "start_time": "2023-01-04T16:40:43.751Z"
   },
   {
    "duration": 18,
    "start_time": "2023-01-04T16:40:43.761Z"
   },
   {
    "duration": 10,
    "start_time": "2023-01-04T16:40:43.780Z"
   },
   {
    "duration": 14,
    "start_time": "2023-01-04T16:40:43.792Z"
   },
   {
    "duration": 4,
    "start_time": "2023-01-04T16:40:43.808Z"
   },
   {
    "duration": 10,
    "start_time": "2023-01-04T16:40:43.814Z"
   },
   {
    "duration": 6,
    "start_time": "2023-01-04T16:40:43.825Z"
   },
   {
    "duration": 7,
    "start_time": "2023-01-04T16:40:43.833Z"
   },
   {
    "duration": 17,
    "start_time": "2023-01-04T16:40:43.842Z"
   },
   {
    "duration": 15,
    "start_time": "2023-01-04T16:40:43.877Z"
   },
   {
    "duration": 24,
    "start_time": "2023-01-04T16:40:43.893Z"
   },
   {
    "duration": 25,
    "start_time": "2023-01-04T16:40:43.919Z"
   },
   {
    "duration": 232,
    "start_time": "2023-01-04T16:40:43.946Z"
   },
   {
    "duration": 258,
    "start_time": "2023-01-04T16:40:44.180Z"
   },
   {
    "duration": 12,
    "start_time": "2023-01-04T16:40:44.441Z"
   },
   {
    "duration": 11,
    "start_time": "2023-01-04T16:40:44.455Z"
   },
   {
    "duration": 13,
    "start_time": "2023-01-04T16:40:44.468Z"
   },
   {
    "duration": 276,
    "start_time": "2023-01-04T16:40:44.483Z"
   },
   {
    "duration": 175,
    "start_time": "2023-01-04T16:40:44.761Z"
   },
   {
    "duration": 189,
    "start_time": "2023-01-04T16:40:44.938Z"
   },
   {
    "duration": 187,
    "start_time": "2023-01-04T16:40:45.128Z"
   },
   {
    "duration": 194,
    "start_time": "2023-01-04T16:40:45.317Z"
   },
   {
    "duration": 281,
    "start_time": "2023-01-04T16:40:45.514Z"
   },
   {
    "duration": 167,
    "start_time": "2023-01-04T16:40:45.796Z"
   },
   {
    "duration": 13,
    "start_time": "2023-01-04T16:40:45.965Z"
   },
   {
    "duration": 341,
    "start_time": "2023-01-04T16:40:45.979Z"
   },
   {
    "duration": 176,
    "start_time": "2023-01-04T16:40:46.322Z"
   },
   {
    "duration": 5,
    "start_time": "2023-01-04T16:40:46.500Z"
   },
   {
    "duration": 138,
    "start_time": "2023-01-04T16:40:46.507Z"
   },
   {
    "duration": 5,
    "start_time": "2023-01-04T16:40:46.647Z"
   },
   {
    "duration": 152,
    "start_time": "2023-01-04T16:40:46.655Z"
   },
   {
    "duration": 5,
    "start_time": "2023-01-04T16:40:46.808Z"
   },
   {
    "duration": 11,
    "start_time": "2023-01-04T16:40:46.815Z"
   },
   {
    "duration": 9,
    "start_time": "2023-01-04T16:40:46.828Z"
   },
   {
    "duration": 9,
    "start_time": "2023-01-04T16:40:46.839Z"
   },
   {
    "duration": 10,
    "start_time": "2023-01-04T16:40:46.849Z"
   },
   {
    "duration": 20,
    "start_time": "2023-01-04T16:40:46.860Z"
   },
   {
    "duration": 13,
    "start_time": "2023-01-04T16:40:46.881Z"
   },
   {
    "duration": 4,
    "start_time": "2023-01-04T16:40:46.895Z"
   },
   {
    "duration": 12,
    "start_time": "2023-01-04T16:40:46.900Z"
   },
   {
    "duration": 6,
    "start_time": "2023-01-04T16:40:46.914Z"
   },
   {
    "duration": 40,
    "start_time": "2023-01-04T16:40:46.922Z"
   },
   {
    "duration": 14,
    "start_time": "2023-01-04T16:40:46.964Z"
   },
   {
    "duration": 17,
    "start_time": "2023-01-04T16:40:46.980Z"
   },
   {
    "duration": 340,
    "start_time": "2023-01-04T16:40:46.998Z"
   },
   {
    "duration": 278,
    "start_time": "2023-01-04T16:40:47.340Z"
   },
   {
    "duration": 268,
    "start_time": "2023-01-04T16:40:47.620Z"
   },
   {
    "duration": 268,
    "start_time": "2023-01-04T16:40:47.890Z"
   },
   {
    "duration": 18,
    "start_time": "2023-01-04T16:40:48.160Z"
   },
   {
    "duration": 5,
    "start_time": "2023-01-04T16:40:48.179Z"
   },
   {
    "duration": 10,
    "start_time": "2023-01-04T16:40:48.186Z"
   },
   {
    "duration": 14,
    "start_time": "2023-01-04T16:40:48.198Z"
   },
   {
    "duration": 4,
    "start_time": "2023-01-04T16:40:48.214Z"
   },
   {
    "duration": 11,
    "start_time": "2023-01-04T16:40:48.220Z"
   },
   {
    "duration": 14,
    "start_time": "2023-01-04T16:40:48.232Z"
   },
   {
    "duration": 5,
    "start_time": "2023-01-04T16:40:48.248Z"
   },
   {
    "duration": 31,
    "start_time": "2023-01-04T16:40:48.254Z"
   },
   {
    "duration": 550,
    "start_time": "2023-01-04T16:40:48.287Z"
   },
   {
    "duration": 15,
    "start_time": "2023-01-04T17:15:22.788Z"
   },
   {
    "duration": 16,
    "start_time": "2023-01-04T17:16:43.417Z"
   },
   {
    "duration": 14,
    "start_time": "2023-01-04T17:16:48.509Z"
   },
   {
    "duration": 13,
    "start_time": "2023-01-04T17:17:43.449Z"
   },
   {
    "duration": 17,
    "start_time": "2023-01-04T17:17:43.893Z"
   },
   {
    "duration": 14,
    "start_time": "2023-01-04T17:18:00.213Z"
   },
   {
    "duration": 155,
    "start_time": "2023-01-04T17:21:36.869Z"
   },
   {
    "duration": 14,
    "start_time": "2023-01-04T17:22:24.581Z"
   },
   {
    "duration": 327,
    "start_time": "2023-01-04T17:25:39.761Z"
   },
   {
    "duration": 17,
    "start_time": "2023-01-04T17:27:10.906Z"
   },
   {
    "duration": 14,
    "start_time": "2023-01-04T17:27:50.112Z"
   },
   {
    "duration": 17,
    "start_time": "2023-01-04T17:28:12.195Z"
   },
   {
    "duration": 13,
    "start_time": "2023-01-04T17:28:13.111Z"
   },
   {
    "duration": 20,
    "start_time": "2023-01-04T17:28:23.070Z"
   },
   {
    "duration": 15,
    "start_time": "2023-01-04T17:34:10.751Z"
   },
   {
    "duration": 133,
    "start_time": "2023-01-04T17:36:13.489Z"
   },
   {
    "duration": 186,
    "start_time": "2023-01-04T17:36:20.675Z"
   },
   {
    "duration": 17,
    "start_time": "2023-01-04T17:38:21.256Z"
   },
   {
    "duration": 1323,
    "start_time": "2023-01-05T18:16:38.547Z"
   },
   {
    "duration": 19,
    "start_time": "2023-01-05T18:16:39.872Z"
   },
   {
    "duration": 14,
    "start_time": "2023-01-05T18:16:39.892Z"
   },
   {
    "duration": 3,
    "start_time": "2023-01-05T18:16:39.907Z"
   },
   {
    "duration": 17,
    "start_time": "2023-01-05T18:16:39.912Z"
   },
   {
    "duration": 22,
    "start_time": "2023-01-05T18:16:39.930Z"
   },
   {
    "duration": 28,
    "start_time": "2023-01-05T18:16:39.953Z"
   },
   {
    "duration": 9,
    "start_time": "2023-01-05T18:16:39.983Z"
   },
   {
    "duration": 29,
    "start_time": "2023-01-05T18:16:39.994Z"
   },
   {
    "duration": 15,
    "start_time": "2023-01-05T18:16:40.025Z"
   },
   {
    "duration": 11,
    "start_time": "2023-01-05T18:16:40.042Z"
   },
   {
    "duration": 17,
    "start_time": "2023-01-05T18:16:40.054Z"
   },
   {
    "duration": 7,
    "start_time": "2023-01-05T18:16:40.072Z"
   },
   {
    "duration": 4,
    "start_time": "2023-01-05T18:16:40.082Z"
   },
   {
    "duration": 7,
    "start_time": "2023-01-05T18:16:40.087Z"
   },
   {
    "duration": 22,
    "start_time": "2023-01-05T18:16:40.095Z"
   },
   {
    "duration": 12,
    "start_time": "2023-01-05T18:16:40.118Z"
   },
   {
    "duration": 14,
    "start_time": "2023-01-05T18:16:40.131Z"
   },
   {
    "duration": 6,
    "start_time": "2023-01-05T18:16:40.146Z"
   },
   {
    "duration": 6,
    "start_time": "2023-01-05T18:16:40.153Z"
   },
   {
    "duration": 6,
    "start_time": "2023-01-05T18:16:40.161Z"
   },
   {
    "duration": 13,
    "start_time": "2023-01-05T18:16:40.168Z"
   },
   {
    "duration": 4,
    "start_time": "2023-01-05T18:16:40.182Z"
   },
   {
    "duration": 6,
    "start_time": "2023-01-05T18:16:40.187Z"
   },
   {
    "duration": 23,
    "start_time": "2023-01-05T18:16:40.194Z"
   },
   {
    "duration": 8,
    "start_time": "2023-01-05T18:16:40.219Z"
   },
   {
    "duration": 48,
    "start_time": "2023-01-05T18:16:40.229Z"
   },
   {
    "duration": 4,
    "start_time": "2023-01-05T18:16:40.278Z"
   },
   {
    "duration": 15,
    "start_time": "2023-01-05T18:16:40.284Z"
   },
   {
    "duration": 17,
    "start_time": "2023-01-05T18:16:40.300Z"
   },
   {
    "duration": 169,
    "start_time": "2023-01-05T18:16:40.318Z"
   },
   {
    "duration": 236,
    "start_time": "2023-01-05T18:16:40.488Z"
   },
   {
    "duration": 11,
    "start_time": "2023-01-05T18:16:40.726Z"
   },
   {
    "duration": 9,
    "start_time": "2023-01-05T18:16:40.738Z"
   },
   {
    "duration": 8,
    "start_time": "2023-01-05T18:16:40.748Z"
   },
   {
    "duration": 285,
    "start_time": "2023-01-05T18:16:40.757Z"
   },
   {
    "duration": 175,
    "start_time": "2023-01-05T18:16:41.044Z"
   },
   {
    "duration": 171,
    "start_time": "2023-01-05T18:16:41.221Z"
   },
   {
    "duration": 162,
    "start_time": "2023-01-05T18:16:41.394Z"
   },
   {
    "duration": 165,
    "start_time": "2023-01-05T18:16:41.558Z"
   },
   {
    "duration": 230,
    "start_time": "2023-01-05T18:16:41.727Z"
   },
   {
    "duration": 167,
    "start_time": "2023-01-05T18:16:41.960Z"
   },
   {
    "duration": 7,
    "start_time": "2023-01-05T18:16:42.128Z"
   },
   {
    "duration": 354,
    "start_time": "2023-01-05T18:16:42.137Z"
   },
   {
    "duration": 174,
    "start_time": "2023-01-05T18:16:42.493Z"
   },
   {
    "duration": 5,
    "start_time": "2023-01-05T18:16:42.668Z"
   },
   {
    "duration": 130,
    "start_time": "2023-01-05T18:16:42.675Z"
   },
   {
    "duration": 12,
    "start_time": "2023-01-05T18:16:42.807Z"
   },
   {
    "duration": 129,
    "start_time": "2023-01-05T18:16:42.820Z"
   },
   {
    "duration": 4,
    "start_time": "2023-01-05T18:16:42.951Z"
   },
   {
    "duration": 13,
    "start_time": "2023-01-05T18:16:42.957Z"
   },
   {
    "duration": 11,
    "start_time": "2023-01-05T18:16:42.971Z"
   },
   {
    "duration": 10,
    "start_time": "2023-01-05T18:16:42.983Z"
   },
   {
    "duration": 8,
    "start_time": "2023-01-05T18:16:42.994Z"
   },
   {
    "duration": 13,
    "start_time": "2023-01-05T18:16:43.004Z"
   },
   {
    "duration": 10,
    "start_time": "2023-01-05T18:16:43.018Z"
   },
   {
    "duration": 6,
    "start_time": "2023-01-05T18:16:43.029Z"
   },
   {
    "duration": 11,
    "start_time": "2023-01-05T18:16:43.036Z"
   },
   {
    "duration": 5,
    "start_time": "2023-01-05T18:16:43.049Z"
   },
   {
    "duration": 10,
    "start_time": "2023-01-05T18:16:43.056Z"
   },
   {
    "duration": 4,
    "start_time": "2023-01-05T18:16:43.068Z"
   },
   {
    "duration": 54,
    "start_time": "2023-01-05T18:16:43.073Z"
   },
   {
    "duration": 316,
    "start_time": "2023-01-05T18:16:43.129Z"
   },
   {
    "duration": 273,
    "start_time": "2023-01-05T18:16:43.448Z"
   },
   {
    "duration": 273,
    "start_time": "2023-01-05T18:16:43.723Z"
   },
   {
    "duration": 279,
    "start_time": "2023-01-05T18:16:43.998Z"
   },
   {
    "duration": 10,
    "start_time": "2023-01-05T18:16:44.278Z"
   },
   {
    "duration": 3,
    "start_time": "2023-01-05T18:16:44.290Z"
   },
   {
    "duration": 22,
    "start_time": "2023-01-05T18:16:44.295Z"
   },
   {
    "duration": 12,
    "start_time": "2023-01-05T18:16:44.318Z"
   },
   {
    "duration": 4,
    "start_time": "2023-01-05T18:16:44.331Z"
   },
   {
    "duration": 9,
    "start_time": "2023-01-05T18:16:44.336Z"
   },
   {
    "duration": 11,
    "start_time": "2023-01-05T18:16:44.346Z"
   },
   {
    "duration": 4,
    "start_time": "2023-01-05T18:16:44.359Z"
   },
   {
    "duration": 9,
    "start_time": "2023-01-05T18:16:44.364Z"
   },
   {
    "duration": 527,
    "start_time": "2023-01-05T18:16:44.374Z"
   },
   {
    "duration": 18,
    "start_time": "2023-01-05T18:16:44.903Z"
   },
   {
    "duration": 13,
    "start_time": "2023-01-05T18:16:44.922Z"
   },
   {
    "duration": 11,
    "start_time": "2023-01-05T18:16:44.937Z"
   },
   {
    "duration": 13,
    "start_time": "2023-01-05T18:16:44.950Z"
   },
   {
    "duration": 14,
    "start_time": "2023-01-05T18:36:52.347Z"
   },
   {
    "duration": 31,
    "start_time": "2023-01-05T18:37:12.997Z"
   },
   {
    "duration": 6,
    "start_time": "2023-01-05T18:40:49.207Z"
   },
   {
    "duration": 7,
    "start_time": "2023-01-05T18:41:05.245Z"
   },
   {
    "duration": 19,
    "start_time": "2023-01-05T18:42:25.552Z"
   },
   {
    "duration": 8,
    "start_time": "2023-01-05T18:44:51.708Z"
   },
   {
    "duration": 5,
    "start_time": "2023-01-05T18:45:01.268Z"
   },
   {
    "duration": 6,
    "start_time": "2023-01-05T18:45:56.751Z"
   },
   {
    "duration": 20,
    "start_time": "2023-01-05T18:45:57.384Z"
   },
   {
    "duration": 4,
    "start_time": "2023-01-05T18:47:56.008Z"
   },
   {
    "duration": 3,
    "start_time": "2023-01-05T18:48:12.448Z"
   },
   {
    "duration": 3,
    "start_time": "2023-01-05T18:48:20.044Z"
   },
   {
    "duration": 4,
    "start_time": "2023-01-05T18:48:40.988Z"
   },
   {
    "duration": 4,
    "start_time": "2023-01-05T18:48:44.540Z"
   },
   {
    "duration": 93,
    "start_time": "2023-01-05T18:56:06.044Z"
   },
   {
    "duration": 6,
    "start_time": "2023-01-05T18:56:18.671Z"
   },
   {
    "duration": 4,
    "start_time": "2023-01-05T19:18:00.742Z"
   },
   {
    "duration": 4,
    "start_time": "2023-01-05T19:18:08.396Z"
   },
   {
    "duration": 52,
    "start_time": "2023-01-05T19:19:09.305Z"
   },
   {
    "duration": 18,
    "start_time": "2023-01-05T19:19:09.359Z"
   },
   {
    "duration": 17,
    "start_time": "2023-01-05T19:19:09.379Z"
   },
   {
    "duration": 3,
    "start_time": "2023-01-05T19:19:09.397Z"
   },
   {
    "duration": 43,
    "start_time": "2023-01-05T19:19:09.402Z"
   },
   {
    "duration": 27,
    "start_time": "2023-01-05T19:19:09.446Z"
   },
   {
    "duration": 26,
    "start_time": "2023-01-05T19:19:09.474Z"
   },
   {
    "duration": 20,
    "start_time": "2023-01-05T19:19:09.502Z"
   },
   {
    "duration": 11,
    "start_time": "2023-01-05T19:19:09.523Z"
   },
   {
    "duration": 9,
    "start_time": "2023-01-05T19:19:09.535Z"
   },
   {
    "duration": 8,
    "start_time": "2023-01-05T19:19:09.545Z"
   },
   {
    "duration": 8,
    "start_time": "2023-01-05T19:19:09.554Z"
   },
   {
    "duration": 4,
    "start_time": "2023-01-05T19:19:09.564Z"
   },
   {
    "duration": 3,
    "start_time": "2023-01-05T19:19:09.571Z"
   },
   {
    "duration": 9,
    "start_time": "2023-01-05T19:19:09.575Z"
   },
   {
    "duration": 6,
    "start_time": "2023-01-05T19:19:09.585Z"
   },
   {
    "duration": 39,
    "start_time": "2023-01-05T19:19:09.592Z"
   },
   {
    "duration": 8,
    "start_time": "2023-01-05T19:19:09.634Z"
   },
   {
    "duration": 7,
    "start_time": "2023-01-05T19:19:09.644Z"
   },
   {
    "duration": 6,
    "start_time": "2023-01-05T19:19:09.653Z"
   },
   {
    "duration": 10,
    "start_time": "2023-01-05T19:19:09.661Z"
   },
   {
    "duration": 17,
    "start_time": "2023-01-05T19:19:09.673Z"
   },
   {
    "duration": 5,
    "start_time": "2023-01-05T19:19:09.691Z"
   },
   {
    "duration": 40,
    "start_time": "2023-01-05T19:19:09.697Z"
   },
   {
    "duration": 6,
    "start_time": "2023-01-05T19:19:09.739Z"
   },
   {
    "duration": 24,
    "start_time": "2023-01-05T19:19:09.746Z"
   },
   {
    "duration": 25,
    "start_time": "2023-01-05T19:19:09.771Z"
   },
   {
    "duration": 10,
    "start_time": "2023-01-05T19:19:09.797Z"
   },
   {
    "duration": 22,
    "start_time": "2023-01-05T19:19:09.808Z"
   },
   {
    "duration": 18,
    "start_time": "2023-01-05T19:19:09.832Z"
   },
   {
    "duration": 156,
    "start_time": "2023-01-05T19:19:09.851Z"
   },
   {
    "duration": 269,
    "start_time": "2023-01-05T19:19:10.009Z"
   },
   {
    "duration": 11,
    "start_time": "2023-01-05T19:19:10.279Z"
   },
   {
    "duration": 8,
    "start_time": "2023-01-05T19:19:10.292Z"
   },
   {
    "duration": 32,
    "start_time": "2023-01-05T19:19:10.301Z"
   },
   {
    "duration": 274,
    "start_time": "2023-01-05T19:19:10.335Z"
   },
   {
    "duration": 180,
    "start_time": "2023-01-05T19:19:10.611Z"
   },
   {
    "duration": 179,
    "start_time": "2023-01-05T19:19:10.793Z"
   },
   {
    "duration": 185,
    "start_time": "2023-01-05T19:19:10.973Z"
   },
   {
    "duration": 180,
    "start_time": "2023-01-05T19:19:11.160Z"
   },
   {
    "duration": 159,
    "start_time": "2023-01-05T19:19:11.345Z"
   },
   {
    "duration": 183,
    "start_time": "2023-01-05T19:19:11.506Z"
   },
   {
    "duration": 7,
    "start_time": "2023-01-05T19:19:11.690Z"
   },
   {
    "duration": 310,
    "start_time": "2023-01-05T19:19:11.698Z"
   },
   {
    "duration": 295,
    "start_time": "2023-01-05T19:19:12.009Z"
   },
   {
    "duration": 13,
    "start_time": "2023-01-05T19:19:12.305Z"
   },
   {
    "duration": 162,
    "start_time": "2023-01-05T19:19:12.319Z"
   },
   {
    "duration": 8,
    "start_time": "2023-01-05T19:19:12.483Z"
   },
   {
    "duration": 178,
    "start_time": "2023-01-05T19:19:12.493Z"
   },
   {
    "duration": 5,
    "start_time": "2023-01-05T19:19:12.673Z"
   },
   {
    "duration": 12,
    "start_time": "2023-01-05T19:19:12.679Z"
   },
   {
    "duration": 8,
    "start_time": "2023-01-05T19:19:12.692Z"
   },
   {
    "duration": 24,
    "start_time": "2023-01-05T19:19:12.702Z"
   },
   {
    "duration": 11,
    "start_time": "2023-01-05T19:19:12.728Z"
   },
   {
    "duration": 7,
    "start_time": "2023-01-05T19:19:12.740Z"
   },
   {
    "duration": 13,
    "start_time": "2023-01-05T19:19:12.748Z"
   },
   {
    "duration": 3,
    "start_time": "2023-01-05T19:19:12.764Z"
   },
   {
    "duration": 13,
    "start_time": "2023-01-05T19:19:12.768Z"
   },
   {
    "duration": 3,
    "start_time": "2023-01-05T19:19:12.782Z"
   },
   {
    "duration": 15,
    "start_time": "2023-01-05T19:19:12.787Z"
   },
   {
    "duration": 13,
    "start_time": "2023-01-05T19:19:12.815Z"
   },
   {
    "duration": 19,
    "start_time": "2023-01-05T19:19:12.830Z"
   },
   {
    "duration": 337,
    "start_time": "2023-01-05T19:19:12.851Z"
   },
   {
    "duration": 276,
    "start_time": "2023-01-05T19:19:13.189Z"
   },
   {
    "duration": 286,
    "start_time": "2023-01-05T19:19:13.467Z"
   },
   {
    "duration": 286,
    "start_time": "2023-01-05T19:19:13.754Z"
   },
   {
    "duration": 10,
    "start_time": "2023-01-05T19:19:14.042Z"
   },
   {
    "duration": 5,
    "start_time": "2023-01-05T19:19:14.054Z"
   },
   {
    "duration": 14,
    "start_time": "2023-01-05T19:19:14.061Z"
   },
   {
    "duration": 13,
    "start_time": "2023-01-05T19:19:14.077Z"
   },
   {
    "duration": 4,
    "start_time": "2023-01-05T19:19:14.091Z"
   },
   {
    "duration": 10,
    "start_time": "2023-01-05T19:19:14.116Z"
   },
   {
    "duration": 17,
    "start_time": "2023-01-05T19:19:14.133Z"
   },
   {
    "duration": 5,
    "start_time": "2023-01-05T19:19:14.151Z"
   },
   {
    "duration": 9,
    "start_time": "2023-01-05T19:19:14.158Z"
   },
   {
    "duration": 473,
    "start_time": "2023-01-05T19:19:14.169Z"
   },
   {
    "duration": 14,
    "start_time": "2023-01-05T19:19:14.644Z"
   },
   {
    "duration": 12,
    "start_time": "2023-01-05T19:19:14.659Z"
   },
   {
    "duration": 12,
    "start_time": "2023-01-05T19:19:14.673Z"
   },
   {
    "duration": 49,
    "start_time": "2023-01-05T19:19:14.687Z"
   },
   {
    "duration": 5,
    "start_time": "2023-01-05T19:19:14.738Z"
   },
   {
    "duration": 4,
    "start_time": "2023-01-05T19:19:14.745Z"
   },
   {
    "duration": 6,
    "start_time": "2023-01-05T19:19:14.750Z"
   },
   {
    "duration": 8,
    "start_time": "2023-01-05T19:19:14.757Z"
   },
   {
    "duration": 3,
    "start_time": "2023-01-05T19:19:14.766Z"
   },
   {
    "duration": 6,
    "start_time": "2023-01-05T19:19:14.770Z"
   },
   {
    "duration": 7,
    "start_time": "2023-01-05T19:19:14.778Z"
   },
   {
    "duration": 5,
    "start_time": "2023-01-05T19:22:48.939Z"
   },
   {
    "duration": 8,
    "start_time": "2023-01-05T19:23:07.938Z"
   },
   {
    "duration": 3,
    "start_time": "2023-01-05T19:23:08.547Z"
   },
   {
    "duration": 26,
    "start_time": "2023-01-05T19:23:09.494Z"
   },
   {
    "duration": 5,
    "start_time": "2023-01-05T19:23:14.366Z"
   },
   {
    "duration": 8,
    "start_time": "2023-01-05T19:23:21.237Z"
   },
   {
    "duration": 4,
    "start_time": "2023-01-05T19:23:21.665Z"
   },
   {
    "duration": 4,
    "start_time": "2023-01-05T19:23:22.405Z"
   },
   {
    "duration": 6,
    "start_time": "2023-01-05T19:23:30.235Z"
   },
   {
    "duration": 5,
    "start_time": "2023-01-05T19:23:44.693Z"
   },
   {
    "duration": 4,
    "start_time": "2023-01-05T19:23:45.187Z"
   },
   {
    "duration": 4,
    "start_time": "2023-01-05T19:23:45.673Z"
   },
   {
    "duration": 8,
    "start_time": "2023-01-05T19:23:46.343Z"
   },
   {
    "duration": 4,
    "start_time": "2023-01-05T19:23:47.005Z"
   },
   {
    "duration": 4,
    "start_time": "2023-01-05T19:23:47.606Z"
   },
   {
    "duration": 5,
    "start_time": "2023-01-05T19:23:55.165Z"
   },
   {
    "duration": 6,
    "start_time": "2023-01-05T19:25:56.353Z"
   },
   {
    "duration": 6,
    "start_time": "2023-01-05T19:30:30.839Z"
   },
   {
    "duration": 3,
    "start_time": "2023-01-05T19:30:31.442Z"
   },
   {
    "duration": 5,
    "start_time": "2023-01-05T19:30:32.041Z"
   },
   {
    "duration": 6,
    "start_time": "2023-01-05T19:30:33.608Z"
   },
   {
    "duration": 3,
    "start_time": "2023-01-05T19:30:34.161Z"
   },
   {
    "duration": 5,
    "start_time": "2023-01-05T19:30:34.680Z"
   },
   {
    "duration": 5,
    "start_time": "2023-01-05T19:30:35.848Z"
   },
   {
    "duration": 6,
    "start_time": "2023-01-05T19:36:47.956Z"
   },
   {
    "duration": 3,
    "start_time": "2023-01-05T19:36:48.472Z"
   },
   {
    "duration": 7,
    "start_time": "2023-01-05T19:36:48.952Z"
   },
   {
    "duration": 4,
    "start_time": "2023-01-05T19:36:49.428Z"
   },
   {
    "duration": 5,
    "start_time": "2023-01-05T19:36:49.992Z"
   },
   {
    "duration": 19,
    "start_time": "2023-01-05T19:42:56.771Z"
   },
   {
    "duration": 6,
    "start_time": "2023-01-05T19:43:45.347Z"
   },
   {
    "duration": 3,
    "start_time": "2023-01-05T19:43:45.750Z"
   },
   {
    "duration": 7,
    "start_time": "2023-01-05T19:43:46.150Z"
   },
   {
    "duration": 8,
    "start_time": "2023-01-05T19:43:46.610Z"
   },
   {
    "duration": 5,
    "start_time": "2023-01-05T19:43:47.138Z"
   },
   {
    "duration": 13,
    "start_time": "2023-01-05T19:46:53.739Z"
   },
   {
    "duration": 13,
    "start_time": "2023-01-05T19:48:40.834Z"
   },
   {
    "duration": 7,
    "start_time": "2023-01-05T19:48:41.833Z"
   },
   {
    "duration": 4,
    "start_time": "2023-01-05T19:48:42.584Z"
   },
   {
    "duration": 6,
    "start_time": "2023-01-05T19:48:43.285Z"
   },
   {
    "duration": 3,
    "start_time": "2023-01-05T19:48:43.907Z"
   },
   {
    "duration": 581,
    "start_time": "2023-01-05T19:48:49.807Z"
   },
   {
    "duration": 6,
    "start_time": "2023-01-05T19:48:50.428Z"
   },
   {
    "duration": 13,
    "start_time": "2023-01-05T19:48:58.494Z"
   },
   {
    "duration": 7,
    "start_time": "2023-01-05T19:48:59.246Z"
   },
   {
    "duration": 3,
    "start_time": "2023-01-05T19:49:00.087Z"
   },
   {
    "duration": 6,
    "start_time": "2023-01-05T19:49:01.074Z"
   },
   {
    "duration": 3,
    "start_time": "2023-01-05T19:49:01.806Z"
   },
   {
    "duration": 5,
    "start_time": "2023-01-05T19:49:33.645Z"
   },
   {
    "duration": 5,
    "start_time": "2023-01-05T19:50:06.752Z"
   },
   {
    "duration": 7,
    "start_time": "2023-01-05T19:50:08.382Z"
   },
   {
    "duration": 5,
    "start_time": "2023-01-05T19:50:12.186Z"
   },
   {
    "duration": 7,
    "start_time": "2023-01-05T19:50:13.036Z"
   },
   {
    "duration": 3,
    "start_time": "2023-01-05T19:50:13.209Z"
   },
   {
    "duration": 7,
    "start_time": "2023-01-05T19:50:13.481Z"
   },
   {
    "duration": 3,
    "start_time": "2023-01-05T19:50:14.092Z"
   },
   {
    "duration": 5,
    "start_time": "2023-01-05T19:50:14.693Z"
   },
   {
    "duration": 1415,
    "start_time": "2023-01-06T16:15:42.176Z"
   },
   {
    "duration": 21,
    "start_time": "2023-01-06T16:15:43.593Z"
   },
   {
    "duration": 14,
    "start_time": "2023-01-06T16:15:43.615Z"
   },
   {
    "duration": 2,
    "start_time": "2023-01-06T16:15:43.631Z"
   },
   {
    "duration": 16,
    "start_time": "2023-01-06T16:15:43.636Z"
   },
   {
    "duration": 18,
    "start_time": "2023-01-06T16:15:43.653Z"
   },
   {
    "duration": 51,
    "start_time": "2023-01-06T16:15:43.673Z"
   },
   {
    "duration": 9,
    "start_time": "2023-01-06T16:15:43.725Z"
   },
   {
    "duration": 10,
    "start_time": "2023-01-06T16:15:43.735Z"
   },
   {
    "duration": 9,
    "start_time": "2023-01-06T16:15:43.747Z"
   },
   {
    "duration": 7,
    "start_time": "2023-01-06T16:15:43.758Z"
   },
   {
    "duration": 10,
    "start_time": "2023-01-06T16:15:43.766Z"
   },
   {
    "duration": 36,
    "start_time": "2023-01-06T16:15:43.777Z"
   },
   {
    "duration": 4,
    "start_time": "2023-01-06T16:15:43.816Z"
   },
   {
    "duration": 10,
    "start_time": "2023-01-06T16:15:43.822Z"
   },
   {
    "duration": 6,
    "start_time": "2023-01-06T16:15:43.833Z"
   },
   {
    "duration": 14,
    "start_time": "2023-01-06T16:15:43.840Z"
   },
   {
    "duration": 9,
    "start_time": "2023-01-06T16:15:43.855Z"
   },
   {
    "duration": 7,
    "start_time": "2023-01-06T16:15:43.865Z"
   },
   {
    "duration": 6,
    "start_time": "2023-01-06T16:15:43.873Z"
   },
   {
    "duration": 33,
    "start_time": "2023-01-06T16:15:43.880Z"
   },
   {
    "duration": 14,
    "start_time": "2023-01-06T16:15:43.915Z"
   },
   {
    "duration": 5,
    "start_time": "2023-01-06T16:15:43.930Z"
   },
   {
    "duration": 6,
    "start_time": "2023-01-06T16:15:43.937Z"
   },
   {
    "duration": 6,
    "start_time": "2023-01-06T16:15:43.944Z"
   },
   {
    "duration": 7,
    "start_time": "2023-01-06T16:15:43.951Z"
   },
   {
    "duration": 14,
    "start_time": "2023-01-06T16:15:43.960Z"
   },
   {
    "duration": 36,
    "start_time": "2023-01-06T16:15:43.976Z"
   },
   {
    "duration": 14,
    "start_time": "2023-01-06T16:15:44.014Z"
   },
   {
    "duration": 18,
    "start_time": "2023-01-06T16:15:44.030Z"
   },
   {
    "duration": 222,
    "start_time": "2023-01-06T16:15:44.050Z"
   },
   {
    "duration": 272,
    "start_time": "2023-01-06T16:15:44.274Z"
   },
   {
    "duration": 12,
    "start_time": "2023-01-06T16:15:44.548Z"
   },
   {
    "duration": 13,
    "start_time": "2023-01-06T16:15:44.562Z"
   },
   {
    "duration": 6,
    "start_time": "2023-01-06T16:15:44.577Z"
   },
   {
    "duration": 319,
    "start_time": "2023-01-06T16:15:44.584Z"
   },
   {
    "duration": 184,
    "start_time": "2023-01-06T16:15:44.905Z"
   },
   {
    "duration": 189,
    "start_time": "2023-01-06T16:15:45.090Z"
   },
   {
    "duration": 179,
    "start_time": "2023-01-06T16:15:45.280Z"
   },
   {
    "duration": 183,
    "start_time": "2023-01-06T16:15:45.461Z"
   },
   {
    "duration": 243,
    "start_time": "2023-01-06T16:15:45.649Z"
   },
   {
    "duration": 171,
    "start_time": "2023-01-06T16:15:45.894Z"
   },
   {
    "duration": 6,
    "start_time": "2023-01-06T16:15:46.067Z"
   },
   {
    "duration": 361,
    "start_time": "2023-01-06T16:15:46.075Z"
   },
   {
    "duration": 230,
    "start_time": "2023-01-06T16:15:46.438Z"
   },
   {
    "duration": 5,
    "start_time": "2023-01-06T16:15:46.670Z"
   },
   {
    "duration": 140,
    "start_time": "2023-01-06T16:15:46.677Z"
   },
   {
    "duration": 6,
    "start_time": "2023-01-06T16:15:46.819Z"
   },
   {
    "duration": 143,
    "start_time": "2023-01-06T16:15:46.826Z"
   },
   {
    "duration": 5,
    "start_time": "2023-01-06T16:15:46.970Z"
   },
   {
    "duration": 14,
    "start_time": "2023-01-06T16:15:46.977Z"
   },
   {
    "duration": 46,
    "start_time": "2023-01-06T16:15:46.992Z"
   },
   {
    "duration": 19,
    "start_time": "2023-01-06T16:15:47.040Z"
   },
   {
    "duration": 24,
    "start_time": "2023-01-06T16:15:47.061Z"
   },
   {
    "duration": 21,
    "start_time": "2023-01-06T16:15:47.087Z"
   },
   {
    "duration": 24,
    "start_time": "2023-01-06T16:15:47.110Z"
   },
   {
    "duration": 29,
    "start_time": "2023-01-06T16:15:47.136Z"
   },
   {
    "duration": 13,
    "start_time": "2023-01-06T16:15:47.167Z"
   },
   {
    "duration": 11,
    "start_time": "2023-01-06T16:15:47.181Z"
   },
   {
    "duration": 12,
    "start_time": "2023-01-06T16:15:47.193Z"
   },
   {
    "duration": 7,
    "start_time": "2023-01-06T16:15:47.206Z"
   },
   {
    "duration": 16,
    "start_time": "2023-01-06T16:15:47.214Z"
   },
   {
    "duration": 341,
    "start_time": "2023-01-06T16:15:47.231Z"
   },
   {
    "duration": 273,
    "start_time": "2023-01-06T16:15:47.573Z"
   },
   {
    "duration": 275,
    "start_time": "2023-01-06T16:15:47.848Z"
   },
   {
    "duration": 304,
    "start_time": "2023-01-06T16:15:48.125Z"
   },
   {
    "duration": 10,
    "start_time": "2023-01-06T16:15:48.431Z"
   },
   {
    "duration": 4,
    "start_time": "2023-01-06T16:15:48.443Z"
   },
   {
    "duration": 10,
    "start_time": "2023-01-06T16:15:48.449Z"
   },
   {
    "duration": 11,
    "start_time": "2023-01-06T16:15:48.461Z"
   },
   {
    "duration": 5,
    "start_time": "2023-01-06T16:15:48.474Z"
   },
   {
    "duration": 37,
    "start_time": "2023-01-06T16:15:48.480Z"
   },
   {
    "duration": 15,
    "start_time": "2023-01-06T16:15:48.519Z"
   },
   {
    "duration": 5,
    "start_time": "2023-01-06T16:15:48.535Z"
   },
   {
    "duration": 10,
    "start_time": "2023-01-06T16:15:48.541Z"
   },
   {
    "duration": 594,
    "start_time": "2023-01-06T16:15:48.553Z"
   },
   {
    "duration": 15,
    "start_time": "2023-01-06T16:15:49.149Z"
   },
   {
    "duration": 13,
    "start_time": "2023-01-06T16:15:49.165Z"
   },
   {
    "duration": 32,
    "start_time": "2023-01-06T16:15:49.180Z"
   },
   {
    "duration": 16,
    "start_time": "2023-01-06T16:15:49.213Z"
   },
   {
    "duration": 7,
    "start_time": "2023-01-06T16:15:49.230Z"
   },
   {
    "duration": 5,
    "start_time": "2023-01-06T16:15:49.238Z"
   },
   {
    "duration": 7,
    "start_time": "2023-01-06T16:15:49.245Z"
   },
   {
    "duration": 3,
    "start_time": "2023-01-06T16:15:49.254Z"
   },
   {
    "duration": 7,
    "start_time": "2023-01-06T16:15:49.258Z"
   },
   {
    "duration": 12,
    "start_time": "2023-01-06T16:15:49.267Z"
   },
   {
    "duration": 33,
    "start_time": "2023-01-06T16:15:49.280Z"
   },
   {
    "duration": 7,
    "start_time": "2023-01-06T16:15:49.315Z"
   },
   {
    "duration": 6,
    "start_time": "2023-01-06T16:15:49.324Z"
   },
   {
    "duration": 8,
    "start_time": "2023-01-06T16:15:49.332Z"
   },
   {
    "duration": 283,
    "start_time": "2023-01-06T17:13:05.108Z"
   },
   {
    "duration": 285,
    "start_time": "2023-01-06T17:13:12.684Z"
   },
   {
    "duration": 285,
    "start_time": "2023-01-06T17:13:33.174Z"
   },
   {
    "duration": 55,
    "start_time": "2023-01-06T18:00:01.101Z"
   },
   {
    "duration": 18,
    "start_time": "2023-01-06T18:00:01.158Z"
   },
   {
    "duration": 23,
    "start_time": "2023-01-06T18:00:01.178Z"
   },
   {
    "duration": 4,
    "start_time": "2023-01-06T18:00:01.203Z"
   },
   {
    "duration": 21,
    "start_time": "2023-01-06T18:00:01.210Z"
   },
   {
    "duration": 34,
    "start_time": "2023-01-06T18:00:01.233Z"
   },
   {
    "duration": 33,
    "start_time": "2023-01-06T18:00:01.269Z"
   },
   {
    "duration": 10,
    "start_time": "2023-01-06T18:00:01.311Z"
   },
   {
    "duration": 9,
    "start_time": "2023-01-06T18:00:01.323Z"
   },
   {
    "duration": 29,
    "start_time": "2023-01-06T18:00:01.334Z"
   },
   {
    "duration": 22,
    "start_time": "2023-01-06T18:00:01.364Z"
   },
   {
    "duration": 19,
    "start_time": "2023-01-06T18:00:01.388Z"
   },
   {
    "duration": 21,
    "start_time": "2023-01-06T18:00:01.409Z"
   },
   {
    "duration": 32,
    "start_time": "2023-01-06T18:00:01.433Z"
   },
   {
    "duration": 28,
    "start_time": "2023-01-06T18:00:01.466Z"
   },
   {
    "duration": 22,
    "start_time": "2023-01-06T18:00:01.496Z"
   },
   {
    "duration": 57,
    "start_time": "2023-01-06T18:00:01.520Z"
   },
   {
    "duration": 37,
    "start_time": "2023-01-06T18:00:01.579Z"
   },
   {
    "duration": 25,
    "start_time": "2023-01-06T18:00:01.618Z"
   },
   {
    "duration": 30,
    "start_time": "2023-01-06T18:00:01.645Z"
   },
   {
    "duration": 18,
    "start_time": "2023-01-06T18:00:01.677Z"
   },
   {
    "duration": 24,
    "start_time": "2023-01-06T18:00:01.697Z"
   },
   {
    "duration": 15,
    "start_time": "2023-01-06T18:00:01.723Z"
   },
   {
    "duration": 19,
    "start_time": "2023-01-06T18:00:01.740Z"
   },
   {
    "duration": 11,
    "start_time": "2023-01-06T18:00:01.761Z"
   },
   {
    "duration": 7,
    "start_time": "2023-01-06T18:00:01.774Z"
   },
   {
    "duration": 21,
    "start_time": "2023-01-06T18:00:01.783Z"
   },
   {
    "duration": 25,
    "start_time": "2023-01-06T18:00:01.806Z"
   },
   {
    "duration": 40,
    "start_time": "2023-01-06T18:00:01.832Z"
   },
   {
    "duration": 31,
    "start_time": "2023-01-06T18:00:01.874Z"
   },
   {
    "duration": 228,
    "start_time": "2023-01-06T18:00:01.907Z"
   },
   {
    "duration": 272,
    "start_time": "2023-01-06T18:00:02.137Z"
   },
   {
    "duration": 14,
    "start_time": "2023-01-06T18:00:02.413Z"
   },
   {
    "duration": 10,
    "start_time": "2023-01-06T18:00:02.428Z"
   },
   {
    "duration": 12,
    "start_time": "2023-01-06T18:00:02.439Z"
   },
   {
    "duration": 305,
    "start_time": "2023-01-06T18:00:02.453Z"
   },
   {
    "duration": 180,
    "start_time": "2023-01-06T18:00:02.759Z"
   },
   {
    "duration": 193,
    "start_time": "2023-01-06T18:00:02.941Z"
   },
   {
    "duration": 190,
    "start_time": "2023-01-06T18:00:03.135Z"
   },
   {
    "duration": 302,
    "start_time": "2023-01-06T18:00:03.326Z"
   },
   {
    "duration": 182,
    "start_time": "2023-01-06T18:00:03.633Z"
   },
   {
    "duration": 181,
    "start_time": "2023-01-06T18:00:03.816Z"
   },
   {
    "duration": 14,
    "start_time": "2023-01-06T18:00:03.998Z"
   },
   {
    "duration": 345,
    "start_time": "2023-01-06T18:00:04.014Z"
   },
   {
    "duration": 200,
    "start_time": "2023-01-06T18:00:04.360Z"
   },
   {
    "duration": 7,
    "start_time": "2023-01-06T18:00:04.562Z"
   },
   {
    "duration": 157,
    "start_time": "2023-01-06T18:00:04.570Z"
   },
   {
    "duration": 5,
    "start_time": "2023-01-06T18:00:04.729Z"
   },
   {
    "duration": 156,
    "start_time": "2023-01-06T18:00:04.736Z"
   },
   {
    "duration": 7,
    "start_time": "2023-01-06T18:00:04.893Z"
   },
   {
    "duration": 22,
    "start_time": "2023-01-06T18:00:04.902Z"
   },
   {
    "duration": 9,
    "start_time": "2023-01-06T18:00:04.926Z"
   },
   {
    "duration": 16,
    "start_time": "2023-01-06T18:00:04.936Z"
   },
   {
    "duration": 16,
    "start_time": "2023-01-06T18:00:04.954Z"
   },
   {
    "duration": 7,
    "start_time": "2023-01-06T18:00:04.972Z"
   },
   {
    "duration": 14,
    "start_time": "2023-01-06T18:00:04.981Z"
   },
   {
    "duration": 16,
    "start_time": "2023-01-06T18:00:04.997Z"
   },
   {
    "duration": 14,
    "start_time": "2023-01-06T18:00:05.015Z"
   },
   {
    "duration": 10,
    "start_time": "2023-01-06T18:00:05.032Z"
   },
   {
    "duration": 26,
    "start_time": "2023-01-06T18:00:05.044Z"
   },
   {
    "duration": 8,
    "start_time": "2023-01-06T18:00:05.072Z"
   },
   {
    "duration": 32,
    "start_time": "2023-01-06T18:00:05.081Z"
   },
   {
    "duration": 350,
    "start_time": "2023-01-06T18:00:05.114Z"
   },
   {
    "duration": 286,
    "start_time": "2023-01-06T18:00:05.466Z"
   },
   {
    "duration": 295,
    "start_time": "2023-01-06T18:00:05.753Z"
   },
   {
    "duration": 312,
    "start_time": "2023-01-06T18:00:06.051Z"
   },
   {
    "duration": 14,
    "start_time": "2023-01-06T18:00:06.365Z"
   },
   {
    "duration": 16,
    "start_time": "2023-01-06T18:00:06.381Z"
   },
   {
    "duration": 18,
    "start_time": "2023-01-06T18:00:06.400Z"
   },
   {
    "duration": 21,
    "start_time": "2023-01-06T18:00:06.420Z"
   },
   {
    "duration": 16,
    "start_time": "2023-01-06T18:00:06.443Z"
   },
   {
    "duration": 18,
    "start_time": "2023-01-06T18:00:06.461Z"
   },
   {
    "duration": 18,
    "start_time": "2023-01-06T18:00:06.481Z"
   },
   {
    "duration": 9,
    "start_time": "2023-01-06T18:00:06.501Z"
   },
   {
    "duration": 18,
    "start_time": "2023-01-06T18:00:06.512Z"
   },
   {
    "duration": 484,
    "start_time": "2023-01-06T18:00:06.532Z"
   },
   {
    "duration": 16,
    "start_time": "2023-01-06T18:00:07.017Z"
   },
   {
    "duration": 13,
    "start_time": "2023-01-06T18:00:07.035Z"
   },
   {
    "duration": 13,
    "start_time": "2023-01-06T18:00:07.049Z"
   },
   {
    "duration": 15,
    "start_time": "2023-01-06T18:00:07.063Z"
   },
   {
    "duration": 38,
    "start_time": "2023-01-06T18:00:07.079Z"
   },
   {
    "duration": 7,
    "start_time": "2023-01-06T18:00:07.119Z"
   },
   {
    "duration": 13,
    "start_time": "2023-01-06T18:00:07.127Z"
   },
   {
    "duration": 5,
    "start_time": "2023-01-06T18:00:07.141Z"
   },
   {
    "duration": 7,
    "start_time": "2023-01-06T18:00:07.147Z"
   },
   {
    "duration": 9,
    "start_time": "2023-01-06T18:00:07.156Z"
   },
   {
    "duration": 3,
    "start_time": "2023-01-06T18:00:07.167Z"
   },
   {
    "duration": 11,
    "start_time": "2023-01-06T18:00:07.171Z"
   },
   {
    "duration": 5,
    "start_time": "2023-01-06T18:00:07.184Z"
   },
   {
    "duration": 22,
    "start_time": "2023-01-06T18:00:07.191Z"
   },
   {
    "duration": 1568,
    "start_time": "2023-01-06T18:12:26.917Z"
   },
   {
    "duration": 21,
    "start_time": "2023-01-06T18:12:28.487Z"
   },
   {
    "duration": 15,
    "start_time": "2023-01-06T18:12:28.510Z"
   },
   {
    "duration": 3,
    "start_time": "2023-01-06T18:12:28.527Z"
   },
   {
    "duration": 32,
    "start_time": "2023-01-06T18:12:28.533Z"
   },
   {
    "duration": 21,
    "start_time": "2023-01-06T18:12:28.567Z"
   },
   {
    "duration": 33,
    "start_time": "2023-01-06T18:12:28.590Z"
   },
   {
    "duration": 10,
    "start_time": "2023-01-06T18:12:28.625Z"
   },
   {
    "duration": 23,
    "start_time": "2023-01-06T18:12:28.637Z"
   },
   {
    "duration": 22,
    "start_time": "2023-01-06T18:12:28.662Z"
   },
   {
    "duration": 9,
    "start_time": "2023-01-06T18:12:28.686Z"
   },
   {
    "duration": 17,
    "start_time": "2023-01-06T18:12:28.697Z"
   },
   {
    "duration": 10,
    "start_time": "2023-01-06T18:12:28.715Z"
   },
   {
    "duration": 5,
    "start_time": "2023-01-06T18:12:28.729Z"
   },
   {
    "duration": 12,
    "start_time": "2023-01-06T18:12:28.736Z"
   },
   {
    "duration": 19,
    "start_time": "2023-01-06T18:12:28.750Z"
   },
   {
    "duration": 19,
    "start_time": "2023-01-06T18:12:28.771Z"
   },
   {
    "duration": 11,
    "start_time": "2023-01-06T18:12:28.792Z"
   },
   {
    "duration": 14,
    "start_time": "2023-01-06T18:12:28.805Z"
   },
   {
    "duration": 7,
    "start_time": "2023-01-06T18:12:28.822Z"
   },
   {
    "duration": 11,
    "start_time": "2023-01-06T18:12:28.831Z"
   },
   {
    "duration": 23,
    "start_time": "2023-01-06T18:12:28.844Z"
   },
   {
    "duration": 20,
    "start_time": "2023-01-06T18:12:28.869Z"
   },
   {
    "duration": 14,
    "start_time": "2023-01-06T18:12:28.891Z"
   },
   {
    "duration": 10,
    "start_time": "2023-01-06T18:12:28.906Z"
   },
   {
    "duration": 9,
    "start_time": "2023-01-06T18:12:28.918Z"
   },
   {
    "duration": 34,
    "start_time": "2023-01-06T18:12:28.929Z"
   },
   {
    "duration": 13,
    "start_time": "2023-01-06T18:12:28.969Z"
   },
   {
    "duration": 18,
    "start_time": "2023-01-06T18:12:28.984Z"
   },
   {
    "duration": 20,
    "start_time": "2023-01-06T18:12:29.004Z"
   },
   {
    "duration": 236,
    "start_time": "2023-01-06T18:12:29.026Z"
   },
   {
    "duration": 283,
    "start_time": "2023-01-06T18:12:29.264Z"
   },
   {
    "duration": 19,
    "start_time": "2023-01-06T18:12:29.551Z"
   },
   {
    "duration": 21,
    "start_time": "2023-01-06T18:12:29.571Z"
   },
   {
    "duration": 18,
    "start_time": "2023-01-06T18:12:29.594Z"
   },
   {
    "duration": 388,
    "start_time": "2023-01-06T18:12:29.615Z"
   },
   {
    "duration": 211,
    "start_time": "2023-01-06T18:12:30.005Z"
   },
   {
    "duration": 204,
    "start_time": "2023-01-06T18:12:30.218Z"
   },
   {
    "duration": 360,
    "start_time": "2023-01-06T18:12:30.424Z"
   },
   {
    "duration": 390,
    "start_time": "2023-01-06T18:12:30.785Z"
   },
   {
    "duration": 273,
    "start_time": "2023-01-06T18:12:31.182Z"
   },
   {
    "duration": 186,
    "start_time": "2023-01-06T18:12:31.457Z"
   },
   {
    "duration": 15,
    "start_time": "2023-01-06T18:12:31.645Z"
   },
   {
    "duration": 415,
    "start_time": "2023-01-06T18:12:31.662Z"
   },
   {
    "duration": 224,
    "start_time": "2023-01-06T18:12:32.079Z"
   },
   {
    "duration": 6,
    "start_time": "2023-01-06T18:12:32.305Z"
   },
   {
    "duration": 171,
    "start_time": "2023-01-06T18:12:32.312Z"
   },
   {
    "duration": 11,
    "start_time": "2023-01-06T18:12:32.485Z"
   },
   {
    "duration": 163,
    "start_time": "2023-01-06T18:12:32.498Z"
   },
   {
    "duration": 6,
    "start_time": "2023-01-06T18:12:32.664Z"
   },
   {
    "duration": 11,
    "start_time": "2023-01-06T18:12:32.671Z"
   },
   {
    "duration": 17,
    "start_time": "2023-01-06T18:12:32.683Z"
   },
   {
    "duration": 7,
    "start_time": "2023-01-06T18:12:32.702Z"
   },
   {
    "duration": 10,
    "start_time": "2023-01-06T18:12:32.711Z"
   },
   {
    "duration": 10,
    "start_time": "2023-01-06T18:12:32.722Z"
   },
   {
    "duration": 33,
    "start_time": "2023-01-06T18:12:32.733Z"
   },
   {
    "duration": 5,
    "start_time": "2023-01-06T18:12:32.768Z"
   },
   {
    "duration": 13,
    "start_time": "2023-01-06T18:12:32.775Z"
   },
   {
    "duration": 14,
    "start_time": "2023-01-06T18:12:32.789Z"
   },
   {
    "duration": 20,
    "start_time": "2023-01-06T18:12:32.805Z"
   },
   {
    "duration": 8,
    "start_time": "2023-01-06T18:12:32.827Z"
   },
   {
    "duration": 28,
    "start_time": "2023-01-06T18:12:32.837Z"
   },
   {
    "duration": 378,
    "start_time": "2023-01-06T18:12:32.868Z"
   },
   {
    "duration": 322,
    "start_time": "2023-01-06T18:12:33.248Z"
   },
   {
    "duration": 321,
    "start_time": "2023-01-06T18:12:33.571Z"
   },
   {
    "duration": 330,
    "start_time": "2023-01-06T18:12:33.893Z"
   },
   {
    "duration": 11,
    "start_time": "2023-01-06T18:12:34.224Z"
   },
   {
    "duration": 26,
    "start_time": "2023-01-06T18:12:34.237Z"
   },
   {
    "duration": 17,
    "start_time": "2023-01-06T18:12:34.265Z"
   },
   {
    "duration": 16,
    "start_time": "2023-01-06T18:12:34.284Z"
   },
   {
    "duration": 4,
    "start_time": "2023-01-06T18:12:34.301Z"
   },
   {
    "duration": 11,
    "start_time": "2023-01-06T18:12:34.307Z"
   },
   {
    "duration": 17,
    "start_time": "2023-01-06T18:12:34.320Z"
   },
   {
    "duration": 20,
    "start_time": "2023-01-06T18:12:34.339Z"
   },
   {
    "duration": 16,
    "start_time": "2023-01-06T18:12:34.361Z"
   },
   {
    "duration": 651,
    "start_time": "2023-01-06T18:12:34.379Z"
   },
   {
    "duration": 23,
    "start_time": "2023-01-06T18:12:35.032Z"
   },
   {
    "duration": 19,
    "start_time": "2023-01-06T18:12:35.056Z"
   },
   {
    "duration": 16,
    "start_time": "2023-01-06T18:12:35.077Z"
   },
   {
    "duration": 18,
    "start_time": "2023-01-06T18:12:35.095Z"
   },
   {
    "duration": 46,
    "start_time": "2023-01-06T18:12:35.115Z"
   },
   {
    "duration": 12,
    "start_time": "2023-01-06T18:12:35.163Z"
   },
   {
    "duration": 8,
    "start_time": "2023-01-06T18:12:35.177Z"
   },
   {
    "duration": 10,
    "start_time": "2023-01-06T18:12:35.187Z"
   },
   {
    "duration": 14,
    "start_time": "2023-01-06T18:12:35.199Z"
   },
   {
    "duration": 16,
    "start_time": "2023-01-06T18:12:35.215Z"
   },
   {
    "duration": 8,
    "start_time": "2023-01-06T18:12:35.233Z"
   },
   {
    "duration": 22,
    "start_time": "2023-01-06T18:12:35.243Z"
   },
   {
    "duration": 7,
    "start_time": "2023-01-06T18:12:35.267Z"
   },
   {
    "duration": 12,
    "start_time": "2023-01-06T18:12:35.275Z"
   },
   {
    "duration": 49,
    "start_time": "2023-01-06T20:38:26.268Z"
   },
   {
    "duration": 1382,
    "start_time": "2023-01-06T20:38:31.028Z"
   },
   {
    "duration": 19,
    "start_time": "2023-01-06T20:38:32.413Z"
   },
   {
    "duration": 19,
    "start_time": "2023-01-06T20:38:32.434Z"
   },
   {
    "duration": 8,
    "start_time": "2023-01-06T20:38:32.456Z"
   },
   {
    "duration": 20,
    "start_time": "2023-01-06T20:38:32.467Z"
   },
   {
    "duration": 28,
    "start_time": "2023-01-06T20:38:32.488Z"
   },
   {
    "duration": 31,
    "start_time": "2023-01-06T20:38:32.517Z"
   },
   {
    "duration": 10,
    "start_time": "2023-01-06T20:38:32.549Z"
   },
   {
    "duration": 87,
    "start_time": "2023-01-06T20:38:32.560Z"
   },
   {
    "duration": 7,
    "start_time": "2023-01-06T20:38:32.649Z"
   },
   {
    "duration": 15,
    "start_time": "2023-01-06T20:38:32.657Z"
   },
   {
    "duration": 24,
    "start_time": "2023-01-06T20:38:32.673Z"
   },
   {
    "duration": 9,
    "start_time": "2023-01-06T20:38:32.699Z"
   },
   {
    "duration": 7,
    "start_time": "2023-01-06T20:38:32.711Z"
   },
   {
    "duration": 7,
    "start_time": "2023-01-06T20:38:32.720Z"
   },
   {
    "duration": 9,
    "start_time": "2023-01-06T20:38:32.728Z"
   },
   {
    "duration": 12,
    "start_time": "2023-01-06T20:38:32.738Z"
   },
   {
    "duration": 21,
    "start_time": "2023-01-06T20:38:32.751Z"
   },
   {
    "duration": 24,
    "start_time": "2023-01-06T20:38:32.774Z"
   },
   {
    "duration": 6,
    "start_time": "2023-01-06T20:38:32.799Z"
   },
   {
    "duration": 12,
    "start_time": "2023-01-06T20:38:32.807Z"
   },
   {
    "duration": 17,
    "start_time": "2023-01-06T20:38:32.821Z"
   },
   {
    "duration": 19,
    "start_time": "2023-01-06T20:38:32.839Z"
   },
   {
    "duration": 8,
    "start_time": "2023-01-06T20:38:32.859Z"
   },
   {
    "duration": 13,
    "start_time": "2023-01-06T20:38:32.868Z"
   },
   {
    "duration": 12,
    "start_time": "2023-01-06T20:38:32.883Z"
   },
   {
    "duration": 9,
    "start_time": "2023-01-06T20:38:32.898Z"
   },
   {
    "duration": 26,
    "start_time": "2023-01-06T20:38:32.908Z"
   },
   {
    "duration": 8,
    "start_time": "2023-01-06T20:38:32.935Z"
   },
   {
    "duration": 32,
    "start_time": "2023-01-06T20:38:32.945Z"
   },
   {
    "duration": 24,
    "start_time": "2023-01-06T20:38:32.979Z"
   },
   {
    "duration": 198,
    "start_time": "2023-01-06T20:38:33.005Z"
   },
   {
    "duration": 262,
    "start_time": "2023-01-06T20:38:33.205Z"
   },
   {
    "duration": 12,
    "start_time": "2023-01-06T20:38:33.469Z"
   },
   {
    "duration": 21,
    "start_time": "2023-01-06T20:38:33.482Z"
   },
   {
    "duration": 9,
    "start_time": "2023-01-06T20:38:33.504Z"
   },
   {
    "duration": 274,
    "start_time": "2023-01-06T20:38:33.514Z"
   },
   {
    "duration": 201,
    "start_time": "2023-01-06T20:38:33.797Z"
   },
   {
    "duration": 232,
    "start_time": "2023-01-06T20:38:34.000Z"
   },
   {
    "duration": 183,
    "start_time": "2023-01-06T20:38:34.234Z"
   },
   {
    "duration": 297,
    "start_time": "2023-01-06T20:38:34.422Z"
   },
   {
    "duration": 200,
    "start_time": "2023-01-06T20:38:34.720Z"
   },
   {
    "duration": 178,
    "start_time": "2023-01-06T20:38:34.922Z"
   },
   {
    "duration": 7,
    "start_time": "2023-01-06T20:38:35.103Z"
   },
   {
    "duration": 362,
    "start_time": "2023-01-06T20:38:35.112Z"
   },
   {
    "duration": 195,
    "start_time": "2023-01-06T20:38:35.477Z"
   },
   {
    "duration": 7,
    "start_time": "2023-01-06T20:38:35.674Z"
   },
   {
    "duration": 169,
    "start_time": "2023-01-06T20:38:35.683Z"
   },
   {
    "duration": 7,
    "start_time": "2023-01-06T20:38:35.855Z"
   },
   {
    "duration": 151,
    "start_time": "2023-01-06T20:38:35.863Z"
   },
   {
    "duration": 5,
    "start_time": "2023-01-06T20:38:36.016Z"
   },
   {
    "duration": 9,
    "start_time": "2023-01-06T20:38:36.023Z"
   },
   {
    "duration": 8,
    "start_time": "2023-01-06T20:38:36.034Z"
   },
   {
    "duration": 6,
    "start_time": "2023-01-06T20:38:36.044Z"
   },
   {
    "duration": 6,
    "start_time": "2023-01-06T20:38:36.052Z"
   },
   {
    "duration": 7,
    "start_time": "2023-01-06T20:38:36.059Z"
   },
   {
    "duration": 13,
    "start_time": "2023-01-06T20:38:36.098Z"
   },
   {
    "duration": 8,
    "start_time": "2023-01-06T20:38:36.114Z"
   },
   {
    "duration": 14,
    "start_time": "2023-01-06T20:38:36.123Z"
   },
   {
    "duration": 7,
    "start_time": "2023-01-06T20:38:36.138Z"
   },
   {
    "duration": 17,
    "start_time": "2023-01-06T20:38:36.146Z"
   },
   {
    "duration": 11,
    "start_time": "2023-01-06T20:38:36.165Z"
   },
   {
    "duration": 32,
    "start_time": "2023-01-06T20:38:36.177Z"
   },
   {
    "duration": 359,
    "start_time": "2023-01-06T20:38:36.211Z"
   },
   {
    "duration": 284,
    "start_time": "2023-01-06T20:38:36.572Z"
   },
   {
    "duration": 272,
    "start_time": "2023-01-06T20:38:36.857Z"
   },
   {
    "duration": 285,
    "start_time": "2023-01-06T20:38:37.131Z"
   },
   {
    "duration": 11,
    "start_time": "2023-01-06T20:38:37.418Z"
   },
   {
    "duration": 5,
    "start_time": "2023-01-06T20:38:37.431Z"
   },
   {
    "duration": 17,
    "start_time": "2023-01-06T20:38:37.438Z"
   },
   {
    "duration": 14,
    "start_time": "2023-01-06T20:38:37.457Z"
   },
   {
    "duration": 6,
    "start_time": "2023-01-06T20:38:37.473Z"
   },
   {
    "duration": 23,
    "start_time": "2023-01-06T20:38:37.480Z"
   },
   {
    "duration": 11,
    "start_time": "2023-01-06T20:38:37.505Z"
   },
   {
    "duration": 5,
    "start_time": "2023-01-06T20:38:37.517Z"
   },
   {
    "duration": 18,
    "start_time": "2023-01-06T20:38:37.524Z"
   },
   {
    "duration": 603,
    "start_time": "2023-01-06T20:38:37.544Z"
   },
   {
    "duration": 21,
    "start_time": "2023-01-06T20:38:38.149Z"
   },
   {
    "duration": 35,
    "start_time": "2023-01-06T20:38:38.173Z"
   },
   {
    "duration": 19,
    "start_time": "2023-01-06T20:38:38.210Z"
   },
   {
    "duration": 20,
    "start_time": "2023-01-06T20:38:38.231Z"
   },
   {
    "duration": 6,
    "start_time": "2023-01-06T20:38:38.253Z"
   },
   {
    "duration": 7,
    "start_time": "2023-01-06T20:38:38.261Z"
   },
   {
    "duration": 32,
    "start_time": "2023-01-06T20:38:38.270Z"
   },
   {
    "duration": 6,
    "start_time": "2023-01-06T20:38:38.304Z"
   },
   {
    "duration": 6,
    "start_time": "2023-01-06T20:38:38.312Z"
   },
   {
    "duration": 9,
    "start_time": "2023-01-06T20:38:38.320Z"
   },
   {
    "duration": 16,
    "start_time": "2023-01-06T20:38:38.331Z"
   },
   {
    "duration": 10,
    "start_time": "2023-01-06T20:38:38.348Z"
   },
   {
    "duration": 11,
    "start_time": "2023-01-06T20:38:38.359Z"
   },
   {
    "duration": 19,
    "start_time": "2023-01-06T20:38:38.372Z"
   },
   {
    "duration": 1665,
    "start_time": "2023-01-07T11:56:10.009Z"
   },
   {
    "duration": 33,
    "start_time": "2023-01-07T11:56:11.676Z"
   },
   {
    "duration": 31,
    "start_time": "2023-01-07T11:56:11.710Z"
   },
   {
    "duration": 3,
    "start_time": "2023-01-07T11:56:11.743Z"
   },
   {
    "duration": 19,
    "start_time": "2023-01-07T11:56:11.749Z"
   },
   {
    "duration": 31,
    "start_time": "2023-01-07T11:56:11.770Z"
   },
   {
    "duration": 42,
    "start_time": "2023-01-07T11:56:11.802Z"
   },
   {
    "duration": 8,
    "start_time": "2023-01-07T11:56:11.845Z"
   },
   {
    "duration": 63,
    "start_time": "2023-01-07T11:56:11.855Z"
   },
   {
    "duration": 7,
    "start_time": "2023-01-07T11:56:11.920Z"
   },
   {
    "duration": 12,
    "start_time": "2023-01-07T11:56:11.929Z"
   },
   {
    "duration": 9,
    "start_time": "2023-01-07T11:56:11.942Z"
   },
   {
    "duration": 11,
    "start_time": "2023-01-07T11:56:11.952Z"
   },
   {
    "duration": 12,
    "start_time": "2023-01-07T11:56:11.978Z"
   },
   {
    "duration": 18,
    "start_time": "2023-01-07T11:56:11.992Z"
   },
   {
    "duration": 10,
    "start_time": "2023-01-07T11:56:12.012Z"
   },
   {
    "duration": 12,
    "start_time": "2023-01-07T11:56:12.023Z"
   },
   {
    "duration": 15,
    "start_time": "2023-01-07T11:56:12.037Z"
   },
   {
    "duration": 10,
    "start_time": "2023-01-07T11:56:12.054Z"
   },
   {
    "duration": 9,
    "start_time": "2023-01-07T11:56:12.065Z"
   },
   {
    "duration": 37,
    "start_time": "2023-01-07T11:56:12.076Z"
   },
   {
    "duration": 11,
    "start_time": "2023-01-07T11:56:12.115Z"
   },
   {
    "duration": 20,
    "start_time": "2023-01-07T11:56:12.128Z"
   },
   {
    "duration": 5,
    "start_time": "2023-01-07T11:56:12.149Z"
   },
   {
    "duration": 11,
    "start_time": "2023-01-07T11:56:12.155Z"
   },
   {
    "duration": 22,
    "start_time": "2023-01-07T11:56:12.168Z"
   },
   {
    "duration": 19,
    "start_time": "2023-01-07T11:56:12.195Z"
   },
   {
    "duration": 15,
    "start_time": "2023-01-07T11:56:12.216Z"
   },
   {
    "duration": 6,
    "start_time": "2023-01-07T11:56:12.233Z"
   },
   {
    "duration": 16,
    "start_time": "2023-01-07T11:56:12.240Z"
   },
   {
    "duration": 17,
    "start_time": "2023-01-07T11:56:12.257Z"
   },
   {
    "duration": 201,
    "start_time": "2023-01-07T11:56:12.275Z"
   },
   {
    "duration": 315,
    "start_time": "2023-01-07T11:56:12.478Z"
   },
   {
    "duration": 15,
    "start_time": "2023-01-07T11:56:12.794Z"
   },
   {
    "duration": 10,
    "start_time": "2023-01-07T11:56:12.810Z"
   },
   {
    "duration": 5,
    "start_time": "2023-01-07T11:56:12.822Z"
   },
   {
    "duration": 329,
    "start_time": "2023-01-07T11:56:12.829Z"
   },
   {
    "duration": 205,
    "start_time": "2023-01-07T11:56:13.159Z"
   },
   {
    "duration": 200,
    "start_time": "2023-01-07T11:56:13.365Z"
   },
   {
    "duration": 209,
    "start_time": "2023-01-07T11:56:13.567Z"
   },
   {
    "duration": 337,
    "start_time": "2023-01-07T11:56:13.782Z"
   },
   {
    "duration": 244,
    "start_time": "2023-01-07T11:56:14.121Z"
   },
   {
    "duration": 235,
    "start_time": "2023-01-07T11:56:14.367Z"
   },
   {
    "duration": 10,
    "start_time": "2023-01-07T11:56:14.605Z"
   },
   {
    "duration": 412,
    "start_time": "2023-01-07T11:56:14.616Z"
   },
   {
    "duration": 216,
    "start_time": "2023-01-07T11:56:15.030Z"
   },
   {
    "duration": 6,
    "start_time": "2023-01-07T11:56:15.248Z"
   },
   {
    "duration": 174,
    "start_time": "2023-01-07T11:56:15.256Z"
   },
   {
    "duration": 6,
    "start_time": "2023-01-07T11:56:15.432Z"
   },
   {
    "duration": 170,
    "start_time": "2023-01-07T11:56:15.440Z"
   },
   {
    "duration": 6,
    "start_time": "2023-01-07T11:56:15.612Z"
   },
   {
    "duration": 10,
    "start_time": "2023-01-07T11:56:15.620Z"
   },
   {
    "duration": 7,
    "start_time": "2023-01-07T11:56:15.632Z"
   },
   {
    "duration": 44,
    "start_time": "2023-01-07T11:56:15.641Z"
   },
   {
    "duration": 32,
    "start_time": "2023-01-07T11:56:15.686Z"
   },
   {
    "duration": 8,
    "start_time": "2023-01-07T11:56:15.720Z"
   },
   {
    "duration": 54,
    "start_time": "2023-01-07T11:56:15.730Z"
   },
   {
    "duration": 32,
    "start_time": "2023-01-07T11:56:15.786Z"
   },
   {
    "duration": 12,
    "start_time": "2023-01-07T11:56:15.822Z"
   },
   {
    "duration": 22,
    "start_time": "2023-01-07T11:56:15.836Z"
   },
   {
    "duration": 15,
    "start_time": "2023-01-07T11:56:15.860Z"
   },
   {
    "duration": 33,
    "start_time": "2023-01-07T11:56:15.877Z"
   },
   {
    "duration": 19,
    "start_time": "2023-01-07T11:56:15.912Z"
   },
   {
    "duration": 405,
    "start_time": "2023-01-07T11:56:15.932Z"
   },
   {
    "duration": 372,
    "start_time": "2023-01-07T11:56:16.339Z"
   },
   {
    "duration": 365,
    "start_time": "2023-01-07T11:56:16.713Z"
   },
   {
    "duration": 368,
    "start_time": "2023-01-07T11:56:17.080Z"
   },
   {
    "duration": 12,
    "start_time": "2023-01-07T11:56:17.450Z"
   },
   {
    "duration": 20,
    "start_time": "2023-01-07T11:56:17.463Z"
   },
   {
    "duration": 28,
    "start_time": "2023-01-07T11:56:17.485Z"
   },
   {
    "duration": 17,
    "start_time": "2023-01-07T11:56:17.515Z"
   },
   {
    "duration": 6,
    "start_time": "2023-01-07T11:56:17.534Z"
   },
   {
    "duration": 16,
    "start_time": "2023-01-07T11:56:17.542Z"
   },
   {
    "duration": 21,
    "start_time": "2023-01-07T11:56:17.560Z"
   },
   {
    "duration": 12,
    "start_time": "2023-01-07T11:56:17.583Z"
   },
   {
    "duration": 9,
    "start_time": "2023-01-07T11:56:17.597Z"
   },
   {
    "duration": 677,
    "start_time": "2023-01-07T11:56:17.608Z"
   },
   {
    "duration": 17,
    "start_time": "2023-01-07T11:56:18.287Z"
   },
   {
    "duration": 20,
    "start_time": "2023-01-07T11:56:18.306Z"
   },
   {
    "duration": 13,
    "start_time": "2023-01-07T11:56:18.328Z"
   },
   {
    "duration": 15,
    "start_time": "2023-01-07T11:56:18.342Z"
   },
   {
    "duration": 44,
    "start_time": "2023-01-07T11:56:18.358Z"
   },
   {
    "duration": 17,
    "start_time": "2023-01-07T11:56:18.406Z"
   },
   {
    "duration": 12,
    "start_time": "2023-01-07T11:56:18.424Z"
   },
   {
    "duration": 4,
    "start_time": "2023-01-07T11:56:18.437Z"
   },
   {
    "duration": 10,
    "start_time": "2023-01-07T11:56:18.443Z"
   },
   {
    "duration": 8,
    "start_time": "2023-01-07T11:56:18.455Z"
   },
   {
    "duration": 4,
    "start_time": "2023-01-07T11:56:18.465Z"
   },
   {
    "duration": 11,
    "start_time": "2023-01-07T11:56:18.471Z"
   },
   {
    "duration": 20,
    "start_time": "2023-01-07T11:56:18.484Z"
   },
   {
    "duration": 8,
    "start_time": "2023-01-07T11:56:18.506Z"
   },
   {
    "duration": 5,
    "start_time": "2023-01-07T12:03:02.132Z"
   },
   {
    "duration": 6,
    "start_time": "2023-01-07T12:03:03.061Z"
   },
   {
    "duration": 72,
    "start_time": "2023-01-07T12:17:45.163Z"
   },
   {
    "duration": 18,
    "start_time": "2023-01-07T12:17:45.238Z"
   },
   {
    "duration": 28,
    "start_time": "2023-01-07T12:17:45.257Z"
   },
   {
    "duration": 21,
    "start_time": "2023-01-07T12:17:45.287Z"
   },
   {
    "duration": 26,
    "start_time": "2023-01-07T12:17:45.312Z"
   },
   {
    "duration": 29,
    "start_time": "2023-01-07T12:17:45.340Z"
   },
   {
    "duration": 54,
    "start_time": "2023-01-07T12:17:45.371Z"
   },
   {
    "duration": 13,
    "start_time": "2023-01-07T12:17:45.428Z"
   },
   {
    "duration": 16,
    "start_time": "2023-01-07T12:17:45.442Z"
   },
   {
    "duration": 20,
    "start_time": "2023-01-07T12:17:45.460Z"
   },
   {
    "duration": 38,
    "start_time": "2023-01-07T12:17:45.482Z"
   },
   {
    "duration": 10,
    "start_time": "2023-01-07T12:17:45.522Z"
   },
   {
    "duration": 11,
    "start_time": "2023-01-07T12:17:45.533Z"
   },
   {
    "duration": 6,
    "start_time": "2023-01-07T12:17:45.548Z"
   },
   {
    "duration": 5,
    "start_time": "2023-01-07T12:17:45.555Z"
   },
   {
    "duration": 12,
    "start_time": "2023-01-07T12:17:45.562Z"
   },
   {
    "duration": 41,
    "start_time": "2023-01-07T12:17:45.575Z"
   },
   {
    "duration": 23,
    "start_time": "2023-01-07T12:17:45.619Z"
   },
   {
    "duration": 26,
    "start_time": "2023-01-07T12:17:45.643Z"
   },
   {
    "duration": 59,
    "start_time": "2023-01-07T12:17:45.671Z"
   },
   {
    "duration": 13,
    "start_time": "2023-01-07T12:17:45.732Z"
   },
   {
    "duration": 41,
    "start_time": "2023-01-07T12:17:45.747Z"
   },
   {
    "duration": 56,
    "start_time": "2023-01-07T12:17:45.792Z"
   },
   {
    "duration": 8,
    "start_time": "2023-01-07T12:17:45.850Z"
   },
   {
    "duration": 11,
    "start_time": "2023-01-07T12:17:45.859Z"
   },
   {
    "duration": 36,
    "start_time": "2023-01-07T12:17:45.872Z"
   },
   {
    "duration": 19,
    "start_time": "2023-01-07T12:17:45.911Z"
   },
   {
    "duration": 10,
    "start_time": "2023-01-07T12:17:45.932Z"
   },
   {
    "duration": 18,
    "start_time": "2023-01-07T12:17:45.944Z"
   },
   {
    "duration": 12,
    "start_time": "2023-01-07T12:17:45.964Z"
   },
   {
    "duration": 51,
    "start_time": "2023-01-07T12:17:45.978Z"
   },
   {
    "duration": 24,
    "start_time": "2023-01-07T12:17:46.032Z"
   },
   {
    "duration": 238,
    "start_time": "2023-01-07T12:17:46.058Z"
   },
   {
    "duration": 322,
    "start_time": "2023-01-07T12:17:46.298Z"
   },
   {
    "duration": 13,
    "start_time": "2023-01-07T12:17:46.622Z"
   },
   {
    "duration": 12,
    "start_time": "2023-01-07T12:17:46.637Z"
   },
   {
    "duration": 32,
    "start_time": "2023-01-07T12:17:46.650Z"
   },
   {
    "duration": 365,
    "start_time": "2023-01-07T12:17:46.683Z"
   },
   {
    "duration": 251,
    "start_time": "2023-01-07T12:17:47.049Z"
   },
   {
    "duration": 255,
    "start_time": "2023-01-07T12:17:47.303Z"
   },
   {
    "duration": 219,
    "start_time": "2023-01-07T12:17:47.563Z"
   },
   {
    "duration": 204,
    "start_time": "2023-01-07T12:17:47.783Z"
   },
   {
    "duration": 203,
    "start_time": "2023-01-07T12:17:47.989Z"
   },
   {
    "duration": 321,
    "start_time": "2023-01-07T12:17:48.194Z"
   },
   {
    "duration": 9,
    "start_time": "2023-01-07T12:17:48.517Z"
   },
   {
    "duration": 377,
    "start_time": "2023-01-07T12:17:48.528Z"
   },
   {
    "duration": 243,
    "start_time": "2023-01-07T12:17:48.907Z"
   },
   {
    "duration": 6,
    "start_time": "2023-01-07T12:17:49.152Z"
   },
   {
    "duration": 212,
    "start_time": "2023-01-07T12:17:49.161Z"
   },
   {
    "duration": 37,
    "start_time": "2023-01-07T12:17:49.374Z"
   },
   {
    "duration": 160,
    "start_time": "2023-01-07T12:17:49.413Z"
   },
   {
    "duration": 12,
    "start_time": "2023-01-07T12:17:49.575Z"
   },
   {
    "duration": 39,
    "start_time": "2023-01-07T12:17:49.589Z"
   },
   {
    "duration": 7,
    "start_time": "2023-01-07T12:17:49.630Z"
   },
   {
    "duration": 14,
    "start_time": "2023-01-07T12:17:49.639Z"
   },
   {
    "duration": 9,
    "start_time": "2023-01-07T12:17:49.655Z"
   },
   {
    "duration": 12,
    "start_time": "2023-01-07T12:17:49.665Z"
   },
   {
    "duration": 43,
    "start_time": "2023-01-07T12:17:49.685Z"
   },
   {
    "duration": 8,
    "start_time": "2023-01-07T12:17:49.729Z"
   },
   {
    "duration": 16,
    "start_time": "2023-01-07T12:17:49.738Z"
   },
   {
    "duration": 8,
    "start_time": "2023-01-07T12:17:49.756Z"
   },
   {
    "duration": 23,
    "start_time": "2023-01-07T12:17:49.766Z"
   },
   {
    "duration": 83,
    "start_time": "2023-01-07T12:17:49.790Z"
   },
   {
    "duration": 61,
    "start_time": "2023-01-07T12:17:49.875Z"
   },
   {
    "duration": 415,
    "start_time": "2023-01-07T12:17:49.938Z"
   },
   {
    "duration": 343,
    "start_time": "2023-01-07T12:17:50.356Z"
   },
   {
    "duration": 386,
    "start_time": "2023-01-07T12:17:50.701Z"
   },
   {
    "duration": 372,
    "start_time": "2023-01-07T12:17:51.089Z"
   },
   {
    "duration": 18,
    "start_time": "2023-01-07T12:17:51.463Z"
   },
   {
    "duration": 34,
    "start_time": "2023-01-07T12:17:51.483Z"
   },
   {
    "duration": 17,
    "start_time": "2023-01-07T12:17:51.521Z"
   },
   {
    "duration": 17,
    "start_time": "2023-01-07T12:17:51.539Z"
   },
   {
    "duration": 6,
    "start_time": "2023-01-07T12:17:51.558Z"
   },
   {
    "duration": 19,
    "start_time": "2023-01-07T12:17:51.566Z"
   },
   {
    "duration": 37,
    "start_time": "2023-01-07T12:17:51.587Z"
   },
   {
    "duration": 9,
    "start_time": "2023-01-07T12:17:51.626Z"
   },
   {
    "duration": 14,
    "start_time": "2023-01-07T12:17:51.636Z"
   },
   {
    "duration": 650,
    "start_time": "2023-01-07T12:17:51.652Z"
   },
   {
    "duration": 20,
    "start_time": "2023-01-07T12:17:52.304Z"
   },
   {
    "duration": 17,
    "start_time": "2023-01-07T12:17:52.326Z"
   },
   {
    "duration": 40,
    "start_time": "2023-01-07T12:17:52.345Z"
   },
   {
    "duration": 32,
    "start_time": "2023-01-07T12:17:52.387Z"
   },
   {
    "duration": 8,
    "start_time": "2023-01-07T12:17:52.421Z"
   },
   {
    "duration": 5,
    "start_time": "2023-01-07T12:17:52.431Z"
   },
   {
    "duration": 10,
    "start_time": "2023-01-07T12:17:52.438Z"
   },
   {
    "duration": 6,
    "start_time": "2023-01-07T12:17:52.449Z"
   },
   {
    "duration": 9,
    "start_time": "2023-01-07T12:17:52.457Z"
   },
   {
    "duration": 50,
    "start_time": "2023-01-07T12:17:52.468Z"
   },
   {
    "duration": 4,
    "start_time": "2023-01-07T12:17:52.520Z"
   },
   {
    "duration": 10,
    "start_time": "2023-01-07T12:17:52.526Z"
   },
   {
    "duration": 4,
    "start_time": "2023-01-07T12:17:52.538Z"
   },
   {
    "duration": 11,
    "start_time": "2023-01-07T12:17:52.544Z"
   },
   {
    "duration": 8,
    "start_time": "2023-01-07T12:22:11.910Z"
   },
   {
    "duration": 354,
    "start_time": "2023-01-07T12:22:16.190Z"
   },
   {
    "duration": 263,
    "start_time": "2023-01-07T12:22:35.930Z"
   },
   {
    "duration": 22,
    "start_time": "2023-01-07T12:24:34.616Z"
   },
   {
    "duration": 19,
    "start_time": "2023-01-07T12:24:58.417Z"
   },
   {
    "duration": 26,
    "start_time": "2023-01-07T12:31:19.172Z"
   },
   {
    "duration": 228,
    "start_time": "2023-01-07T12:32:09.358Z"
   },
   {
    "duration": 320,
    "start_time": "2023-01-07T12:33:46.996Z"
   },
   {
    "duration": 5,
    "start_time": "2023-01-07T12:34:34.920Z"
   },
   {
    "duration": 161,
    "start_time": "2023-01-07T12:34:35.669Z"
   },
   {
    "duration": 401,
    "start_time": "2023-01-07T12:37:07.668Z"
   },
   {
    "duration": 347,
    "start_time": "2023-01-07T12:41:23.489Z"
   },
   {
    "duration": 241,
    "start_time": "2023-01-07T12:52:05.079Z"
   },
   {
    "duration": 255,
    "start_time": "2023-01-07T12:52:15.607Z"
   },
   {
    "duration": 220,
    "start_time": "2023-01-07T12:52:23.825Z"
   },
   {
    "duration": 13,
    "start_time": "2023-01-07T12:53:15.000Z"
   },
   {
    "duration": 7,
    "start_time": "2023-01-07T12:53:15.740Z"
   },
   {
    "duration": 9,
    "start_time": "2023-01-07T12:53:16.401Z"
   },
   {
    "duration": 11,
    "start_time": "2023-01-07T12:53:23.660Z"
   },
   {
    "duration": 7,
    "start_time": "2023-01-07T12:53:24.380Z"
   },
   {
    "duration": 9,
    "start_time": "2023-01-07T12:53:25.119Z"
   },
   {
    "duration": 14,
    "start_time": "2023-01-07T12:53:31.892Z"
   },
   {
    "duration": 7,
    "start_time": "2023-01-07T12:53:32.686Z"
   },
   {
    "duration": 8,
    "start_time": "2023-01-07T12:53:33.438Z"
   },
   {
    "duration": 535,
    "start_time": "2023-01-07T12:53:41.140Z"
   },
   {
    "duration": 569,
    "start_time": "2023-01-07T12:54:10.111Z"
   },
   {
    "duration": 14,
    "start_time": "2023-01-07T12:57:57.716Z"
   },
   {
    "duration": 14,
    "start_time": "2023-01-07T12:58:04.620Z"
   },
   {
    "duration": 18,
    "start_time": "2023-01-07T12:58:10.392Z"
   },
   {
    "duration": 18,
    "start_time": "2023-01-07T13:05:59.850Z"
   },
   {
    "duration": 14,
    "start_time": "2023-01-07T13:07:36.784Z"
   },
   {
    "duration": 4,
    "start_time": "2023-01-07T13:07:37.495Z"
   },
   {
    "duration": 7,
    "start_time": "2023-01-07T13:07:38.135Z"
   },
   {
    "duration": 3,
    "start_time": "2023-01-07T13:07:38.904Z"
   },
   {
    "duration": 5,
    "start_time": "2023-01-07T13:07:39.637Z"
   },
   {
    "duration": 5,
    "start_time": "2023-01-07T13:08:51.655Z"
   },
   {
    "duration": 8,
    "start_time": "2023-01-07T13:08:52.274Z"
   },
   {
    "duration": 6,
    "start_time": "2023-01-07T13:08:52.833Z"
   },
   {
    "duration": 3,
    "start_time": "2023-01-07T13:08:53.505Z"
   },
   {
    "duration": 8,
    "start_time": "2023-01-07T13:08:54.135Z"
   },
   {
    "duration": 83,
    "start_time": "2023-01-07T13:14:19.441Z"
   },
   {
    "duration": 51,
    "start_time": "2023-01-07T13:19:35.011Z"
   },
   {
    "duration": 17,
    "start_time": "2023-01-07T13:19:35.064Z"
   },
   {
    "duration": 22,
    "start_time": "2023-01-07T13:19:35.084Z"
   },
   {
    "duration": 4,
    "start_time": "2023-01-07T13:19:35.108Z"
   },
   {
    "duration": 19,
    "start_time": "2023-01-07T13:19:35.114Z"
   },
   {
    "duration": 45,
    "start_time": "2023-01-07T13:19:35.134Z"
   },
   {
    "duration": 36,
    "start_time": "2023-01-07T13:19:35.182Z"
   },
   {
    "duration": 9,
    "start_time": "2023-01-07T13:19:35.219Z"
   },
   {
    "duration": 20,
    "start_time": "2023-01-07T13:19:35.229Z"
   },
   {
    "duration": 31,
    "start_time": "2023-01-07T13:19:35.251Z"
   },
   {
    "duration": 12,
    "start_time": "2023-01-07T13:19:35.284Z"
   },
   {
    "duration": 10,
    "start_time": "2023-01-07T13:19:35.297Z"
   },
   {
    "duration": 14,
    "start_time": "2023-01-07T13:19:35.309Z"
   },
   {
    "duration": 6,
    "start_time": "2023-01-07T13:19:35.327Z"
   },
   {
    "duration": 8,
    "start_time": "2023-01-07T13:19:35.335Z"
   },
   {
    "duration": 33,
    "start_time": "2023-01-07T13:19:35.345Z"
   },
   {
    "duration": 7,
    "start_time": "2023-01-07T13:19:35.380Z"
   },
   {
    "duration": 28,
    "start_time": "2023-01-07T13:19:35.389Z"
   },
   {
    "duration": 12,
    "start_time": "2023-01-07T13:19:35.419Z"
   },
   {
    "duration": 8,
    "start_time": "2023-01-07T13:19:35.433Z"
   },
   {
    "duration": 6,
    "start_time": "2023-01-07T13:19:35.442Z"
   },
   {
    "duration": 7,
    "start_time": "2023-01-07T13:19:35.450Z"
   },
   {
    "duration": 41,
    "start_time": "2023-01-07T13:19:35.459Z"
   },
   {
    "duration": 4,
    "start_time": "2023-01-07T13:19:35.502Z"
   },
   {
    "duration": 29,
    "start_time": "2023-01-07T13:19:35.508Z"
   },
   {
    "duration": 35,
    "start_time": "2023-01-07T13:19:35.539Z"
   },
   {
    "duration": 35,
    "start_time": "2023-01-07T13:19:35.576Z"
   },
   {
    "duration": 33,
    "start_time": "2023-01-07T13:19:35.612Z"
   },
   {
    "duration": 53,
    "start_time": "2023-01-07T13:19:35.646Z"
   },
   {
    "duration": 28,
    "start_time": "2023-01-07T13:19:35.701Z"
   },
   {
    "duration": 49,
    "start_time": "2023-01-07T13:19:35.730Z"
   },
   {
    "duration": 64,
    "start_time": "2023-01-07T13:19:35.781Z"
   },
   {
    "duration": 212,
    "start_time": "2023-01-07T13:19:35.847Z"
   },
   {
    "duration": 281,
    "start_time": "2023-01-07T13:19:36.061Z"
   },
   {
    "duration": 12,
    "start_time": "2023-01-07T13:19:36.344Z"
   },
   {
    "duration": 22,
    "start_time": "2023-01-07T13:19:36.358Z"
   },
   {
    "duration": 258,
    "start_time": "2023-01-07T13:19:36.385Z"
   },
   {
    "duration": 390,
    "start_time": "2023-01-07T13:19:36.645Z"
   },
   {
    "duration": 208,
    "start_time": "2023-01-07T13:19:37.036Z"
   },
   {
    "duration": 377,
    "start_time": "2023-01-07T13:19:37.246Z"
   },
   {
    "duration": 180,
    "start_time": "2023-01-07T13:19:37.628Z"
   },
   {
    "duration": 190,
    "start_time": "2023-01-07T13:19:37.809Z"
   },
   {
    "duration": 175,
    "start_time": "2023-01-07T13:19:38.001Z"
   },
   {
    "duration": 271,
    "start_time": "2023-01-07T13:19:38.177Z"
   },
   {
    "duration": 5,
    "start_time": "2023-01-07T13:19:38.450Z"
   },
   {
    "duration": 296,
    "start_time": "2023-01-07T13:19:38.457Z"
   },
   {
    "duration": 26,
    "start_time": "2023-01-07T13:19:38.754Z"
   },
   {
    "duration": 242,
    "start_time": "2023-01-07T13:19:38.783Z"
   },
   {
    "duration": 6,
    "start_time": "2023-01-07T13:19:39.026Z"
   },
   {
    "duration": 169,
    "start_time": "2023-01-07T13:19:39.033Z"
   },
   {
    "duration": 6,
    "start_time": "2023-01-07T13:19:39.204Z"
   },
   {
    "duration": 164,
    "start_time": "2023-01-07T13:19:39.211Z"
   },
   {
    "duration": 8,
    "start_time": "2023-01-07T13:19:39.377Z"
   },
   {
    "duration": 13,
    "start_time": "2023-01-07T13:19:39.387Z"
   },
   {
    "duration": 17,
    "start_time": "2023-01-07T13:19:39.402Z"
   },
   {
    "duration": 8,
    "start_time": "2023-01-07T13:19:39.421Z"
   },
   {
    "duration": 9,
    "start_time": "2023-01-07T13:19:39.430Z"
   },
   {
    "duration": 8,
    "start_time": "2023-01-07T13:19:39.441Z"
   },
   {
    "duration": 45,
    "start_time": "2023-01-07T13:19:39.451Z"
   },
   {
    "duration": 11,
    "start_time": "2023-01-07T13:19:39.499Z"
   },
   {
    "duration": 14,
    "start_time": "2023-01-07T13:19:39.512Z"
   },
   {
    "duration": 8,
    "start_time": "2023-01-07T13:19:39.528Z"
   },
   {
    "duration": 14,
    "start_time": "2023-01-07T13:19:39.538Z"
   },
   {
    "duration": 5,
    "start_time": "2023-01-07T13:19:39.554Z"
   },
   {
    "duration": 17,
    "start_time": "2023-01-07T13:19:39.579Z"
   },
   {
    "duration": 434,
    "start_time": "2023-01-07T13:19:39.597Z"
   },
   {
    "duration": 372,
    "start_time": "2023-01-07T13:19:40.033Z"
   },
   {
    "duration": 213,
    "start_time": "2023-01-07T13:19:40.407Z"
   },
   {
    "duration": 228,
    "start_time": "2023-01-07T13:19:40.622Z"
   },
   {
    "duration": 252,
    "start_time": "2023-01-07T13:19:40.852Z"
   },
   {
    "duration": 11,
    "start_time": "2023-01-07T13:19:41.105Z"
   },
   {
    "duration": 42,
    "start_time": "2023-01-07T13:19:41.118Z"
   },
   {
    "duration": 64,
    "start_time": "2023-01-07T13:19:41.161Z"
   },
   {
    "duration": 83,
    "start_time": "2023-01-07T13:19:41.226Z"
   },
   {
    "duration": 21,
    "start_time": "2023-01-07T13:19:41.312Z"
   },
   {
    "duration": 61,
    "start_time": "2023-01-07T13:19:41.335Z"
   },
   {
    "duration": 56,
    "start_time": "2023-01-07T13:19:41.398Z"
   },
   {
    "duration": 45,
    "start_time": "2023-01-07T13:19:41.456Z"
   },
   {
    "duration": 45,
    "start_time": "2023-01-07T13:19:41.504Z"
   },
   {
    "duration": 766,
    "start_time": "2023-01-07T13:19:41.552Z"
   },
   {
    "duration": 16,
    "start_time": "2023-01-07T13:19:42.320Z"
   },
   {
    "duration": 52,
    "start_time": "2023-01-07T13:19:42.339Z"
   },
   {
    "duration": 24,
    "start_time": "2023-01-07T13:19:42.393Z"
   },
   {
    "duration": 37,
    "start_time": "2023-01-07T13:19:42.419Z"
   },
   {
    "duration": 23,
    "start_time": "2023-01-07T13:19:42.457Z"
   },
   {
    "duration": 38,
    "start_time": "2023-01-07T13:19:42.482Z"
   },
   {
    "duration": 17,
    "start_time": "2023-01-07T13:19:42.523Z"
   },
   {
    "duration": 32,
    "start_time": "2023-01-07T13:19:42.542Z"
   },
   {
    "duration": 46,
    "start_time": "2023-01-07T13:19:42.576Z"
   },
   {
    "duration": 23,
    "start_time": "2023-01-07T13:19:42.624Z"
   },
   {
    "duration": 20,
    "start_time": "2023-01-07T13:19:42.650Z"
   },
   {
    "duration": 47,
    "start_time": "2023-01-07T13:19:42.673Z"
   },
   {
    "duration": 51,
    "start_time": "2023-01-07T13:19:42.722Z"
   },
   {
    "duration": 34,
    "start_time": "2023-01-07T13:19:42.775Z"
   },
   {
    "duration": 56,
    "start_time": "2023-01-07T13:49:11.502Z"
   },
   {
    "duration": 15,
    "start_time": "2023-01-07T13:49:11.561Z"
   },
   {
    "duration": 37,
    "start_time": "2023-01-07T13:49:11.580Z"
   },
   {
    "duration": 5,
    "start_time": "2023-01-07T13:49:11.619Z"
   },
   {
    "duration": 17,
    "start_time": "2023-01-07T13:49:11.626Z"
   },
   {
    "duration": 25,
    "start_time": "2023-01-07T13:49:11.645Z"
   },
   {
    "duration": 33,
    "start_time": "2023-01-07T13:49:11.672Z"
   },
   {
    "duration": 9,
    "start_time": "2023-01-07T13:49:11.707Z"
   },
   {
    "duration": 17,
    "start_time": "2023-01-07T13:49:11.717Z"
   },
   {
    "duration": 7,
    "start_time": "2023-01-07T13:49:11.736Z"
   },
   {
    "duration": 45,
    "start_time": "2023-01-07T13:49:11.745Z"
   },
   {
    "duration": 8,
    "start_time": "2023-01-07T13:49:11.792Z"
   },
   {
    "duration": 12,
    "start_time": "2023-01-07T13:49:11.802Z"
   },
   {
    "duration": 7,
    "start_time": "2023-01-07T13:49:11.819Z"
   },
   {
    "duration": 10,
    "start_time": "2023-01-07T13:49:11.828Z"
   },
   {
    "duration": 10,
    "start_time": "2023-01-07T13:49:11.839Z"
   },
   {
    "duration": 7,
    "start_time": "2023-01-07T13:49:11.850Z"
   },
   {
    "duration": 36,
    "start_time": "2023-01-07T13:49:11.858Z"
   },
   {
    "duration": 13,
    "start_time": "2023-01-07T13:49:11.896Z"
   },
   {
    "duration": 10,
    "start_time": "2023-01-07T13:49:11.911Z"
   },
   {
    "duration": 10,
    "start_time": "2023-01-07T13:49:11.923Z"
   },
   {
    "duration": 13,
    "start_time": "2023-01-07T13:49:11.935Z"
   },
   {
    "duration": 19,
    "start_time": "2023-01-07T13:49:11.949Z"
   },
   {
    "duration": 5,
    "start_time": "2023-01-07T13:49:11.970Z"
   },
   {
    "duration": 22,
    "start_time": "2023-01-07T13:49:11.979Z"
   },
   {
    "duration": 6,
    "start_time": "2023-01-07T13:49:12.003Z"
   },
   {
    "duration": 7,
    "start_time": "2023-01-07T13:49:12.011Z"
   },
   {
    "duration": 10,
    "start_time": "2023-01-07T13:49:12.020Z"
   },
   {
    "duration": 20,
    "start_time": "2023-01-07T13:49:12.031Z"
   },
   {
    "duration": 9,
    "start_time": "2023-01-07T13:49:12.053Z"
   },
   {
    "duration": 28,
    "start_time": "2023-01-07T13:49:12.064Z"
   },
   {
    "duration": 24,
    "start_time": "2023-01-07T13:49:12.094Z"
   },
   {
    "duration": 170,
    "start_time": "2023-01-07T13:49:12.120Z"
   },
   {
    "duration": 259,
    "start_time": "2023-01-07T13:49:12.291Z"
   },
   {
    "duration": 12,
    "start_time": "2023-01-07T13:49:12.552Z"
   },
   {
    "duration": 27,
    "start_time": "2023-01-07T13:49:12.566Z"
   },
   {
    "duration": 12,
    "start_time": "2023-01-07T13:49:12.595Z"
   },
   {
    "duration": 446,
    "start_time": "2023-01-07T13:49:12.608Z"
   },
   {
    "duration": 190,
    "start_time": "2023-01-07T13:49:13.055Z"
   },
   {
    "duration": 180,
    "start_time": "2023-01-07T13:49:13.246Z"
   },
   {
    "duration": 176,
    "start_time": "2023-01-07T13:49:13.430Z"
   },
   {
    "duration": 193,
    "start_time": "2023-01-07T13:49:13.607Z"
   },
   {
    "duration": 214,
    "start_time": "2023-01-07T13:49:13.802Z"
   },
   {
    "duration": 231,
    "start_time": "2023-01-07T13:49:14.018Z"
   },
   {
    "duration": 8,
    "start_time": "2023-01-07T13:49:14.250Z"
   },
   {
    "duration": 326,
    "start_time": "2023-01-07T13:49:14.260Z"
   },
   {
    "duration": 24,
    "start_time": "2023-01-07T13:49:14.588Z"
   },
   {
    "duration": 205,
    "start_time": "2023-01-07T13:49:14.613Z"
   },
   {
    "duration": 6,
    "start_time": "2023-01-07T13:49:14.819Z"
   },
   {
    "duration": 185,
    "start_time": "2023-01-07T13:49:14.827Z"
   },
   {
    "duration": 6,
    "start_time": "2023-01-07T13:49:15.014Z"
   },
   {
    "duration": 172,
    "start_time": "2023-01-07T13:49:15.022Z"
   },
   {
    "duration": 6,
    "start_time": "2023-01-07T13:49:15.196Z"
   },
   {
    "duration": 22,
    "start_time": "2023-01-07T13:49:15.203Z"
   },
   {
    "duration": 41,
    "start_time": "2023-01-07T13:49:15.227Z"
   },
   {
    "duration": 36,
    "start_time": "2023-01-07T13:49:15.269Z"
   },
   {
    "duration": 11,
    "start_time": "2023-01-07T13:49:15.307Z"
   },
   {
    "duration": 27,
    "start_time": "2023-01-07T13:49:15.320Z"
   },
   {
    "duration": 40,
    "start_time": "2023-01-07T13:49:15.349Z"
   },
   {
    "duration": 20,
    "start_time": "2023-01-07T13:49:15.391Z"
   },
   {
    "duration": 27,
    "start_time": "2023-01-07T13:49:15.413Z"
   },
   {
    "duration": 14,
    "start_time": "2023-01-07T13:49:15.442Z"
   },
   {
    "duration": 30,
    "start_time": "2023-01-07T13:49:15.458Z"
   },
   {
    "duration": 34,
    "start_time": "2023-01-07T13:49:15.490Z"
   },
   {
    "duration": 22,
    "start_time": "2023-01-07T13:49:15.526Z"
   },
   {
    "duration": 465,
    "start_time": "2023-01-07T13:49:15.550Z"
   },
   {
    "duration": 431,
    "start_time": "2023-01-07T13:49:16.017Z"
   },
   {
    "duration": 242,
    "start_time": "2023-01-07T13:49:16.450Z"
   },
   {
    "duration": 242,
    "start_time": "2023-01-07T13:49:16.694Z"
   },
   {
    "duration": 219,
    "start_time": "2023-01-07T13:49:16.938Z"
   },
   {
    "duration": 10,
    "start_time": "2023-01-07T13:49:17.158Z"
   },
   {
    "duration": 17,
    "start_time": "2023-01-07T13:49:17.177Z"
   },
   {
    "duration": 15,
    "start_time": "2023-01-07T13:49:17.196Z"
   },
   {
    "duration": 12,
    "start_time": "2023-01-07T13:49:17.213Z"
   },
   {
    "duration": 8,
    "start_time": "2023-01-07T13:49:17.227Z"
   },
   {
    "duration": 19,
    "start_time": "2023-01-07T13:49:17.236Z"
   },
   {
    "duration": 17,
    "start_time": "2023-01-07T13:49:17.258Z"
   },
   {
    "duration": 21,
    "start_time": "2023-01-07T13:49:17.276Z"
   },
   {
    "duration": 20,
    "start_time": "2023-01-07T13:49:17.298Z"
   },
   {
    "duration": 621,
    "start_time": "2023-01-07T13:49:17.319Z"
   },
   {
    "duration": 17,
    "start_time": "2023-01-07T13:49:17.941Z"
   },
   {
    "duration": 35,
    "start_time": "2023-01-07T13:49:17.960Z"
   },
   {
    "duration": 17,
    "start_time": "2023-01-07T13:49:17.996Z"
   },
   {
    "duration": 19,
    "start_time": "2023-01-07T13:49:18.015Z"
   },
   {
    "duration": 6,
    "start_time": "2023-01-07T13:49:18.036Z"
   },
   {
    "duration": 6,
    "start_time": "2023-01-07T13:49:18.044Z"
   },
   {
    "duration": 39,
    "start_time": "2023-01-07T13:49:18.052Z"
   },
   {
    "duration": 6,
    "start_time": "2023-01-07T13:49:18.093Z"
   },
   {
    "duration": 10,
    "start_time": "2023-01-07T13:49:18.101Z"
   },
   {
    "duration": 12,
    "start_time": "2023-01-07T13:49:18.113Z"
   },
   {
    "duration": 11,
    "start_time": "2023-01-07T13:49:18.127Z"
   },
   {
    "duration": 8,
    "start_time": "2023-01-07T13:49:18.140Z"
   },
   {
    "duration": 6,
    "start_time": "2023-01-07T13:49:18.150Z"
   },
   {
    "duration": 7,
    "start_time": "2023-01-07T13:49:18.157Z"
   }
  ],
  "kernelspec": {
   "display_name": "Python 3 (ipykernel)",
   "language": "python",
   "name": "python3"
  },
  "language_info": {
   "codemirror_mode": {
    "name": "ipython",
    "version": 3
   },
   "file_extension": ".py",
   "mimetype": "text/x-python",
   "name": "python",
   "nbconvert_exporter": "python",
   "pygments_lexer": "ipython3",
   "version": "3.9.5"
  },
  "toc": {
   "base_numbering": 1,
   "nav_menu": {},
   "number_sections": true,
   "sideBar": true,
   "skip_h1_title": true,
   "title_cell": "Table of Contents",
   "title_sidebar": "Contents",
   "toc_cell": false,
   "toc_position": {},
   "toc_section_display": true,
   "toc_window_display": false
  }
 },
 "nbformat": 4,
 "nbformat_minor": 2
}
